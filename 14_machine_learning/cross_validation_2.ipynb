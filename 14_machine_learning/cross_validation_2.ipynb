{
 "cells": [
  {
   "cell_type": "code",
   "execution_count": 1,
   "id": "d4132923",
   "metadata": {},
   "outputs": [],
   "source": [
    "from sklearn.model_selection import LeaveOneOut\n",
    "from sklearn.tree import DecisionTreeClassifier"
   ]
  },
  {
   "cell_type": "code",
   "execution_count": 2,
   "id": "b4a04d5e",
   "metadata": {},
   "outputs": [],
   "source": [
    "from sklearn.model_selection import LeaveOneOut\n",
    "from sklearn.model_selection import cross_val_score\n",
    "from sklearn.tree import DecisionTreeClassifier\n",
    "from sklearn.datasets import load_iris"
   ]
  },
  {
   "cell_type": "code",
   "execution_count": 3,
   "id": "cb91ea19",
   "metadata": {},
   "outputs": [
    {
     "name": "stdout",
     "output_type": "stream",
     "text": [
      "교차 검증 분할 횟수 :  150\n",
      "평균 정확도 : 0.95\n"
     ]
    }
   ],
   "source": [
    "loo = LeaveOneOut()\n",
    "iris = load_iris()\n",
    "tree = DecisionTreeClassifier()\n",
    "scores = cross_val_score(tree, iris.data, iris.target, cv=loo)\n",
    "\n",
    "print(\"교차 검증 분할 횟수 : \", len(scores))\n",
    "print(\"평균 정확도 : {:.2f}\".format(scores.mean()))"
   ]
  },
  {
   "cell_type": "code",
   "execution_count": 4,
   "id": "b511e141",
   "metadata": {},
   "outputs": [],
   "source": [
    "from sklearn.model_selection import ShuffleSplit"
   ]
  },
  {
   "cell_type": "code",
   "execution_count": 5,
   "id": "a47be777",
   "metadata": {},
   "outputs": [
    {
     "name": "stdout",
     "output_type": "stream",
     "text": [
      "교차 검증 점수 : \n",
      "[1.  0.8 0.6 0.6 0.6 0.6 0.8 0.8 1.  1. ]\n",
      "평균 : 0.78\n"
     ]
    }
   ],
   "source": [
    "shuffle_split = ShuffleSplit(train_size=10, test_size=5,  n_splits=10)\n",
    "\n",
    "scores = cross_val_score(tree, iris.data, iris.target, cv=shuffle_split)\n",
    "\n",
    "print(\"교차 검증 점수 : \\n{}\".format(scores))\n",
    "avg = scores.mean()\n",
    "print(\"평균 : {:.2f}\".format( avg )  )"
   ]
  },
  {
   "cell_type": "code",
   "execution_count": 6,
   "id": "cb3b4fee",
   "metadata": {},
   "outputs": [
    {
     "name": "stdout",
     "output_type": "stream",
     "text": [
      "교차 검증 점수 : \n",
      "[0.96       0.90666667 0.89333333 0.94666667 0.92       0.97333333\n",
      " 1.         0.93333333 0.94666667 0.93333333]\n"
     ]
    },
    {
     "data": {
      "text/plain": [
       "0.9413333333333334"
      ]
     },
     "execution_count": 6,
     "metadata": {},
     "output_type": "execute_result"
    }
   ],
   "source": [
    "from sklearn.model_selection import ShuffleSplit\n",
    "shuffle_split = ShuffleSplit(test_size=0.5, train_size=0.5, n_splits=10)\n",
    "\n",
    "scores = cross_val_score(tree, iris.data, iris.target, cv=shuffle_split)\n",
    "print(\"교차 검증 점수 : \\n{}\".format(scores))\n",
    "scores.mean()"
   ]
  },
  {
   "cell_type": "code",
   "execution_count": null,
   "id": "6c466f1d",
   "metadata": {},
   "outputs": [],
   "source": []
  }
 ],
 "metadata": {
  "kernelspec": {
   "display_name": "Python 3 (ipykernel)",
   "language": "python",
   "name": "python3"
  },
  "language_info": {
   "codemirror_mode": {
    "name": "ipython",
    "version": 3
   },
   "file_extension": ".py",
   "mimetype": "text/x-python",
   "name": "python",
   "nbconvert_exporter": "python",
   "pygments_lexer": "ipython3",
   "version": "3.8.11"
  }
 },
 "nbformat": 4,
 "nbformat_minor": 5
}
