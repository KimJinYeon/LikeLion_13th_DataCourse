{
 "cells": [
  {
   "cell_type": "markdown",
   "metadata": {
    "id": "_6F6rxolVUph"
   },
   "source": [
    "* 데이터셋 : https://archive.ics.uci.edu/ml/datasets/Online+Retail#\n",
    "## 라이브러리 로드"
   ]
  },
  {
   "cell_type": "code",
   "execution_count": 1,
   "metadata": {
    "id": "al7uPLI5VUpu"
   },
   "outputs": [],
   "source": [
    "import pandas as pd\n",
    "import numpy as np\n",
    "import seaborn as sns\n",
    "import datetime as dt\n",
    "import matplotlib.pyplot as plt"
   ]
  },
  {
   "cell_type": "markdown",
   "metadata": {
    "id": "pG9cuPCfVUpy"
   },
   "source": [
    "## 폰트 설정"
   ]
  },
  {
   "cell_type": "code",
   "execution_count": 2,
   "metadata": {
    "colab": {
     "base_uri": "https://localhost:8080/"
    },
    "executionInfo": {
     "elapsed": 4226,
     "status": "ok",
     "timestamp": 1634789334125,
     "user": {
      "displayName": "JINY ROH",
      "photoUrl": "https://lh3.googleusercontent.com/a-/AOh14Gi7VIzxUnr7MUJE9Bupl4bkwgEAsz4e1gsgrYIPZw=s64",
      "userId": "06348894780083418282"
     },
     "user_tz": -540
    },
    "id": "TZZCAq_CVUpz",
    "outputId": "803a6ac5-5de0-4186-88e1-78928981c948"
   },
   "outputs": [],
   "source": [
    "def get_font_family():\n",
    "    \"\"\"\n",
    "    시스템 환경에 따른 기본 폰트명을 반환하는 함수\n",
    "    \"\"\"\n",
    "    import platform\n",
    "    system_name = platform.system()\n",
    "    # colab 사용자는 system_name이 'Linux'로 확인\n",
    "\n",
    "    if system_name == \"Darwin\" :\n",
    "        font_family = \"AppleGothic\"\n",
    "    elif system_name == \"Windows\":\n",
    "        font_family = \"Malgun Gothic\"\n",
    "    else:\n",
    "        # Linux\n",
    "        !apt-get install fonts-nanum -qq  > /dev/null\n",
    "        !fc-cache -fv\n",
    "\n",
    "        import matplotlib as mpl\n",
    "        mpl.font_manager._rebuild()\n",
    "        findfont = mpl.font_manager.fontManager.findfont\n",
    "        mpl.font_manager.findfont = findfont\n",
    "        mpl.backends.backend_agg.findfont = findfont\n",
    "        \n",
    "        font_family = \"NanumBarunGothic\"\n",
    "    return font_family\n",
    "\n",
    "plt.rc(\"font\", family=get_font_family())\n",
    "plt.rc(\"axes\", unicode_minus=False)"
   ]
  },
  {
   "cell_type": "markdown",
   "metadata": {
    "id": "zB3XCKfr8ne9"
   },
   "source": [
    "<img src=\"https://pandas.pydata.org/docs/_images/02_io_readwrite.svg\">"
   ]
  },
  {
   "cell_type": "code",
   "execution_count": 3,
   "metadata": {
    "colab": {
     "base_uri": "https://localhost:8080/"
    },
    "executionInfo": {
     "elapsed": 933,
     "status": "ok",
     "timestamp": 1634789335055,
     "user": {
      "displayName": "JINY ROH",
      "photoUrl": "https://lh3.googleusercontent.com/a-/AOh14Gi7VIzxUnr7MUJE9Bupl4bkwgEAsz4e1gsgrYIPZw=s64",
      "userId": "06348894780083418282"
     },
     "user_tz": -540
    },
    "id": "aCg7NWdbVUp2",
    "outputId": "76f5f611-8b15-4a51-8a77-c905905703e8"
   },
   "outputs": [],
   "source": [
    "# pd.read_excel 로 데이터를 불러옵니다.\n",
    "# 데이터의 용량이 커서 로드하는데 1분 이상 걸릴 수도 있습니다. 또 read_excel은 시간이 오래 걸립니다.\n",
    "# csv로 로드하는 것이 훨씬 빠릅니다.\n",
    "# df = pd.read_excel(\"http://archive.ics.uci.edu/ml/machine-learning-databases/00352/Online%20Retail.xlsx\")\n",
    "# df = pd.read_excel(\"data/Online Retail.xlsx\")\n",
    "\n",
    "df = pd.read_csv('./data/online_retail.csv')"
   ]
  },
  {
   "cell_type": "markdown",
   "metadata": {
    "id": "n_IHFwI6VUp3"
   },
   "source": [
    "## 데이터 미리보기 및 요약"
   ]
  },
  {
   "cell_type": "code",
   "execution_count": 4,
   "metadata": {
    "colab": {
     "base_uri": "https://localhost:8080/",
     "height": 206
    },
    "executionInfo": {
     "elapsed": 14,
     "status": "ok",
     "timestamp": 1634789335056,
     "user": {
      "displayName": "JINY ROH",
      "photoUrl": "https://lh3.googleusercontent.com/a-/AOh14Gi7VIzxUnr7MUJE9Bupl4bkwgEAsz4e1gsgrYIPZw=s64",
      "userId": "06348894780083418282"
     },
     "user_tz": -540
    },
    "id": "3QlSbyvNVUp4",
    "outputId": "35d077f9-aab1-4489-c123-c66b2a877428"
   },
   "outputs": [
    {
     "data": {
      "text/html": [
       "<div>\n",
       "<style scoped>\n",
       "    .dataframe tbody tr th:only-of-type {\n",
       "        vertical-align: middle;\n",
       "    }\n",
       "\n",
       "    .dataframe tbody tr th {\n",
       "        vertical-align: top;\n",
       "    }\n",
       "\n",
       "    .dataframe thead th {\n",
       "        text-align: right;\n",
       "    }\n",
       "</style>\n",
       "<table border=\"1\" class=\"dataframe\">\n",
       "  <thead>\n",
       "    <tr style=\"text-align: right;\">\n",
       "      <th></th>\n",
       "      <th>InvoiceNo</th>\n",
       "      <th>StockCode</th>\n",
       "      <th>Description</th>\n",
       "      <th>Quantity</th>\n",
       "      <th>InvoiceDate</th>\n",
       "      <th>UnitPrice</th>\n",
       "      <th>CustomerID</th>\n",
       "      <th>Country</th>\n",
       "    </tr>\n",
       "  </thead>\n",
       "  <tbody>\n",
       "    <tr>\n",
       "      <th>0</th>\n",
       "      <td>536365</td>\n",
       "      <td>85123A</td>\n",
       "      <td>WHITE HANGING HEART T-LIGHT HOLDER</td>\n",
       "      <td>6</td>\n",
       "      <td>2010-12-01 08:26:00</td>\n",
       "      <td>2.55</td>\n",
       "      <td>17850.0</td>\n",
       "      <td>United Kingdom</td>\n",
       "    </tr>\n",
       "    <tr>\n",
       "      <th>1</th>\n",
       "      <td>536365</td>\n",
       "      <td>71053</td>\n",
       "      <td>WHITE METAL LANTERN</td>\n",
       "      <td>6</td>\n",
       "      <td>2010-12-01 08:26:00</td>\n",
       "      <td>3.39</td>\n",
       "      <td>17850.0</td>\n",
       "      <td>United Kingdom</td>\n",
       "    </tr>\n",
       "    <tr>\n",
       "      <th>2</th>\n",
       "      <td>536365</td>\n",
       "      <td>84406B</td>\n",
       "      <td>CREAM CUPID HEARTS COAT HANGER</td>\n",
       "      <td>8</td>\n",
       "      <td>2010-12-01 08:26:00</td>\n",
       "      <td>2.75</td>\n",
       "      <td>17850.0</td>\n",
       "      <td>United Kingdom</td>\n",
       "    </tr>\n",
       "    <tr>\n",
       "      <th>3</th>\n",
       "      <td>536365</td>\n",
       "      <td>84029G</td>\n",
       "      <td>KNITTED UNION FLAG HOT WATER BOTTLE</td>\n",
       "      <td>6</td>\n",
       "      <td>2010-12-01 08:26:00</td>\n",
       "      <td>3.39</td>\n",
       "      <td>17850.0</td>\n",
       "      <td>United Kingdom</td>\n",
       "    </tr>\n",
       "    <tr>\n",
       "      <th>4</th>\n",
       "      <td>536365</td>\n",
       "      <td>84029E</td>\n",
       "      <td>RED WOOLLY HOTTIE WHITE HEART.</td>\n",
       "      <td>6</td>\n",
       "      <td>2010-12-01 08:26:00</td>\n",
       "      <td>3.39</td>\n",
       "      <td>17850.0</td>\n",
       "      <td>United Kingdom</td>\n",
       "    </tr>\n",
       "  </tbody>\n",
       "</table>\n",
       "</div>"
      ],
      "text/plain": [
       "  InvoiceNo StockCode                          Description  Quantity  \\\n",
       "0    536365    85123A   WHITE HANGING HEART T-LIGHT HOLDER         6   \n",
       "1    536365     71053                  WHITE METAL LANTERN         6   \n",
       "2    536365    84406B       CREAM CUPID HEARTS COAT HANGER         8   \n",
       "3    536365    84029G  KNITTED UNION FLAG HOT WATER BOTTLE         6   \n",
       "4    536365    84029E       RED WOOLLY HOTTIE WHITE HEART.         6   \n",
       "\n",
       "           InvoiceDate  UnitPrice  CustomerID         Country  \n",
       "0  2010-12-01 08:26:00       2.55     17850.0  United Kingdom  \n",
       "1  2010-12-01 08:26:00       3.39     17850.0  United Kingdom  \n",
       "2  2010-12-01 08:26:00       2.75     17850.0  United Kingdom  \n",
       "3  2010-12-01 08:26:00       3.39     17850.0  United Kingdom  \n",
       "4  2010-12-01 08:26:00       3.39     17850.0  United Kingdom  "
      ]
     },
     "execution_count": 4,
     "metadata": {},
     "output_type": "execute_result"
    }
   ],
   "source": [
    "# 데이터 프레임에서 가장 앞에 있는 5개의 행(기본값)을 출력합니다.\n",
    "df.head()"
   ]
  },
  {
   "cell_type": "code",
   "execution_count": 5,
   "metadata": {
    "colab": {
     "base_uri": "https://localhost:8080/",
     "height": 206
    },
    "executionInfo": {
     "elapsed": 13,
     "status": "ok",
     "timestamp": 1634789335056,
     "user": {
      "displayName": "JINY ROH",
      "photoUrl": "https://lh3.googleusercontent.com/a-/AOh14Gi7VIzxUnr7MUJE9Bupl4bkwgEAsz4e1gsgrYIPZw=s64",
      "userId": "06348894780083418282"
     },
     "user_tz": -540
    },
    "id": "RAlJtBTNVUp6",
    "outputId": "44743a68-6d98-4c62-b430-788f8f61a7b5"
   },
   "outputs": [
    {
     "data": {
      "text/html": [
       "<div>\n",
       "<style scoped>\n",
       "    .dataframe tbody tr th:only-of-type {\n",
       "        vertical-align: middle;\n",
       "    }\n",
       "\n",
       "    .dataframe tbody tr th {\n",
       "        vertical-align: top;\n",
       "    }\n",
       "\n",
       "    .dataframe thead th {\n",
       "        text-align: right;\n",
       "    }\n",
       "</style>\n",
       "<table border=\"1\" class=\"dataframe\">\n",
       "  <thead>\n",
       "    <tr style=\"text-align: right;\">\n",
       "      <th></th>\n",
       "      <th>InvoiceNo</th>\n",
       "      <th>StockCode</th>\n",
       "      <th>Description</th>\n",
       "      <th>Quantity</th>\n",
       "      <th>InvoiceDate</th>\n",
       "      <th>UnitPrice</th>\n",
       "      <th>CustomerID</th>\n",
       "      <th>Country</th>\n",
       "    </tr>\n",
       "  </thead>\n",
       "  <tbody>\n",
       "    <tr>\n",
       "      <th>541904</th>\n",
       "      <td>581587</td>\n",
       "      <td>22613</td>\n",
       "      <td>PACK OF 20 SPACEBOY NAPKINS</td>\n",
       "      <td>12</td>\n",
       "      <td>2011-12-09 12:50:00</td>\n",
       "      <td>0.85</td>\n",
       "      <td>12680.0</td>\n",
       "      <td>France</td>\n",
       "    </tr>\n",
       "    <tr>\n",
       "      <th>541905</th>\n",
       "      <td>581587</td>\n",
       "      <td>22899</td>\n",
       "      <td>CHILDREN'S APRON DOLLY GIRL</td>\n",
       "      <td>6</td>\n",
       "      <td>2011-12-09 12:50:00</td>\n",
       "      <td>2.10</td>\n",
       "      <td>12680.0</td>\n",
       "      <td>France</td>\n",
       "    </tr>\n",
       "    <tr>\n",
       "      <th>541906</th>\n",
       "      <td>581587</td>\n",
       "      <td>23254</td>\n",
       "      <td>CHILDRENS CUTLERY DOLLY GIRL</td>\n",
       "      <td>4</td>\n",
       "      <td>2011-12-09 12:50:00</td>\n",
       "      <td>4.15</td>\n",
       "      <td>12680.0</td>\n",
       "      <td>France</td>\n",
       "    </tr>\n",
       "    <tr>\n",
       "      <th>541907</th>\n",
       "      <td>581587</td>\n",
       "      <td>23255</td>\n",
       "      <td>CHILDRENS CUTLERY CIRCUS PARADE</td>\n",
       "      <td>4</td>\n",
       "      <td>2011-12-09 12:50:00</td>\n",
       "      <td>4.15</td>\n",
       "      <td>12680.0</td>\n",
       "      <td>France</td>\n",
       "    </tr>\n",
       "    <tr>\n",
       "      <th>541908</th>\n",
       "      <td>581587</td>\n",
       "      <td>22138</td>\n",
       "      <td>BAKING SET 9 PIECE RETROSPOT</td>\n",
       "      <td>3</td>\n",
       "      <td>2011-12-09 12:50:00</td>\n",
       "      <td>4.95</td>\n",
       "      <td>12680.0</td>\n",
       "      <td>France</td>\n",
       "    </tr>\n",
       "  </tbody>\n",
       "</table>\n",
       "</div>"
      ],
      "text/plain": [
       "       InvoiceNo StockCode                      Description  Quantity  \\\n",
       "541904    581587     22613      PACK OF 20 SPACEBOY NAPKINS        12   \n",
       "541905    581587     22899     CHILDREN'S APRON DOLLY GIRL          6   \n",
       "541906    581587     23254    CHILDRENS CUTLERY DOLLY GIRL          4   \n",
       "541907    581587     23255  CHILDRENS CUTLERY CIRCUS PARADE         4   \n",
       "541908    581587     22138    BAKING SET 9 PIECE RETROSPOT          3   \n",
       "\n",
       "                InvoiceDate  UnitPrice  CustomerID Country  \n",
       "541904  2011-12-09 12:50:00       0.85     12680.0  France  \n",
       "541905  2011-12-09 12:50:00       2.10     12680.0  France  \n",
       "541906  2011-12-09 12:50:00       4.15     12680.0  France  \n",
       "541907  2011-12-09 12:50:00       4.15     12680.0  France  \n",
       "541908  2011-12-09 12:50:00       4.95     12680.0  France  "
      ]
     },
     "execution_count": 5,
     "metadata": {},
     "output_type": "execute_result"
    }
   ],
   "source": [
    "# 데이터 프레임에서 가장 끝에 있는 5개의 행(기본값)을 출력합니다.\n",
    "df.tail()"
   ]
  },
  {
   "cell_type": "code",
   "execution_count": 6,
   "metadata": {
    "colab": {
     "base_uri": "https://localhost:8080/"
    },
    "executionInfo": {
     "elapsed": 13,
     "status": "ok",
     "timestamp": 1634789335057,
     "user": {
      "displayName": "JINY ROH",
      "photoUrl": "https://lh3.googleusercontent.com/a-/AOh14Gi7VIzxUnr7MUJE9Bupl4bkwgEAsz4e1gsgrYIPZw=s64",
      "userId": "06348894780083418282"
     },
     "user_tz": -540
    },
    "id": "LREXvgJBVUp7",
    "outputId": "d34ae5bc-79da-4592-99a7-a9ea7fafb1f8"
   },
   "outputs": [
    {
     "name": "stdout",
     "output_type": "stream",
     "text": [
      "<class 'pandas.core.frame.DataFrame'>\n",
      "RangeIndex: 541909 entries, 0 to 541908\n",
      "Data columns (total 8 columns):\n",
      " #   Column       Non-Null Count   Dtype  \n",
      "---  ------       --------------   -----  \n",
      " 0   InvoiceNo    541909 non-null  object \n",
      " 1   StockCode    541909 non-null  object \n",
      " 2   Description  540455 non-null  object \n",
      " 3   Quantity     541909 non-null  int64  \n",
      " 4   InvoiceDate  541909 non-null  object \n",
      " 5   UnitPrice    541909 non-null  float64\n",
      " 6   CustomerID   406829 non-null  float64\n",
      " 7   Country      541909 non-null  object \n",
      "dtypes: float64(2), int64(1), object(5)\n",
      "memory usage: 33.1+ MB\n"
     ]
    }
   ],
   "source": [
    "# 데이터 집합과 각 열들의 자료형을 확인합니다.\n",
    "df.info()"
   ]
  },
  {
   "cell_type": "markdown",
   "metadata": {
    "id": "2HuBJz6q2tNw"
   },
   "source": [
    "Attribute Information:\n",
    "\n",
    "- InvoiceNo: 송장번호. 해당 거래에 할당된 6자리 정수\n",
    "  * 이 코드가 문자 'c'로 시작하면 취소를 나타냅니다.\n",
    "- StockCode: 제품 코드. 각 고유 제품에 고유하게 할당된 5자리 정수\n",
    "- Description: 제품 이름\n",
    "- Quantity: 거래당 각 제품의 수량 \n",
    "  * 이 코드가 ‘-’(마이너스)로 시작하면 취소를 나타냅니다.\n",
    "- InvoiceDate:  송장 날짜 및 시간. 숫자, 각 거래가 생성된 날짜 및 시간\n",
    "- UnitPrice: 단가. 숫자, 스털링(영국 화폐) 단위의 제품 가격\n",
    "- CustomerID: 고객 번호. 해당 고객에게 고유하게 할당된 5자리 정수\n",
    "- Country: 국가 이름. 해당 고객이 거주하는 국가의 이름"
   ]
  },
  {
   "cell_type": "markdown",
   "metadata": {
    "id": "FK7JmRLSVUp7"
   },
   "source": [
    "## 기술통계"
   ]
  },
  {
   "cell_type": "code",
   "execution_count": 7,
   "metadata": {
    "colab": {
     "base_uri": "https://localhost:8080/",
     "height": 300
    },
    "executionInfo": {
     "elapsed": 446,
     "status": "ok",
     "timestamp": 1634789335496,
     "user": {
      "displayName": "JINY ROH",
      "photoUrl": "https://lh3.googleusercontent.com/a-/AOh14Gi7VIzxUnr7MUJE9Bupl4bkwgEAsz4e1gsgrYIPZw=s64",
      "userId": "06348894780083418282"
     },
     "user_tz": -540
    },
    "id": "7SbTfuoXVUp8",
    "outputId": "facfd927-5f5f-479f-86e5-e62eb3bdf7cf"
   },
   "outputs": [
    {
     "data": {
      "text/html": [
       "<div>\n",
       "<style scoped>\n",
       "    .dataframe tbody tr th:only-of-type {\n",
       "        vertical-align: middle;\n",
       "    }\n",
       "\n",
       "    .dataframe tbody tr th {\n",
       "        vertical-align: top;\n",
       "    }\n",
       "\n",
       "    .dataframe thead th {\n",
       "        text-align: right;\n",
       "    }\n",
       "</style>\n",
       "<table border=\"1\" class=\"dataframe\">\n",
       "  <thead>\n",
       "    <tr style=\"text-align: right;\">\n",
       "      <th></th>\n",
       "      <th>Quantity</th>\n",
       "      <th>UnitPrice</th>\n",
       "      <th>CustomerID</th>\n",
       "    </tr>\n",
       "  </thead>\n",
       "  <tbody>\n",
       "    <tr>\n",
       "      <th>count</th>\n",
       "      <td>541909.000000</td>\n",
       "      <td>541909.000000</td>\n",
       "      <td>406829.000000</td>\n",
       "    </tr>\n",
       "    <tr>\n",
       "      <th>mean</th>\n",
       "      <td>9.552250</td>\n",
       "      <td>4.611114</td>\n",
       "      <td>15287.690570</td>\n",
       "    </tr>\n",
       "    <tr>\n",
       "      <th>std</th>\n",
       "      <td>218.081158</td>\n",
       "      <td>96.759853</td>\n",
       "      <td>1713.600303</td>\n",
       "    </tr>\n",
       "    <tr>\n",
       "      <th>min</th>\n",
       "      <td>-80995.000000</td>\n",
       "      <td>-11062.060000</td>\n",
       "      <td>12346.000000</td>\n",
       "    </tr>\n",
       "    <tr>\n",
       "      <th>25%</th>\n",
       "      <td>1.000000</td>\n",
       "      <td>1.250000</td>\n",
       "      <td>13953.000000</td>\n",
       "    </tr>\n",
       "    <tr>\n",
       "      <th>50%</th>\n",
       "      <td>3.000000</td>\n",
       "      <td>2.080000</td>\n",
       "      <td>15152.000000</td>\n",
       "    </tr>\n",
       "    <tr>\n",
       "      <th>75%</th>\n",
       "      <td>10.000000</td>\n",
       "      <td>4.130000</td>\n",
       "      <td>16791.000000</td>\n",
       "    </tr>\n",
       "    <tr>\n",
       "      <th>max</th>\n",
       "      <td>80995.000000</td>\n",
       "      <td>38970.000000</td>\n",
       "      <td>18287.000000</td>\n",
       "    </tr>\n",
       "  </tbody>\n",
       "</table>\n",
       "</div>"
      ],
      "text/plain": [
       "            Quantity      UnitPrice     CustomerID\n",
       "count  541909.000000  541909.000000  406829.000000\n",
       "mean        9.552250       4.611114   15287.690570\n",
       "std       218.081158      96.759853    1713.600303\n",
       "min    -80995.000000  -11062.060000   12346.000000\n",
       "25%         1.000000       1.250000   13953.000000\n",
       "50%         3.000000       2.080000   15152.000000\n",
       "75%        10.000000       4.130000   16791.000000\n",
       "max     80995.000000   38970.000000   18287.000000"
      ]
     },
     "execution_count": 7,
     "metadata": {},
     "output_type": "execute_result"
    }
   ],
   "source": [
    "# describe 를 통해 수치 타입의 기술통계를 구합니다.\n",
    "df.describe()"
   ]
  },
  {
   "cell_type": "code",
   "execution_count": 8,
   "metadata": {
    "colab": {
     "base_uri": "https://localhost:8080/",
     "height": 175
    },
    "executionInfo": {
     "elapsed": 384,
     "status": "ok",
     "timestamp": 1634789335877,
     "user": {
      "displayName": "JINY ROH",
      "photoUrl": "https://lh3.googleusercontent.com/a-/AOh14Gi7VIzxUnr7MUJE9Bupl4bkwgEAsz4e1gsgrYIPZw=s64",
      "userId": "06348894780083418282"
     },
     "user_tz": -540
    },
    "id": "iQptie-vVUp9",
    "outputId": "478093f0-95eb-4dc3-ffad-721681b88816"
   },
   "outputs": [
    {
     "data": {
      "text/html": [
       "<div>\n",
       "<style scoped>\n",
       "    .dataframe tbody tr th:only-of-type {\n",
       "        vertical-align: middle;\n",
       "    }\n",
       "\n",
       "    .dataframe tbody tr th {\n",
       "        vertical-align: top;\n",
       "    }\n",
       "\n",
       "    .dataframe thead th {\n",
       "        text-align: right;\n",
       "    }\n",
       "</style>\n",
       "<table border=\"1\" class=\"dataframe\">\n",
       "  <thead>\n",
       "    <tr style=\"text-align: right;\">\n",
       "      <th></th>\n",
       "      <th>InvoiceNo</th>\n",
       "      <th>StockCode</th>\n",
       "      <th>Description</th>\n",
       "      <th>InvoiceDate</th>\n",
       "      <th>Country</th>\n",
       "    </tr>\n",
       "  </thead>\n",
       "  <tbody>\n",
       "    <tr>\n",
       "      <th>count</th>\n",
       "      <td>541909</td>\n",
       "      <td>541909</td>\n",
       "      <td>540455</td>\n",
       "      <td>541909</td>\n",
       "      <td>541909</td>\n",
       "    </tr>\n",
       "    <tr>\n",
       "      <th>unique</th>\n",
       "      <td>25900</td>\n",
       "      <td>4070</td>\n",
       "      <td>4223</td>\n",
       "      <td>23260</td>\n",
       "      <td>38</td>\n",
       "    </tr>\n",
       "    <tr>\n",
       "      <th>top</th>\n",
       "      <td>573585</td>\n",
       "      <td>85123A</td>\n",
       "      <td>WHITE HANGING HEART T-LIGHT HOLDER</td>\n",
       "      <td>2011-10-31 14:41:00</td>\n",
       "      <td>United Kingdom</td>\n",
       "    </tr>\n",
       "    <tr>\n",
       "      <th>freq</th>\n",
       "      <td>1114</td>\n",
       "      <td>2313</td>\n",
       "      <td>2369</td>\n",
       "      <td>1114</td>\n",
       "      <td>495478</td>\n",
       "    </tr>\n",
       "  </tbody>\n",
       "</table>\n",
       "</div>"
      ],
      "text/plain": [
       "       InvoiceNo StockCode                         Description  \\\n",
       "count     541909    541909                              540455   \n",
       "unique     25900      4070                                4223   \n",
       "top       573585    85123A  WHITE HANGING HEART T-LIGHT HOLDER   \n",
       "freq        1114      2313                                2369   \n",
       "\n",
       "                InvoiceDate         Country  \n",
       "count                541909          541909  \n",
       "unique                23260              38  \n",
       "top     2011-10-31 14:41:00  United Kingdom  \n",
       "freq                   1114          495478  "
      ]
     },
     "execution_count": 8,
     "metadata": {},
     "output_type": "execute_result"
    }
   ],
   "source": [
    "# describe 를 통해 object 타입의 기술통계를 구합니다.\n",
    "df.describe(include='object')"
   ]
  },
  {
   "cell_type": "markdown",
   "metadata": {
    "id": "ncWBHyToVUp_"
   },
   "source": [
    "## 결측치"
   ]
  },
  {
   "cell_type": "code",
   "execution_count": 9,
   "metadata": {
    "colab": {
     "base_uri": "https://localhost:8080/"
    },
    "executionInfo": {
     "elapsed": 11,
     "status": "ok",
     "timestamp": 1634789335878,
     "user": {
      "displayName": "JINY ROH",
      "photoUrl": "https://lh3.googleusercontent.com/a-/AOh14Gi7VIzxUnr7MUJE9Bupl4bkwgEAsz4e1gsgrYIPZw=s64",
      "userId": "06348894780083418282"
     },
     "user_tz": -540
    },
    "id": "eaER7TiDVUp_",
    "outputId": "a890869c-56ea-4a3e-c80b-235eb9346405"
   },
   "outputs": [
    {
     "data": {
      "text/plain": [
       "InvoiceNo           0\n",
       "StockCode           0\n",
       "Description      1454\n",
       "Quantity            0\n",
       "InvoiceDate         0\n",
       "UnitPrice           0\n",
       "CustomerID     135080\n",
       "Country             0\n",
       "dtype: int64"
      ]
     },
     "execution_count": 9,
     "metadata": {},
     "output_type": "execute_result"
    }
   ],
   "source": [
    "# 결측치 합계를 구합니다.\n",
    "df.isnull().sum()"
   ]
  },
  {
   "cell_type": "code",
   "execution_count": 10,
   "metadata": {
    "colab": {
     "base_uri": "https://localhost:8080/"
    },
    "executionInfo": {
     "elapsed": 7,
     "status": "ok",
     "timestamp": 1634789335878,
     "user": {
      "displayName": "JINY ROH",
      "photoUrl": "https://lh3.googleusercontent.com/a-/AOh14Gi7VIzxUnr7MUJE9Bupl4bkwgEAsz4e1gsgrYIPZw=s64",
      "userId": "06348894780083418282"
     },
     "user_tz": -540
    },
    "id": "5e9vOOm5VUqA",
    "outputId": "27e9dc38-81dc-4e92-aa0e-d47d6e81f253"
   },
   "outputs": [
    {
     "data": {
      "text/plain": [
       "InvoiceNo       0.000000\n",
       "StockCode       0.000000\n",
       "Description     0.268311\n",
       "Quantity        0.000000\n",
       "InvoiceDate     0.000000\n",
       "UnitPrice       0.000000\n",
       "CustomerID     24.926694\n",
       "Country         0.000000\n",
       "dtype: float64"
      ]
     },
     "execution_count": 10,
     "metadata": {},
     "output_type": "execute_result"
    }
   ],
   "source": [
    "# 결측치 비율을 구합니다.\n",
    "df.isnull().mean() * 100"
   ]
  },
  {
   "cell_type": "code",
   "execution_count": 11,
   "metadata": {
    "colab": {
     "base_uri": "https://localhost:8080/",
     "height": 289
    },
    "executionInfo": {
     "elapsed": 6034,
     "status": "ok",
     "timestamp": 1634789341908,
     "user": {
      "displayName": "JINY ROH",
      "photoUrl": "https://lh3.googleusercontent.com/a-/AOh14Gi7VIzxUnr7MUJE9Bupl4bkwgEAsz4e1gsgrYIPZw=s64",
      "userId": "06348894780083418282"
     },
     "user_tz": -540
    },
    "id": "oIOP4VyOVUqA",
    "outputId": "2578887d-0b55-47de-e095-60c186040723"
   },
   "outputs": [
    {
     "data": {
      "text/plain": [
       "<AxesSubplot:>"
      ]
     },
     "execution_count": 11,
     "metadata": {},
     "output_type": "execute_result"
    },
    {
     "data": {
      "image/png": "[encoded data removed]",
      "text/plain": [
       "<Figure size 864x288 with 2 Axes>"
      ]
     },
     "metadata": {
      "needs_background": "light"
     },
     "output_type": "display_data"
    }
   ],
   "source": [
    "# 결측치를 시각화 합니다.\n",
    "plt.figure(figsize=(12, 4))\n",
    "sns.heatmap(df.isnull(), cmap='Greys_r')"
   ]
  },
  {
   "cell_type": "markdown",
   "metadata": {
    "id": "B1pBw-_OVUqB"
   },
   "source": [
    "## 히스토그램으로 전체 수치변수 시각화"
   ]
  },
  {
   "cell_type": "code",
   "execution_count": 12,
   "metadata": {
    "colab": {
     "base_uri": "https://localhost:8080/",
     "height": 607
    },
    "executionInfo": {
     "elapsed": 902,
     "status": "ok",
     "timestamp": 1634789342808,
     "user": {
      "displayName": "JINY ROH",
      "photoUrl": "https://lh3.googleusercontent.com/a-/AOh14Gi7VIzxUnr7MUJE9Bupl4bkwgEAsz4e1gsgrYIPZw=s64",
      "userId": "06348894780083418282"
     },
     "user_tz": -540
    },
    "id": "R84kQu4mVUqC",
    "outputId": "54f51d78-f5f4-49e1-b403-516d4039b00b"
   },
   "outputs": [
    {
     "data": {
      "text/plain": [
       "array([[<AxesSubplot:title={'center':'Quantity'}>,\n",
       "        <AxesSubplot:title={'center':'UnitPrice'}>],\n",
       "       [<AxesSubplot:title={'center':'CustomerID'}>, <AxesSubplot:>]],\n",
       "      dtype=object)"
      ]
     },
     "execution_count": 12,
     "metadata": {},
     "output_type": "execute_result"
    },
    {
     "data": {
      "image/png": "[encoded data removed]",
      "text/plain": [
       "<Figure size 864x432 with 4 Axes>"
      ]
     },
     "metadata": {
      "needs_background": "light"
     },
     "output_type": "display_data"
    }
   ],
   "source": [
    "# 히스토그램은 측정값을 몇 구간으로 나누어 도수분포로 나타낸 plot입니다.\n",
    "df.hist(figsize=(12, 6), bins=50)"
   ]
  },
  {
   "cell_type": "markdown",
   "metadata": {
    "id": "2mX7Cx0NVUqC"
   },
   "source": [
    "## 전체 주문금액 파생변수 만들기\n",
    "* 수량 X 금액으로 전체 금액 계산하기"
   ]
  },
  {
   "cell_type": "code",
   "execution_count": 13,
   "metadata": {
    "id": "wlEz7o0CVUqC"
   },
   "outputs": [
    {
     "data": {
      "text/html": [
       "<div>\n",
       "<style scoped>\n",
       "    .dataframe tbody tr th:only-of-type {\n",
       "        vertical-align: middle;\n",
       "    }\n",
       "\n",
       "    .dataframe tbody tr th {\n",
       "        vertical-align: top;\n",
       "    }\n",
       "\n",
       "    .dataframe thead th {\n",
       "        text-align: right;\n",
       "    }\n",
       "</style>\n",
       "<table border=\"1\" class=\"dataframe\">\n",
       "  <thead>\n",
       "    <tr style=\"text-align: right;\">\n",
       "      <th></th>\n",
       "      <th>Quantity</th>\n",
       "      <th>UnitPrice</th>\n",
       "      <th>TotalPrice</th>\n",
       "    </tr>\n",
       "  </thead>\n",
       "  <tbody>\n",
       "    <tr>\n",
       "      <th>0</th>\n",
       "      <td>6</td>\n",
       "      <td>2.55</td>\n",
       "      <td>15.30</td>\n",
       "    </tr>\n",
       "    <tr>\n",
       "      <th>1</th>\n",
       "      <td>6</td>\n",
       "      <td>3.39</td>\n",
       "      <td>20.34</td>\n",
       "    </tr>\n",
       "    <tr>\n",
       "      <th>2</th>\n",
       "      <td>8</td>\n",
       "      <td>2.75</td>\n",
       "      <td>22.00</td>\n",
       "    </tr>\n",
       "    <tr>\n",
       "      <th>3</th>\n",
       "      <td>6</td>\n",
       "      <td>3.39</td>\n",
       "      <td>20.34</td>\n",
       "    </tr>\n",
       "    <tr>\n",
       "      <th>4</th>\n",
       "      <td>6</td>\n",
       "      <td>3.39</td>\n",
       "      <td>20.34</td>\n",
       "    </tr>\n",
       "    <tr>\n",
       "      <th>...</th>\n",
       "      <td>...</td>\n",
       "      <td>...</td>\n",
       "      <td>...</td>\n",
       "    </tr>\n",
       "    <tr>\n",
       "      <th>541904</th>\n",
       "      <td>12</td>\n",
       "      <td>0.85</td>\n",
       "      <td>10.20</td>\n",
       "    </tr>\n",
       "    <tr>\n",
       "      <th>541905</th>\n",
       "      <td>6</td>\n",
       "      <td>2.10</td>\n",
       "      <td>12.60</td>\n",
       "    </tr>\n",
       "    <tr>\n",
       "      <th>541906</th>\n",
       "      <td>4</td>\n",
       "      <td>4.15</td>\n",
       "      <td>16.60</td>\n",
       "    </tr>\n",
       "    <tr>\n",
       "      <th>541907</th>\n",
       "      <td>4</td>\n",
       "      <td>4.15</td>\n",
       "      <td>16.60</td>\n",
       "    </tr>\n",
       "    <tr>\n",
       "      <th>541908</th>\n",
       "      <td>3</td>\n",
       "      <td>4.95</td>\n",
       "      <td>14.85</td>\n",
       "    </tr>\n",
       "  </tbody>\n",
       "</table>\n",
       "<p>541909 rows × 3 columns</p>\n",
       "</div>"
      ],
      "text/plain": [
       "        Quantity  UnitPrice  TotalPrice\n",
       "0              6       2.55       15.30\n",
       "1              6       3.39       20.34\n",
       "2              8       2.75       22.00\n",
       "3              6       3.39       20.34\n",
       "4              6       3.39       20.34\n",
       "...          ...        ...         ...\n",
       "541904        12       0.85       10.20\n",
       "541905         6       2.10       12.60\n",
       "541906         4       4.15       16.60\n",
       "541907         4       4.15       16.60\n",
       "541908         3       4.95       14.85\n",
       "\n",
       "[541909 rows x 3 columns]"
      ]
     },
     "execution_count": 13,
     "metadata": {},
     "output_type": "execute_result"
    }
   ],
   "source": [
    "# TotalPrice 는 RFM 중 MonetaryValue의 값이 됩니다.\n",
    "# df[\"TotalPrice\"]\n",
    "df['TotalPrice'] = df['Quantity'] * df['UnitPrice']\n",
    "df.loc[:, ['Quantity', 'UnitPrice', 'TotalPrice']]"
   ]
  },
  {
   "cell_type": "markdown",
   "metadata": {
    "id": "B7YCaej9VUqD"
   },
   "source": [
    "## 회원 vs 비회원 구매"
   ]
  },
  {
   "cell_type": "code",
   "execution_count": 14,
   "metadata": {
    "colab": {
     "base_uri": "https://localhost:8080/"
    },
    "executionInfo": {
     "elapsed": 19,
     "status": "ok",
     "timestamp": 1634789342809,
     "user": {
      "displayName": "JINY ROH",
      "photoUrl": "https://lh3.googleusercontent.com/a-/AOh14Gi7VIzxUnr7MUJE9Bupl4bkwgEAsz4e1gsgrYIPZw=s64",
      "userId": "06348894780083418282"
     },
     "user_tz": -540
    },
    "id": "IMfr249QVUqD",
    "outputId": "1558140c-5967-41e5-a2bc-acb36af049d8"
   },
   "outputs": [
    {
     "data": {
      "text/plain": [
       "United Kingdom    133600\n",
       "EIRE                 711\n",
       "Hong Kong            288\n",
       "Unspecified          202\n",
       "Switzerland          125\n",
       "France                66\n",
       "Israel                47\n",
       "Portugal              39\n",
       "Bahrain                2\n",
       "Name: Country, dtype: int64"
      ]
     },
     "execution_count": 14,
     "metadata": {},
     "output_type": "execute_result"
    }
   ],
   "source": [
    "# CustomerID값이 결측치인 값에 대한 Country값을 가져와 빈도수를 구합니다.\n",
    "df.loc[df['CustomerID'].isnull(), 'Country'].value_counts()"
   ]
  },
  {
   "cell_type": "code",
   "execution_count": 15,
   "metadata": {
    "colab": {
     "base_uri": "https://localhost:8080/"
    },
    "executionInfo": {
     "elapsed": 16,
     "status": "ok",
     "timestamp": 1634789342810,
     "user": {
      "displayName": "JINY ROH",
      "photoUrl": "https://lh3.googleusercontent.com/a-/AOh14Gi7VIzxUnr7MUJE9Bupl4bkwgEAsz4e1gsgrYIPZw=s64",
      "userId": "06348894780083418282"
     },
     "user_tz": -540
    },
    "id": "ZNHLL-0sVUqD",
    "outputId": "1011f6f6-1bc2-468d-f831-c4343de19e3c"
   },
   "outputs": [
    {
     "data": {
      "text/plain": [
       "United Kingdom          361878\n",
       "Germany                   9495\n",
       "France                    8491\n",
       "EIRE                      7485\n",
       "Spain                     2533\n",
       "Netherlands               2371\n",
       "Belgium                   2069\n",
       "Switzerland               1877\n",
       "Portugal                  1480\n",
       "Australia                 1259\n",
       "Norway                    1086\n",
       "Italy                      803\n",
       "Channel Islands            758\n",
       "Finland                    695\n",
       "Cyprus                     622\n",
       "Sweden                     462\n",
       "Austria                    401\n",
       "Denmark                    389\n",
       "Japan                      358\n",
       "Poland                     341\n",
       "USA                        291\n",
       "Israel                     250\n",
       "Unspecified                244\n",
       "Singapore                  229\n",
       "Iceland                    182\n",
       "Canada                     151\n",
       "Greece                     146\n",
       "Malta                      127\n",
       "United Arab Emirates        68\n",
       "European Community          61\n",
       "RSA                         58\n",
       "Lebanon                     45\n",
       "Lithuania                   35\n",
       "Brazil                      32\n",
       "Czech Republic              30\n",
       "Bahrain                     17\n",
       "Saudi Arabia                10\n",
       "Name: Country, dtype: int64"
      ]
     },
     "execution_count": 15,
     "metadata": {},
     "output_type": "execute_result"
    }
   ],
   "source": [
    "# CustomerID값이 결측치가 **아닌** 값에 대한 Country값을 가져와 빈도수를 구합니다.\n",
    "df.loc[df['CustomerID'].notnull(), 'Country'].value_counts()"
   ]
  },
  {
   "cell_type": "code",
   "execution_count": 16,
   "metadata": {
    "id": "MriEl_kqVUqE"
   },
   "outputs": [],
   "source": [
    "# 결측치 여부 컬럼 생성합니다.\n",
    "df['id_null'] = df['CustomerID'].isnull()"
   ]
  },
  {
   "cell_type": "code",
   "execution_count": 17,
   "metadata": {
    "colab": {
     "base_uri": "https://localhost:8080/"
    },
    "executionInfo": {
     "elapsed": 13,
     "status": "ok",
     "timestamp": 1634789342810,
     "user": {
      "displayName": "JINY ROH",
      "photoUrl": "https://lh3.googleusercontent.com/a-/AOh14Gi7VIzxUnr7MUJE9Bupl4bkwgEAsz4e1gsgrYIPZw=s64",
      "userId": "06348894780083418282"
     },
     "user_tz": -540
    },
    "id": "GsHeMvmXVUqE",
    "outputId": "bf56c127-b2c9-437e-a483-4d8f37a61086"
   },
   "outputs": [
    {
     "data": {
      "text/plain": [
       "False    406829\n",
       "True     135080\n",
       "Name: id_null, dtype: int64"
      ]
     },
     "execution_count": 17,
     "metadata": {},
     "output_type": "execute_result"
    }
   ],
   "source": [
    "# 결측치 여부 컬럼을 통해 비회원 구매 빈도수를 구합니다.\n",
    "df['id_null'].value_counts()"
   ]
  },
  {
   "cell_type": "code",
   "execution_count": 18,
   "metadata": {
    "colab": {
     "base_uri": "https://localhost:8080/"
    },
    "executionInfo": {
     "elapsed": 11,
     "status": "ok",
     "timestamp": 1634789342810,
     "user": {
      "displayName": "JINY ROH",
      "photoUrl": "https://lh3.googleusercontent.com/a-/AOh14Gi7VIzxUnr7MUJE9Bupl4bkwgEAsz4e1gsgrYIPZw=s64",
      "userId": "06348894780083418282"
     },
     "user_tz": -540
    },
    "id": "zASm8LyWVUqE",
    "outputId": "5f6cd0fc-91ce-4d3b-e66d-77ca9d8a238d"
   },
   "outputs": [
    {
     "data": {
      "text/plain": [
       "False    0.750733\n",
       "True     0.249267\n",
       "Name: id_null, dtype: float64"
      ]
     },
     "execution_count": 18,
     "metadata": {},
     "output_type": "execute_result"
    }
   ],
   "source": [
    "# 결측치 여부 컬럼을 통해 비회원 구매 비율를 구합니다.\n",
    "df['id_null'].value_counts(normalize=True)"
   ]
  },
  {
   "cell_type": "markdown",
   "metadata": {
    "id": "82lJFz5oVUqF"
   },
   "source": [
    "## 매출액 상위 국가"
   ]
  },
  {
   "cell_type": "code",
   "execution_count": 19,
   "metadata": {
    "colab": {
     "base_uri": "https://localhost:8080/",
     "height": 275
    },
    "executionInfo": {
     "elapsed": 8,
     "status": "ok",
     "timestamp": 1634789342811,
     "user": {
      "displayName": "JINY ROH",
      "photoUrl": "https://lh3.googleusercontent.com/a-/AOh14Gi7VIzxUnr7MUJE9Bupl4bkwgEAsz4e1gsgrYIPZw=s64",
      "userId": "06348894780083418282"
     },
     "user_tz": -540
    },
    "id": "7MBnsUThVUqF",
    "outputId": "b2a3f354-a1e8-46a0-b3b1-8525c4682a64"
   },
   "outputs": [
    {
     "data": {
      "text/html": [
       "<style type=\"text/css\">\n",
       "</style>\n",
       "<table id=\"T_c3bd5_\">\n",
       "  <thead>\n",
       "    <tr>\n",
       "      <th class=\"blank level0\" >&nbsp;</th>\n",
       "      <th class=\"col_heading level0 col0\" >mean</th>\n",
       "      <th class=\"col_heading level0 col1\" >sum</th>\n",
       "    </tr>\n",
       "    <tr>\n",
       "      <th class=\"index_name level0\" >Country</th>\n",
       "      <th class=\"blank col0\" >&nbsp;</th>\n",
       "      <th class=\"blank col1\" >&nbsp;</th>\n",
       "    </tr>\n",
       "  </thead>\n",
       "  <tbody>\n",
       "    <tr>\n",
       "      <th id=\"T_c3bd5_level0_row0\" class=\"row_heading level0 row0\" >United Kingdom</th>\n",
       "      <td id=\"T_c3bd5_row0_col0\" class=\"data row0 col0\" >16.525065419655363</td>\n",
       "      <td id=\"T_c3bd5_row0_col1\" class=\"data row0 col1\" >8,187,806.364</td>\n",
       "    </tr>\n",
       "    <tr>\n",
       "      <th id=\"T_c3bd5_level0_row1\" class=\"row_heading level0 row1\" >Netherlands</th>\n",
       "      <td id=\"T_c3bd5_row1_col0\" class=\"data row1 col0\" >120.05969633066216</td>\n",
       "      <td id=\"T_c3bd5_row1_col1\" class=\"data row1 col1\" >284,661.54</td>\n",
       "    </tr>\n",
       "    <tr>\n",
       "      <th id=\"T_c3bd5_level0_row2\" class=\"row_heading level0 row2\" >EIRE</th>\n",
       "      <td id=\"T_c3bd5_row2_col0\" class=\"data row2 col0\" >32.12259882869693</td>\n",
       "      <td id=\"T_c3bd5_row2_col1\" class=\"data row2 col1\" >263,276.82</td>\n",
       "    </tr>\n",
       "    <tr>\n",
       "      <th id=\"T_c3bd5_level0_row3\" class=\"row_heading level0 row3\" >Germany</th>\n",
       "      <td id=\"T_c3bd5_row3_col0\" class=\"data row3 col0\" >23.348942601369142</td>\n",
       "      <td id=\"T_c3bd5_row3_col1\" class=\"data row3 col1\" >221,698.21</td>\n",
       "    </tr>\n",
       "    <tr>\n",
       "      <th id=\"T_c3bd5_level0_row4\" class=\"row_heading level0 row4\" >France</th>\n",
       "      <td id=\"T_c3bd5_row4_col0\" class=\"data row4 col0\" >23.06928830197499</td>\n",
       "      <td id=\"T_c3bd5_row4_col1\" class=\"data row4 col1\" >197,403.9</td>\n",
       "    </tr>\n",
       "    <tr>\n",
       "      <th id=\"T_c3bd5_level0_row5\" class=\"row_heading level0 row5\" >Australia</th>\n",
       "      <td id=\"T_c3bd5_row5_col0\" class=\"data row5 col0\" >108.87789515488483</td>\n",
       "      <td id=\"T_c3bd5_row5_col1\" class=\"data row5 col1\" >137,077.27</td>\n",
       "    </tr>\n",
       "    <tr>\n",
       "      <th id=\"T_c3bd5_level0_row6\" class=\"row_heading level0 row6\" >Switzerland</th>\n",
       "      <td id=\"T_c3bd5_row6_col0\" class=\"data row6 col0\" >28.164510489510487</td>\n",
       "      <td id=\"T_c3bd5_row6_col1\" class=\"data row6 col1\" >56,385.35</td>\n",
       "    </tr>\n",
       "    <tr>\n",
       "      <th id=\"T_c3bd5_level0_row7\" class=\"row_heading level0 row7\" >Spain</th>\n",
       "      <td id=\"T_c3bd5_row7_col0\" class=\"data row7 col0\" >21.624390051322543</td>\n",
       "      <td id=\"T_c3bd5_row7_col1\" class=\"data row7 col1\" >54,774.58</td>\n",
       "    </tr>\n",
       "    <tr>\n",
       "      <th id=\"T_c3bd5_level0_row8\" class=\"row_heading level0 row8\" >Belgium</th>\n",
       "      <td id=\"T_c3bd5_row8_col0\" class=\"data row8 col0\" >19.773301111648138</td>\n",
       "      <td id=\"T_c3bd5_row8_col1\" class=\"data row8 col1\" >40,910.96</td>\n",
       "    </tr>\n",
       "    <tr>\n",
       "      <th id=\"T_c3bd5_level0_row9\" class=\"row_heading level0 row9\" >Sweden</th>\n",
       "      <td id=\"T_c3bd5_row9_col0\" class=\"data row9 col0\" >79.21192640692641</td>\n",
       "      <td id=\"T_c3bd5_row9_col1\" class=\"data row9 col1\" >36,595.91</td>\n",
       "    </tr>\n",
       "  </tbody>\n",
       "</table>\n"
      ],
      "text/plain": [
       "<pandas.io.formats.style.Styler at 0x1bc39d02e50>"
      ]
     },
     "execution_count": 19,
     "metadata": {},
     "output_type": "execute_result"
    }
   ],
   "source": [
    "# 국가별 매출액의 평균과 합계를 구합니다.\n",
    "# TotalPrice를 통해 매출액 상위 10개만 가져옵니다.\n",
    "# top_sale_country\n",
    "top_sale_country = df.groupby(\"Country\")[\"TotalPrice\"].agg([\"mean\", 'sum']).sort_values(\"sum\", ascending=False)\n",
    "top_sale_country.head(10).style.format(\"{:,}\")"
   ]
  },
  {
   "cell_type": "code",
   "execution_count": 20,
   "metadata": {
    "colab": {
     "base_uri": "https://localhost:8080/",
     "height": 367
    },
    "executionInfo": {
     "elapsed": 569,
     "status": "ok",
     "timestamp": 1634789343373,
     "user": {
      "displayName": "JINY ROH",
      "photoUrl": "https://lh3.googleusercontent.com/a-/AOh14Gi7VIzxUnr7MUJE9Bupl4bkwgEAsz4e1gsgrYIPZw=s64",
      "userId": "06348894780083418282"
     },
     "user_tz": -540
    },
    "id": "GDEcvFnpVUqG",
    "outputId": "5d4ac8af-b590-41b5-d7da-d55e4d03883e"
   },
   "outputs": [
    {
     "data": {
      "text/plain": [
       "<AxesSubplot:xlabel='Country'>"
      ]
     },
     "execution_count": 20,
     "metadata": {},
     "output_type": "execute_result"
    },
    {
     "data": {
      "image/png": "[encoded data removed]",
      "text/plain": [
       "<Figure size 432x288 with 2 Axes>"
      ]
     },
     "metadata": {
      "needs_background": "light"
     },
     "output_type": "display_data"
    }
   ],
   "source": [
    "# 위에서 구한 결과를 barplot으로 시각화 합니다.\n",
    "# 스케일이 다르기 때문에 2축 그래프를 사용하지만 두 가지 값을 비교하기에 적절해 보이진 않습니다.\n",
    "top_sale_country.head(10).plot.bar(secondary_y='mean')"
   ]
  },
  {
   "cell_type": "code",
   "execution_count": 21,
   "metadata": {
    "colab": {
     "base_uri": "https://localhost:8080/",
     "height": 765
    },
    "executionInfo": {
     "elapsed": 543,
     "status": "ok",
     "timestamp": 1634789343913,
     "user": {
      "displayName": "JINY ROH",
      "photoUrl": "https://lh3.googleusercontent.com/a-/AOh14Gi7VIzxUnr7MUJE9Bupl4bkwgEAsz4e1gsgrYIPZw=s64",
      "userId": "06348894780083418282"
     },
     "user_tz": -540
    },
    "id": "OGeT0aLiVUqG",
    "outputId": "51fa44bf-2cd3-4916-ff10-d861099602bf"
   },
   "outputs": [
    {
     "data": {
      "text/plain": [
       "array([<AxesSubplot:title={'center':'mean'}, xlabel='Country'>,\n",
       "       <AxesSubplot:title={'center':'sum'}, xlabel='Country'>],\n",
       "      dtype=object)"
      ]
     },
     "execution_count": 21,
     "metadata": {},
     "output_type": "execute_result"
    },
    {
     "data": {
      "image/png": "[encoded data removed]",
      "text/plain": [
       "<Figure size 432x288 with 2 Axes>"
      ]
     },
     "metadata": {
      "needs_background": "light"
     },
     "output_type": "display_data"
    }
   ],
   "source": [
    "# 서브플롯으로 다시 시각화 해봅니다.\n",
    "top_sale_country.head(10).plot.bar(subplots=True)"
   ]
  },
  {
   "cell_type": "markdown",
   "metadata": {
    "id": "u4-hkkCTVUqH"
   },
   "source": [
    "## 고객별 구매 취소 비율"
   ]
  },
  {
   "cell_type": "code",
   "execution_count": 22,
   "metadata": {
    "id": "aUI6c0IeVUqH"
   },
   "outputs": [],
   "source": [
    "# 고객벽 구매 취소 비율을 찾기 위해 Cancel 컬럼을 생성합니다.\n",
    "# Quantity 가 0보다 작다면 True, 0보다 크다면 False 값으로 Cancel 컬럼을 생성합니다.\n",
    "df['Cancel'] = df['Quantity'] < 0"
   ]
  },
  {
   "cell_type": "markdown",
   "metadata": {
    "id": "1BnMmPt2VrBe"
   },
   "source": [
    "stack과 unstack의 표기 형태를 비교합니다.(출처: [판다스 공식문서](https://pandas.pydata.org/))\n",
    "\n",
    "<img src='https://pandas.pydata.org/docs/_images/reshaping_stack.png'>\n",
    "<img src='https://pandas.pydata.org/docs/_images/reshaping_unstack.png'>"
   ]
  },
  {
   "cell_type": "code",
   "execution_count": 23,
   "metadata": {
    "colab": {
     "base_uri": "https://localhost:8080/",
     "height": 394
    },
    "executionInfo": {
     "elapsed": 9,
     "status": "ok",
     "timestamp": 1634789343914,
     "user": {
      "displayName": "JINY ROH",
      "photoUrl": "https://lh3.googleusercontent.com/a-/AOh14Gi7VIzxUnr7MUJE9Bupl4bkwgEAsz4e1gsgrYIPZw=s64",
      "userId": "06348894780083418282"
     },
     "user_tz": -540
    },
    "id": "P7xYrPbLVUqH",
    "outputId": "66248cb6-4ad0-4e3f-b102-1213fa7aefec"
   },
   "outputs": [
    {
     "data": {
      "text/html": [
       "<div>\n",
       "<style scoped>\n",
       "    .dataframe tbody tr th:only-of-type {\n",
       "        vertical-align: middle;\n",
       "    }\n",
       "\n",
       "    .dataframe tbody tr th {\n",
       "        vertical-align: top;\n",
       "    }\n",
       "\n",
       "    .dataframe thead th {\n",
       "        text-align: right;\n",
       "    }\n",
       "</style>\n",
       "<table border=\"1\" class=\"dataframe\">\n",
       "  <thead>\n",
       "    <tr style=\"text-align: right;\">\n",
       "      <th>Cancel</th>\n",
       "      <th>False</th>\n",
       "      <th>True</th>\n",
       "      <th>cancel_ratio</th>\n",
       "    </tr>\n",
       "    <tr>\n",
       "      <th>CustomerID</th>\n",
       "      <th></th>\n",
       "      <th></th>\n",
       "      <th></th>\n",
       "    </tr>\n",
       "  </thead>\n",
       "  <tbody>\n",
       "    <tr>\n",
       "      <th>14911.0</th>\n",
       "      <td>5677.0</td>\n",
       "      <td>226.0</td>\n",
       "      <td>3.980976</td>\n",
       "    </tr>\n",
       "    <tr>\n",
       "      <th>17841.0</th>\n",
       "      <td>7847.0</td>\n",
       "      <td>136.0</td>\n",
       "      <td>1.733146</td>\n",
       "    </tr>\n",
       "    <tr>\n",
       "      <th>17511.0</th>\n",
       "      <td>963.0</td>\n",
       "      <td>113.0</td>\n",
       "      <td>11.734164</td>\n",
       "    </tr>\n",
       "    <tr>\n",
       "      <th>15311.0</th>\n",
       "      <td>2379.0</td>\n",
       "      <td>112.0</td>\n",
       "      <td>4.707860</td>\n",
       "    </tr>\n",
       "    <tr>\n",
       "      <th>12607.0</th>\n",
       "      <td>101.0</td>\n",
       "      <td>101.0</td>\n",
       "      <td>100.000000</td>\n",
       "    </tr>\n",
       "    <tr>\n",
       "      <th>14410.0</th>\n",
       "      <td>194.0</td>\n",
       "      <td>93.0</td>\n",
       "      <td>47.938144</td>\n",
       "    </tr>\n",
       "    <tr>\n",
       "      <th>13798.0</th>\n",
       "      <td>349.0</td>\n",
       "      <td>90.0</td>\n",
       "      <td>25.787966</td>\n",
       "    </tr>\n",
       "    <tr>\n",
       "      <th>14606.0</th>\n",
       "      <td>2700.0</td>\n",
       "      <td>82.0</td>\n",
       "      <td>3.037037</td>\n",
       "    </tr>\n",
       "    <tr>\n",
       "      <th>13113.0</th>\n",
       "      <td>201.0</td>\n",
       "      <td>79.0</td>\n",
       "      <td>39.303483</td>\n",
       "    </tr>\n",
       "    <tr>\n",
       "      <th>12471.0</th>\n",
       "      <td>460.0</td>\n",
       "      <td>71.0</td>\n",
       "      <td>15.434783</td>\n",
       "    </tr>\n",
       "    <tr>\n",
       "      <th>14680.0</th>\n",
       "      <td>258.0</td>\n",
       "      <td>62.0</td>\n",
       "      <td>24.031008</td>\n",
       "    </tr>\n",
       "    <tr>\n",
       "      <th>12415.0</th>\n",
       "      <td>716.0</td>\n",
       "      <td>62.0</td>\n",
       "      <td>8.659218</td>\n",
       "    </tr>\n",
       "    <tr>\n",
       "      <th>12472.0</th>\n",
       "      <td>339.0</td>\n",
       "      <td>52.0</td>\n",
       "      <td>15.339233</td>\n",
       "    </tr>\n",
       "    <tr>\n",
       "      <th>12709.0</th>\n",
       "      <td>208.0</td>\n",
       "      <td>49.0</td>\n",
       "      <td>23.557692</td>\n",
       "    </tr>\n",
       "    <tr>\n",
       "      <th>12748.0</th>\n",
       "      <td>4596.0</td>\n",
       "      <td>46.0</td>\n",
       "      <td>1.000870</td>\n",
       "    </tr>\n",
       "    <tr>\n",
       "      <th>13534.0</th>\n",
       "      <td>296.0</td>\n",
       "      <td>46.0</td>\n",
       "      <td>15.540541</td>\n",
       "    </tr>\n",
       "    <tr>\n",
       "      <th>16801.0</th>\n",
       "      <td>76.0</td>\n",
       "      <td>45.0</td>\n",
       "      <td>59.210526</td>\n",
       "    </tr>\n",
       "    <tr>\n",
       "      <th>13069.0</th>\n",
       "      <td>425.0</td>\n",
       "      <td>45.0</td>\n",
       "      <td>10.588235</td>\n",
       "    </tr>\n",
       "    <tr>\n",
       "      <th>15005.0</th>\n",
       "      <td>1119.0</td>\n",
       "      <td>41.0</td>\n",
       "      <td>3.663986</td>\n",
       "    </tr>\n",
       "    <tr>\n",
       "      <th>14426.0</th>\n",
       "      <td>224.0</td>\n",
       "      <td>40.0</td>\n",
       "      <td>17.857143</td>\n",
       "    </tr>\n",
       "  </tbody>\n",
       "</table>\n",
       "</div>"
      ],
      "text/plain": [
       "Cancel       False   True  cancel_ratio\n",
       "CustomerID                             \n",
       "14911.0     5677.0  226.0      3.980976\n",
       "17841.0     7847.0  136.0      1.733146\n",
       "17511.0      963.0  113.0     11.734164\n",
       "15311.0     2379.0  112.0      4.707860\n",
       "12607.0      101.0  101.0    100.000000\n",
       "14410.0      194.0   93.0     47.938144\n",
       "13798.0      349.0   90.0     25.787966\n",
       "14606.0     2700.0   82.0      3.037037\n",
       "13113.0      201.0   79.0     39.303483\n",
       "12471.0      460.0   71.0     15.434783\n",
       "14680.0      258.0   62.0     24.031008\n",
       "12415.0      716.0   62.0      8.659218\n",
       "12472.0      339.0   52.0     15.339233\n",
       "12709.0      208.0   49.0     23.557692\n",
       "12748.0     4596.0   46.0      1.000870\n",
       "13534.0      296.0   46.0     15.540541\n",
       "16801.0       76.0   45.0     59.210526\n",
       "13069.0      425.0   45.0     10.588235\n",
       "15005.0     1119.0   41.0      3.663986\n",
       "14426.0      224.0   40.0     17.857143"
      ]
     },
     "execution_count": 23,
     "metadata": {},
     "output_type": "execute_result"
    }
   ],
   "source": [
    "# CustomerID, Cancel로 그룹화 하여 InvoiceNo 의 빈도율를 구합니다. => cancel_customer\n",
    "# 고객별(CustomerID) Cancel 빈도율(cancel_ratio)를 구합니다. => cancel_customer[\"cancel_ratio\"]\n",
    "# cancel_customer\n",
    "# cancel_customer[\"cancel_ratio\"]\n",
    "cancel_customer = df.groupby(by=['CustomerID','Cancel'])['InvoiceNo'].count().unstack()\n",
    "cancel_customer['cancel_ratio'] = cancel_customer[True] / cancel_customer[False]*100\n",
    "cancel_customer.sort_values(True, ascending=False).head(20)"
   ]
  },
  {
   "cell_type": "markdown",
   "metadata": {
    "id": "YyAUqbnzVUqH"
   },
   "source": [
    "### 특정 고객의 구매 건 조회"
   ]
  },
  {
   "cell_type": "code",
   "execution_count": 24,
   "metadata": {
    "colab": {
     "base_uri": "https://localhost:8080/",
     "height": 1000
    },
    "executionInfo": {
     "elapsed": 8,
     "status": "ok",
     "timestamp": 1634789343914,
     "user": {
      "displayName": "JINY ROH",
      "photoUrl": "https://lh3.googleusercontent.com/a-/AOh14Gi7VIzxUnr7MUJE9Bupl4bkwgEAsz4e1gsgrYIPZw=s64",
      "userId": "06348894780083418282"
     },
     "user_tz": -540
    },
    "id": "alPR3Eb0VUqI",
    "outputId": "cfde4183-1c0c-4c3d-de77-e27fff07a49a"
   },
   "outputs": [
    {
     "data": {
      "text/html": [
       "<div>\n",
       "<style scoped>\n",
       "    .dataframe tbody tr th:only-of-type {\n",
       "        vertical-align: middle;\n",
       "    }\n",
       "\n",
       "    .dataframe tbody tr th {\n",
       "        vertical-align: top;\n",
       "    }\n",
       "\n",
       "    .dataframe thead th {\n",
       "        text-align: right;\n",
       "    }\n",
       "</style>\n",
       "<table border=\"1\" class=\"dataframe\">\n",
       "  <thead>\n",
       "    <tr style=\"text-align: right;\">\n",
       "      <th></th>\n",
       "      <th>InvoiceNo</th>\n",
       "      <th>StockCode</th>\n",
       "      <th>Description</th>\n",
       "      <th>Quantity</th>\n",
       "      <th>InvoiceDate</th>\n",
       "      <th>UnitPrice</th>\n",
       "      <th>CustomerID</th>\n",
       "      <th>Country</th>\n",
       "      <th>TotalPrice</th>\n",
       "      <th>id_null</th>\n",
       "      <th>Cancel</th>\n",
       "    </tr>\n",
       "  </thead>\n",
       "  <tbody>\n",
       "    <tr>\n",
       "      <th>1404</th>\n",
       "      <td>536540</td>\n",
       "      <td>22968</td>\n",
       "      <td>ROSE COTTAGE KEEPSAKE BOX</td>\n",
       "      <td>4</td>\n",
       "      <td>2010-12-01 14:05:00</td>\n",
       "      <td>9.95</td>\n",
       "      <td>14911.0</td>\n",
       "      <td>EIRE</td>\n",
       "      <td>39.8</td>\n",
       "      <td>False</td>\n",
       "      <td>False</td>\n",
       "    </tr>\n",
       "    <tr>\n",
       "      <th>1405</th>\n",
       "      <td>536540</td>\n",
       "      <td>85071A</td>\n",
       "      <td>BLUE CHARLIE+LOLA PERSONAL DOORSIGN</td>\n",
       "      <td>6</td>\n",
       "      <td>2010-12-01 14:05:00</td>\n",
       "      <td>2.95</td>\n",
       "      <td>14911.0</td>\n",
       "      <td>EIRE</td>\n",
       "      <td>17.7</td>\n",
       "      <td>False</td>\n",
       "      <td>False</td>\n",
       "    </tr>\n",
       "    <tr>\n",
       "      <th>1406</th>\n",
       "      <td>536540</td>\n",
       "      <td>85071C</td>\n",
       "      <td>CHARLIE+LOLA\"EXTREMELY BUSY\" SIGN</td>\n",
       "      <td>6</td>\n",
       "      <td>2010-12-01 14:05:00</td>\n",
       "      <td>2.55</td>\n",
       "      <td>14911.0</td>\n",
       "      <td>EIRE</td>\n",
       "      <td>15.3</td>\n",
       "      <td>False</td>\n",
       "      <td>False</td>\n",
       "    </tr>\n",
       "    <tr>\n",
       "      <th>1407</th>\n",
       "      <td>536540</td>\n",
       "      <td>22355</td>\n",
       "      <td>CHARLOTTE BAG SUKI DESIGN</td>\n",
       "      <td>50</td>\n",
       "      <td>2010-12-01 14:05:00</td>\n",
       "      <td>0.85</td>\n",
       "      <td>14911.0</td>\n",
       "      <td>EIRE</td>\n",
       "      <td>42.5</td>\n",
       "      <td>False</td>\n",
       "      <td>False</td>\n",
       "    </tr>\n",
       "    <tr>\n",
       "      <th>1408</th>\n",
       "      <td>536540</td>\n",
       "      <td>21579</td>\n",
       "      <td>LOLITA  DESIGN  COTTON TOTE BAG</td>\n",
       "      <td>6</td>\n",
       "      <td>2010-12-01 14:05:00</td>\n",
       "      <td>2.25</td>\n",
       "      <td>14911.0</td>\n",
       "      <td>EIRE</td>\n",
       "      <td>13.5</td>\n",
       "      <td>False</td>\n",
       "      <td>False</td>\n",
       "    </tr>\n",
       "    <tr>\n",
       "      <th>...</th>\n",
       "      <td>...</td>\n",
       "      <td>...</td>\n",
       "      <td>...</td>\n",
       "      <td>...</td>\n",
       "      <td>...</td>\n",
       "      <td>...</td>\n",
       "      <td>...</td>\n",
       "      <td>...</td>\n",
       "      <td>...</td>\n",
       "      <td>...</td>\n",
       "      <td>...</td>\n",
       "    </tr>\n",
       "    <tr>\n",
       "      <th>539151</th>\n",
       "      <td>581433</td>\n",
       "      <td>22192</td>\n",
       "      <td>BLUE DINER WALL CLOCK</td>\n",
       "      <td>2</td>\n",
       "      <td>2011-12-08 15:54:00</td>\n",
       "      <td>8.50</td>\n",
       "      <td>14911.0</td>\n",
       "      <td>EIRE</td>\n",
       "      <td>17.0</td>\n",
       "      <td>False</td>\n",
       "      <td>False</td>\n",
       "    </tr>\n",
       "    <tr>\n",
       "      <th>539152</th>\n",
       "      <td>581433</td>\n",
       "      <td>48187</td>\n",
       "      <td>DOORMAT NEW ENGLAND</td>\n",
       "      <td>2</td>\n",
       "      <td>2011-12-08 15:54:00</td>\n",
       "      <td>8.25</td>\n",
       "      <td>14911.0</td>\n",
       "      <td>EIRE</td>\n",
       "      <td>16.5</td>\n",
       "      <td>False</td>\n",
       "      <td>False</td>\n",
       "    </tr>\n",
       "    <tr>\n",
       "      <th>539153</th>\n",
       "      <td>581433</td>\n",
       "      <td>48184</td>\n",
       "      <td>DOORMAT ENGLISH ROSE</td>\n",
       "      <td>2</td>\n",
       "      <td>2011-12-08 15:54:00</td>\n",
       "      <td>8.25</td>\n",
       "      <td>14911.0</td>\n",
       "      <td>EIRE</td>\n",
       "      <td>16.5</td>\n",
       "      <td>False</td>\n",
       "      <td>False</td>\n",
       "    </tr>\n",
       "    <tr>\n",
       "      <th>539154</th>\n",
       "      <td>581433</td>\n",
       "      <td>20685</td>\n",
       "      <td>DOORMAT RED RETROSPOT</td>\n",
       "      <td>2</td>\n",
       "      <td>2011-12-08 15:54:00</td>\n",
       "      <td>8.25</td>\n",
       "      <td>14911.0</td>\n",
       "      <td>EIRE</td>\n",
       "      <td>16.5</td>\n",
       "      <td>False</td>\n",
       "      <td>False</td>\n",
       "    </tr>\n",
       "    <tr>\n",
       "      <th>539155</th>\n",
       "      <td>581433</td>\n",
       "      <td>79302M</td>\n",
       "      <td>ART LIGHTS,FUNK MONKEY</td>\n",
       "      <td>6</td>\n",
       "      <td>2011-12-08 15:54:00</td>\n",
       "      <td>2.95</td>\n",
       "      <td>14911.0</td>\n",
       "      <td>EIRE</td>\n",
       "      <td>17.7</td>\n",
       "      <td>False</td>\n",
       "      <td>False</td>\n",
       "    </tr>\n",
       "  </tbody>\n",
       "</table>\n",
       "<p>5903 rows × 11 columns</p>\n",
       "</div>"
      ],
      "text/plain": [
       "       InvoiceNo StockCode                          Description  Quantity  \\\n",
       "1404      536540     22968           ROSE COTTAGE KEEPSAKE BOX          4   \n",
       "1405      536540    85071A  BLUE CHARLIE+LOLA PERSONAL DOORSIGN         6   \n",
       "1406      536540    85071C    CHARLIE+LOLA\"EXTREMELY BUSY\" SIGN         6   \n",
       "1407      536540     22355            CHARLOTTE BAG SUKI DESIGN        50   \n",
       "1408      536540     21579      LOLITA  DESIGN  COTTON TOTE BAG         6   \n",
       "...          ...       ...                                  ...       ...   \n",
       "539151    581433     22192                BLUE DINER WALL CLOCK         2   \n",
       "539152    581433     48187                  DOORMAT NEW ENGLAND         2   \n",
       "539153    581433     48184                DOORMAT ENGLISH ROSE          2   \n",
       "539154    581433     20685                DOORMAT RED RETROSPOT         2   \n",
       "539155    581433    79302M               ART LIGHTS,FUNK MONKEY         6   \n",
       "\n",
       "                InvoiceDate  UnitPrice  CustomerID Country  TotalPrice  \\\n",
       "1404    2010-12-01 14:05:00       9.95     14911.0    EIRE        39.8   \n",
       "1405    2010-12-01 14:05:00       2.95     14911.0    EIRE        17.7   \n",
       "1406    2010-12-01 14:05:00       2.55     14911.0    EIRE        15.3   \n",
       "1407    2010-12-01 14:05:00       0.85     14911.0    EIRE        42.5   \n",
       "1408    2010-12-01 14:05:00       2.25     14911.0    EIRE        13.5   \n",
       "...                     ...        ...         ...     ...         ...   \n",
       "539151  2011-12-08 15:54:00       8.50     14911.0    EIRE        17.0   \n",
       "539152  2011-12-08 15:54:00       8.25     14911.0    EIRE        16.5   \n",
       "539153  2011-12-08 15:54:00       8.25     14911.0    EIRE        16.5   \n",
       "539154  2011-12-08 15:54:00       8.25     14911.0    EIRE        16.5   \n",
       "539155  2011-12-08 15:54:00       2.95     14911.0    EIRE        17.7   \n",
       "\n",
       "        id_null  Cancel  \n",
       "1404      False   False  \n",
       "1405      False   False  \n",
       "1406      False   False  \n",
       "1407      False   False  \n",
       "1408      False   False  \n",
       "...         ...     ...  \n",
       "539151    False   False  \n",
       "539152    False   False  \n",
       "539153    False   False  \n",
       "539154    False   False  \n",
       "539155    False   False  \n",
       "\n",
       "[5903 rows x 11 columns]"
      ]
     },
     "execution_count": 24,
     "metadata": {},
     "output_type": "execute_result"
    }
   ],
   "source": [
    "# 취소 건을 조회합니다. \n",
    "# 취소 건은 InvoiceNo 에 C를 붙이고 Quantity 를 마이너스로 표기되어 있습니다.\n",
    "df[df['CustomerID'] == 14911]"
   ]
  },
  {
   "cell_type": "markdown",
   "metadata": {
    "id": "lpMpx4WWVUqI"
   },
   "source": [
    "### 제품별 구매 취소 비율"
   ]
  },
  {
   "cell_type": "code",
   "execution_count": 25,
   "metadata": {
    "colab": {
     "base_uri": "https://localhost:8080/",
     "height": 394
    },
    "executionInfo": {
     "elapsed": 17,
     "status": "ok",
     "timestamp": 1634789344442,
     "user": {
      "displayName": "JINY ROH",
      "photoUrl": "https://lh3.googleusercontent.com/a-/AOh14Gi7VIzxUnr7MUJE9Bupl4bkwgEAsz4e1gsgrYIPZw=s64",
      "userId": "06348894780083418282"
     },
     "user_tz": -540
    },
    "id": "zt-6GlysVUqI",
    "outputId": "0143e574-3b1d-4616-8da2-5247bd71ca05"
   },
   "outputs": [
    {
     "data": {
      "text/html": [
       "<div>\n",
       "<style scoped>\n",
       "    .dataframe tbody tr th:only-of-type {\n",
       "        vertical-align: middle;\n",
       "    }\n",
       "\n",
       "    .dataframe tbody tr th {\n",
       "        vertical-align: top;\n",
       "    }\n",
       "\n",
       "    .dataframe thead th {\n",
       "        text-align: right;\n",
       "    }\n",
       "</style>\n",
       "<table border=\"1\" class=\"dataframe\">\n",
       "  <thead>\n",
       "    <tr style=\"text-align: right;\">\n",
       "      <th>Cancel</th>\n",
       "      <th>False</th>\n",
       "      <th>True</th>\n",
       "      <th>cancel_ratio</th>\n",
       "    </tr>\n",
       "    <tr>\n",
       "      <th>StockCode</th>\n",
       "      <th></th>\n",
       "      <th></th>\n",
       "      <th></th>\n",
       "    </tr>\n",
       "  </thead>\n",
       "  <tbody>\n",
       "    <tr>\n",
       "      <th>M</th>\n",
       "      <td>327.0</td>\n",
       "      <td>244.0</td>\n",
       "      <td>74.617737</td>\n",
       "    </tr>\n",
       "    <tr>\n",
       "      <th>22423</th>\n",
       "      <td>2019.0</td>\n",
       "      <td>184.0</td>\n",
       "      <td>9.113422</td>\n",
       "    </tr>\n",
       "    <tr>\n",
       "      <th>POST</th>\n",
       "      <td>1130.0</td>\n",
       "      <td>126.0</td>\n",
       "      <td>11.150442</td>\n",
       "    </tr>\n",
       "    <tr>\n",
       "      <th>22960</th>\n",
       "      <td>1142.0</td>\n",
       "      <td>87.0</td>\n",
       "      <td>7.618214</td>\n",
       "    </tr>\n",
       "    <tr>\n",
       "      <th>D</th>\n",
       "      <td>NaN</td>\n",
       "      <td>77.0</td>\n",
       "      <td>NaN</td>\n",
       "    </tr>\n",
       "    <tr>\n",
       "      <th>22720</th>\n",
       "      <td>1401.0</td>\n",
       "      <td>76.0</td>\n",
       "      <td>5.424697</td>\n",
       "    </tr>\n",
       "    <tr>\n",
       "      <th>21232</th>\n",
       "      <td>843.0</td>\n",
       "      <td>61.0</td>\n",
       "      <td>7.236062</td>\n",
       "    </tr>\n",
       "    <tr>\n",
       "      <th>S</th>\n",
       "      <td>2.0</td>\n",
       "      <td>61.0</td>\n",
       "      <td>3050.000000</td>\n",
       "    </tr>\n",
       "    <tr>\n",
       "      <th>22699</th>\n",
       "      <td>1084.0</td>\n",
       "      <td>54.0</td>\n",
       "      <td>4.981550</td>\n",
       "    </tr>\n",
       "    <tr>\n",
       "      <th>22197</th>\n",
       "      <td>1426.0</td>\n",
       "      <td>50.0</td>\n",
       "      <td>3.506311</td>\n",
       "    </tr>\n",
       "    <tr>\n",
       "      <th>82483</th>\n",
       "      <td>556.0</td>\n",
       "      <td>47.0</td>\n",
       "      <td>8.453237</td>\n",
       "    </tr>\n",
       "    <tr>\n",
       "      <th>22666</th>\n",
       "      <td>1133.0</td>\n",
       "      <td>47.0</td>\n",
       "      <td>4.148279</td>\n",
       "    </tr>\n",
       "    <tr>\n",
       "      <th>85099B</th>\n",
       "      <td>2115.0</td>\n",
       "      <td>44.0</td>\n",
       "      <td>2.080378</td>\n",
       "    </tr>\n",
       "    <tr>\n",
       "      <th>20725</th>\n",
       "      <td>1595.0</td>\n",
       "      <td>44.0</td>\n",
       "      <td>2.758621</td>\n",
       "    </tr>\n",
       "    <tr>\n",
       "      <th>21843</th>\n",
       "      <td>542.0</td>\n",
       "      <td>43.0</td>\n",
       "      <td>7.933579</td>\n",
       "    </tr>\n",
       "    <tr>\n",
       "      <th>85123A</th>\n",
       "      <td>2270.0</td>\n",
       "      <td>43.0</td>\n",
       "      <td>1.894273</td>\n",
       "    </tr>\n",
       "    <tr>\n",
       "      <th>22697</th>\n",
       "      <td>1043.0</td>\n",
       "      <td>42.0</td>\n",
       "      <td>4.026846</td>\n",
       "    </tr>\n",
       "    <tr>\n",
       "      <th>22776</th>\n",
       "      <td>538.0</td>\n",
       "      <td>40.0</td>\n",
       "      <td>7.434944</td>\n",
       "    </tr>\n",
       "    <tr>\n",
       "      <th>21314</th>\n",
       "      <td>545.0</td>\n",
       "      <td>40.0</td>\n",
       "      <td>7.339450</td>\n",
       "    </tr>\n",
       "    <tr>\n",
       "      <th>23245</th>\n",
       "      <td>882.0</td>\n",
       "      <td>37.0</td>\n",
       "      <td>4.195011</td>\n",
       "    </tr>\n",
       "  </tbody>\n",
       "</table>\n",
       "</div>"
      ],
      "text/plain": [
       "Cancel      False   True  cancel_ratio\n",
       "StockCode                             \n",
       "M           327.0  244.0     74.617737\n",
       "22423      2019.0  184.0      9.113422\n",
       "POST       1130.0  126.0     11.150442\n",
       "22960      1142.0   87.0      7.618214\n",
       "D             NaN   77.0           NaN\n",
       "22720      1401.0   76.0      5.424697\n",
       "21232       843.0   61.0      7.236062\n",
       "S             2.0   61.0   3050.000000\n",
       "22699      1084.0   54.0      4.981550\n",
       "22197      1426.0   50.0      3.506311\n",
       "82483       556.0   47.0      8.453237\n",
       "22666      1133.0   47.0      4.148279\n",
       "85099B     2115.0   44.0      2.080378\n",
       "20725      1595.0   44.0      2.758621\n",
       "21843       542.0   43.0      7.933579\n",
       "85123A     2270.0   43.0      1.894273\n",
       "22697      1043.0   42.0      4.026846\n",
       "22776       538.0   40.0      7.434944\n",
       "21314       545.0   40.0      7.339450\n",
       "23245       882.0   37.0      4.195011"
      ]
     },
     "execution_count": 25,
     "metadata": {},
     "output_type": "execute_result"
    }
   ],
   "source": [
    "# StockCode, Cancel로 그룹화 하여 InvoiceNo 의 빈도율를 구합니다. => cancel_stock\n",
    "# 제품별(StockCode) Cancel 빈도율(cancel_ratio)를 구합니다. => cancel_stock[\"cancel_ratio\"]\n",
    "cancel_product = df.groupby(by=[\"StockCode\", 'Cancel'])['InvoiceNo'].count().unstack()\n",
    "cancel_product['cancel_ratio'] = cancel_product[True] / cancel_product[False] * 100\n",
    "cancel_product.sort_values(True, ascending=False).head(20)"
   ]
  },
  {
   "cell_type": "markdown",
   "metadata": {
    "id": "xSJJO4XrVUqJ"
   },
   "source": [
    "### 국가별 구매 취소 비율"
   ]
  },
  {
   "cell_type": "code",
   "execution_count": 26,
   "metadata": {
    "colab": {
     "base_uri": "https://localhost:8080/",
     "height": 394
    },
    "executionInfo": {
     "elapsed": 15,
     "status": "ok",
     "timestamp": 1634789344442,
     "user": {
      "displayName": "JINY ROH",
      "photoUrl": "https://lh3.googleusercontent.com/a-/AOh14Gi7VIzxUnr7MUJE9Bupl4bkwgEAsz4e1gsgrYIPZw=s64",
      "userId": "06348894780083418282"
     },
     "user_tz": -540
    },
    "id": "rZIX9ubCVUqJ",
    "outputId": "4f3acf32-35d4-43a2-fded-3e2a0b15b261"
   },
   "outputs": [
    {
     "data": {
      "text/html": [
       "<div>\n",
       "<style scoped>\n",
       "    .dataframe tbody tr th:only-of-type {\n",
       "        vertical-align: middle;\n",
       "    }\n",
       "\n",
       "    .dataframe tbody tr th {\n",
       "        vertical-align: top;\n",
       "    }\n",
       "\n",
       "    .dataframe thead th {\n",
       "        text-align: right;\n",
       "    }\n",
       "</style>\n",
       "<table border=\"1\" class=\"dataframe\">\n",
       "  <thead>\n",
       "    <tr style=\"text-align: right;\">\n",
       "      <th>Cancel</th>\n",
       "      <th>False</th>\n",
       "      <th>True</th>\n",
       "      <th>cancel_ratio</th>\n",
       "    </tr>\n",
       "    <tr>\n",
       "      <th>Country</th>\n",
       "      <th></th>\n",
       "      <th></th>\n",
       "      <th></th>\n",
       "    </tr>\n",
       "  </thead>\n",
       "  <tbody>\n",
       "    <tr>\n",
       "      <th>United Kingdom</th>\n",
       "      <td>486286.0</td>\n",
       "      <td>9192.0</td>\n",
       "      <td>1.890246</td>\n",
       "    </tr>\n",
       "    <tr>\n",
       "      <th>Germany</th>\n",
       "      <td>9042.0</td>\n",
       "      <td>453.0</td>\n",
       "      <td>5.009954</td>\n",
       "    </tr>\n",
       "    <tr>\n",
       "      <th>EIRE</th>\n",
       "      <td>7894.0</td>\n",
       "      <td>302.0</td>\n",
       "      <td>3.825690</td>\n",
       "    </tr>\n",
       "    <tr>\n",
       "      <th>France</th>\n",
       "      <td>8408.0</td>\n",
       "      <td>149.0</td>\n",
       "      <td>1.772122</td>\n",
       "    </tr>\n",
       "    <tr>\n",
       "      <th>USA</th>\n",
       "      <td>179.0</td>\n",
       "      <td>112.0</td>\n",
       "      <td>62.569832</td>\n",
       "    </tr>\n",
       "    <tr>\n",
       "      <th>Australia</th>\n",
       "      <td>1185.0</td>\n",
       "      <td>74.0</td>\n",
       "      <td>6.244726</td>\n",
       "    </tr>\n",
       "    <tr>\n",
       "      <th>Spain</th>\n",
       "      <td>2485.0</td>\n",
       "      <td>48.0</td>\n",
       "      <td>1.931590</td>\n",
       "    </tr>\n",
       "    <tr>\n",
       "      <th>Italy</th>\n",
       "      <td>758.0</td>\n",
       "      <td>45.0</td>\n",
       "      <td>5.936675</td>\n",
       "    </tr>\n",
       "    <tr>\n",
       "      <th>Belgium</th>\n",
       "      <td>2031.0</td>\n",
       "      <td>38.0</td>\n",
       "      <td>1.871000</td>\n",
       "    </tr>\n",
       "    <tr>\n",
       "      <th>Japan</th>\n",
       "      <td>321.0</td>\n",
       "      <td>37.0</td>\n",
       "      <td>11.526480</td>\n",
       "    </tr>\n",
       "    <tr>\n",
       "      <th>Switzerland</th>\n",
       "      <td>1967.0</td>\n",
       "      <td>35.0</td>\n",
       "      <td>1.779359</td>\n",
       "    </tr>\n",
       "    <tr>\n",
       "      <th>Portugal</th>\n",
       "      <td>1501.0</td>\n",
       "      <td>18.0</td>\n",
       "      <td>1.199201</td>\n",
       "    </tr>\n",
       "    <tr>\n",
       "      <th>Malta</th>\n",
       "      <td>112.0</td>\n",
       "      <td>15.0</td>\n",
       "      <td>13.392857</td>\n",
       "    </tr>\n",
       "    <tr>\n",
       "      <th>Norway</th>\n",
       "      <td>1072.0</td>\n",
       "      <td>14.0</td>\n",
       "      <td>1.305970</td>\n",
       "    </tr>\n",
       "    <tr>\n",
       "      <th>Sweden</th>\n",
       "      <td>451.0</td>\n",
       "      <td>11.0</td>\n",
       "      <td>2.439024</td>\n",
       "    </tr>\n",
       "    <tr>\n",
       "      <th>Poland</th>\n",
       "      <td>330.0</td>\n",
       "      <td>11.0</td>\n",
       "      <td>3.333333</td>\n",
       "    </tr>\n",
       "    <tr>\n",
       "      <th>Finland</th>\n",
       "      <td>685.0</td>\n",
       "      <td>10.0</td>\n",
       "      <td>1.459854</td>\n",
       "    </tr>\n",
       "    <tr>\n",
       "      <th>Channel Islands</th>\n",
       "      <td>748.0</td>\n",
       "      <td>10.0</td>\n",
       "      <td>1.336898</td>\n",
       "    </tr>\n",
       "    <tr>\n",
       "      <th>Denmark</th>\n",
       "      <td>380.0</td>\n",
       "      <td>9.0</td>\n",
       "      <td>2.368421</td>\n",
       "    </tr>\n",
       "    <tr>\n",
       "      <th>Cyprus</th>\n",
       "      <td>614.0</td>\n",
       "      <td>8.0</td>\n",
       "      <td>1.302932</td>\n",
       "    </tr>\n",
       "  </tbody>\n",
       "</table>\n",
       "</div>"
      ],
      "text/plain": [
       "Cancel              False    True  cancel_ratio\n",
       "Country                                        \n",
       "United Kingdom   486286.0  9192.0      1.890246\n",
       "Germany            9042.0   453.0      5.009954\n",
       "EIRE               7894.0   302.0      3.825690\n",
       "France             8408.0   149.0      1.772122\n",
       "USA                 179.0   112.0     62.569832\n",
       "Australia          1185.0    74.0      6.244726\n",
       "Spain              2485.0    48.0      1.931590\n",
       "Italy               758.0    45.0      5.936675\n",
       "Belgium            2031.0    38.0      1.871000\n",
       "Japan               321.0    37.0     11.526480\n",
       "Switzerland        1967.0    35.0      1.779359\n",
       "Portugal           1501.0    18.0      1.199201\n",
       "Malta               112.0    15.0     13.392857\n",
       "Norway             1072.0    14.0      1.305970\n",
       "Sweden              451.0    11.0      2.439024\n",
       "Poland              330.0    11.0      3.333333\n",
       "Finland             685.0    10.0      1.459854\n",
       "Channel Islands     748.0    10.0      1.336898\n",
       "Denmark             380.0     9.0      2.368421\n",
       "Cyprus              614.0     8.0      1.302932"
      ]
     },
     "execution_count": 26,
     "metadata": {},
     "output_type": "execute_result"
    }
   ],
   "source": [
    "# Country, Cancel로 그룹화 하여 InvoiceNo 의 빈도율를 구합니다. => cancel_country\n",
    "# 국가별(Country) Cancel 빈도율(cancel_ratio)를 구합니다. => cancel_country[\"cancel_ratio\"] \n",
    "# cancel_country\n",
    "# cancel_country[\"cancel_ratio\"]\n",
    "cancel_country = df.groupby(by=['Country','Cancel'])['InvoiceNo'].count().unstack()\n",
    "cancel_country['cancel_ratio'] = cancel_country[True] / cancel_country[False] * 100\n",
    "cancel_country.sort_values(True, ascending=False).head(20)"
   ]
  },
  {
   "cell_type": "markdown",
   "metadata": {
    "id": "OAeweOlzVUqJ"
   },
   "source": [
    "## 날짜와 시간"
   ]
  },
  {
   "cell_type": "code",
   "execution_count": 27,
   "metadata": {
    "colab": {
     "base_uri": "https://localhost:8080/"
    },
    "executionInfo": {
     "elapsed": 14,
     "status": "ok",
     "timestamp": 1634789344443,
     "user": {
      "displayName": "JINY ROH",
      "photoUrl": "https://lh3.googleusercontent.com/a-/AOh14Gi7VIzxUnr7MUJE9Bupl4bkwgEAsz4e1gsgrYIPZw=s64",
      "userId": "06348894780083418282"
     },
     "user_tz": -540
    },
    "id": "7stfxt2XVUqJ",
    "outputId": "30e13872-d61a-4166-d760-b4236bd95915"
   },
   "outputs": [
    {
     "data": {
      "text/plain": [
       "0   2010-12-01 08:26:00\n",
       "Name: InvoiceDate, dtype: datetime64[ns]"
      ]
     },
     "execution_count": 27,
     "metadata": {},
     "output_type": "execute_result"
    }
   ],
   "source": [
    "# InvoiceDate를 datetime 모듈을 통해 날짜형식으로 변환해 줍니다.\n",
    "# df[\"InvoiceDate\"]\n",
    "df['InvoiceDate'] = pd.to_datetime(df['InvoiceDate'])\n",
    "df['InvoiceDate'].head(1)"
   ]
  },
  {
   "cell_type": "code",
   "execution_count": 28,
   "metadata": {
    "colab": {
     "base_uri": "https://localhost:8080/",
     "height": 170
    },
    "executionInfo": {
     "elapsed": 328,
     "status": "ok",
     "timestamp": 1634789344762,
     "user": {
      "displayName": "JINY ROH",
      "photoUrl": "https://lh3.googleusercontent.com/a-/AOh14Gi7VIzxUnr7MUJE9Bupl4bkwgEAsz4e1gsgrYIPZw=s64",
      "userId": "06348894780083418282"
     },
     "user_tz": -540
    },
    "id": "sVkvqHweVUqK",
    "outputId": "74ebfa68-6106-451a-8e0e-88307f3307d5"
   },
   "outputs": [
    {
     "data": {
      "text/html": [
       "<div>\n",
       "<style scoped>\n",
       "    .dataframe tbody tr th:only-of-type {\n",
       "        vertical-align: middle;\n",
       "    }\n",
       "\n",
       "    .dataframe tbody tr th {\n",
       "        vertical-align: top;\n",
       "    }\n",
       "\n",
       "    .dataframe thead th {\n",
       "        text-align: right;\n",
       "    }\n",
       "</style>\n",
       "<table border=\"1\" class=\"dataframe\">\n",
       "  <thead>\n",
       "    <tr style=\"text-align: right;\">\n",
       "      <th></th>\n",
       "      <th>InvoiceNo</th>\n",
       "      <th>StockCode</th>\n",
       "      <th>Description</th>\n",
       "      <th>Quantity</th>\n",
       "      <th>InvoiceDate</th>\n",
       "      <th>UnitPrice</th>\n",
       "      <th>CustomerID</th>\n",
       "      <th>Country</th>\n",
       "      <th>TotalPrice</th>\n",
       "      <th>id_null</th>\n",
       "      <th>Cancel</th>\n",
       "      <th>InvoiceYear</th>\n",
       "      <th>InvoiceMonth</th>\n",
       "      <th>InvoiceDay</th>\n",
       "      <th>InvoiceDow</th>\n",
       "    </tr>\n",
       "  </thead>\n",
       "  <tbody>\n",
       "    <tr>\n",
       "      <th>0</th>\n",
       "      <td>536365</td>\n",
       "      <td>85123A</td>\n",
       "      <td>WHITE HANGING HEART T-LIGHT HOLDER</td>\n",
       "      <td>6</td>\n",
       "      <td>2010-12-01 08:26:00</td>\n",
       "      <td>2.55</td>\n",
       "      <td>17850.0</td>\n",
       "      <td>United Kingdom</td>\n",
       "      <td>15.3</td>\n",
       "      <td>False</td>\n",
       "      <td>False</td>\n",
       "      <td>2010</td>\n",
       "      <td>12</td>\n",
       "      <td>1</td>\n",
       "      <td>2</td>\n",
       "    </tr>\n",
       "  </tbody>\n",
       "</table>\n",
       "</div>"
      ],
      "text/plain": [
       "  InvoiceNo StockCode                         Description  Quantity  \\\n",
       "0    536365    85123A  WHITE HANGING HEART T-LIGHT HOLDER         6   \n",
       "\n",
       "          InvoiceDate  UnitPrice  CustomerID         Country  TotalPrice  \\\n",
       "0 2010-12-01 08:26:00       2.55     17850.0  United Kingdom        15.3   \n",
       "\n",
       "   id_null  Cancel  InvoiceYear  InvoiceMonth  InvoiceDay  InvoiceDow  \n",
       "0    False   False         2010            12           1           2  "
      ]
     },
     "execution_count": 28,
     "metadata": {},
     "output_type": "execute_result"
    }
   ],
   "source": [
    "# year, month, day, dayofweek 를 InvoiceDate에서 추출하여 파생변수로 생성합니다.\n",
    "df[\"InvoiceYear\"] = df[\"InvoiceDate\"].dt.year\n",
    "df[\"InvoiceMonth\"] = df[\"InvoiceDate\"].dt.month\n",
    "df[\"InvoiceDay\"] = df[\"InvoiceDate\"].dt.day\n",
    "df[\"InvoiceDow\"] = df[\"InvoiceDate\"].dt.dayofweek\n",
    "df.head(1)"
   ]
  },
  {
   "cell_type": "code",
   "execution_count": 29,
   "metadata": {
    "colab": {
     "base_uri": "https://localhost:8080/",
     "height": 170
    },
    "executionInfo": {
     "elapsed": 325,
     "status": "ok",
     "timestamp": 1634789345083,
     "user": {
      "displayName": "JINY ROH",
      "photoUrl": "https://lh3.googleusercontent.com/a-/AOh14Gi7VIzxUnr7MUJE9Bupl4bkwgEAsz4e1gsgrYIPZw=s64",
      "userId": "06348894780083418282"
     },
     "user_tz": -540
    },
    "id": "294gQT94VUqK",
    "outputId": "ee3c0498-b8d2-4025-839b-b3d648f70127"
   },
   "outputs": [
    {
     "data": {
      "text/html": [
       "<div>\n",
       "<style scoped>\n",
       "    .dataframe tbody tr th:only-of-type {\n",
       "        vertical-align: middle;\n",
       "    }\n",
       "\n",
       "    .dataframe tbody tr th {\n",
       "        vertical-align: top;\n",
       "    }\n",
       "\n",
       "    .dataframe thead th {\n",
       "        text-align: right;\n",
       "    }\n",
       "</style>\n",
       "<table border=\"1\" class=\"dataframe\">\n",
       "  <thead>\n",
       "    <tr style=\"text-align: right;\">\n",
       "      <th></th>\n",
       "      <th>InvoiceNo</th>\n",
       "      <th>StockCode</th>\n",
       "      <th>Description</th>\n",
       "      <th>Quantity</th>\n",
       "      <th>InvoiceDate</th>\n",
       "      <th>UnitPrice</th>\n",
       "      <th>CustomerID</th>\n",
       "      <th>Country</th>\n",
       "      <th>TotalPrice</th>\n",
       "      <th>id_null</th>\n",
       "      <th>Cancel</th>\n",
       "      <th>InvoiceYear</th>\n",
       "      <th>InvoiceMonth</th>\n",
       "      <th>InvoiceDay</th>\n",
       "      <th>InvoiceDow</th>\n",
       "      <th>InvoiceDayname</th>\n",
       "    </tr>\n",
       "  </thead>\n",
       "  <tbody>\n",
       "    <tr>\n",
       "      <th>0</th>\n",
       "      <td>536365</td>\n",
       "      <td>85123A</td>\n",
       "      <td>WHITE HANGING HEART T-LIGHT HOLDER</td>\n",
       "      <td>6</td>\n",
       "      <td>2010-12-01 08:26:00</td>\n",
       "      <td>2.55</td>\n",
       "      <td>17850.0</td>\n",
       "      <td>United Kingdom</td>\n",
       "      <td>15.3</td>\n",
       "      <td>False</td>\n",
       "      <td>False</td>\n",
       "      <td>2010</td>\n",
       "      <td>12</td>\n",
       "      <td>1</td>\n",
       "      <td>2</td>\n",
       "      <td>Wednesday</td>\n",
       "    </tr>\n",
       "  </tbody>\n",
       "</table>\n",
       "</div>"
      ],
      "text/plain": [
       "  InvoiceNo StockCode                         Description  Quantity  \\\n",
       "0    536365    85123A  WHITE HANGING HEART T-LIGHT HOLDER         6   \n",
       "\n",
       "          InvoiceDate  UnitPrice  CustomerID         Country  TotalPrice  \\\n",
       "0 2010-12-01 08:26:00       2.55     17850.0  United Kingdom        15.3   \n",
       "\n",
       "   id_null  Cancel  InvoiceYear  InvoiceMonth  InvoiceDay  InvoiceDow  \\\n",
       "0    False   False         2010            12           1           2   \n",
       "\n",
       "  InvoiceDayname  \n",
       "0      Wednesday  "
      ]
     },
     "execution_count": 29,
     "metadata": {},
     "output_type": "execute_result"
    }
   ],
   "source": [
    "# day_name() 을 통해 InvoiceDate 에서 요일명을 추출하여 파생변수로 생성합니다.\n",
    "df[\"InvoiceDayname\"] = df[\"InvoiceDate\"].dt.day_name()\n",
    "df.head(1)"
   ]
  },
  {
   "cell_type": "code",
   "execution_count": 30,
   "metadata": {
    "colab": {
     "base_uri": "https://localhost:8080/",
     "height": 170
    },
    "executionInfo": {
     "elapsed": 1120,
     "status": "ok",
     "timestamp": 1634789346201,
     "user": {
      "displayName": "JINY ROH",
      "photoUrl": "https://lh3.googleusercontent.com/a-/AOh14Gi7VIzxUnr7MUJE9Bupl4bkwgEAsz4e1gsgrYIPZw=s64",
      "userId": "06348894780083418282"
     },
     "user_tz": -540
    },
    "id": "p4Gr-7GiVUqK",
    "outputId": "9b0c9bd6-a26f-42d3-b9b2-8ccbcbe3b19f"
   },
   "outputs": [
    {
     "data": {
      "text/html": [
       "<div>\n",
       "<style scoped>\n",
       "    .dataframe tbody tr th:only-of-type {\n",
       "        vertical-align: middle;\n",
       "    }\n",
       "\n",
       "    .dataframe tbody tr th {\n",
       "        vertical-align: top;\n",
       "    }\n",
       "\n",
       "    .dataframe thead th {\n",
       "        text-align: right;\n",
       "    }\n",
       "</style>\n",
       "<table border=\"1\" class=\"dataframe\">\n",
       "  <thead>\n",
       "    <tr style=\"text-align: right;\">\n",
       "      <th></th>\n",
       "      <th>InvoiceNo</th>\n",
       "      <th>StockCode</th>\n",
       "      <th>Description</th>\n",
       "      <th>Quantity</th>\n",
       "      <th>InvoiceDate</th>\n",
       "      <th>UnitPrice</th>\n",
       "      <th>CustomerID</th>\n",
       "      <th>Country</th>\n",
       "      <th>TotalPrice</th>\n",
       "      <th>id_null</th>\n",
       "      <th>Cancel</th>\n",
       "      <th>InvoiceYear</th>\n",
       "      <th>InvoiceMonth</th>\n",
       "      <th>InvoiceDay</th>\n",
       "      <th>InvoiceDow</th>\n",
       "      <th>InvoiceDayname</th>\n",
       "      <th>InvoiceYM</th>\n",
       "    </tr>\n",
       "  </thead>\n",
       "  <tbody>\n",
       "    <tr>\n",
       "      <th>0</th>\n",
       "      <td>536365</td>\n",
       "      <td>85123A</td>\n",
       "      <td>WHITE HANGING HEART T-LIGHT HOLDER</td>\n",
       "      <td>6</td>\n",
       "      <td>2010-12-01 08:26:00</td>\n",
       "      <td>2.55</td>\n",
       "      <td>17850.0</td>\n",
       "      <td>United Kingdom</td>\n",
       "      <td>15.3</td>\n",
       "      <td>False</td>\n",
       "      <td>False</td>\n",
       "      <td>2010</td>\n",
       "      <td>12</td>\n",
       "      <td>1</td>\n",
       "      <td>2</td>\n",
       "      <td>Wednesday</td>\n",
       "      <td>2010-12</td>\n",
       "    </tr>\n",
       "  </tbody>\n",
       "</table>\n",
       "</div>"
      ],
      "text/plain": [
       "  InvoiceNo StockCode                         Description  Quantity  \\\n",
       "0    536365    85123A  WHITE HANGING HEART T-LIGHT HOLDER         6   \n",
       "\n",
       "          InvoiceDate  UnitPrice  CustomerID         Country  TotalPrice  \\\n",
       "0 2010-12-01 08:26:00       2.55     17850.0  United Kingdom        15.3   \n",
       "\n",
       "   id_null  Cancel  InvoiceYear  InvoiceMonth  InvoiceDay  InvoiceDow  \\\n",
       "0    False   False         2010            12           1           2   \n",
       "\n",
       "  InvoiceDayname InvoiceYM  \n",
       "0      Wednesday   2010-12  "
      ]
     },
     "execution_count": 30,
     "metadata": {},
     "output_type": "execute_result"
    }
   ],
   "source": [
    "# InvoiceDate 에서 앞에서 7개문자만 가져오면([:7]) 연, 월만 따로 생성합니다.\n",
    "df[\"InvoiceYM\"] = df[\"InvoiceDate\"].astype(str).str[:7]\n",
    "df.head(1)"
   ]
  },
  {
   "cell_type": "code",
   "execution_count": 31,
   "metadata": {
    "colab": {
     "base_uri": "https://localhost:8080/",
     "height": 170
    },
    "executionInfo": {
     "elapsed": 346,
     "status": "ok",
     "timestamp": 1634789346545,
     "user": {
      "displayName": "JINY ROH",
      "photoUrl": "https://lh3.googleusercontent.com/a-/AOh14Gi7VIzxUnr7MUJE9Bupl4bkwgEAsz4e1gsgrYIPZw=s64",
      "userId": "06348894780083418282"
     },
     "user_tz": -540
    },
    "id": "cVXFooyFVUqK",
    "outputId": "a0a64f5c-1959-4d2f-fe65-2b97bec2a701"
   },
   "outputs": [
    {
     "data": {
      "text/html": [
       "<div>\n",
       "<style scoped>\n",
       "    .dataframe tbody tr th:only-of-type {\n",
       "        vertical-align: middle;\n",
       "    }\n",
       "\n",
       "    .dataframe tbody tr th {\n",
       "        vertical-align: top;\n",
       "    }\n",
       "\n",
       "    .dataframe thead th {\n",
       "        text-align: right;\n",
       "    }\n",
       "</style>\n",
       "<table border=\"1\" class=\"dataframe\">\n",
       "  <thead>\n",
       "    <tr style=\"text-align: right;\">\n",
       "      <th></th>\n",
       "      <th>InvoiceNo</th>\n",
       "      <th>StockCode</th>\n",
       "      <th>Description</th>\n",
       "      <th>Quantity</th>\n",
       "      <th>InvoiceDate</th>\n",
       "      <th>UnitPrice</th>\n",
       "      <th>CustomerID</th>\n",
       "      <th>Country</th>\n",
       "      <th>TotalPrice</th>\n",
       "      <th>id_null</th>\n",
       "      <th>Cancel</th>\n",
       "      <th>InvoiceYear</th>\n",
       "      <th>InvoiceMonth</th>\n",
       "      <th>InvoiceDay</th>\n",
       "      <th>InvoiceDow</th>\n",
       "      <th>InvoiceDayname</th>\n",
       "      <th>InvoiceYM</th>\n",
       "      <th>InvoiceTime</th>\n",
       "      <th>InvoiceHour</th>\n",
       "    </tr>\n",
       "  </thead>\n",
       "  <tbody>\n",
       "    <tr>\n",
       "      <th>0</th>\n",
       "      <td>536365</td>\n",
       "      <td>85123A</td>\n",
       "      <td>WHITE HANGING HEART T-LIGHT HOLDER</td>\n",
       "      <td>6</td>\n",
       "      <td>2010-12-01 08:26:00</td>\n",
       "      <td>2.55</td>\n",
       "      <td>17850.0</td>\n",
       "      <td>United Kingdom</td>\n",
       "      <td>15.3</td>\n",
       "      <td>False</td>\n",
       "      <td>False</td>\n",
       "      <td>2010</td>\n",
       "      <td>12</td>\n",
       "      <td>1</td>\n",
       "      <td>2</td>\n",
       "      <td>Wednesday</td>\n",
       "      <td>2010-12</td>\n",
       "      <td>08:26:00</td>\n",
       "      <td>8</td>\n",
       "    </tr>\n",
       "  </tbody>\n",
       "</table>\n",
       "</div>"
      ],
      "text/plain": [
       "  InvoiceNo StockCode                         Description  Quantity  \\\n",
       "0    536365    85123A  WHITE HANGING HEART T-LIGHT HOLDER         6   \n",
       "\n",
       "          InvoiceDate  UnitPrice  CustomerID         Country  TotalPrice  \\\n",
       "0 2010-12-01 08:26:00       2.55     17850.0  United Kingdom        15.3   \n",
       "\n",
       "   id_null  Cancel  InvoiceYear  InvoiceMonth  InvoiceDay  InvoiceDow  \\\n",
       "0    False   False         2010            12           1           2   \n",
       "\n",
       "  InvoiceDayname InvoiceYM InvoiceTime  InvoiceHour  \n",
       "0      Wednesday   2010-12    08:26:00            8  "
      ]
     },
     "execution_count": 31,
     "metadata": {},
     "output_type": "execute_result"
    }
   ],
   "source": [
    "# InvoiceDate 에서 time, hour 에 대한 파생변수도 생성합니다.\n",
    "df[\"InvoiceTime\"] = df[\"InvoiceDate\"].dt.time\n",
    "df[\"InvoiceHour\"] = df[\"InvoiceDate\"].dt.hour\n",
    "df.head(1)"
   ]
  },
  {
   "cell_type": "code",
   "execution_count": 32,
   "metadata": {
    "colab": {
     "base_uri": "https://localhost:8080/",
     "height": 298
    },
    "executionInfo": {
     "elapsed": 13,
     "status": "ok",
     "timestamp": 1634789346545,
     "user": {
      "displayName": "JINY ROH",
      "photoUrl": "https://lh3.googleusercontent.com/a-/AOh14Gi7VIzxUnr7MUJE9Bupl4bkwgEAsz4e1gsgrYIPZw=s64",
      "userId": "06348894780083418282"
     },
     "user_tz": -540
    },
    "id": "UiLRfNfRVUqK",
    "outputId": "f6da291f-7e90-4575-b202-a0fe29008926",
    "scrolled": true
   },
   "outputs": [
    {
     "data": {
      "text/plain": [
       "<AxesSubplot:xlabel='InvoiceYear', ylabel='count'>"
      ]
     },
     "execution_count": 32,
     "metadata": {},
     "output_type": "execute_result"
    },
    {
     "data": {
      "image/png": "[encoded data removed]",
      "text/plain": [
       "<Figure size 432x288 with 1 Axes>"
      ]
     },
     "metadata": {
      "needs_background": "light"
     },
     "output_type": "display_data"
    }
   ],
   "source": [
    "# countplot 으로 연도(InvoiceYear)별 구매 빈도수 시각화합니다.\n",
    "sns.countplot(data=df, x='InvoiceYear')"
   ]
  },
  {
   "cell_type": "code",
   "execution_count": 33,
   "metadata": {
    "colab": {
     "base_uri": "https://localhost:8080/",
     "height": 298
    },
    "executionInfo": {
     "elapsed": 437,
     "status": "ok",
     "timestamp": 1634789346976,
     "user": {
      "displayName": "JINY ROH",
      "photoUrl": "https://lh3.googleusercontent.com/a-/AOh14Gi7VIzxUnr7MUJE9Bupl4bkwgEAsz4e1gsgrYIPZw=s64",
      "userId": "06348894780083418282"
     },
     "user_tz": -540
    },
    "id": "XzJ5efozVUqL",
    "outputId": "74f9ec47-31a1-4046-b95d-d2396cd6487a"
   },
   "outputs": [
    {
     "data": {
      "text/plain": [
       "<AxesSubplot:xlabel='InvoiceMonth', ylabel='count'>"
      ]
     },
     "execution_count": 33,
     "metadata": {},
     "output_type": "execute_result"
    },
    {
     "data": {
      "image/png": "[encoded data removed]",
      "text/plain": [
       "<Figure size 432x288 with 1 Axes>"
      ]
     },
     "metadata": {
      "needs_background": "light"
     },
     "output_type": "display_data"
    }
   ],
   "source": [
    "# countplot 으로 월(InvoiceMonth)별 구매 빈도수 시각화합니다.\n",
    "sns.countplot(data=df, x='InvoiceMonth')"
   ]
  },
  {
   "cell_type": "code",
   "execution_count": 34,
   "metadata": {
    "colab": {
     "base_uri": "https://localhost:8080/",
     "height": 298
    },
    "executionInfo": {
     "elapsed": 620,
     "status": "ok",
     "timestamp": 1634789347592,
     "user": {
      "displayName": "JINY ROH",
      "photoUrl": "https://lh3.googleusercontent.com/a-/AOh14Gi7VIzxUnr7MUJE9Bupl4bkwgEAsz4e1gsgrYIPZw=s64",
      "userId": "06348894780083418282"
     },
     "user_tz": -540
    },
    "id": "t8GRdWq_VUqL",
    "outputId": "a160294e-85f8-4234-9532-f9532b9ffb17"
   },
   "outputs": [
    {
     "data": {
      "text/plain": [
       "<AxesSubplot:xlabel='InvoiceYM', ylabel='count'>"
      ]
     },
     "execution_count": 34,
     "metadata": {},
     "output_type": "execute_result"
    },
    {
     "data": {
      "image/png": "[encoded data removed]",
      "text/plain": [
       "<Figure size 864x288 with 1 Axes>"
      ]
     },
     "metadata": {
      "needs_background": "light"
     },
     "output_type": "display_data"
    }
   ],
   "source": [
    "# countplot 으로 연도-월별(InvoiceYM) 구매 빈도수 시각화합니다.\n",
    "plt.figure(figsize=(12, 4))\n",
    "sns.countplot(data=df, x='InvoiceYM')"
   ]
  },
  {
   "cell_type": "code",
   "execution_count": 35,
   "metadata": {},
   "outputs": [
    {
     "data": {
      "text/plain": [
       "541859   2011-12-09 12:20:00\n",
       "541860   2011-12-09 12:20:00\n",
       "541861   2011-12-09 12:20:00\n",
       "541862   2011-12-09 12:20:00\n",
       "541863   2011-12-09 12:21:00\n",
       "541864   2011-12-09 12:21:00\n",
       "541865   2011-12-09 12:23:00\n",
       "541866   2011-12-09 12:23:00\n",
       "541867   2011-12-09 12:25:00\n",
       "541868   2011-12-09 12:25:00\n",
       "541869   2011-12-09 12:31:00\n",
       "541870   2011-12-09 12:31:00\n",
       "541871   2011-12-09 12:31:00\n",
       "541872   2011-12-09 12:31:00\n",
       "541873   2011-12-09 12:31:00\n",
       "541874   2011-12-09 12:31:00\n",
       "541875   2011-12-09 12:31:00\n",
       "541876   2011-12-09 12:31:00\n",
       "541877   2011-12-09 12:31:00\n",
       "541878   2011-12-09 12:31:00\n",
       "541879   2011-12-09 12:31:00\n",
       "541880   2011-12-09 12:31:00\n",
       "541881   2011-12-09 12:31:00\n",
       "541882   2011-12-09 12:31:00\n",
       "541883   2011-12-09 12:31:00\n",
       "541884   2011-12-09 12:31:00\n",
       "541885   2011-12-09 12:31:00\n",
       "541886   2011-12-09 12:31:00\n",
       "541887   2011-12-09 12:31:00\n",
       "541888   2011-12-09 12:31:00\n",
       "541889   2011-12-09 12:31:00\n",
       "541890   2011-12-09 12:49:00\n",
       "541891   2011-12-09 12:49:00\n",
       "541892   2011-12-09 12:49:00\n",
       "541893   2011-12-09 12:49:00\n",
       "541894   2011-12-09 12:50:00\n",
       "541895   2011-12-09 12:50:00\n",
       "541896   2011-12-09 12:50:00\n",
       "541897   2011-12-09 12:50:00\n",
       "541898   2011-12-09 12:50:00\n",
       "541899   2011-12-09 12:50:00\n",
       "541900   2011-12-09 12:50:00\n",
       "541901   2011-12-09 12:50:00\n",
       "541902   2011-12-09 12:50:00\n",
       "541903   2011-12-09 12:50:00\n",
       "541904   2011-12-09 12:50:00\n",
       "541905   2011-12-09 12:50:00\n",
       "541906   2011-12-09 12:50:00\n",
       "541907   2011-12-09 12:50:00\n",
       "541908   2011-12-09 12:50:00\n",
       "Name: InvoiceDate, dtype: datetime64[ns]"
      ]
     },
     "execution_count": 35,
     "metadata": {},
     "output_type": "execute_result"
    }
   ],
   "source": [
    "#왜 12월 count가 적을까?\n",
    "df['InvoiceDate'].tail(50)"
   ]
  },
  {
   "cell_type": "markdown",
   "metadata": {
    "id": "PsbAaCqsVUqL"
   },
   "source": [
    "### 요일별 빈도수"
   ]
  },
  {
   "cell_type": "code",
   "execution_count": 36,
   "metadata": {
    "colab": {
     "base_uri": "https://localhost:8080/",
     "height": 298
    },
    "executionInfo": {
     "elapsed": 823,
     "status": "ok",
     "timestamp": 1634789348410,
     "user": {
      "displayName": "JINY ROH",
      "photoUrl": "https://lh3.googleusercontent.com/a-/AOh14Gi7VIzxUnr7MUJE9Bupl4bkwgEAsz4e1gsgrYIPZw=s64",
      "userId": "06348894780083418282"
     },
     "user_tz": -540
    },
    "id": "4JKPmUJrVUqL",
    "outputId": "ddca263f-7ebf-48bf-a786-fb3246df16ce"
   },
   "outputs": [
    {
     "data": {
      "text/plain": [
       "<AxesSubplot:xlabel='InvoiceDow', ylabel='count'>"
      ]
     },
     "execution_count": 36,
     "metadata": {},
     "output_type": "execute_result"
    },
    {
     "data": {
      "image/png": "[encoded data removed]",
      "text/plain": [
       "<Figure size 432x288 with 1 Axes>"
      ]
     },
     "metadata": {
      "needs_background": "light"
     },
     "output_type": "display_data"
    }
   ],
   "source": [
    "# countplot 으로 요일별( InvoiceDow ) 구매 빈도수 시각화합니다.\n",
    "sns.countplot(data=df, x='InvoiceDow')"
   ]
  },
  {
   "cell_type": "code",
   "execution_count": 37,
   "metadata": {
    "colab": {
     "base_uri": "https://localhost:8080/",
     "height": 298
    },
    "executionInfo": {
     "elapsed": 1002,
     "status": "ok",
     "timestamp": 1634789349408,
     "user": {
      "displayName": "JINY ROH",
      "photoUrl": "https://lh3.googleusercontent.com/a-/AOh14Gi7VIzxUnr7MUJE9Bupl4bkwgEAsz4e1gsgrYIPZw=s64",
      "userId": "06348894780083418282"
     },
     "user_tz": -540
    },
    "id": "H9Z3y8t7VUqL",
    "outputId": "acb32dbc-c985-4dfa-c778-5cff558edf1f"
   },
   "outputs": [
    {
     "data": {
      "text/plain": [
       "<AxesSubplot:xlabel='InvoiceDayname', ylabel='count'>"
      ]
     },
     "execution_count": 37,
     "metadata": {},
     "output_type": "execute_result"
    },
    {
     "data": {
      "image/png": "[encoded data removed]",
      "text/plain": [
       "<Figure size 432x288 with 1 Axes>"
      ]
     },
     "metadata": {
      "needs_background": "light"
     },
     "output_type": "display_data"
    }
   ],
   "source": [
    "# countplot으로 요일별( InvoiceDow ) 구매와 취소 빈도수 시각화합니다.\n",
    "# hue 옵션을 사용하면 특정 컬럼을 지정해서 표기할 수 있습니다.\n",
    "# hue=\"Cancel\" 로 취소여부도 함께 봅니다.\n",
    "sns.countplot(data=df.sort_values(by='InvoiceDow'), x='InvoiceDayname', hue='Cancel')"
   ]
  },
  {
   "cell_type": "code",
   "execution_count": 38,
   "metadata": {
    "colab": {
     "base_uri": "https://localhost:8080/",
     "height": 313
    },
    "executionInfo": {
     "elapsed": 649,
     "status": "ok",
     "timestamp": 1634789350049,
     "user": {
      "displayName": "JINY ROH",
      "photoUrl": "https://lh3.googleusercontent.com/a-/AOh14Gi7VIzxUnr7MUJE9Bupl4bkwgEAsz4e1gsgrYIPZw=s64",
      "userId": "06348894780083418282"
     },
     "user_tz": -540
    },
    "id": "MotdJ6kyVUqM",
    "outputId": "48517aa5-8d36-4157-d967-fe4bf652cf5b"
   },
   "outputs": [
    {
     "data": {
      "text/plain": [
       "<AxesSubplot:title={'center':'요일 별 구매 취소'}, xlabel='InvoiceDayname', ylabel='count'>"
      ]
     },
     "execution_count": 38,
     "metadata": {},
     "output_type": "execute_result"
    },
    {
     "data": {
      "image/png": "[encoded data removed]",
      "text/plain": [
       "<Figure size 432x288 with 1 Axes>"
      ]
     },
     "metadata": {
      "needs_background": "light"
     },
     "output_type": "display_data"
    }
   ],
   "source": [
    "# countplot으로 요일별( InvoiceDow ) 구매 **취소** 빈도수 시각화합니다.\n",
    "# df[\"Cancel\"] == True 인 데이터로 구매 취소된 값만 추출합니다.\n",
    "plt.title(\"요일 별 구매 취소\")\n",
    "sns.countplot(data=df[df['Cancel']].sort_values('InvoiceDow'), x='InvoiceDayname')"
   ]
  },
  {
   "cell_type": "code",
   "execution_count": 39,
   "metadata": {
    "colab": {
     "base_uri": "https://localhost:8080/"
    },
    "executionInfo": {
     "elapsed": 18,
     "status": "ok",
     "timestamp": 1634789350049,
     "user": {
      "displayName": "JINY ROH",
      "photoUrl": "https://lh3.googleusercontent.com/a-/AOh14Gi7VIzxUnr7MUJE9Bupl4bkwgEAsz4e1gsgrYIPZw=s64",
      "userId": "06348894780083418282"
     },
     "user_tz": -540
    },
    "id": "2WRHURdjVUqM",
    "outputId": "e019aed8-5dad-4417-b729-dc482111b8a7"
   },
   "outputs": [],
   "source": [
    "# 리스트컴프리헨션(List comprehension)을 통해 \"월~일\"요일 문자열을 리스트로 만듭니다.\n",
    "# 리스트컴프리헨션(List comprehension)은 리스트 내부에서 반복문을 작성하여 반복하는 형식입니다.\n",
    "# \"월화수목금토일\" 을 ['월', '화', '수', '목', '금', '토', '일'] 로 만듭니다.\n",
    "# day_name\n",
    "day_name = list(\"월화수목금토일\")"
   ]
  },
  {
   "cell_type": "code",
   "execution_count": 40,
   "metadata": {
    "colab": {
     "base_uri": "https://localhost:8080/"
    },
    "executionInfo": {
     "elapsed": 15,
     "status": "ok",
     "timestamp": 1634789350050,
     "user": {
      "displayName": "JINY ROH",
      "photoUrl": "https://lh3.googleusercontent.com/a-/AOh14Gi7VIzxUnr7MUJE9Bupl4bkwgEAsz4e1gsgrYIPZw=s64",
      "userId": "06348894780083418282"
     },
     "user_tz": -540
    },
    "id": "sEfIDUdnVUqM",
    "outputId": "608473ac-bf2c-4c9b-cf17-2b987f61352e"
   },
   "outputs": [
    {
     "data": {
      "text/plain": [
       "['월', '화', '수', '목', '금', '일']"
      ]
     },
     "execution_count": 40,
     "metadata": {},
     "output_type": "execute_result"
    }
   ],
   "source": [
    "# 데이터를 보면 토요일이 없습니다. 그래서 토요일은 제거합니다.\n",
    "\n",
    "day_name.remove('토')\n",
    "day_name"
   ]
  },
  {
   "cell_type": "code",
   "execution_count": 41,
   "metadata": {
    "colab": {
     "base_uri": "https://localhost:8080/"
    },
    "executionInfo": {
     "elapsed": 14,
     "status": "ok",
     "timestamp": 1634789350052,
     "user": {
      "displayName": "JINY ROH",
      "photoUrl": "https://lh3.googleusercontent.com/a-/AOh14Gi7VIzxUnr7MUJE9Bupl4bkwgEAsz4e1gsgrYIPZw=s64",
      "userId": "06348894780083418282"
     },
     "user_tz": -540
    },
    "id": "pXzpmaMEVUqM",
    "outputId": "54f2f4a4-07f0-4534-94b3-0704a5e3eed7"
   },
   "outputs": [
    {
     "data": {
      "text/plain": [
       "월     95111\n",
       "화    101808\n",
       "수     94565\n",
       "목    103857\n",
       "금     82193\n",
       "일     64375\n",
       "Name: InvoiceDow, dtype: int64"
      ]
     },
     "execution_count": 41,
     "metadata": {},
     "output_type": "execute_result"
    }
   ],
   "source": [
    "# value_counts()로 요일별( InvoiceDow ) 구매 빈도수를 구합니다.\n",
    "# dow_count\n",
    "dow_count = df['InvoiceDow'].value_counts().sort_index()\n",
    "dow_count.index = day_name\n",
    "dow_count"
   ]
  },
  {
   "cell_type": "code",
   "execution_count": 42,
   "metadata": {
    "colab": {
     "base_uri": "https://localhost:8080/",
     "height": 284
    },
    "executionInfo": {
     "elapsed": 11,
     "status": "ok",
     "timestamp": 1634789350052,
     "user": {
      "displayName": "JINY ROH",
      "photoUrl": "https://lh3.googleusercontent.com/a-/AOh14Gi7VIzxUnr7MUJE9Bupl4bkwgEAsz4e1gsgrYIPZw=s64",
      "userId": "06348894780083418282"
     },
     "user_tz": -540
    },
    "id": "0Z-RuHW9VUqN",
    "outputId": "adeafe42-ee6a-4526-9380-d64996240c6f"
   },
   "outputs": [
    {
     "data": {
      "text/plain": [
       "<AxesSubplot:ylabel='InvoiceDow'>"
      ]
     },
     "execution_count": 42,
     "metadata": {},
     "output_type": "execute_result"
    },
    {
     "data": {
      "image/png": "[encoded data removed]",
      "text/plain": [
       "<Figure size 864x288 with 1 Axes>"
      ]
     },
     "metadata": {
      "needs_background": "light"
     },
     "output_type": "display_data"
    }
   ],
   "source": [
    "# 위에서 구한 요일별 구매 빈도수( dow_count )를 pointplot으로 시각화 합니다.\n",
    "plt.figure(figsize=(12, 4))\n",
    "sns.pointplot(x=dow_count.index, y=dow_count)\n",
    "sns.lineplot(x=dow_count.index, y=dow_count)"
   ]
  },
  {
   "cell_type": "code",
   "execution_count": 43,
   "metadata": {
    "colab": {
     "base_uri": "https://localhost:8080/",
     "height": 551
    },
    "executionInfo": {
     "elapsed": 773,
     "status": "ok",
     "timestamp": 1634789350817,
     "user": {
      "displayName": "JINY ROH",
      "photoUrl": "https://lh3.googleusercontent.com/a-/AOh14Gi7VIzxUnr7MUJE9Bupl4bkwgEAsz4e1gsgrYIPZw=s64",
      "userId": "06348894780083418282"
     },
     "user_tz": -540
    },
    "id": "T_DEDaZSVUqO",
    "outputId": "a0affbfe-c48d-4ddb-8c63-ba52a86b3641"
   },
   "outputs": [
    {
     "data": {
      "text/html": [
       "<div>\n",
       "<style scoped>\n",
       "    .dataframe tbody tr th:only-of-type {\n",
       "        vertical-align: middle;\n",
       "    }\n",
       "\n",
       "    .dataframe tbody tr th {\n",
       "        vertical-align: top;\n",
       "    }\n",
       "\n",
       "    .dataframe thead th {\n",
       "        text-align: right;\n",
       "    }\n",
       "</style>\n",
       "<table border=\"1\" class=\"dataframe\">\n",
       "  <thead>\n",
       "    <tr style=\"text-align: right;\">\n",
       "      <th>InvoiceDow</th>\n",
       "      <th>0</th>\n",
       "      <th>1</th>\n",
       "      <th>2</th>\n",
       "      <th>3</th>\n",
       "      <th>4</th>\n",
       "      <th>6</th>\n",
       "    </tr>\n",
       "    <tr>\n",
       "      <th>InvoiceHour</th>\n",
       "      <th></th>\n",
       "      <th></th>\n",
       "      <th></th>\n",
       "      <th></th>\n",
       "      <th></th>\n",
       "      <th></th>\n",
       "    </tr>\n",
       "  </thead>\n",
       "  <tbody>\n",
       "    <tr>\n",
       "      <th>6</th>\n",
       "      <td>0</td>\n",
       "      <td>0</td>\n",
       "      <td>0</td>\n",
       "      <td>41</td>\n",
       "      <td>0</td>\n",
       "      <td>0</td>\n",
       "    </tr>\n",
       "    <tr>\n",
       "      <th>7</th>\n",
       "      <td>61</td>\n",
       "      <td>65</td>\n",
       "      <td>59</td>\n",
       "      <td>64</td>\n",
       "      <td>134</td>\n",
       "      <td>0</td>\n",
       "    </tr>\n",
       "    <tr>\n",
       "      <th>8</th>\n",
       "      <td>1641</td>\n",
       "      <td>1751</td>\n",
       "      <td>1826</td>\n",
       "      <td>1834</td>\n",
       "      <td>1857</td>\n",
       "      <td>0</td>\n",
       "    </tr>\n",
       "    <tr>\n",
       "      <th>9</th>\n",
       "      <td>7497</td>\n",
       "      <td>6440</td>\n",
       "      <td>5186</td>\n",
       "      <td>8060</td>\n",
       "      <td>7119</td>\n",
       "      <td>30</td>\n",
       "    </tr>\n",
       "    <tr>\n",
       "      <th>10</th>\n",
       "      <td>8872</td>\n",
       "      <td>9125</td>\n",
       "      <td>7904</td>\n",
       "      <td>9321</td>\n",
       "      <td>10215</td>\n",
       "      <td>3600</td>\n",
       "    </tr>\n",
       "    <tr>\n",
       "      <th>11</th>\n",
       "      <td>8926</td>\n",
       "      <td>10052</td>\n",
       "      <td>9973</td>\n",
       "      <td>8369</td>\n",
       "      <td>9589</td>\n",
       "      <td>10765</td>\n",
       "    </tr>\n",
       "    <tr>\n",
       "      <th>12</th>\n",
       "      <td>11801</td>\n",
       "      <td>14327</td>\n",
       "      <td>14527</td>\n",
       "      <td>13485</td>\n",
       "      <td>10942</td>\n",
       "      <td>13627</td>\n",
       "    </tr>\n",
       "    <tr>\n",
       "      <th>13</th>\n",
       "      <td>12756</td>\n",
       "      <td>12619</td>\n",
       "      <td>11901</td>\n",
       "      <td>12428</td>\n",
       "      <td>10488</td>\n",
       "      <td>12067</td>\n",
       "    </tr>\n",
       "    <tr>\n",
       "      <th>14</th>\n",
       "      <td>11502</td>\n",
       "      <td>11656</td>\n",
       "      <td>11006</td>\n",
       "      <td>11518</td>\n",
       "      <td>11737</td>\n",
       "      <td>10052</td>\n",
       "    </tr>\n",
       "    <tr>\n",
       "      <th>15</th>\n",
       "      <td>13977</td>\n",
       "      <td>16017</td>\n",
       "      <td>16510</td>\n",
       "      <td>11830</td>\n",
       "      <td>9043</td>\n",
       "      <td>10142</td>\n",
       "    </tr>\n",
       "    <tr>\n",
       "      <th>16</th>\n",
       "      <td>9529</td>\n",
       "      <td>11924</td>\n",
       "      <td>10768</td>\n",
       "      <td>11765</td>\n",
       "      <td>6438</td>\n",
       "      <td>4092</td>\n",
       "    </tr>\n",
       "    <tr>\n",
       "      <th>17</th>\n",
       "      <td>8136</td>\n",
       "      <td>5746</td>\n",
       "      <td>4849</td>\n",
       "      <td>5257</td>\n",
       "      <td>4521</td>\n",
       "      <td>0</td>\n",
       "    </tr>\n",
       "    <tr>\n",
       "      <th>18</th>\n",
       "      <td>413</td>\n",
       "      <td>2086</td>\n",
       "      <td>23</td>\n",
       "      <td>5439</td>\n",
       "      <td>13</td>\n",
       "      <td>0</td>\n",
       "    </tr>\n",
       "    <tr>\n",
       "      <th>19</th>\n",
       "      <td>0</td>\n",
       "      <td>0</td>\n",
       "      <td>15</td>\n",
       "      <td>3601</td>\n",
       "      <td>89</td>\n",
       "      <td>0</td>\n",
       "    </tr>\n",
       "    <tr>\n",
       "      <th>20</th>\n",
       "      <td>0</td>\n",
       "      <td>0</td>\n",
       "      <td>18</td>\n",
       "      <td>845</td>\n",
       "      <td>8</td>\n",
       "      <td>0</td>\n",
       "    </tr>\n",
       "  </tbody>\n",
       "</table>\n",
       "</div>"
      ],
      "text/plain": [
       "InvoiceDow       0      1      2      3      4      6\n",
       "InvoiceHour                                          \n",
       "6                0      0      0     41      0      0\n",
       "7               61     65     59     64    134      0\n",
       "8             1641   1751   1826   1834   1857      0\n",
       "9             7497   6440   5186   8060   7119     30\n",
       "10            8872   9125   7904   9321  10215   3600\n",
       "11            8926  10052   9973   8369   9589  10765\n",
       "12           11801  14327  14527  13485  10942  13627\n",
       "13           12756  12619  11901  12428  10488  12067\n",
       "14           11502  11656  11006  11518  11737  10052\n",
       "15           13977  16017  16510  11830   9043  10142\n",
       "16            9529  11924  10768  11765   6438   4092\n",
       "17            8136   5746   4849   5257   4521      0\n",
       "18             413   2086     23   5439     13      0\n",
       "19               0      0     15   3601     89      0\n",
       "20               0      0     18    845      8      0"
      ]
     },
     "execution_count": 43,
     "metadata": {},
     "output_type": "execute_result"
    }
   ],
   "source": [
    "# 시간별( InvoiceHour ), 요일별( InvoiceDow )로 crosstab 을 통해 구매 빈도수 구합니다.\n",
    "# order_hour_dow\n",
    "order_hour_dow = pd.crosstab(df['InvoiceHour'], df['InvoiceDow'])\n",
    "order_hour_dow"
   ]
  },
  {
   "cell_type": "code",
   "execution_count": 44,
   "metadata": {
    "colab": {
     "base_uri": "https://localhost:8080/",
     "height": 382
    },
    "executionInfo": {
     "elapsed": 14,
     "status": "ok",
     "timestamp": 1634789350817,
     "user": {
      "displayName": "JINY ROH",
      "photoUrl": "https://lh3.googleusercontent.com/a-/AOh14Gi7VIzxUnr7MUJE9Bupl4bkwgEAsz4e1gsgrYIPZw=s64",
      "userId": "06348894780083418282"
     },
     "user_tz": -540
    },
    "id": "EQSbfhQcVUqP",
    "outputId": "ea3a1b8e-dd8e-4549-e367-52ccf95f935b"
   },
   "outputs": [
    {
     "data": {
      "text/html": [
       "<style type=\"text/css\">\n",
       "#T_21424_row0_col0, #T_21424_row0_col1, #T_21424_row0_col2, #T_21424_row0_col3, #T_21424_row0_col4, #T_21424_row0_col5, #T_21424_row1_col2, #T_21424_row1_col3, #T_21424_row1_col5, #T_21424_row2_col5, #T_21424_row3_col5, #T_21424_row11_col5, #T_21424_row12_col2, #T_21424_row12_col4, #T_21424_row12_col5, #T_21424_row13_col0, #T_21424_row13_col1, #T_21424_row13_col2, #T_21424_row13_col5, #T_21424_row14_col0, #T_21424_row14_col1, #T_21424_row14_col2, #T_21424_row14_col4, #T_21424_row14_col5 {\n",
       "  background-color: #fff7fb;\n",
       "  color: #000000;\n",
       "}\n",
       "#T_21424_row1_col0, #T_21424_row1_col1, #T_21424_row13_col4 {\n",
       "  background-color: #fef6fb;\n",
       "  color: #000000;\n",
       "}\n",
       "#T_21424_row1_col4 {\n",
       "  background-color: #fef6fa;\n",
       "  color: #000000;\n",
       "}\n",
       "#T_21424_row2_col0 {\n",
       "  background-color: #ede8f3;\n",
       "  color: #000000;\n",
       "}\n",
       "#T_21424_row2_col1 {\n",
       "  background-color: #efe9f3;\n",
       "  color: #000000;\n",
       "}\n",
       "#T_21424_row2_col2 {\n",
       "  background-color: #eee9f3;\n",
       "  color: #000000;\n",
       "}\n",
       "#T_21424_row2_col3 {\n",
       "  background-color: #eae6f1;\n",
       "  color: #000000;\n",
       "}\n",
       "#T_21424_row2_col4 {\n",
       "  background-color: #e5e1ef;\n",
       "  color: #000000;\n",
       "}\n",
       "#T_21424_row3_col0 {\n",
       "  background-color: #62a2cb;\n",
       "  color: #f1f1f1;\n",
       "}\n",
       "#T_21424_row3_col1, #T_21424_row12_col3 {\n",
       "  background-color: #9cb9d9;\n",
       "  color: #000000;\n",
       "}\n",
       "#T_21424_row3_col2 {\n",
       "  background-color: #bbc7e0;\n",
       "  color: #000000;\n",
       "}\n",
       "#T_21424_row3_col3 {\n",
       "  background-color: #4496c3;\n",
       "  color: #f1f1f1;\n",
       "}\n",
       "#T_21424_row3_col4 {\n",
       "  background-color: #3f93c2;\n",
       "  color: #f1f1f1;\n",
       "}\n",
       "#T_21424_row4_col0 {\n",
       "  background-color: #328dbf;\n",
       "  color: #f1f1f1;\n",
       "}\n",
       "#T_21424_row4_col1 {\n",
       "  background-color: #529bc7;\n",
       "  color: #f1f1f1;\n",
       "}\n",
       "#T_21424_row4_col2 {\n",
       "  background-color: #7dacd1;\n",
       "  color: #f1f1f1;\n",
       "}\n",
       "#T_21424_row4_col3 {\n",
       "  background-color: #1c7fb8;\n",
       "  color: #f1f1f1;\n",
       "}\n",
       "#T_21424_row4_col4 {\n",
       "  background-color: #045b8e;\n",
       "  color: #f1f1f1;\n",
       "}\n",
       "#T_21424_row4_col5, #T_21424_row13_col3 {\n",
       "  background-color: #cccfe5;\n",
       "  color: #000000;\n",
       "}\n",
       "#T_21424_row5_col0 {\n",
       "  background-color: #308cbe;\n",
       "  color: #f1f1f1;\n",
       "}\n",
       "#T_21424_row5_col1 {\n",
       "  background-color: #358fc0;\n",
       "  color: #f1f1f1;\n",
       "}\n",
       "#T_21424_row5_col2 {\n",
       "  background-color: #4094c3;\n",
       "  color: #f1f1f1;\n",
       "}\n",
       "#T_21424_row5_col3 {\n",
       "  background-color: #3991c1;\n",
       "  color: #f1f1f1;\n",
       "}\n",
       "#T_21424_row5_col4 {\n",
       "  background-color: #04649d;\n",
       "  color: #f1f1f1;\n",
       "}\n",
       "#T_21424_row5_col5 {\n",
       "  background-color: #0569a4;\n",
       "  color: #f1f1f1;\n",
       "}\n",
       "#T_21424_row6_col0 {\n",
       "  background-color: #045f95;\n",
       "  color: #f1f1f1;\n",
       "}\n",
       "#T_21424_row6_col1, #T_21424_row7_col4 {\n",
       "  background-color: #045585;\n",
       "  color: #f1f1f1;\n",
       "}\n",
       "#T_21424_row6_col2 {\n",
       "  background-color: #04588a;\n",
       "  color: #f1f1f1;\n",
       "}\n",
       "#T_21424_row6_col3, #T_21424_row6_col5, #T_21424_row8_col4, #T_21424_row9_col0, #T_21424_row9_col1, #T_21424_row9_col2 {\n",
       "  background-color: #023858;\n",
       "  color: #f1f1f1;\n",
       "}\n",
       "#T_21424_row6_col4 {\n",
       "  background-color: #034a74;\n",
       "  color: #f1f1f1;\n",
       "}\n",
       "#T_21424_row7_col0 {\n",
       "  background-color: #034f7d;\n",
       "  color: #f1f1f1;\n",
       "}\n",
       "#T_21424_row7_col1 {\n",
       "  background-color: #0569a5;\n",
       "  color: #f1f1f1;\n",
       "}\n",
       "#T_21424_row7_col2 {\n",
       "  background-color: #1077b4;\n",
       "  color: #f1f1f1;\n",
       "}\n",
       "#T_21424_row7_col3 {\n",
       "  background-color: #034d79;\n",
       "  color: #f1f1f1;\n",
       "}\n",
       "#T_21424_row7_col5 {\n",
       "  background-color: #045788;\n",
       "  color: #f1f1f1;\n",
       "}\n",
       "#T_21424_row8_col0 {\n",
       "  background-color: #04639b;\n",
       "  color: #f1f1f1;\n",
       "}\n",
       "#T_21424_row8_col1 {\n",
       "  background-color: #0d75b3;\n",
       "  color: #f1f1f1;\n",
       "}\n",
       "#T_21424_row8_col2 {\n",
       "  background-color: #2685bb;\n",
       "  color: #f1f1f1;\n",
       "}\n",
       "#T_21424_row8_col3 {\n",
       "  background-color: #045e93;\n",
       "  color: #f1f1f1;\n",
       "}\n",
       "#T_21424_row8_col5 {\n",
       "  background-color: #0a73b2;\n",
       "  color: #f1f1f1;\n",
       "}\n",
       "#T_21424_row9_col3 {\n",
       "  background-color: #04598c;\n",
       "  color: #f1f1f1;\n",
       "}\n",
       "#T_21424_row9_col4 {\n",
       "  background-color: #056caa;\n",
       "  color: #f1f1f1;\n",
       "}\n",
       "#T_21424_row9_col5, #T_21424_row10_col1 {\n",
       "  background-color: #0771b1;\n",
       "  color: #f1f1f1;\n",
       "}\n",
       "#T_21424_row10_col0 {\n",
       "  background-color: #2081b9;\n",
       "  color: #f1f1f1;\n",
       "}\n",
       "#T_21424_row10_col2 {\n",
       "  background-color: #2c89bd;\n",
       "  color: #f1f1f1;\n",
       "}\n",
       "#T_21424_row10_col3 {\n",
       "  background-color: #045a8d;\n",
       "  color: #f1f1f1;\n",
       "}\n",
       "#T_21424_row10_col4 {\n",
       "  background-color: #5c9fc9;\n",
       "  color: #f1f1f1;\n",
       "}\n",
       "#T_21424_row10_col5 {\n",
       "  background-color: #c0c9e2;\n",
       "  color: #000000;\n",
       "}\n",
       "#T_21424_row11_col0 {\n",
       "  background-color: #4a98c5;\n",
       "  color: #f1f1f1;\n",
       "}\n",
       "#T_21424_row11_col1 {\n",
       "  background-color: #acc0dd;\n",
       "  color: #000000;\n",
       "}\n",
       "#T_21424_row11_col2 {\n",
       "  background-color: #c1cae2;\n",
       "  color: #000000;\n",
       "}\n",
       "#T_21424_row11_col3 {\n",
       "  background-color: #a1bbda;\n",
       "  color: #000000;\n",
       "}\n",
       "#T_21424_row11_col4 {\n",
       "  background-color: #a2bcda;\n",
       "  color: #000000;\n",
       "}\n",
       "#T_21424_row12_col0 {\n",
       "  background-color: #fbf3f9;\n",
       "  color: #000000;\n",
       "}\n",
       "#T_21424_row12_col1 {\n",
       "  background-color: #ebe6f2;\n",
       "  color: #000000;\n",
       "}\n",
       "#T_21424_row14_col3 {\n",
       "  background-color: #f6eff7;\n",
       "  color: #000000;\n",
       "}\n",
       "</style>\n",
       "<table id=\"T_21424_\">\n",
       "  <thead>\n",
       "    <tr>\n",
       "      <th class=\"blank level0\" >&nbsp;</th>\n",
       "      <th class=\"col_heading level0 col0\" >월</th>\n",
       "      <th class=\"col_heading level0 col1\" >화</th>\n",
       "      <th class=\"col_heading level0 col2\" >수</th>\n",
       "      <th class=\"col_heading level0 col3\" >목</th>\n",
       "      <th class=\"col_heading level0 col4\" >금</th>\n",
       "      <th class=\"col_heading level0 col5\" >일</th>\n",
       "    </tr>\n",
       "    <tr>\n",
       "      <th class=\"index_name level0\" >InvoiceHour</th>\n",
       "      <th class=\"blank col0\" >&nbsp;</th>\n",
       "      <th class=\"blank col1\" >&nbsp;</th>\n",
       "      <th class=\"blank col2\" >&nbsp;</th>\n",
       "      <th class=\"blank col3\" >&nbsp;</th>\n",
       "      <th class=\"blank col4\" >&nbsp;</th>\n",
       "      <th class=\"blank col5\" >&nbsp;</th>\n",
       "    </tr>\n",
       "  </thead>\n",
       "  <tbody>\n",
       "    <tr>\n",
       "      <th id=\"T_21424_level0_row0\" class=\"row_heading level0 row0\" >6</th>\n",
       "      <td id=\"T_21424_row0_col0\" class=\"data row0 col0\" >0</td>\n",
       "      <td id=\"T_21424_row0_col1\" class=\"data row0 col1\" >0</td>\n",
       "      <td id=\"T_21424_row0_col2\" class=\"data row0 col2\" >0</td>\n",
       "      <td id=\"T_21424_row0_col3\" class=\"data row0 col3\" >41</td>\n",
       "      <td id=\"T_21424_row0_col4\" class=\"data row0 col4\" >0</td>\n",
       "      <td id=\"T_21424_row0_col5\" class=\"data row0 col5\" >0</td>\n",
       "    </tr>\n",
       "    <tr>\n",
       "      <th id=\"T_21424_level0_row1\" class=\"row_heading level0 row1\" >7</th>\n",
       "      <td id=\"T_21424_row1_col0\" class=\"data row1 col0\" >61</td>\n",
       "      <td id=\"T_21424_row1_col1\" class=\"data row1 col1\" >65</td>\n",
       "      <td id=\"T_21424_row1_col2\" class=\"data row1 col2\" >59</td>\n",
       "      <td id=\"T_21424_row1_col3\" class=\"data row1 col3\" >64</td>\n",
       "      <td id=\"T_21424_row1_col4\" class=\"data row1 col4\" >134</td>\n",
       "      <td id=\"T_21424_row1_col5\" class=\"data row1 col5\" >0</td>\n",
       "    </tr>\n",
       "    <tr>\n",
       "      <th id=\"T_21424_level0_row2\" class=\"row_heading level0 row2\" >8</th>\n",
       "      <td id=\"T_21424_row2_col0\" class=\"data row2 col0\" >1641</td>\n",
       "      <td id=\"T_21424_row2_col1\" class=\"data row2 col1\" >1751</td>\n",
       "      <td id=\"T_21424_row2_col2\" class=\"data row2 col2\" >1826</td>\n",
       "      <td id=\"T_21424_row2_col3\" class=\"data row2 col3\" >1834</td>\n",
       "      <td id=\"T_21424_row2_col4\" class=\"data row2 col4\" >1857</td>\n",
       "      <td id=\"T_21424_row2_col5\" class=\"data row2 col5\" >0</td>\n",
       "    </tr>\n",
       "    <tr>\n",
       "      <th id=\"T_21424_level0_row3\" class=\"row_heading level0 row3\" >9</th>\n",
       "      <td id=\"T_21424_row3_col0\" class=\"data row3 col0\" >7497</td>\n",
       "      <td id=\"T_21424_row3_col1\" class=\"data row3 col1\" >6440</td>\n",
       "      <td id=\"T_21424_row3_col2\" class=\"data row3 col2\" >5186</td>\n",
       "      <td id=\"T_21424_row3_col3\" class=\"data row3 col3\" >8060</td>\n",
       "      <td id=\"T_21424_row3_col4\" class=\"data row3 col4\" >7119</td>\n",
       "      <td id=\"T_21424_row3_col5\" class=\"data row3 col5\" >30</td>\n",
       "    </tr>\n",
       "    <tr>\n",
       "      <th id=\"T_21424_level0_row4\" class=\"row_heading level0 row4\" >10</th>\n",
       "      <td id=\"T_21424_row4_col0\" class=\"data row4 col0\" >8872</td>\n",
       "      <td id=\"T_21424_row4_col1\" class=\"data row4 col1\" >9125</td>\n",
       "      <td id=\"T_21424_row4_col2\" class=\"data row4 col2\" >7904</td>\n",
       "      <td id=\"T_21424_row4_col3\" class=\"data row4 col3\" >9321</td>\n",
       "      <td id=\"T_21424_row4_col4\" class=\"data row4 col4\" >10215</td>\n",
       "      <td id=\"T_21424_row4_col5\" class=\"data row4 col5\" >3600</td>\n",
       "    </tr>\n",
       "    <tr>\n",
       "      <th id=\"T_21424_level0_row5\" class=\"row_heading level0 row5\" >11</th>\n",
       "      <td id=\"T_21424_row5_col0\" class=\"data row5 col0\" >8926</td>\n",
       "      <td id=\"T_21424_row5_col1\" class=\"data row5 col1\" >10052</td>\n",
       "      <td id=\"T_21424_row5_col2\" class=\"data row5 col2\" >9973</td>\n",
       "      <td id=\"T_21424_row5_col3\" class=\"data row5 col3\" >8369</td>\n",
       "      <td id=\"T_21424_row5_col4\" class=\"data row5 col4\" >9589</td>\n",
       "      <td id=\"T_21424_row5_col5\" class=\"data row5 col5\" >10765</td>\n",
       "    </tr>\n",
       "    <tr>\n",
       "      <th id=\"T_21424_level0_row6\" class=\"row_heading level0 row6\" >12</th>\n",
       "      <td id=\"T_21424_row6_col0\" class=\"data row6 col0\" >11801</td>\n",
       "      <td id=\"T_21424_row6_col1\" class=\"data row6 col1\" >14327</td>\n",
       "      <td id=\"T_21424_row6_col2\" class=\"data row6 col2\" >14527</td>\n",
       "      <td id=\"T_21424_row6_col3\" class=\"data row6 col3\" >13485</td>\n",
       "      <td id=\"T_21424_row6_col4\" class=\"data row6 col4\" >10942</td>\n",
       "      <td id=\"T_21424_row6_col5\" class=\"data row6 col5\" >13627</td>\n",
       "    </tr>\n",
       "    <tr>\n",
       "      <th id=\"T_21424_level0_row7\" class=\"row_heading level0 row7\" >13</th>\n",
       "      <td id=\"T_21424_row7_col0\" class=\"data row7 col0\" >12756</td>\n",
       "      <td id=\"T_21424_row7_col1\" class=\"data row7 col1\" >12619</td>\n",
       "      <td id=\"T_21424_row7_col2\" class=\"data row7 col2\" >11901</td>\n",
       "      <td id=\"T_21424_row7_col3\" class=\"data row7 col3\" >12428</td>\n",
       "      <td id=\"T_21424_row7_col4\" class=\"data row7 col4\" >10488</td>\n",
       "      <td id=\"T_21424_row7_col5\" class=\"data row7 col5\" >12067</td>\n",
       "    </tr>\n",
       "    <tr>\n",
       "      <th id=\"T_21424_level0_row8\" class=\"row_heading level0 row8\" >14</th>\n",
       "      <td id=\"T_21424_row8_col0\" class=\"data row8 col0\" >11502</td>\n",
       "      <td id=\"T_21424_row8_col1\" class=\"data row8 col1\" >11656</td>\n",
       "      <td id=\"T_21424_row8_col2\" class=\"data row8 col2\" >11006</td>\n",
       "      <td id=\"T_21424_row8_col3\" class=\"data row8 col3\" >11518</td>\n",
       "      <td id=\"T_21424_row8_col4\" class=\"data row8 col4\" >11737</td>\n",
       "      <td id=\"T_21424_row8_col5\" class=\"data row8 col5\" >10052</td>\n",
       "    </tr>\n",
       "    <tr>\n",
       "      <th id=\"T_21424_level0_row9\" class=\"row_heading level0 row9\" >15</th>\n",
       "      <td id=\"T_21424_row9_col0\" class=\"data row9 col0\" >13977</td>\n",
       "      <td id=\"T_21424_row9_col1\" class=\"data row9 col1\" >16017</td>\n",
       "      <td id=\"T_21424_row9_col2\" class=\"data row9 col2\" >16510</td>\n",
       "      <td id=\"T_21424_row9_col3\" class=\"data row9 col3\" >11830</td>\n",
       "      <td id=\"T_21424_row9_col4\" class=\"data row9 col4\" >9043</td>\n",
       "      <td id=\"T_21424_row9_col5\" class=\"data row9 col5\" >10142</td>\n",
       "    </tr>\n",
       "    <tr>\n",
       "      <th id=\"T_21424_level0_row10\" class=\"row_heading level0 row10\" >16</th>\n",
       "      <td id=\"T_21424_row10_col0\" class=\"data row10 col0\" >9529</td>\n",
       "      <td id=\"T_21424_row10_col1\" class=\"data row10 col1\" >11924</td>\n",
       "      <td id=\"T_21424_row10_col2\" class=\"data row10 col2\" >10768</td>\n",
       "      <td id=\"T_21424_row10_col3\" class=\"data row10 col3\" >11765</td>\n",
       "      <td id=\"T_21424_row10_col4\" class=\"data row10 col4\" >6438</td>\n",
       "      <td id=\"T_21424_row10_col5\" class=\"data row10 col5\" >4092</td>\n",
       "    </tr>\n",
       "    <tr>\n",
       "      <th id=\"T_21424_level0_row11\" class=\"row_heading level0 row11\" >17</th>\n",
       "      <td id=\"T_21424_row11_col0\" class=\"data row11 col0\" >8136</td>\n",
       "      <td id=\"T_21424_row11_col1\" class=\"data row11 col1\" >5746</td>\n",
       "      <td id=\"T_21424_row11_col2\" class=\"data row11 col2\" >4849</td>\n",
       "      <td id=\"T_21424_row11_col3\" class=\"data row11 col3\" >5257</td>\n",
       "      <td id=\"T_21424_row11_col4\" class=\"data row11 col4\" >4521</td>\n",
       "      <td id=\"T_21424_row11_col5\" class=\"data row11 col5\" >0</td>\n",
       "    </tr>\n",
       "    <tr>\n",
       "      <th id=\"T_21424_level0_row12\" class=\"row_heading level0 row12\" >18</th>\n",
       "      <td id=\"T_21424_row12_col0\" class=\"data row12 col0\" >413</td>\n",
       "      <td id=\"T_21424_row12_col1\" class=\"data row12 col1\" >2086</td>\n",
       "      <td id=\"T_21424_row12_col2\" class=\"data row12 col2\" >23</td>\n",
       "      <td id=\"T_21424_row12_col3\" class=\"data row12 col3\" >5439</td>\n",
       "      <td id=\"T_21424_row12_col4\" class=\"data row12 col4\" >13</td>\n",
       "      <td id=\"T_21424_row12_col5\" class=\"data row12 col5\" >0</td>\n",
       "    </tr>\n",
       "    <tr>\n",
       "      <th id=\"T_21424_level0_row13\" class=\"row_heading level0 row13\" >19</th>\n",
       "      <td id=\"T_21424_row13_col0\" class=\"data row13 col0\" >0</td>\n",
       "      <td id=\"T_21424_row13_col1\" class=\"data row13 col1\" >0</td>\n",
       "      <td id=\"T_21424_row13_col2\" class=\"data row13 col2\" >15</td>\n",
       "      <td id=\"T_21424_row13_col3\" class=\"data row13 col3\" >3601</td>\n",
       "      <td id=\"T_21424_row13_col4\" class=\"data row13 col4\" >89</td>\n",
       "      <td id=\"T_21424_row13_col5\" class=\"data row13 col5\" >0</td>\n",
       "    </tr>\n",
       "    <tr>\n",
       "      <th id=\"T_21424_level0_row14\" class=\"row_heading level0 row14\" >20</th>\n",
       "      <td id=\"T_21424_row14_col0\" class=\"data row14 col0\" >0</td>\n",
       "      <td id=\"T_21424_row14_col1\" class=\"data row14 col1\" >0</td>\n",
       "      <td id=\"T_21424_row14_col2\" class=\"data row14 col2\" >18</td>\n",
       "      <td id=\"T_21424_row14_col3\" class=\"data row14 col3\" >845</td>\n",
       "      <td id=\"T_21424_row14_col4\" class=\"data row14 col4\" >8</td>\n",
       "      <td id=\"T_21424_row14_col5\" class=\"data row14 col5\" >0</td>\n",
       "    </tr>\n",
       "  </tbody>\n",
       "</table>\n"
      ],
      "text/plain": [
       "<pandas.io.formats.style.Styler at 0x1bc5262f250>"
      ]
     },
     "execution_count": 44,
     "metadata": {},
     "output_type": "execute_result"
    }
   ],
   "source": [
    "# 리스트컴프리헨션(List comprehension)을 통해 토요일을 제외한 \n",
    "# \"월화수목금일\"요일 문자열을 리스트를 컬럼명으로 대체합니다.\n",
    "# 위에서 구한 값을 .style.background_gradient() 통해서 시각화합니다.\n",
    "# order_hour_dow\n",
    "order_hour_dow.columns = list(\"월화수목금일\")\n",
    "#order_hour_dow\n",
    "order_hour_dow.style.background_gradient()"
   ]
  },
  {
   "cell_type": "code",
   "execution_count": 45,
   "metadata": {
    "colab": {
     "base_uri": "https://localhost:8080/",
     "height": 298
    },
    "executionInfo": {
     "elapsed": 13,
     "status": "ok",
     "timestamp": 1634789350818,
     "user": {
      "displayName": "JINY ROH",
      "photoUrl": "https://lh3.googleusercontent.com/a-/AOh14Gi7VIzxUnr7MUJE9Bupl4bkwgEAsz4e1gsgrYIPZw=s64",
      "userId": "06348894780083418282"
     },
     "user_tz": -540
    },
    "id": "YU1ofas-VUqP",
    "outputId": "83656899-4ae7-442e-a92d-03a99b4dc67e"
   },
   "outputs": [
    {
     "data": {
      "text/plain": [
       "<AxesSubplot:xlabel='InvoiceHour'>"
      ]
     },
     "execution_count": 45,
     "metadata": {},
     "output_type": "execute_result"
    },
    {
     "data": {
      "image/png": "[encoded data removed]",
      "text/plain": [
       "<Figure size 864x216 with 1 Axes>"
      ]
     },
     "metadata": {
      "needs_background": "light"
     },
     "output_type": "display_data"
    }
   ],
   "source": [
    "# 시간별_요열별 구매 주문( order_hour_dow )을 시각화합니다.\n",
    "order_hour_dow.plot(figsize=(12,3))"
   ]
  },
  {
   "cell_type": "code",
   "execution_count": 46,
   "metadata": {
    "colab": {
     "base_uri": "https://localhost:8080/",
     "height": 458
    },
    "executionInfo": {
     "elapsed": 1934,
     "status": "ok",
     "timestamp": 1634789352743,
     "user": {
      "displayName": "JINY ROH",
      "photoUrl": "https://lh3.googleusercontent.com/a-/AOh14Gi7VIzxUnr7MUJE9Bupl4bkwgEAsz4e1gsgrYIPZw=s64",
      "userId": "06348894780083418282"
     },
     "user_tz": -540
    },
    "id": "0Yfzh3qdVUqQ",
    "outputId": "0ae91fa5-f2b5-4d67-97b4-fcc6e5b83c0d"
   },
   "outputs": [
    {
     "data": {
      "text/plain": [
       "array([<AxesSubplot:xlabel='InvoiceHour'>,\n",
       "       <AxesSubplot:xlabel='InvoiceHour'>,\n",
       "       <AxesSubplot:xlabel='InvoiceHour'>,\n",
       "       <AxesSubplot:xlabel='InvoiceHour'>,\n",
       "       <AxesSubplot:xlabel='InvoiceHour'>,\n",
       "       <AxesSubplot:xlabel='InvoiceHour'>], dtype=object)"
      ]
     },
     "execution_count": 46,
     "metadata": {},
     "output_type": "execute_result"
    },
    {
     "data": {
      "image/png": "[encoded data removed]",
      "text/plain": [
       "<Figure size 864x576 with 6 Axes>"
      ]
     },
     "metadata": {
      "needs_background": "light"
     },
     "output_type": "display_data"
    }
   ],
   "source": [
    "# 시간별_요열별 구매 주문( order_hour_dow )을 subplot을 통해 요일별 시각화합니다.\n",
    "order_hour_dow.plot.area(figsize=(12,8), subplots=True)"
   ]
  },
  {
   "cell_type": "code",
   "execution_count": 47,
   "metadata": {
    "colab": {
     "base_uri": "https://localhost:8080/",
     "height": 502
    },
    "executionInfo": {
     "elapsed": 732,
     "status": "ok",
     "timestamp": 1634789353469,
     "user": {
      "displayName": "JINY ROH",
      "photoUrl": "https://lh3.googleusercontent.com/a-/AOh14Gi7VIzxUnr7MUJE9Bupl4bkwgEAsz4e1gsgrYIPZw=s64",
      "userId": "06348894780083418282"
     },
     "user_tz": -540
    },
    "id": "qZdWYtTBVUqQ",
    "outputId": "b11dbe8e-6471-40c0-ffb2-98e096160c3b"
   },
   "outputs": [
    {
     "data": {
      "text/plain": [
       "<AxesSubplot:ylabel='InvoiceHour'>"
      ]
     },
     "execution_count": 47,
     "metadata": {},
     "output_type": "execute_result"
    },
    {
     "data": {
      "image/png": "[encoded data removed]",
      "text/plain": [
       "<Figure size 864x576 with 2 Axes>"
      ]
     },
     "metadata": {
      "needs_background": "light"
     },
     "output_type": "display_data"
    }
   ],
   "source": [
    "# 시간별_요열별 구매 주문( order_hour_dow )을 heatmap을 통해 구매 빈도수를 시각화합니다.\n",
    "plt.figure(figsize=(12, 8))\n",
    "sns.heatmap(order_hour_dow, cmap='Blues', annot=True)"
   ]
  },
  {
   "cell_type": "markdown",
   "metadata": {
    "id": "CnzPBth_VUqR"
   },
   "source": [
    "### 시간대 빈도수"
   ]
  },
  {
   "cell_type": "code",
   "execution_count": 48,
   "metadata": {
    "colab": {
     "base_uri": "https://localhost:8080/",
     "height": 298
    },
    "executionInfo": {
     "elapsed": 678,
     "status": "ok",
     "timestamp": 1634789354142,
     "user": {
      "displayName": "JINY ROH",
      "photoUrl": "https://lh3.googleusercontent.com/a-/AOh14Gi7VIzxUnr7MUJE9Bupl4bkwgEAsz4e1gsgrYIPZw=s64",
      "userId": "06348894780083418282"
     },
     "user_tz": -540
    },
    "id": "yXpnGPBEVUqR",
    "outputId": "8cf7ae41-0dcf-4f32-9b9e-83f1103244dd"
   },
   "outputs": [
    {
     "data": {
      "text/plain": [
       "<AxesSubplot:xlabel='InvoiceHour', ylabel='count'>"
      ]
     },
     "execution_count": 48,
     "metadata": {},
     "output_type": "execute_result"
    },
    {
     "data": {
      "image/png": "[encoded data removed]",
      "text/plain": [
       "<Figure size 864x288 with 1 Axes>"
      ]
     },
     "metadata": {
      "needs_background": "light"
     },
     "output_type": "display_data"
    }
   ],
   "source": [
    "# countplot으로 시간대( InvoiceHour ) 구매 빈도수를 시각화합니다.\n",
    "plt.figure(figsize=(12, 4))\n",
    "sns.countplot(data=df, x=df['InvoiceHour'])"
   ]
  },
  {
   "cell_type": "code",
   "execution_count": 49,
   "metadata": {
    "colab": {
     "base_uri": "https://localhost:8080/"
    },
    "executionInfo": {
     "elapsed": 22,
     "status": "ok",
     "timestamp": 1634789354143,
     "user": {
      "displayName": "JINY ROH",
      "photoUrl": "https://lh3.googleusercontent.com/a-/AOh14Gi7VIzxUnr7MUJE9Bupl4bkwgEAsz4e1gsgrYIPZw=s64",
      "userId": "06348894780083418282"
     },
     "user_tz": -540
    },
    "id": "Xx4MiRiIVUqR",
    "outputId": "63e2d30c-9d6c-4e00-f2e1-05051504985f"
   },
   "outputs": [
    {
     "data": {
      "text/plain": [
       "<AxesSubplot:>"
      ]
     },
     "execution_count": 49,
     "metadata": {},
     "output_type": "execute_result"
    },
    {
     "data": {
      "image/png": "[encoded data removed]",
      "text/plain": [
       "<Figure size 432x288 with 1 Axes>"
      ]
     },
     "metadata": {
      "needs_background": "light"
     },
     "output_type": "display_data"
    }
   ],
   "source": [
    "# value_counts으로 시간대( InvoiceHour ) 구매 빈도수를 구합니다.\n",
    "hour_count = df['InvoiceHour'].value_counts().sort_index()\n",
    "hour_count.plot.bar(rot=0)"
   ]
  },
  {
   "cell_type": "code",
   "execution_count": 50,
   "metadata": {
    "colab": {
     "base_uri": "https://localhost:8080/",
     "height": 284
    },
    "executionInfo": {
     "elapsed": 16,
     "status": "ok",
     "timestamp": 1634789354143,
     "user": {
      "displayName": "JINY ROH",
      "photoUrl": "https://lh3.googleusercontent.com/a-/AOh14Gi7VIzxUnr7MUJE9Bupl4bkwgEAsz4e1gsgrYIPZw=s64",
      "userId": "06348894780083418282"
     },
     "user_tz": -540
    },
    "id": "wFghJwAdVUqS",
    "outputId": "367c401c-9608-43c0-d539-30e58c549640"
   },
   "outputs": [
    {
     "data": {
      "text/plain": [
       "<AxesSubplot:ylabel='InvoiceHour'>"
      ]
     },
     "execution_count": 50,
     "metadata": {},
     "output_type": "execute_result"
    },
    {
     "data": {
      "image/png": "[encoded data removed]",
      "text/plain": [
       "<Figure size 864x288 with 1 Axes>"
      ]
     },
     "metadata": {
      "needs_background": "light"
     },
     "output_type": "display_data"
    }
   ],
   "source": [
    "# pointplot 으로 시간대( InvoiceHour ) 구매 빈도수를 시각화합니다.\n",
    "plt.figure(figsize=(12, 4))\n",
    "sns.pointplot(x=hour_count.index, y=hour_count)"
   ]
  },
  {
   "cell_type": "markdown",
   "metadata": {
    "id": "YdPRyVg9VUqS"
   },
   "source": [
    "## 고객ID가 없는 주문과 취소 주문은 전체 데이터에서 제외"
   ]
  },
  {
   "cell_type": "markdown",
   "metadata": {
    "id": "x2fmqp02VUqS"
   },
   "source": [
    "* 취소와 취소에 대한 본 주문건 제거\n",
    "* 고객ID가 없는 건도 제거"
   ]
  },
  {
   "cell_type": "code",
   "execution_count": 51,
   "metadata": {
    "id": "tMHIdQ3nVUqT"
   },
   "outputs": [],
   "source": [
    "# 취소 건과 취소에 대한 본 주문건 제거를 위해 중복데이터 확인하기 위해 전처리를 합니다.\n",
    "# InvoiceNo 를 표기형태를 통일한 파생변수( InvoiceNoRemoveC )를 생성합니다.\n",
    "# df[\"InvoiceNoRemoveC\"]\n",
    "df[df['InvoiceNo'].str.contains(\"C\")]\n",
    "df[\"InvoiceNoRemoveC\"] = df['InvoiceNo'].str.replace(\"C\", \"\")"
   ]
  },
  {
   "cell_type": "code",
   "execution_count": 52,
   "metadata": {
    "id": "7FuMRy48VUqb"
   },
   "outputs": [
    {
     "data": {
      "text/html": [
       "<div>\n",
       "<style scoped>\n",
       "    .dataframe tbody tr th:only-of-type {\n",
       "        vertical-align: middle;\n",
       "    }\n",
       "\n",
       "    .dataframe tbody tr th {\n",
       "        vertical-align: top;\n",
       "    }\n",
       "\n",
       "    .dataframe thead th {\n",
       "        text-align: right;\n",
       "    }\n",
       "</style>\n",
       "<table border=\"1\" class=\"dataframe\">\n",
       "  <thead>\n",
       "    <tr style=\"text-align: right;\">\n",
       "      <th></th>\n",
       "      <th>InvoiceNo</th>\n",
       "      <th>StockCode</th>\n",
       "      <th>Description</th>\n",
       "      <th>Quantity</th>\n",
       "      <th>InvoiceDate</th>\n",
       "      <th>UnitPrice</th>\n",
       "      <th>CustomerID</th>\n",
       "      <th>Country</th>\n",
       "      <th>TotalPrice</th>\n",
       "      <th>id_null</th>\n",
       "      <th>Cancel</th>\n",
       "      <th>InvoiceYear</th>\n",
       "      <th>InvoiceMonth</th>\n",
       "      <th>InvoiceDay</th>\n",
       "      <th>InvoiceDow</th>\n",
       "      <th>InvoiceDayname</th>\n",
       "      <th>InvoiceYM</th>\n",
       "      <th>InvoiceTime</th>\n",
       "      <th>InvoiceHour</th>\n",
       "      <th>InvoiceNoRemoveC</th>\n",
       "    </tr>\n",
       "  </thead>\n",
       "  <tbody>\n",
       "  </tbody>\n",
       "</table>\n",
       "</div>"
      ],
      "text/plain": [
       "Empty DataFrame\n",
       "Columns: [InvoiceNo, StockCode, Description, Quantity, InvoiceDate, UnitPrice, CustomerID, Country, TotalPrice, id_null, Cancel, InvoiceYear, InvoiceMonth, InvoiceDay, InvoiceDow, InvoiceDayname, InvoiceYM, InvoiceTime, InvoiceHour, InvoiceNoRemoveC]\n",
       "Index: []"
      ]
     },
     "execution_count": 52,
     "metadata": {},
     "output_type": "execute_result"
    }
   ],
   "source": [
    "# InvoiceNo 를 표기형태를 통일한 파생변수( InvoiceNoRemoveC )를 생성합니다.\n",
    "# df[\"InvoiceNoRemoveC\"]\n",
    "df[df[\"InvoiceNoRemoveC\"].isnull()]"
   ]
  },
  {
   "cell_type": "code",
   "execution_count": 53,
   "metadata": {
    "colab": {
     "base_uri": "https://localhost:8080/",
     "height": 842
    },
    "executionInfo": {
     "elapsed": 7,
     "status": "ok",
     "timestamp": 1634789354576,
     "user": {
      "displayName": "JINY ROH",
      "photoUrl": "https://lh3.googleusercontent.com/a-/AOh14Gi7VIzxUnr7MUJE9Bupl4bkwgEAsz4e1gsgrYIPZw=s64",
      "userId": "06348894780083418282"
     },
     "user_tz": -540
    },
    "id": "00mWzeAQVUqb",
    "outputId": "b0bae503-1d1e-4e87-e147-430461de78b2"
   },
   "outputs": [
    {
     "data": {
      "text/html": [
       "<div>\n",
       "<style scoped>\n",
       "    .dataframe tbody tr th:only-of-type {\n",
       "        vertical-align: middle;\n",
       "    }\n",
       "\n",
       "    .dataframe tbody tr th {\n",
       "        vertical-align: top;\n",
       "    }\n",
       "\n",
       "    .dataframe thead th {\n",
       "        text-align: right;\n",
       "    }\n",
       "</style>\n",
       "<table border=\"1\" class=\"dataframe\">\n",
       "  <thead>\n",
       "    <tr style=\"text-align: right;\">\n",
       "      <th></th>\n",
       "      <th>InvoiceNo</th>\n",
       "      <th>StockCode</th>\n",
       "      <th>Description</th>\n",
       "      <th>Quantity</th>\n",
       "      <th>InvoiceDate</th>\n",
       "      <th>UnitPrice</th>\n",
       "      <th>CustomerID</th>\n",
       "      <th>Country</th>\n",
       "      <th>TotalPrice</th>\n",
       "      <th>id_null</th>\n",
       "      <th>Cancel</th>\n",
       "      <th>InvoiceYear</th>\n",
       "      <th>InvoiceMonth</th>\n",
       "      <th>InvoiceDay</th>\n",
       "      <th>InvoiceDow</th>\n",
       "      <th>InvoiceDayname</th>\n",
       "      <th>InvoiceYM</th>\n",
       "      <th>InvoiceTime</th>\n",
       "      <th>InvoiceHour</th>\n",
       "      <th>InvoiceNoRemoveC</th>\n",
       "    </tr>\n",
       "  </thead>\n",
       "  <tbody>\n",
       "    <tr>\n",
       "      <th>125</th>\n",
       "      <td>536381</td>\n",
       "      <td>71270</td>\n",
       "      <td>PHOTO CLIP LINE</td>\n",
       "      <td>3</td>\n",
       "      <td>2010-12-01 09:41:00</td>\n",
       "      <td>1.25</td>\n",
       "      <td>15311.0</td>\n",
       "      <td>United Kingdom</td>\n",
       "      <td>3.75</td>\n",
       "      <td>False</td>\n",
       "      <td>False</td>\n",
       "      <td>2010</td>\n",
       "      <td>12</td>\n",
       "      <td>1</td>\n",
       "      <td>2</td>\n",
       "      <td>Wednesday</td>\n",
       "      <td>2010-12</td>\n",
       "      <td>09:41:00</td>\n",
       "      <td>9</td>\n",
       "      <td>536381</td>\n",
       "    </tr>\n",
       "    <tr>\n",
       "      <th>498</th>\n",
       "      <td>536409</td>\n",
       "      <td>90199C</td>\n",
       "      <td>5 STRAND GLASS NECKLACE CRYSTAL</td>\n",
       "      <td>1</td>\n",
       "      <td>2010-12-01 11:45:00</td>\n",
       "      <td>6.35</td>\n",
       "      <td>17908.0</td>\n",
       "      <td>United Kingdom</td>\n",
       "      <td>6.35</td>\n",
       "      <td>False</td>\n",
       "      <td>False</td>\n",
       "      <td>2010</td>\n",
       "      <td>12</td>\n",
       "      <td>1</td>\n",
       "      <td>2</td>\n",
       "      <td>Wednesday</td>\n",
       "      <td>2010-12</td>\n",
       "      <td>11:45:00</td>\n",
       "      <td>11</td>\n",
       "      <td>536409</td>\n",
       "    </tr>\n",
       "    <tr>\n",
       "      <th>502</th>\n",
       "      <td>536409</td>\n",
       "      <td>85116</td>\n",
       "      <td>BLACK CANDELABRA T-LIGHT HOLDER</td>\n",
       "      <td>5</td>\n",
       "      <td>2010-12-01 11:45:00</td>\n",
       "      <td>2.10</td>\n",
       "      <td>17908.0</td>\n",
       "      <td>United Kingdom</td>\n",
       "      <td>10.50</td>\n",
       "      <td>False</td>\n",
       "      <td>False</td>\n",
       "      <td>2010</td>\n",
       "      <td>12</td>\n",
       "      <td>1</td>\n",
       "      <td>2</td>\n",
       "      <td>Wednesday</td>\n",
       "      <td>2010-12</td>\n",
       "      <td>11:45:00</td>\n",
       "      <td>11</td>\n",
       "      <td>536409</td>\n",
       "    </tr>\n",
       "    <tr>\n",
       "      <th>517</th>\n",
       "      <td>536409</td>\n",
       "      <td>21866</td>\n",
       "      <td>UNION JACK FLAG LUGGAGE TAG</td>\n",
       "      <td>1</td>\n",
       "      <td>2010-12-01 11:45:00</td>\n",
       "      <td>1.25</td>\n",
       "      <td>17908.0</td>\n",
       "      <td>United Kingdom</td>\n",
       "      <td>1.25</td>\n",
       "      <td>False</td>\n",
       "      <td>False</td>\n",
       "      <td>2010</td>\n",
       "      <td>12</td>\n",
       "      <td>1</td>\n",
       "      <td>2</td>\n",
       "      <td>Wednesday</td>\n",
       "      <td>2010-12</td>\n",
       "      <td>11:45:00</td>\n",
       "      <td>11</td>\n",
       "      <td>536409</td>\n",
       "    </tr>\n",
       "    <tr>\n",
       "      <th>525</th>\n",
       "      <td>536409</td>\n",
       "      <td>90199C</td>\n",
       "      <td>5 STRAND GLASS NECKLACE CRYSTAL</td>\n",
       "      <td>2</td>\n",
       "      <td>2010-12-01 11:45:00</td>\n",
       "      <td>6.35</td>\n",
       "      <td>17908.0</td>\n",
       "      <td>United Kingdom</td>\n",
       "      <td>12.70</td>\n",
       "      <td>False</td>\n",
       "      <td>False</td>\n",
       "      <td>2010</td>\n",
       "      <td>12</td>\n",
       "      <td>1</td>\n",
       "      <td>2</td>\n",
       "      <td>Wednesday</td>\n",
       "      <td>2010-12</td>\n",
       "      <td>11:45:00</td>\n",
       "      <td>11</td>\n",
       "      <td>536409</td>\n",
       "    </tr>\n",
       "    <tr>\n",
       "      <th>...</th>\n",
       "      <td>...</td>\n",
       "      <td>...</td>\n",
       "      <td>...</td>\n",
       "      <td>...</td>\n",
       "      <td>...</td>\n",
       "      <td>...</td>\n",
       "      <td>...</td>\n",
       "      <td>...</td>\n",
       "      <td>...</td>\n",
       "      <td>...</td>\n",
       "      <td>...</td>\n",
       "      <td>...</td>\n",
       "      <td>...</td>\n",
       "      <td>...</td>\n",
       "      <td>...</td>\n",
       "      <td>...</td>\n",
       "      <td>...</td>\n",
       "      <td>...</td>\n",
       "      <td>...</td>\n",
       "      <td>...</td>\n",
       "    </tr>\n",
       "    <tr>\n",
       "      <th>541692</th>\n",
       "      <td>581538</td>\n",
       "      <td>22992</td>\n",
       "      <td>REVOLVER WOODEN RULER</td>\n",
       "      <td>1</td>\n",
       "      <td>2011-12-09 11:34:00</td>\n",
       "      <td>1.95</td>\n",
       "      <td>14446.0</td>\n",
       "      <td>United Kingdom</td>\n",
       "      <td>1.95</td>\n",
       "      <td>False</td>\n",
       "      <td>False</td>\n",
       "      <td>2011</td>\n",
       "      <td>12</td>\n",
       "      <td>9</td>\n",
       "      <td>4</td>\n",
       "      <td>Friday</td>\n",
       "      <td>2011-12</td>\n",
       "      <td>11:34:00</td>\n",
       "      <td>11</td>\n",
       "      <td>581538</td>\n",
       "    </tr>\n",
       "    <tr>\n",
       "      <th>541697</th>\n",
       "      <td>581538</td>\n",
       "      <td>21194</td>\n",
       "      <td>PINK  HONEYCOMB PAPER FAN</td>\n",
       "      <td>1</td>\n",
       "      <td>2011-12-09 11:34:00</td>\n",
       "      <td>0.65</td>\n",
       "      <td>14446.0</td>\n",
       "      <td>United Kingdom</td>\n",
       "      <td>0.65</td>\n",
       "      <td>False</td>\n",
       "      <td>False</td>\n",
       "      <td>2011</td>\n",
       "      <td>12</td>\n",
       "      <td>9</td>\n",
       "      <td>4</td>\n",
       "      <td>Friday</td>\n",
       "      <td>2011-12</td>\n",
       "      <td>11:34:00</td>\n",
       "      <td>11</td>\n",
       "      <td>581538</td>\n",
       "    </tr>\n",
       "    <tr>\n",
       "      <th>541698</th>\n",
       "      <td>581538</td>\n",
       "      <td>35004B</td>\n",
       "      <td>SET OF 3 BLACK FLYING DUCKS</td>\n",
       "      <td>1</td>\n",
       "      <td>2011-12-09 11:34:00</td>\n",
       "      <td>5.45</td>\n",
       "      <td>14446.0</td>\n",
       "      <td>United Kingdom</td>\n",
       "      <td>5.45</td>\n",
       "      <td>False</td>\n",
       "      <td>False</td>\n",
       "      <td>2011</td>\n",
       "      <td>12</td>\n",
       "      <td>9</td>\n",
       "      <td>4</td>\n",
       "      <td>Friday</td>\n",
       "      <td>2011-12</td>\n",
       "      <td>11:34:00</td>\n",
       "      <td>11</td>\n",
       "      <td>581538</td>\n",
       "    </tr>\n",
       "    <tr>\n",
       "      <th>541699</th>\n",
       "      <td>581538</td>\n",
       "      <td>22694</td>\n",
       "      <td>WICKER STAR</td>\n",
       "      <td>1</td>\n",
       "      <td>2011-12-09 11:34:00</td>\n",
       "      <td>2.10</td>\n",
       "      <td>14446.0</td>\n",
       "      <td>United Kingdom</td>\n",
       "      <td>2.10</td>\n",
       "      <td>False</td>\n",
       "      <td>False</td>\n",
       "      <td>2011</td>\n",
       "      <td>12</td>\n",
       "      <td>9</td>\n",
       "      <td>4</td>\n",
       "      <td>Friday</td>\n",
       "      <td>2011-12</td>\n",
       "      <td>11:34:00</td>\n",
       "      <td>11</td>\n",
       "      <td>581538</td>\n",
       "    </tr>\n",
       "    <tr>\n",
       "      <th>541701</th>\n",
       "      <td>581538</td>\n",
       "      <td>23343</td>\n",
       "      <td>JUMBO BAG VINTAGE CHRISTMAS</td>\n",
       "      <td>1</td>\n",
       "      <td>2011-12-09 11:34:00</td>\n",
       "      <td>2.08</td>\n",
       "      <td>14446.0</td>\n",
       "      <td>United Kingdom</td>\n",
       "      <td>2.08</td>\n",
       "      <td>False</td>\n",
       "      <td>False</td>\n",
       "      <td>2011</td>\n",
       "      <td>12</td>\n",
       "      <td>9</td>\n",
       "      <td>4</td>\n",
       "      <td>Friday</td>\n",
       "      <td>2011-12</td>\n",
       "      <td>11:34:00</td>\n",
       "      <td>11</td>\n",
       "      <td>581538</td>\n",
       "    </tr>\n",
       "  </tbody>\n",
       "</table>\n",
       "<p>10682 rows × 20 columns</p>\n",
       "</div>"
      ],
      "text/plain": [
       "       InvoiceNo StockCode                      Description  Quantity  \\\n",
       "125       536381     71270                  PHOTO CLIP LINE         3   \n",
       "498       536409    90199C  5 STRAND GLASS NECKLACE CRYSTAL         1   \n",
       "502       536409     85116  BLACK CANDELABRA T-LIGHT HOLDER         5   \n",
       "517       536409     21866      UNION JACK FLAG LUGGAGE TAG         1   \n",
       "525       536409    90199C  5 STRAND GLASS NECKLACE CRYSTAL         2   \n",
       "...          ...       ...                              ...       ...   \n",
       "541692    581538     22992           REVOLVER WOODEN RULER          1   \n",
       "541697    581538     21194        PINK  HONEYCOMB PAPER FAN         1   \n",
       "541698    581538    35004B      SET OF 3 BLACK FLYING DUCKS         1   \n",
       "541699    581538     22694                     WICKER STAR          1   \n",
       "541701    581538     23343     JUMBO BAG VINTAGE CHRISTMAS          1   \n",
       "\n",
       "               InvoiceDate  UnitPrice  CustomerID         Country  TotalPrice  \\\n",
       "125    2010-12-01 09:41:00       1.25     15311.0  United Kingdom        3.75   \n",
       "498    2010-12-01 11:45:00       6.35     17908.0  United Kingdom        6.35   \n",
       "502    2010-12-01 11:45:00       2.10     17908.0  United Kingdom       10.50   \n",
       "517    2010-12-01 11:45:00       1.25     17908.0  United Kingdom        1.25   \n",
       "525    2010-12-01 11:45:00       6.35     17908.0  United Kingdom       12.70   \n",
       "...                    ...        ...         ...             ...         ...   \n",
       "541692 2011-12-09 11:34:00       1.95     14446.0  United Kingdom        1.95   \n",
       "541697 2011-12-09 11:34:00       0.65     14446.0  United Kingdom        0.65   \n",
       "541698 2011-12-09 11:34:00       5.45     14446.0  United Kingdom        5.45   \n",
       "541699 2011-12-09 11:34:00       2.10     14446.0  United Kingdom        2.10   \n",
       "541701 2011-12-09 11:34:00       2.08     14446.0  United Kingdom        2.08   \n",
       "\n",
       "        id_null  Cancel  InvoiceYear  InvoiceMonth  InvoiceDay  InvoiceDow  \\\n",
       "125       False   False         2010            12           1           2   \n",
       "498       False   False         2010            12           1           2   \n",
       "502       False   False         2010            12           1           2   \n",
       "517       False   False         2010            12           1           2   \n",
       "525       False   False         2010            12           1           2   \n",
       "...         ...     ...          ...           ...         ...         ...   \n",
       "541692    False   False         2011            12           9           4   \n",
       "541697    False   False         2011            12           9           4   \n",
       "541698    False   False         2011            12           9           4   \n",
       "541699    False   False         2011            12           9           4   \n",
       "541701    False   False         2011            12           9           4   \n",
       "\n",
       "       InvoiceDayname InvoiceYM InvoiceTime  InvoiceHour InvoiceNoRemoveC  \n",
       "125         Wednesday   2010-12    09:41:00            9           536381  \n",
       "498         Wednesday   2010-12    11:45:00           11           536409  \n",
       "502         Wednesday   2010-12    11:45:00           11           536409  \n",
       "517         Wednesday   2010-12    11:45:00           11           536409  \n",
       "525         Wednesday   2010-12    11:45:00           11           536409  \n",
       "...               ...       ...         ...          ...              ...  \n",
       "541692         Friday   2011-12    11:34:00           11           581538  \n",
       "541697         Friday   2011-12    11:34:00           11           581538  \n",
       "541698         Friday   2011-12    11:34:00           11           581538  \n",
       "541699         Friday   2011-12    11:34:00           11           581538  \n",
       "541701         Friday   2011-12    11:34:00           11           581538  \n",
       "\n",
       "[10682 rows x 20 columns]"
      ]
     },
     "execution_count": 53,
     "metadata": {},
     "output_type": "execute_result"
    }
   ],
   "source": [
    "# \"InvoiceNoRemoveC\", \"StockCode\", \"Description\", \"CustomerID\" 가 중복인 데이터를 확인합니다.\n",
    "df[df.duplicated([\"InvoiceNoRemoveC\", \"StockCode\", \"Description\", \"CustomerID\"])]"
   ]
  },
  {
   "cell_type": "code",
   "execution_count": 54,
   "metadata": {
    "colab": {
     "base_uri": "https://localhost:8080/",
     "height": 911
    },
    "executionInfo": {
     "elapsed": 334,
     "status": "ok",
     "timestamp": 1634789354905,
     "user": {
      "displayName": "JINY ROH",
      "photoUrl": "https://lh3.googleusercontent.com/a-/AOh14Gi7VIzxUnr7MUJE9Bupl4bkwgEAsz4e1gsgrYIPZw=s64",
      "userId": "06348894780083418282"
     },
     "user_tz": -540
    },
    "id": "UkxMnfspVUqc",
    "outputId": "fdba401d-fae8-4b2f-aa31-84cbbf5f550d"
   },
   "outputs": [
    {
     "data": {
      "text/html": [
       "<div>\n",
       "<style scoped>\n",
       "    .dataframe tbody tr th:only-of-type {\n",
       "        vertical-align: middle;\n",
       "    }\n",
       "\n",
       "    .dataframe tbody tr th {\n",
       "        vertical-align: top;\n",
       "    }\n",
       "\n",
       "    .dataframe thead th {\n",
       "        text-align: right;\n",
       "    }\n",
       "</style>\n",
       "<table border=\"1\" class=\"dataframe\">\n",
       "  <thead>\n",
       "    <tr style=\"text-align: right;\">\n",
       "      <th></th>\n",
       "      <th>InvoiceNo</th>\n",
       "      <th>StockCode</th>\n",
       "      <th>Description</th>\n",
       "      <th>Quantity</th>\n",
       "      <th>InvoiceDate</th>\n",
       "      <th>UnitPrice</th>\n",
       "      <th>CustomerID</th>\n",
       "      <th>Country</th>\n",
       "      <th>TotalPrice</th>\n",
       "      <th>id_null</th>\n",
       "      <th>Cancel</th>\n",
       "      <th>InvoiceYear</th>\n",
       "      <th>InvoiceMonth</th>\n",
       "      <th>InvoiceDay</th>\n",
       "      <th>InvoiceDow</th>\n",
       "      <th>InvoiceDayname</th>\n",
       "      <th>InvoiceYM</th>\n",
       "      <th>InvoiceTime</th>\n",
       "      <th>InvoiceHour</th>\n",
       "      <th>InvoiceNoRemoveC</th>\n",
       "    </tr>\n",
       "  </thead>\n",
       "  <tbody>\n",
       "    <tr>\n",
       "      <th>0</th>\n",
       "      <td>536365</td>\n",
       "      <td>85123A</td>\n",
       "      <td>WHITE HANGING HEART T-LIGHT HOLDER</td>\n",
       "      <td>6</td>\n",
       "      <td>2010-12-01 08:26:00</td>\n",
       "      <td>2.55</td>\n",
       "      <td>17850.0</td>\n",
       "      <td>United Kingdom</td>\n",
       "      <td>15.30</td>\n",
       "      <td>False</td>\n",
       "      <td>False</td>\n",
       "      <td>2010</td>\n",
       "      <td>12</td>\n",
       "      <td>1</td>\n",
       "      <td>2</td>\n",
       "      <td>Wednesday</td>\n",
       "      <td>2010-12</td>\n",
       "      <td>08:26:00</td>\n",
       "      <td>8</td>\n",
       "      <td>536365</td>\n",
       "    </tr>\n",
       "    <tr>\n",
       "      <th>1</th>\n",
       "      <td>536365</td>\n",
       "      <td>71053</td>\n",
       "      <td>WHITE METAL LANTERN</td>\n",
       "      <td>6</td>\n",
       "      <td>2010-12-01 08:26:00</td>\n",
       "      <td>3.39</td>\n",
       "      <td>17850.0</td>\n",
       "      <td>United Kingdom</td>\n",
       "      <td>20.34</td>\n",
       "      <td>False</td>\n",
       "      <td>False</td>\n",
       "      <td>2010</td>\n",
       "      <td>12</td>\n",
       "      <td>1</td>\n",
       "      <td>2</td>\n",
       "      <td>Wednesday</td>\n",
       "      <td>2010-12</td>\n",
       "      <td>08:26:00</td>\n",
       "      <td>8</td>\n",
       "      <td>536365</td>\n",
       "    </tr>\n",
       "    <tr>\n",
       "      <th>2</th>\n",
       "      <td>536365</td>\n",
       "      <td>84406B</td>\n",
       "      <td>CREAM CUPID HEARTS COAT HANGER</td>\n",
       "      <td>8</td>\n",
       "      <td>2010-12-01 08:26:00</td>\n",
       "      <td>2.75</td>\n",
       "      <td>17850.0</td>\n",
       "      <td>United Kingdom</td>\n",
       "      <td>22.00</td>\n",
       "      <td>False</td>\n",
       "      <td>False</td>\n",
       "      <td>2010</td>\n",
       "      <td>12</td>\n",
       "      <td>1</td>\n",
       "      <td>2</td>\n",
       "      <td>Wednesday</td>\n",
       "      <td>2010-12</td>\n",
       "      <td>08:26:00</td>\n",
       "      <td>8</td>\n",
       "      <td>536365</td>\n",
       "    </tr>\n",
       "    <tr>\n",
       "      <th>3</th>\n",
       "      <td>536365</td>\n",
       "      <td>84029G</td>\n",
       "      <td>KNITTED UNION FLAG HOT WATER BOTTLE</td>\n",
       "      <td>6</td>\n",
       "      <td>2010-12-01 08:26:00</td>\n",
       "      <td>3.39</td>\n",
       "      <td>17850.0</td>\n",
       "      <td>United Kingdom</td>\n",
       "      <td>20.34</td>\n",
       "      <td>False</td>\n",
       "      <td>False</td>\n",
       "      <td>2010</td>\n",
       "      <td>12</td>\n",
       "      <td>1</td>\n",
       "      <td>2</td>\n",
       "      <td>Wednesday</td>\n",
       "      <td>2010-12</td>\n",
       "      <td>08:26:00</td>\n",
       "      <td>8</td>\n",
       "      <td>536365</td>\n",
       "    </tr>\n",
       "    <tr>\n",
       "      <th>4</th>\n",
       "      <td>536365</td>\n",
       "      <td>84029E</td>\n",
       "      <td>RED WOOLLY HOTTIE WHITE HEART.</td>\n",
       "      <td>6</td>\n",
       "      <td>2010-12-01 08:26:00</td>\n",
       "      <td>3.39</td>\n",
       "      <td>17850.0</td>\n",
       "      <td>United Kingdom</td>\n",
       "      <td>20.34</td>\n",
       "      <td>False</td>\n",
       "      <td>False</td>\n",
       "      <td>2010</td>\n",
       "      <td>12</td>\n",
       "      <td>1</td>\n",
       "      <td>2</td>\n",
       "      <td>Wednesday</td>\n",
       "      <td>2010-12</td>\n",
       "      <td>08:26:00</td>\n",
       "      <td>8</td>\n",
       "      <td>536365</td>\n",
       "    </tr>\n",
       "    <tr>\n",
       "      <th>...</th>\n",
       "      <td>...</td>\n",
       "      <td>...</td>\n",
       "      <td>...</td>\n",
       "      <td>...</td>\n",
       "      <td>...</td>\n",
       "      <td>...</td>\n",
       "      <td>...</td>\n",
       "      <td>...</td>\n",
       "      <td>...</td>\n",
       "      <td>...</td>\n",
       "      <td>...</td>\n",
       "      <td>...</td>\n",
       "      <td>...</td>\n",
       "      <td>...</td>\n",
       "      <td>...</td>\n",
       "      <td>...</td>\n",
       "      <td>...</td>\n",
       "      <td>...</td>\n",
       "      <td>...</td>\n",
       "      <td>...</td>\n",
       "    </tr>\n",
       "    <tr>\n",
       "      <th>541904</th>\n",
       "      <td>581587</td>\n",
       "      <td>22613</td>\n",
       "      <td>PACK OF 20 SPACEBOY NAPKINS</td>\n",
       "      <td>12</td>\n",
       "      <td>2011-12-09 12:50:00</td>\n",
       "      <td>0.85</td>\n",
       "      <td>12680.0</td>\n",
       "      <td>France</td>\n",
       "      <td>10.20</td>\n",
       "      <td>False</td>\n",
       "      <td>False</td>\n",
       "      <td>2011</td>\n",
       "      <td>12</td>\n",
       "      <td>9</td>\n",
       "      <td>4</td>\n",
       "      <td>Friday</td>\n",
       "      <td>2011-12</td>\n",
       "      <td>12:50:00</td>\n",
       "      <td>12</td>\n",
       "      <td>581587</td>\n",
       "    </tr>\n",
       "    <tr>\n",
       "      <th>541905</th>\n",
       "      <td>581587</td>\n",
       "      <td>22899</td>\n",
       "      <td>CHILDREN'S APRON DOLLY GIRL</td>\n",
       "      <td>6</td>\n",
       "      <td>2011-12-09 12:50:00</td>\n",
       "      <td>2.10</td>\n",
       "      <td>12680.0</td>\n",
       "      <td>France</td>\n",
       "      <td>12.60</td>\n",
       "      <td>False</td>\n",
       "      <td>False</td>\n",
       "      <td>2011</td>\n",
       "      <td>12</td>\n",
       "      <td>9</td>\n",
       "      <td>4</td>\n",
       "      <td>Friday</td>\n",
       "      <td>2011-12</td>\n",
       "      <td>12:50:00</td>\n",
       "      <td>12</td>\n",
       "      <td>581587</td>\n",
       "    </tr>\n",
       "    <tr>\n",
       "      <th>541906</th>\n",
       "      <td>581587</td>\n",
       "      <td>23254</td>\n",
       "      <td>CHILDRENS CUTLERY DOLLY GIRL</td>\n",
       "      <td>4</td>\n",
       "      <td>2011-12-09 12:50:00</td>\n",
       "      <td>4.15</td>\n",
       "      <td>12680.0</td>\n",
       "      <td>France</td>\n",
       "      <td>16.60</td>\n",
       "      <td>False</td>\n",
       "      <td>False</td>\n",
       "      <td>2011</td>\n",
       "      <td>12</td>\n",
       "      <td>9</td>\n",
       "      <td>4</td>\n",
       "      <td>Friday</td>\n",
       "      <td>2011-12</td>\n",
       "      <td>12:50:00</td>\n",
       "      <td>12</td>\n",
       "      <td>581587</td>\n",
       "    </tr>\n",
       "    <tr>\n",
       "      <th>541907</th>\n",
       "      <td>581587</td>\n",
       "      <td>23255</td>\n",
       "      <td>CHILDRENS CUTLERY CIRCUS PARADE</td>\n",
       "      <td>4</td>\n",
       "      <td>2011-12-09 12:50:00</td>\n",
       "      <td>4.15</td>\n",
       "      <td>12680.0</td>\n",
       "      <td>France</td>\n",
       "      <td>16.60</td>\n",
       "      <td>False</td>\n",
       "      <td>False</td>\n",
       "      <td>2011</td>\n",
       "      <td>12</td>\n",
       "      <td>9</td>\n",
       "      <td>4</td>\n",
       "      <td>Friday</td>\n",
       "      <td>2011-12</td>\n",
       "      <td>12:50:00</td>\n",
       "      <td>12</td>\n",
       "      <td>581587</td>\n",
       "    </tr>\n",
       "    <tr>\n",
       "      <th>541908</th>\n",
       "      <td>581587</td>\n",
       "      <td>22138</td>\n",
       "      <td>BAKING SET 9 PIECE RETROSPOT</td>\n",
       "      <td>3</td>\n",
       "      <td>2011-12-09 12:50:00</td>\n",
       "      <td>4.95</td>\n",
       "      <td>12680.0</td>\n",
       "      <td>France</td>\n",
       "      <td>14.85</td>\n",
       "      <td>False</td>\n",
       "      <td>False</td>\n",
       "      <td>2011</td>\n",
       "      <td>12</td>\n",
       "      <td>9</td>\n",
       "      <td>4</td>\n",
       "      <td>Friday</td>\n",
       "      <td>2011-12</td>\n",
       "      <td>12:50:00</td>\n",
       "      <td>12</td>\n",
       "      <td>581587</td>\n",
       "    </tr>\n",
       "  </tbody>\n",
       "</table>\n",
       "<p>397884 rows × 20 columns</p>\n",
       "</div>"
      ],
      "text/plain": [
       "       InvoiceNo StockCode                          Description  Quantity  \\\n",
       "0         536365    85123A   WHITE HANGING HEART T-LIGHT HOLDER         6   \n",
       "1         536365     71053                  WHITE METAL LANTERN         6   \n",
       "2         536365    84406B       CREAM CUPID HEARTS COAT HANGER         8   \n",
       "3         536365    84029G  KNITTED UNION FLAG HOT WATER BOTTLE         6   \n",
       "4         536365    84029E       RED WOOLLY HOTTIE WHITE HEART.         6   \n",
       "...          ...       ...                                  ...       ...   \n",
       "541904    581587     22613          PACK OF 20 SPACEBOY NAPKINS        12   \n",
       "541905    581587     22899         CHILDREN'S APRON DOLLY GIRL          6   \n",
       "541906    581587     23254        CHILDRENS CUTLERY DOLLY GIRL          4   \n",
       "541907    581587     23255      CHILDRENS CUTLERY CIRCUS PARADE         4   \n",
       "541908    581587     22138        BAKING SET 9 PIECE RETROSPOT          3   \n",
       "\n",
       "               InvoiceDate  UnitPrice  CustomerID         Country  TotalPrice  \\\n",
       "0      2010-12-01 08:26:00       2.55     17850.0  United Kingdom       15.30   \n",
       "1      2010-12-01 08:26:00       3.39     17850.0  United Kingdom       20.34   \n",
       "2      2010-12-01 08:26:00       2.75     17850.0  United Kingdom       22.00   \n",
       "3      2010-12-01 08:26:00       3.39     17850.0  United Kingdom       20.34   \n",
       "4      2010-12-01 08:26:00       3.39     17850.0  United Kingdom       20.34   \n",
       "...                    ...        ...         ...             ...         ...   \n",
       "541904 2011-12-09 12:50:00       0.85     12680.0          France       10.20   \n",
       "541905 2011-12-09 12:50:00       2.10     12680.0          France       12.60   \n",
       "541906 2011-12-09 12:50:00       4.15     12680.0          France       16.60   \n",
       "541907 2011-12-09 12:50:00       4.15     12680.0          France       16.60   \n",
       "541908 2011-12-09 12:50:00       4.95     12680.0          France       14.85   \n",
       "\n",
       "        id_null  Cancel  InvoiceYear  InvoiceMonth  InvoiceDay  InvoiceDow  \\\n",
       "0         False   False         2010            12           1           2   \n",
       "1         False   False         2010            12           1           2   \n",
       "2         False   False         2010            12           1           2   \n",
       "3         False   False         2010            12           1           2   \n",
       "4         False   False         2010            12           1           2   \n",
       "...         ...     ...          ...           ...         ...         ...   \n",
       "541904    False   False         2011            12           9           4   \n",
       "541905    False   False         2011            12           9           4   \n",
       "541906    False   False         2011            12           9           4   \n",
       "541907    False   False         2011            12           9           4   \n",
       "541908    False   False         2011            12           9           4   \n",
       "\n",
       "       InvoiceDayname InvoiceYM InvoiceTime  InvoiceHour InvoiceNoRemoveC  \n",
       "0           Wednesday   2010-12    08:26:00            8           536365  \n",
       "1           Wednesday   2010-12    08:26:00            8           536365  \n",
       "2           Wednesday   2010-12    08:26:00            8           536365  \n",
       "3           Wednesday   2010-12    08:26:00            8           536365  \n",
       "4           Wednesday   2010-12    08:26:00            8           536365  \n",
       "...               ...       ...         ...          ...              ...  \n",
       "541904         Friday   2011-12    12:50:00           12           581587  \n",
       "541905         Friday   2011-12    12:50:00           12           581587  \n",
       "541906         Friday   2011-12    12:50:00           12           581587  \n",
       "541907         Friday   2011-12    12:50:00           12           581587  \n",
       "541908         Friday   2011-12    12:50:00           12           581587  \n",
       "\n",
       "[397884 rows x 20 columns]"
      ]
     },
     "execution_count": 54,
     "metadata": {},
     "output_type": "execute_result"
    }
   ],
   "source": [
    "# \"CustomerID\" 가 있고(notnull) \"Quantity\", \"UnitPrice\" 가 0보다 큰 데이터를 가져옵니다.\n",
    "# 구매하고 취소한 건 중 취소한 건만 제외하고 구매 건은 남깁니다.\n",
    "# 유효한 데이터를 df_valid 변수에 할당합니다.\n",
    "# df_valid \n",
    "df_valid = df.loc[(df['CustomerID'].notnull()) & (df['Quantity'] > 0) & (df['UnitPrice'] > 0)]\n",
    "df_valid"
   ]
  },
  {
   "cell_type": "code",
   "execution_count": 55,
   "metadata": {
    "colab": {
     "base_uri": "https://localhost:8080/",
     "height": 911
    },
    "executionInfo": {
     "elapsed": 8,
     "status": "ok",
     "timestamp": 1634789354906,
     "user": {
      "displayName": "JINY ROH",
      "photoUrl": "https://lh3.googleusercontent.com/a-/AOh14Gi7VIzxUnr7MUJE9Bupl4bkwgEAsz4e1gsgrYIPZw=s64",
      "userId": "06348894780083418282"
     },
     "user_tz": -540
    },
    "id": "dUSmXEq_1BXf",
    "outputId": "1a4f35cb-c23a-485b-9c4f-8c0ef6f071cc"
   },
   "outputs": [
    {
     "data": {
      "text/html": [
       "<div>\n",
       "<style scoped>\n",
       "    .dataframe tbody tr th:only-of-type {\n",
       "        vertical-align: middle;\n",
       "    }\n",
       "\n",
       "    .dataframe tbody tr th {\n",
       "        vertical-align: top;\n",
       "    }\n",
       "\n",
       "    .dataframe thead th {\n",
       "        text-align: right;\n",
       "    }\n",
       "</style>\n",
       "<table border=\"1\" class=\"dataframe\">\n",
       "  <thead>\n",
       "    <tr style=\"text-align: right;\">\n",
       "      <th></th>\n",
       "      <th>InvoiceNo</th>\n",
       "      <th>StockCode</th>\n",
       "      <th>Description</th>\n",
       "      <th>Quantity</th>\n",
       "      <th>InvoiceDate</th>\n",
       "      <th>UnitPrice</th>\n",
       "      <th>CustomerID</th>\n",
       "      <th>Country</th>\n",
       "      <th>TotalPrice</th>\n",
       "      <th>id_null</th>\n",
       "      <th>Cancel</th>\n",
       "      <th>InvoiceYear</th>\n",
       "      <th>InvoiceMonth</th>\n",
       "      <th>InvoiceDay</th>\n",
       "      <th>InvoiceDow</th>\n",
       "      <th>InvoiceDayname</th>\n",
       "      <th>InvoiceYM</th>\n",
       "      <th>InvoiceTime</th>\n",
       "      <th>InvoiceHour</th>\n",
       "      <th>InvoiceNoRemoveC</th>\n",
       "    </tr>\n",
       "  </thead>\n",
       "  <tbody>\n",
       "    <tr>\n",
       "      <th>0</th>\n",
       "      <td>536365</td>\n",
       "      <td>85123A</td>\n",
       "      <td>WHITE HANGING HEART T-LIGHT HOLDER</td>\n",
       "      <td>6</td>\n",
       "      <td>2010-12-01 08:26:00</td>\n",
       "      <td>2.55</td>\n",
       "      <td>17850.0</td>\n",
       "      <td>United Kingdom</td>\n",
       "      <td>15.30</td>\n",
       "      <td>False</td>\n",
       "      <td>False</td>\n",
       "      <td>2010</td>\n",
       "      <td>12</td>\n",
       "      <td>1</td>\n",
       "      <td>2</td>\n",
       "      <td>Wednesday</td>\n",
       "      <td>2010-12</td>\n",
       "      <td>08:26:00</td>\n",
       "      <td>8</td>\n",
       "      <td>536365</td>\n",
       "    </tr>\n",
       "    <tr>\n",
       "      <th>1</th>\n",
       "      <td>536365</td>\n",
       "      <td>71053</td>\n",
       "      <td>WHITE METAL LANTERN</td>\n",
       "      <td>6</td>\n",
       "      <td>2010-12-01 08:26:00</td>\n",
       "      <td>3.39</td>\n",
       "      <td>17850.0</td>\n",
       "      <td>United Kingdom</td>\n",
       "      <td>20.34</td>\n",
       "      <td>False</td>\n",
       "      <td>False</td>\n",
       "      <td>2010</td>\n",
       "      <td>12</td>\n",
       "      <td>1</td>\n",
       "      <td>2</td>\n",
       "      <td>Wednesday</td>\n",
       "      <td>2010-12</td>\n",
       "      <td>08:26:00</td>\n",
       "      <td>8</td>\n",
       "      <td>536365</td>\n",
       "    </tr>\n",
       "    <tr>\n",
       "      <th>2</th>\n",
       "      <td>536365</td>\n",
       "      <td>84406B</td>\n",
       "      <td>CREAM CUPID HEARTS COAT HANGER</td>\n",
       "      <td>8</td>\n",
       "      <td>2010-12-01 08:26:00</td>\n",
       "      <td>2.75</td>\n",
       "      <td>17850.0</td>\n",
       "      <td>United Kingdom</td>\n",
       "      <td>22.00</td>\n",
       "      <td>False</td>\n",
       "      <td>False</td>\n",
       "      <td>2010</td>\n",
       "      <td>12</td>\n",
       "      <td>1</td>\n",
       "      <td>2</td>\n",
       "      <td>Wednesday</td>\n",
       "      <td>2010-12</td>\n",
       "      <td>08:26:00</td>\n",
       "      <td>8</td>\n",
       "      <td>536365</td>\n",
       "    </tr>\n",
       "    <tr>\n",
       "      <th>3</th>\n",
       "      <td>536365</td>\n",
       "      <td>84029G</td>\n",
       "      <td>KNITTED UNION FLAG HOT WATER BOTTLE</td>\n",
       "      <td>6</td>\n",
       "      <td>2010-12-01 08:26:00</td>\n",
       "      <td>3.39</td>\n",
       "      <td>17850.0</td>\n",
       "      <td>United Kingdom</td>\n",
       "      <td>20.34</td>\n",
       "      <td>False</td>\n",
       "      <td>False</td>\n",
       "      <td>2010</td>\n",
       "      <td>12</td>\n",
       "      <td>1</td>\n",
       "      <td>2</td>\n",
       "      <td>Wednesday</td>\n",
       "      <td>2010-12</td>\n",
       "      <td>08:26:00</td>\n",
       "      <td>8</td>\n",
       "      <td>536365</td>\n",
       "    </tr>\n",
       "    <tr>\n",
       "      <th>4</th>\n",
       "      <td>536365</td>\n",
       "      <td>84029E</td>\n",
       "      <td>RED WOOLLY HOTTIE WHITE HEART.</td>\n",
       "      <td>6</td>\n",
       "      <td>2010-12-01 08:26:00</td>\n",
       "      <td>3.39</td>\n",
       "      <td>17850.0</td>\n",
       "      <td>United Kingdom</td>\n",
       "      <td>20.34</td>\n",
       "      <td>False</td>\n",
       "      <td>False</td>\n",
       "      <td>2010</td>\n",
       "      <td>12</td>\n",
       "      <td>1</td>\n",
       "      <td>2</td>\n",
       "      <td>Wednesday</td>\n",
       "      <td>2010-12</td>\n",
       "      <td>08:26:00</td>\n",
       "      <td>8</td>\n",
       "      <td>536365</td>\n",
       "    </tr>\n",
       "    <tr>\n",
       "      <th>...</th>\n",
       "      <td>...</td>\n",
       "      <td>...</td>\n",
       "      <td>...</td>\n",
       "      <td>...</td>\n",
       "      <td>...</td>\n",
       "      <td>...</td>\n",
       "      <td>...</td>\n",
       "      <td>...</td>\n",
       "      <td>...</td>\n",
       "      <td>...</td>\n",
       "      <td>...</td>\n",
       "      <td>...</td>\n",
       "      <td>...</td>\n",
       "      <td>...</td>\n",
       "      <td>...</td>\n",
       "      <td>...</td>\n",
       "      <td>...</td>\n",
       "      <td>...</td>\n",
       "      <td>...</td>\n",
       "      <td>...</td>\n",
       "    </tr>\n",
       "    <tr>\n",
       "      <th>541904</th>\n",
       "      <td>581587</td>\n",
       "      <td>22613</td>\n",
       "      <td>PACK OF 20 SPACEBOY NAPKINS</td>\n",
       "      <td>12</td>\n",
       "      <td>2011-12-09 12:50:00</td>\n",
       "      <td>0.85</td>\n",
       "      <td>12680.0</td>\n",
       "      <td>France</td>\n",
       "      <td>10.20</td>\n",
       "      <td>False</td>\n",
       "      <td>False</td>\n",
       "      <td>2011</td>\n",
       "      <td>12</td>\n",
       "      <td>9</td>\n",
       "      <td>4</td>\n",
       "      <td>Friday</td>\n",
       "      <td>2011-12</td>\n",
       "      <td>12:50:00</td>\n",
       "      <td>12</td>\n",
       "      <td>581587</td>\n",
       "    </tr>\n",
       "    <tr>\n",
       "      <th>541905</th>\n",
       "      <td>581587</td>\n",
       "      <td>22899</td>\n",
       "      <td>CHILDREN'S APRON DOLLY GIRL</td>\n",
       "      <td>6</td>\n",
       "      <td>2011-12-09 12:50:00</td>\n",
       "      <td>2.10</td>\n",
       "      <td>12680.0</td>\n",
       "      <td>France</td>\n",
       "      <td>12.60</td>\n",
       "      <td>False</td>\n",
       "      <td>False</td>\n",
       "      <td>2011</td>\n",
       "      <td>12</td>\n",
       "      <td>9</td>\n",
       "      <td>4</td>\n",
       "      <td>Friday</td>\n",
       "      <td>2011-12</td>\n",
       "      <td>12:50:00</td>\n",
       "      <td>12</td>\n",
       "      <td>581587</td>\n",
       "    </tr>\n",
       "    <tr>\n",
       "      <th>541906</th>\n",
       "      <td>581587</td>\n",
       "      <td>23254</td>\n",
       "      <td>CHILDRENS CUTLERY DOLLY GIRL</td>\n",
       "      <td>4</td>\n",
       "      <td>2011-12-09 12:50:00</td>\n",
       "      <td>4.15</td>\n",
       "      <td>12680.0</td>\n",
       "      <td>France</td>\n",
       "      <td>16.60</td>\n",
       "      <td>False</td>\n",
       "      <td>False</td>\n",
       "      <td>2011</td>\n",
       "      <td>12</td>\n",
       "      <td>9</td>\n",
       "      <td>4</td>\n",
       "      <td>Friday</td>\n",
       "      <td>2011-12</td>\n",
       "      <td>12:50:00</td>\n",
       "      <td>12</td>\n",
       "      <td>581587</td>\n",
       "    </tr>\n",
       "    <tr>\n",
       "      <th>541907</th>\n",
       "      <td>581587</td>\n",
       "      <td>23255</td>\n",
       "      <td>CHILDRENS CUTLERY CIRCUS PARADE</td>\n",
       "      <td>4</td>\n",
       "      <td>2011-12-09 12:50:00</td>\n",
       "      <td>4.15</td>\n",
       "      <td>12680.0</td>\n",
       "      <td>France</td>\n",
       "      <td>16.60</td>\n",
       "      <td>False</td>\n",
       "      <td>False</td>\n",
       "      <td>2011</td>\n",
       "      <td>12</td>\n",
       "      <td>9</td>\n",
       "      <td>4</td>\n",
       "      <td>Friday</td>\n",
       "      <td>2011-12</td>\n",
       "      <td>12:50:00</td>\n",
       "      <td>12</td>\n",
       "      <td>581587</td>\n",
       "    </tr>\n",
       "    <tr>\n",
       "      <th>541908</th>\n",
       "      <td>581587</td>\n",
       "      <td>22138</td>\n",
       "      <td>BAKING SET 9 PIECE RETROSPOT</td>\n",
       "      <td>3</td>\n",
       "      <td>2011-12-09 12:50:00</td>\n",
       "      <td>4.95</td>\n",
       "      <td>12680.0</td>\n",
       "      <td>France</td>\n",
       "      <td>14.85</td>\n",
       "      <td>False</td>\n",
       "      <td>False</td>\n",
       "      <td>2011</td>\n",
       "      <td>12</td>\n",
       "      <td>9</td>\n",
       "      <td>4</td>\n",
       "      <td>Friday</td>\n",
       "      <td>2011-12</td>\n",
       "      <td>12:50:00</td>\n",
       "      <td>12</td>\n",
       "      <td>581587</td>\n",
       "    </tr>\n",
       "  </tbody>\n",
       "</table>\n",
       "<p>392692 rows × 20 columns</p>\n",
       "</div>"
      ],
      "text/plain": [
       "       InvoiceNo StockCode                          Description  Quantity  \\\n",
       "0         536365    85123A   WHITE HANGING HEART T-LIGHT HOLDER         6   \n",
       "1         536365     71053                  WHITE METAL LANTERN         6   \n",
       "2         536365    84406B       CREAM CUPID HEARTS COAT HANGER         8   \n",
       "3         536365    84029G  KNITTED UNION FLAG HOT WATER BOTTLE         6   \n",
       "4         536365    84029E       RED WOOLLY HOTTIE WHITE HEART.         6   \n",
       "...          ...       ...                                  ...       ...   \n",
       "541904    581587     22613          PACK OF 20 SPACEBOY NAPKINS        12   \n",
       "541905    581587     22899         CHILDREN'S APRON DOLLY GIRL          6   \n",
       "541906    581587     23254        CHILDRENS CUTLERY DOLLY GIRL          4   \n",
       "541907    581587     23255      CHILDRENS CUTLERY CIRCUS PARADE         4   \n",
       "541908    581587     22138        BAKING SET 9 PIECE RETROSPOT          3   \n",
       "\n",
       "               InvoiceDate  UnitPrice  CustomerID         Country  TotalPrice  \\\n",
       "0      2010-12-01 08:26:00       2.55     17850.0  United Kingdom       15.30   \n",
       "1      2010-12-01 08:26:00       3.39     17850.0  United Kingdom       20.34   \n",
       "2      2010-12-01 08:26:00       2.75     17850.0  United Kingdom       22.00   \n",
       "3      2010-12-01 08:26:00       3.39     17850.0  United Kingdom       20.34   \n",
       "4      2010-12-01 08:26:00       3.39     17850.0  United Kingdom       20.34   \n",
       "...                    ...        ...         ...             ...         ...   \n",
       "541904 2011-12-09 12:50:00       0.85     12680.0          France       10.20   \n",
       "541905 2011-12-09 12:50:00       2.10     12680.0          France       12.60   \n",
       "541906 2011-12-09 12:50:00       4.15     12680.0          France       16.60   \n",
       "541907 2011-12-09 12:50:00       4.15     12680.0          France       16.60   \n",
       "541908 2011-12-09 12:50:00       4.95     12680.0          France       14.85   \n",
       "\n",
       "        id_null  Cancel  InvoiceYear  InvoiceMonth  InvoiceDay  InvoiceDow  \\\n",
       "0         False   False         2010            12           1           2   \n",
       "1         False   False         2010            12           1           2   \n",
       "2         False   False         2010            12           1           2   \n",
       "3         False   False         2010            12           1           2   \n",
       "4         False   False         2010            12           1           2   \n",
       "...         ...     ...          ...           ...         ...         ...   \n",
       "541904    False   False         2011            12           9           4   \n",
       "541905    False   False         2011            12           9           4   \n",
       "541906    False   False         2011            12           9           4   \n",
       "541907    False   False         2011            12           9           4   \n",
       "541908    False   False         2011            12           9           4   \n",
       "\n",
       "       InvoiceDayname InvoiceYM InvoiceTime  InvoiceHour InvoiceNoRemoveC  \n",
       "0           Wednesday   2010-12    08:26:00            8           536365  \n",
       "1           Wednesday   2010-12    08:26:00            8           536365  \n",
       "2           Wednesday   2010-12    08:26:00            8           536365  \n",
       "3           Wednesday   2010-12    08:26:00            8           536365  \n",
       "4           Wednesday   2010-12    08:26:00            8           536365  \n",
       "...               ...       ...         ...          ...              ...  \n",
       "541904         Friday   2011-12    12:50:00           12           581587  \n",
       "541905         Friday   2011-12    12:50:00           12           581587  \n",
       "541906         Friday   2011-12    12:50:00           12           581587  \n",
       "541907         Friday   2011-12    12:50:00           12           581587  \n",
       "541908         Friday   2011-12    12:50:00           12           581587  \n",
       "\n",
       "[392692 rows x 20 columns]"
      ]
     },
     "execution_count": 55,
     "metadata": {},
     "output_type": "execute_result"
    }
   ],
   "source": [
    "# 고객ID가 없는 건도 제거하여 df_valid 변수에 할당합니다.\n",
    "df_valid = df_valid.drop_duplicates()\n",
    "df_valid"
   ]
  },
  {
   "cell_type": "markdown",
   "metadata": {
    "id": "tZRUYNdmVUqc"
   },
   "source": [
    "## 고객"
   ]
  },
  {
   "cell_type": "code",
   "execution_count": 56,
   "metadata": {
    "colab": {
     "base_uri": "https://localhost:8080/"
    },
    "executionInfo": {
     "elapsed": 319,
     "status": "ok",
     "timestamp": 1634789355218,
     "user": {
      "displayName": "JINY ROH",
      "photoUrl": "https://lh3.googleusercontent.com/a-/AOh14Gi7VIzxUnr7MUJE9Bupl4bkwgEAsz4e1gsgrYIPZw=s64",
      "userId": "06348894780083418282"
     },
     "user_tz": -540
    },
    "id": "2LqFRCJKVUqd",
    "outputId": "9a3bd4d8-8ab9-4372-ba84-0ce1ce905c01"
   },
   "outputs": [
    {
     "data": {
      "text/plain": [
       "CustomerID\n",
       "12346.0      1\n",
       "12347.0    182\n",
       "12348.0     31\n",
       "12349.0     73\n",
       "12350.0     17\n",
       "          ... \n",
       "18280.0     10\n",
       "18281.0      7\n",
       "18282.0     12\n",
       "18283.0    721\n",
       "18287.0     70\n",
       "Name: InvoiceNo, Length: 4338, dtype: int64"
      ]
     },
     "execution_count": 56,
     "metadata": {},
     "output_type": "execute_result"
    }
   ],
   "source": [
    "# df_valid(유효고객, 유효주문) 내 고객별( CustomerID ) 구매( InvoiceNo ) 빈도수를 구합니다.\n",
    "cust_count = df_valid.groupby('CustomerID')['InvoiceNo'].count()\n",
    "cust_count"
   ]
  },
  {
   "cell_type": "code",
   "execution_count": 57,
   "metadata": {
    "colab": {
     "base_uri": "https://localhost:8080/"
    },
    "executionInfo": {
     "elapsed": 13,
     "status": "ok",
     "timestamp": 1634789355219,
     "user": {
      "displayName": "JINY ROH",
      "photoUrl": "https://lh3.googleusercontent.com/a-/AOh14Gi7VIzxUnr7MUJE9Bupl4bkwgEAsz4e1gsgrYIPZw=s64",
      "userId": "06348894780083418282"
     },
     "user_tz": -540
    },
    "id": "Yijqdf-AVUqd",
    "outputId": "8d113d3e-280e-4e8c-8a69-2f13638968e9",
    "scrolled": true
   },
   "outputs": [
    {
     "data": {
      "text/plain": [
       "count    4338.000000\n",
       "mean       90.523744\n",
       "std       225.506968\n",
       "min         1.000000\n",
       "25%        17.000000\n",
       "50%        41.000000\n",
       "75%        98.000000\n",
       "max      7676.000000\n",
       "Name: InvoiceNo, dtype: float64"
      ]
     },
     "execution_count": 57,
     "metadata": {},
     "output_type": "execute_result"
    }
   ],
   "source": [
    "# 고객별( CustomerID ) 구매( InvoiceNo ) 빈도수의 기술통계 값을 확인합니다.\n",
    "cust_count.describe()"
   ]
  },
  {
   "cell_type": "code",
   "execution_count": 58,
   "metadata": {
    "colab": {
     "base_uri": "https://localhost:8080/",
     "height": 455
    },
    "executionInfo": {
     "elapsed": 11,
     "status": "ok",
     "timestamp": 1634789355220,
     "user": {
      "displayName": "JINY ROH",
      "photoUrl": "https://lh3.googleusercontent.com/a-/AOh14Gi7VIzxUnr7MUJE9Bupl4bkwgEAsz4e1gsgrYIPZw=s64",
      "userId": "06348894780083418282"
     },
     "user_tz": -540
    },
    "id": "GQjvC0xmVUqe",
    "outputId": "600e3607-6df9-4fa6-9cbf-b15456842135"
   },
   "outputs": [
    {
     "data": {
      "text/html": [
       "<div>\n",
       "<style scoped>\n",
       "    .dataframe tbody tr th:only-of-type {\n",
       "        vertical-align: middle;\n",
       "    }\n",
       "\n",
       "    .dataframe tbody tr th {\n",
       "        vertical-align: top;\n",
       "    }\n",
       "\n",
       "    .dataframe thead th {\n",
       "        text-align: right;\n",
       "    }\n",
       "</style>\n",
       "<table border=\"1\" class=\"dataframe\">\n",
       "  <thead>\n",
       "    <tr style=\"text-align: right;\">\n",
       "      <th></th>\n",
       "      <th>count</th>\n",
       "    </tr>\n",
       "    <tr>\n",
       "      <th>CustomerID</th>\n",
       "      <th></th>\n",
       "    </tr>\n",
       "  </thead>\n",
       "  <tbody>\n",
       "    <tr>\n",
       "      <th>12346.0</th>\n",
       "      <td>1</td>\n",
       "    </tr>\n",
       "    <tr>\n",
       "      <th>12347.0</th>\n",
       "      <td>182</td>\n",
       "    </tr>\n",
       "    <tr>\n",
       "      <th>12348.0</th>\n",
       "      <td>31</td>\n",
       "    </tr>\n",
       "    <tr>\n",
       "      <th>12349.0</th>\n",
       "      <td>73</td>\n",
       "    </tr>\n",
       "    <tr>\n",
       "      <th>12350.0</th>\n",
       "      <td>17</td>\n",
       "    </tr>\n",
       "    <tr>\n",
       "      <th>...</th>\n",
       "      <td>...</td>\n",
       "    </tr>\n",
       "    <tr>\n",
       "      <th>18280.0</th>\n",
       "      <td>10</td>\n",
       "    </tr>\n",
       "    <tr>\n",
       "      <th>18281.0</th>\n",
       "      <td>7</td>\n",
       "    </tr>\n",
       "    <tr>\n",
       "      <th>18282.0</th>\n",
       "      <td>12</td>\n",
       "    </tr>\n",
       "    <tr>\n",
       "      <th>18283.0</th>\n",
       "      <td>721</td>\n",
       "    </tr>\n",
       "    <tr>\n",
       "      <th>18287.0</th>\n",
       "      <td>70</td>\n",
       "    </tr>\n",
       "  </tbody>\n",
       "</table>\n",
       "<p>4338 rows × 1 columns</p>\n",
       "</div>"
      ],
      "text/plain": [
       "            count\n",
       "CustomerID       \n",
       "12346.0         1\n",
       "12347.0       182\n",
       "12348.0        31\n",
       "12349.0        73\n",
       "12350.0        17\n",
       "...           ...\n",
       "18280.0        10\n",
       "18281.0         7\n",
       "18282.0        12\n",
       "18283.0       721\n",
       "18287.0        70\n",
       "\n",
       "[4338 rows x 1 columns]"
      ]
     },
     "execution_count": 58,
     "metadata": {},
     "output_type": "execute_result"
    }
   ],
   "source": [
    "# cust_count.to_frame(name=\"count\") 으로 데이터 타입을 Series에서 Dataframe으로 변환합니다.\n",
    "# df_cust_count\n",
    "df_cust_count = cust_count.to_frame(name=\"count\")\n",
    "df_cust_count"
   ]
  },
  {
   "cell_type": "code",
   "execution_count": 59,
   "metadata": {},
   "outputs": [
    {
     "data": {
      "text/plain": [
       "array([[<AxesSubplot:title={'center':'count'}>]], dtype=object)"
      ]
     },
     "execution_count": 59,
     "metadata": {},
     "output_type": "execute_result"
    },
    {
     "data": {
      "image/png": "[encoded data removed]",
      "text/plain": [
       "<Figure size 432x288 with 1 Axes>"
      ]
     },
     "metadata": {
      "needs_background": "light"
     },
     "output_type": "display_data"
    }
   ],
   "source": [
    "df_cust_count.hist(bins=50)"
   ]
  },
  {
   "cell_type": "code",
   "execution_count": 60,
   "metadata": {
    "colab": {
     "base_uri": "https://localhost:8080/",
     "height": 284
    },
    "executionInfo": {
     "elapsed": 10,
     "status": "ok",
     "timestamp": 1634789355220,
     "user": {
      "displayName": "JINY ROH",
      "photoUrl": "https://lh3.googleusercontent.com/a-/AOh14Gi7VIzxUnr7MUJE9Bupl4bkwgEAsz4e1gsgrYIPZw=s64",
      "userId": "06348894780083418282"
     },
     "user_tz": -540
    },
    "id": "YZzKbOFCVUqf",
    "outputId": "227f3111-88cc-40f3-bc4c-c6d14c209e74",
    "scrolled": true
   },
   "outputs": [
    {
     "data": {
      "text/plain": [
       "<AxesSubplot:>"
      ]
     },
     "execution_count": 60,
     "metadata": {},
     "output_type": "execute_result"
    },
    {
     "data": {
      "image/png": "[encoded data removed]",
      "text/plain": [
       "<Figure size 432x288 with 1 Axes>"
      ]
     },
     "metadata": {
      "needs_background": "light"
     },
     "output_type": "display_data"
    }
   ],
   "source": [
    "# df_cust_count 를 boxplot 으로 시각화합니다.\n",
    "sns.boxplot(data=df_cust_count)"
   ]
  },
  {
   "cell_type": "code",
   "execution_count": 61,
   "metadata": {},
   "outputs": [
    {
     "data": {
      "text/plain": [
       "<AxesSubplot:>"
      ]
     },
     "execution_count": 61,
     "metadata": {},
     "output_type": "execute_result"
    },
    {
     "data": {
      "image/png": "[encoded data removed]",
      "text/plain": [
       "<Figure size 432x288 with 1 Axes>"
      ]
     },
     "metadata": {
      "needs_background": "light"
     },
     "output_type": "display_data"
    }
   ],
   "source": [
    "sns.violinplot(data=df_cust_count)"
   ]
  },
  {
   "cell_type": "markdown",
   "metadata": {
    "id": "_fBp-TimVUqf"
   },
   "source": [
    "## 월단위 데이터 전처리"
   ]
  },
  {
   "cell_type": "code",
   "execution_count": 62,
   "metadata": {
    "id": "NiKg56-UVUqg"
   },
   "outputs": [],
   "source": [
    "# get_month_day1() 함수를 통해 \" 연도-월-1 \" 형식으로 만듭니다.\n",
    "# 일자를 \" 1 \"로 통일화한 이유는 월별 잔존률을 구하기 위해서 입니다.(월 단위)\n",
    "def get_month_day1(x):\n",
    "    return dt.datetime(x.year, x.month, 1)"
   ]
  },
  {
   "cell_type": "code",
   "execution_count": 63,
   "metadata": {
    "id": "nM00s5M8VUqg"
   },
   "outputs": [
    {
     "name": "stderr",
     "output_type": "stream",
     "text": [
      "C:\\Users\\ADMINI~1\\AppData\\Local\\Temp/ipykernel_11632/299914646.py:4: SettingWithCopyWarning: \n",
      "A value is trying to be set on a copy of a slice from a DataFrame.\n",
      "Try using .loc[row_indexer,col_indexer] = value instead\n",
      "\n",
      "See the caveats in the documentation: https://pandas.pydata.org/pandas-docs/stable/user_guide/indexing.html#returning-a-view-versus-a-copy\n",
      "  df_valid['InvoiceDate1'] = df_valid['InvoiceDate'].map(get_month_day1)\n"
     ]
    }
   ],
   "source": [
    "# map() 함수를 통해 get_month_day1() 함수를 df_valid(유효고객, 유효주문)에 일괄 적용합니다.\n",
    "# \" 연도-월-1 \"로 표기가 통일된 InvoiceDate1 이라는 파생변수를 생성합니다.\n",
    "# df_valid[\"InvoiceDate1\"]\n",
    "df_valid['InvoiceDate1'] = df_valid['InvoiceDate'].map(get_month_day1)"
   ]
  },
  {
   "cell_type": "code",
   "execution_count": 64,
   "metadata": {
    "colab": {
     "base_uri": "https://localhost:8080/"
    },
    "executionInfo": {
     "elapsed": 9,
     "status": "ok",
     "timestamp": 1634789357432,
     "user": {
      "displayName": "JINY ROH",
      "photoUrl": "https://lh3.googleusercontent.com/a-/AOh14Gi7VIzxUnr7MUJE9Bupl4bkwgEAsz4e1gsgrYIPZw=s64",
      "userId": "06348894780083418282"
     },
     "user_tz": -540
    },
    "id": "wGjB_hCIVUqg",
    "outputId": "74cce784-822a-499d-ab71-9dae2f5ecaa9"
   },
   "outputs": [
    {
     "data": {
      "text/plain": [
       "0        2010-12-01\n",
       "1        2010-12-01\n",
       "2        2010-12-01\n",
       "3        2010-12-01\n",
       "4        2010-12-01\n",
       "            ...    \n",
       "541904   2011-08-01\n",
       "541905   2011-08-01\n",
       "541906   2011-08-01\n",
       "541907   2011-08-01\n",
       "541908   2011-08-01\n",
       "Name: InvoiceDate1, Length: 392692, dtype: datetime64[ns]"
      ]
     },
     "execution_count": 64,
     "metadata": {},
     "output_type": "execute_result"
    }
   ],
   "source": [
    "# InvoiceDate1 고객별로 최초 구매월( 'min' )을 구합니다.\n",
    "df_valid.groupby(\"CustomerID\")[\"InvoiceDate1\"].transform('min')"
   ]
  },
  {
   "cell_type": "code",
   "execution_count": 65,
   "metadata": {
    "id": "87EjZ0a5VUqh"
   },
   "outputs": [
    {
     "name": "stderr",
     "output_type": "stream",
     "text": [
      "C:\\Users\\ADMINI~1\\AppData\\Local\\Temp/ipykernel_11632/2705411175.py:3: SettingWithCopyWarning: \n",
      "A value is trying to be set on a copy of a slice from a DataFrame.\n",
      "Try using .loc[row_indexer,col_indexer] = value instead\n",
      "\n",
      "See the caveats in the documentation: https://pandas.pydata.org/pandas-docs/stable/user_guide/indexing.html#returning-a-view-versus-a-copy\n",
      "  df_valid[\"InvoiceDateMin\"] = df_valid.groupby(\"CustomerID\")[\"InvoiceDate1\"].transform('min')\n"
     ]
    },
    {
     "data": {
      "text/html": [
       "<div>\n",
       "<style scoped>\n",
       "    .dataframe tbody tr th:only-of-type {\n",
       "        vertical-align: middle;\n",
       "    }\n",
       "\n",
       "    .dataframe tbody tr th {\n",
       "        vertical-align: top;\n",
       "    }\n",
       "\n",
       "    .dataframe thead th {\n",
       "        text-align: right;\n",
       "    }\n",
       "</style>\n",
       "<table border=\"1\" class=\"dataframe\">\n",
       "  <thead>\n",
       "    <tr style=\"text-align: right;\">\n",
       "      <th></th>\n",
       "      <th>InvoiceNo</th>\n",
       "      <th>StockCode</th>\n",
       "      <th>Description</th>\n",
       "      <th>Quantity</th>\n",
       "      <th>InvoiceDate</th>\n",
       "      <th>UnitPrice</th>\n",
       "      <th>CustomerID</th>\n",
       "      <th>Country</th>\n",
       "      <th>TotalPrice</th>\n",
       "      <th>id_null</th>\n",
       "      <th>...</th>\n",
       "      <th>InvoiceMonth</th>\n",
       "      <th>InvoiceDay</th>\n",
       "      <th>InvoiceDow</th>\n",
       "      <th>InvoiceDayname</th>\n",
       "      <th>InvoiceYM</th>\n",
       "      <th>InvoiceTime</th>\n",
       "      <th>InvoiceHour</th>\n",
       "      <th>InvoiceNoRemoveC</th>\n",
       "      <th>InvoiceDate1</th>\n",
       "      <th>InvoiceDateMin</th>\n",
       "    </tr>\n",
       "  </thead>\n",
       "  <tbody>\n",
       "    <tr>\n",
       "      <th>0</th>\n",
       "      <td>536365</td>\n",
       "      <td>85123A</td>\n",
       "      <td>WHITE HANGING HEART T-LIGHT HOLDER</td>\n",
       "      <td>6</td>\n",
       "      <td>2010-12-01 08:26:00</td>\n",
       "      <td>2.55</td>\n",
       "      <td>17850.0</td>\n",
       "      <td>United Kingdom</td>\n",
       "      <td>15.30</td>\n",
       "      <td>False</td>\n",
       "      <td>...</td>\n",
       "      <td>12</td>\n",
       "      <td>1</td>\n",
       "      <td>2</td>\n",
       "      <td>Wednesday</td>\n",
       "      <td>2010-12</td>\n",
       "      <td>08:26:00</td>\n",
       "      <td>8</td>\n",
       "      <td>536365</td>\n",
       "      <td>2010-12-01</td>\n",
       "      <td>2010-12-01</td>\n",
       "    </tr>\n",
       "    <tr>\n",
       "      <th>1</th>\n",
       "      <td>536365</td>\n",
       "      <td>71053</td>\n",
       "      <td>WHITE METAL LANTERN</td>\n",
       "      <td>6</td>\n",
       "      <td>2010-12-01 08:26:00</td>\n",
       "      <td>3.39</td>\n",
       "      <td>17850.0</td>\n",
       "      <td>United Kingdom</td>\n",
       "      <td>20.34</td>\n",
       "      <td>False</td>\n",
       "      <td>...</td>\n",
       "      <td>12</td>\n",
       "      <td>1</td>\n",
       "      <td>2</td>\n",
       "      <td>Wednesday</td>\n",
       "      <td>2010-12</td>\n",
       "      <td>08:26:00</td>\n",
       "      <td>8</td>\n",
       "      <td>536365</td>\n",
       "      <td>2010-12-01</td>\n",
       "      <td>2010-12-01</td>\n",
       "    </tr>\n",
       "    <tr>\n",
       "      <th>2</th>\n",
       "      <td>536365</td>\n",
       "      <td>84406B</td>\n",
       "      <td>CREAM CUPID HEARTS COAT HANGER</td>\n",
       "      <td>8</td>\n",
       "      <td>2010-12-01 08:26:00</td>\n",
       "      <td>2.75</td>\n",
       "      <td>17850.0</td>\n",
       "      <td>United Kingdom</td>\n",
       "      <td>22.00</td>\n",
       "      <td>False</td>\n",
       "      <td>...</td>\n",
       "      <td>12</td>\n",
       "      <td>1</td>\n",
       "      <td>2</td>\n",
       "      <td>Wednesday</td>\n",
       "      <td>2010-12</td>\n",
       "      <td>08:26:00</td>\n",
       "      <td>8</td>\n",
       "      <td>536365</td>\n",
       "      <td>2010-12-01</td>\n",
       "      <td>2010-12-01</td>\n",
       "    </tr>\n",
       "    <tr>\n",
       "      <th>3</th>\n",
       "      <td>536365</td>\n",
       "      <td>84029G</td>\n",
       "      <td>KNITTED UNION FLAG HOT WATER BOTTLE</td>\n",
       "      <td>6</td>\n",
       "      <td>2010-12-01 08:26:00</td>\n",
       "      <td>3.39</td>\n",
       "      <td>17850.0</td>\n",
       "      <td>United Kingdom</td>\n",
       "      <td>20.34</td>\n",
       "      <td>False</td>\n",
       "      <td>...</td>\n",
       "      <td>12</td>\n",
       "      <td>1</td>\n",
       "      <td>2</td>\n",
       "      <td>Wednesday</td>\n",
       "      <td>2010-12</td>\n",
       "      <td>08:26:00</td>\n",
       "      <td>8</td>\n",
       "      <td>536365</td>\n",
       "      <td>2010-12-01</td>\n",
       "      <td>2010-12-01</td>\n",
       "    </tr>\n",
       "    <tr>\n",
       "      <th>4</th>\n",
       "      <td>536365</td>\n",
       "      <td>84029E</td>\n",
       "      <td>RED WOOLLY HOTTIE WHITE HEART.</td>\n",
       "      <td>6</td>\n",
       "      <td>2010-12-01 08:26:00</td>\n",
       "      <td>3.39</td>\n",
       "      <td>17850.0</td>\n",
       "      <td>United Kingdom</td>\n",
       "      <td>20.34</td>\n",
       "      <td>False</td>\n",
       "      <td>...</td>\n",
       "      <td>12</td>\n",
       "      <td>1</td>\n",
       "      <td>2</td>\n",
       "      <td>Wednesday</td>\n",
       "      <td>2010-12</td>\n",
       "      <td>08:26:00</td>\n",
       "      <td>8</td>\n",
       "      <td>536365</td>\n",
       "      <td>2010-12-01</td>\n",
       "      <td>2010-12-01</td>\n",
       "    </tr>\n",
       "    <tr>\n",
       "      <th>...</th>\n",
       "      <td>...</td>\n",
       "      <td>...</td>\n",
       "      <td>...</td>\n",
       "      <td>...</td>\n",
       "      <td>...</td>\n",
       "      <td>...</td>\n",
       "      <td>...</td>\n",
       "      <td>...</td>\n",
       "      <td>...</td>\n",
       "      <td>...</td>\n",
       "      <td>...</td>\n",
       "      <td>...</td>\n",
       "      <td>...</td>\n",
       "      <td>...</td>\n",
       "      <td>...</td>\n",
       "      <td>...</td>\n",
       "      <td>...</td>\n",
       "      <td>...</td>\n",
       "      <td>...</td>\n",
       "      <td>...</td>\n",
       "      <td>...</td>\n",
       "    </tr>\n",
       "    <tr>\n",
       "      <th>541904</th>\n",
       "      <td>581587</td>\n",
       "      <td>22613</td>\n",
       "      <td>PACK OF 20 SPACEBOY NAPKINS</td>\n",
       "      <td>12</td>\n",
       "      <td>2011-12-09 12:50:00</td>\n",
       "      <td>0.85</td>\n",
       "      <td>12680.0</td>\n",
       "      <td>France</td>\n",
       "      <td>10.20</td>\n",
       "      <td>False</td>\n",
       "      <td>...</td>\n",
       "      <td>12</td>\n",
       "      <td>9</td>\n",
       "      <td>4</td>\n",
       "      <td>Friday</td>\n",
       "      <td>2011-12</td>\n",
       "      <td>12:50:00</td>\n",
       "      <td>12</td>\n",
       "      <td>581587</td>\n",
       "      <td>2011-12-01</td>\n",
       "      <td>2011-08-01</td>\n",
       "    </tr>\n",
       "    <tr>\n",
       "      <th>541905</th>\n",
       "      <td>581587</td>\n",
       "      <td>22899</td>\n",
       "      <td>CHILDREN'S APRON DOLLY GIRL</td>\n",
       "      <td>6</td>\n",
       "      <td>2011-12-09 12:50:00</td>\n",
       "      <td>2.10</td>\n",
       "      <td>12680.0</td>\n",
       "      <td>France</td>\n",
       "      <td>12.60</td>\n",
       "      <td>False</td>\n",
       "      <td>...</td>\n",
       "      <td>12</td>\n",
       "      <td>9</td>\n",
       "      <td>4</td>\n",
       "      <td>Friday</td>\n",
       "      <td>2011-12</td>\n",
       "      <td>12:50:00</td>\n",
       "      <td>12</td>\n",
       "      <td>581587</td>\n",
       "      <td>2011-12-01</td>\n",
       "      <td>2011-08-01</td>\n",
       "    </tr>\n",
       "    <tr>\n",
       "      <th>541906</th>\n",
       "      <td>581587</td>\n",
       "      <td>23254</td>\n",
       "      <td>CHILDRENS CUTLERY DOLLY GIRL</td>\n",
       "      <td>4</td>\n",
       "      <td>2011-12-09 12:50:00</td>\n",
       "      <td>4.15</td>\n",
       "      <td>12680.0</td>\n",
       "      <td>France</td>\n",
       "      <td>16.60</td>\n",
       "      <td>False</td>\n",
       "      <td>...</td>\n",
       "      <td>12</td>\n",
       "      <td>9</td>\n",
       "      <td>4</td>\n",
       "      <td>Friday</td>\n",
       "      <td>2011-12</td>\n",
       "      <td>12:50:00</td>\n",
       "      <td>12</td>\n",
       "      <td>581587</td>\n",
       "      <td>2011-12-01</td>\n",
       "      <td>2011-08-01</td>\n",
       "    </tr>\n",
       "    <tr>\n",
       "      <th>541907</th>\n",
       "      <td>581587</td>\n",
       "      <td>23255</td>\n",
       "      <td>CHILDRENS CUTLERY CIRCUS PARADE</td>\n",
       "      <td>4</td>\n",
       "      <td>2011-12-09 12:50:00</td>\n",
       "      <td>4.15</td>\n",
       "      <td>12680.0</td>\n",
       "      <td>France</td>\n",
       "      <td>16.60</td>\n",
       "      <td>False</td>\n",
       "      <td>...</td>\n",
       "      <td>12</td>\n",
       "      <td>9</td>\n",
       "      <td>4</td>\n",
       "      <td>Friday</td>\n",
       "      <td>2011-12</td>\n",
       "      <td>12:50:00</td>\n",
       "      <td>12</td>\n",
       "      <td>581587</td>\n",
       "      <td>2011-12-01</td>\n",
       "      <td>2011-08-01</td>\n",
       "    </tr>\n",
       "    <tr>\n",
       "      <th>541908</th>\n",
       "      <td>581587</td>\n",
       "      <td>22138</td>\n",
       "      <td>BAKING SET 9 PIECE RETROSPOT</td>\n",
       "      <td>3</td>\n",
       "      <td>2011-12-09 12:50:00</td>\n",
       "      <td>4.95</td>\n",
       "      <td>12680.0</td>\n",
       "      <td>France</td>\n",
       "      <td>14.85</td>\n",
       "      <td>False</td>\n",
       "      <td>...</td>\n",
       "      <td>12</td>\n",
       "      <td>9</td>\n",
       "      <td>4</td>\n",
       "      <td>Friday</td>\n",
       "      <td>2011-12</td>\n",
       "      <td>12:50:00</td>\n",
       "      <td>12</td>\n",
       "      <td>581587</td>\n",
       "      <td>2011-12-01</td>\n",
       "      <td>2011-08-01</td>\n",
       "    </tr>\n",
       "  </tbody>\n",
       "</table>\n",
       "<p>392692 rows × 22 columns</p>\n",
       "</div>"
      ],
      "text/plain": [
       "       InvoiceNo StockCode                          Description  Quantity  \\\n",
       "0         536365    85123A   WHITE HANGING HEART T-LIGHT HOLDER         6   \n",
       "1         536365     71053                  WHITE METAL LANTERN         6   \n",
       "2         536365    84406B       CREAM CUPID HEARTS COAT HANGER         8   \n",
       "3         536365    84029G  KNITTED UNION FLAG HOT WATER BOTTLE         6   \n",
       "4         536365    84029E       RED WOOLLY HOTTIE WHITE HEART.         6   \n",
       "...          ...       ...                                  ...       ...   \n",
       "541904    581587     22613          PACK OF 20 SPACEBOY NAPKINS        12   \n",
       "541905    581587     22899         CHILDREN'S APRON DOLLY GIRL          6   \n",
       "541906    581587     23254        CHILDRENS CUTLERY DOLLY GIRL          4   \n",
       "541907    581587     23255      CHILDRENS CUTLERY CIRCUS PARADE         4   \n",
       "541908    581587     22138        BAKING SET 9 PIECE RETROSPOT          3   \n",
       "\n",
       "               InvoiceDate  UnitPrice  CustomerID         Country  TotalPrice  \\\n",
       "0      2010-12-01 08:26:00       2.55     17850.0  United Kingdom       15.30   \n",
       "1      2010-12-01 08:26:00       3.39     17850.0  United Kingdom       20.34   \n",
       "2      2010-12-01 08:26:00       2.75     17850.0  United Kingdom       22.00   \n",
       "3      2010-12-01 08:26:00       3.39     17850.0  United Kingdom       20.34   \n",
       "4      2010-12-01 08:26:00       3.39     17850.0  United Kingdom       20.34   \n",
       "...                    ...        ...         ...             ...         ...   \n",
       "541904 2011-12-09 12:50:00       0.85     12680.0          France       10.20   \n",
       "541905 2011-12-09 12:50:00       2.10     12680.0          France       12.60   \n",
       "541906 2011-12-09 12:50:00       4.15     12680.0          France       16.60   \n",
       "541907 2011-12-09 12:50:00       4.15     12680.0          France       16.60   \n",
       "541908 2011-12-09 12:50:00       4.95     12680.0          France       14.85   \n",
       "\n",
       "        id_null  ...  InvoiceMonth  InvoiceDay  InvoiceDow  InvoiceDayname  \\\n",
       "0         False  ...            12           1           2       Wednesday   \n",
       "1         False  ...            12           1           2       Wednesday   \n",
       "2         False  ...            12           1           2       Wednesday   \n",
       "3         False  ...            12           1           2       Wednesday   \n",
       "4         False  ...            12           1           2       Wednesday   \n",
       "...         ...  ...           ...         ...         ...             ...   \n",
       "541904    False  ...            12           9           4          Friday   \n",
       "541905    False  ...            12           9           4          Friday   \n",
       "541906    False  ...            12           9           4          Friday   \n",
       "541907    False  ...            12           9           4          Friday   \n",
       "541908    False  ...            12           9           4          Friday   \n",
       "\n",
       "        InvoiceYM InvoiceTime InvoiceHour InvoiceNoRemoveC  InvoiceDate1  \\\n",
       "0         2010-12    08:26:00           8           536365    2010-12-01   \n",
       "1         2010-12    08:26:00           8           536365    2010-12-01   \n",
       "2         2010-12    08:26:00           8           536365    2010-12-01   \n",
       "3         2010-12    08:26:00           8           536365    2010-12-01   \n",
       "4         2010-12    08:26:00           8           536365    2010-12-01   \n",
       "...           ...         ...         ...              ...           ...   \n",
       "541904    2011-12    12:50:00          12           581587    2011-12-01   \n",
       "541905    2011-12    12:50:00          12           581587    2011-12-01   \n",
       "541906    2011-12    12:50:00          12           581587    2011-12-01   \n",
       "541907    2011-12    12:50:00          12           581587    2011-12-01   \n",
       "541908    2011-12    12:50:00          12           581587    2011-12-01   \n",
       "\n",
       "       InvoiceDateMin  \n",
       "0          2010-12-01  \n",
       "1          2010-12-01  \n",
       "2          2010-12-01  \n",
       "3          2010-12-01  \n",
       "4          2010-12-01  \n",
       "...               ...  \n",
       "541904     2011-08-01  \n",
       "541905     2011-08-01  \n",
       "541906     2011-08-01  \n",
       "541907     2011-08-01  \n",
       "541908     2011-08-01  \n",
       "\n",
       "[392692 rows x 22 columns]"
      ]
     },
     "execution_count": 65,
     "metadata": {},
     "output_type": "execute_result"
    }
   ],
   "source": [
    "# 최초 구매일( InvoiceDateMin )에 InvoiceDate1의 최솟값을 구하여 할당합니다.\n",
    "# 일자가 \" 1 \"로 통일되어 있어 \" 최근 구매일 - 최초 구매일 \"로 첫 구매 후 몇달 후 구매인지를 알 수 있습니다.\n",
    "df_valid[\"InvoiceDateMin\"] = df_valid.groupby(\"CustomerID\")[\"InvoiceDate1\"].transform('min')\n",
    "df_valid"
   ]
  },
  {
   "cell_type": "code",
   "execution_count": 74,
   "metadata": {
    "id": "QpDiUiQKVUqh"
   },
   "outputs": [],
   "source": [
    "# 연도별 차이( year_diff )와 월별 차이( month_diff )를 구합니다.\n",
    "# year_diff\n",
    "# month_diff\n",
    "year_diff = df_valid['InvoiceDate1'].dt.year - df_valid['InvoiceDateMin'].dt.year\n",
    "month_diff = df_valid['InvoiceDate1'].dt.month - df_valid['InvoiceDateMin'].dt.month"
   ]
  },
  {
   "cell_type": "code",
   "execution_count": 75,
   "metadata": {
    "id": "2CqjhHRhVUqh"
   },
   "outputs": [
    {
     "name": "stderr",
     "output_type": "stream",
     "text": [
      "C:\\Users\\ADMINI~1\\AppData\\Local\\Temp/ipykernel_11632/677542943.py:4: SettingWithCopyWarning: \n",
      "A value is trying to be set on a copy of a slice from a DataFrame.\n",
      "Try using .loc[row_indexer,col_indexer] = value instead\n",
      "\n",
      "See the caveats in the documentation: https://pandas.pydata.org/pandas-docs/stable/user_guide/indexing.html#returning-a-view-versus-a-copy\n",
      "  df_valid['CohortIndex'] = year_diff * 12 + month_diff + 1\n"
     ]
    },
    {
     "data": {
      "text/html": [
       "<div>\n",
       "<style scoped>\n",
       "    .dataframe tbody tr th:only-of-type {\n",
       "        vertical-align: middle;\n",
       "    }\n",
       "\n",
       "    .dataframe tbody tr th {\n",
       "        vertical-align: top;\n",
       "    }\n",
       "\n",
       "    .dataframe thead th {\n",
       "        text-align: right;\n",
       "    }\n",
       "</style>\n",
       "<table border=\"1\" class=\"dataframe\">\n",
       "  <thead>\n",
       "    <tr style=\"text-align: right;\">\n",
       "      <th></th>\n",
       "      <th>InvoiceNo</th>\n",
       "      <th>StockCode</th>\n",
       "      <th>Description</th>\n",
       "      <th>Quantity</th>\n",
       "      <th>InvoiceDate</th>\n",
       "      <th>UnitPrice</th>\n",
       "      <th>CustomerID</th>\n",
       "      <th>Country</th>\n",
       "      <th>TotalPrice</th>\n",
       "      <th>id_null</th>\n",
       "      <th>...</th>\n",
       "      <th>InvoiceDay</th>\n",
       "      <th>InvoiceDow</th>\n",
       "      <th>InvoiceDayname</th>\n",
       "      <th>InvoiceYM</th>\n",
       "      <th>InvoiceTime</th>\n",
       "      <th>InvoiceHour</th>\n",
       "      <th>InvoiceNoRemoveC</th>\n",
       "      <th>InvoiceDate1</th>\n",
       "      <th>InvoiceDateMin</th>\n",
       "      <th>CohortIndex</th>\n",
       "    </tr>\n",
       "  </thead>\n",
       "  <tbody>\n",
       "    <tr>\n",
       "      <th>0</th>\n",
       "      <td>536365</td>\n",
       "      <td>85123A</td>\n",
       "      <td>WHITE HANGING HEART T-LIGHT HOLDER</td>\n",
       "      <td>6</td>\n",
       "      <td>2010-12-01 08:26:00</td>\n",
       "      <td>2.55</td>\n",
       "      <td>17850.0</td>\n",
       "      <td>United Kingdom</td>\n",
       "      <td>15.30</td>\n",
       "      <td>False</td>\n",
       "      <td>...</td>\n",
       "      <td>1</td>\n",
       "      <td>2</td>\n",
       "      <td>Wednesday</td>\n",
       "      <td>2010-12</td>\n",
       "      <td>08:26:00</td>\n",
       "      <td>8</td>\n",
       "      <td>536365</td>\n",
       "      <td>2010-12-01</td>\n",
       "      <td>2010-12-01</td>\n",
       "      <td>1</td>\n",
       "    </tr>\n",
       "    <tr>\n",
       "      <th>1</th>\n",
       "      <td>536365</td>\n",
       "      <td>71053</td>\n",
       "      <td>WHITE METAL LANTERN</td>\n",
       "      <td>6</td>\n",
       "      <td>2010-12-01 08:26:00</td>\n",
       "      <td>3.39</td>\n",
       "      <td>17850.0</td>\n",
       "      <td>United Kingdom</td>\n",
       "      <td>20.34</td>\n",
       "      <td>False</td>\n",
       "      <td>...</td>\n",
       "      <td>1</td>\n",
       "      <td>2</td>\n",
       "      <td>Wednesday</td>\n",
       "      <td>2010-12</td>\n",
       "      <td>08:26:00</td>\n",
       "      <td>8</td>\n",
       "      <td>536365</td>\n",
       "      <td>2010-12-01</td>\n",
       "      <td>2010-12-01</td>\n",
       "      <td>1</td>\n",
       "    </tr>\n",
       "    <tr>\n",
       "      <th>2</th>\n",
       "      <td>536365</td>\n",
       "      <td>84406B</td>\n",
       "      <td>CREAM CUPID HEARTS COAT HANGER</td>\n",
       "      <td>8</td>\n",
       "      <td>2010-12-01 08:26:00</td>\n",
       "      <td>2.75</td>\n",
       "      <td>17850.0</td>\n",
       "      <td>United Kingdom</td>\n",
       "      <td>22.00</td>\n",
       "      <td>False</td>\n",
       "      <td>...</td>\n",
       "      <td>1</td>\n",
       "      <td>2</td>\n",
       "      <td>Wednesday</td>\n",
       "      <td>2010-12</td>\n",
       "      <td>08:26:00</td>\n",
       "      <td>8</td>\n",
       "      <td>536365</td>\n",
       "      <td>2010-12-01</td>\n",
       "      <td>2010-12-01</td>\n",
       "      <td>1</td>\n",
       "    </tr>\n",
       "    <tr>\n",
       "      <th>3</th>\n",
       "      <td>536365</td>\n",
       "      <td>84029G</td>\n",
       "      <td>KNITTED UNION FLAG HOT WATER BOTTLE</td>\n",
       "      <td>6</td>\n",
       "      <td>2010-12-01 08:26:00</td>\n",
       "      <td>3.39</td>\n",
       "      <td>17850.0</td>\n",
       "      <td>United Kingdom</td>\n",
       "      <td>20.34</td>\n",
       "      <td>False</td>\n",
       "      <td>...</td>\n",
       "      <td>1</td>\n",
       "      <td>2</td>\n",
       "      <td>Wednesday</td>\n",
       "      <td>2010-12</td>\n",
       "      <td>08:26:00</td>\n",
       "      <td>8</td>\n",
       "      <td>536365</td>\n",
       "      <td>2010-12-01</td>\n",
       "      <td>2010-12-01</td>\n",
       "      <td>1</td>\n",
       "    </tr>\n",
       "    <tr>\n",
       "      <th>4</th>\n",
       "      <td>536365</td>\n",
       "      <td>84029E</td>\n",
       "      <td>RED WOOLLY HOTTIE WHITE HEART.</td>\n",
       "      <td>6</td>\n",
       "      <td>2010-12-01 08:26:00</td>\n",
       "      <td>3.39</td>\n",
       "      <td>17850.0</td>\n",
       "      <td>United Kingdom</td>\n",
       "      <td>20.34</td>\n",
       "      <td>False</td>\n",
       "      <td>...</td>\n",
       "      <td>1</td>\n",
       "      <td>2</td>\n",
       "      <td>Wednesday</td>\n",
       "      <td>2010-12</td>\n",
       "      <td>08:26:00</td>\n",
       "      <td>8</td>\n",
       "      <td>536365</td>\n",
       "      <td>2010-12-01</td>\n",
       "      <td>2010-12-01</td>\n",
       "      <td>1</td>\n",
       "    </tr>\n",
       "    <tr>\n",
       "      <th>...</th>\n",
       "      <td>...</td>\n",
       "      <td>...</td>\n",
       "      <td>...</td>\n",
       "      <td>...</td>\n",
       "      <td>...</td>\n",
       "      <td>...</td>\n",
       "      <td>...</td>\n",
       "      <td>...</td>\n",
       "      <td>...</td>\n",
       "      <td>...</td>\n",
       "      <td>...</td>\n",
       "      <td>...</td>\n",
       "      <td>...</td>\n",
       "      <td>...</td>\n",
       "      <td>...</td>\n",
       "      <td>...</td>\n",
       "      <td>...</td>\n",
       "      <td>...</td>\n",
       "      <td>...</td>\n",
       "      <td>...</td>\n",
       "      <td>...</td>\n",
       "    </tr>\n",
       "    <tr>\n",
       "      <th>541904</th>\n",
       "      <td>581587</td>\n",
       "      <td>22613</td>\n",
       "      <td>PACK OF 20 SPACEBOY NAPKINS</td>\n",
       "      <td>12</td>\n",
       "      <td>2011-12-09 12:50:00</td>\n",
       "      <td>0.85</td>\n",
       "      <td>12680.0</td>\n",
       "      <td>France</td>\n",
       "      <td>10.20</td>\n",
       "      <td>False</td>\n",
       "      <td>...</td>\n",
       "      <td>9</td>\n",
       "      <td>4</td>\n",
       "      <td>Friday</td>\n",
       "      <td>2011-12</td>\n",
       "      <td>12:50:00</td>\n",
       "      <td>12</td>\n",
       "      <td>581587</td>\n",
       "      <td>2011-12-01</td>\n",
       "      <td>2011-08-01</td>\n",
       "      <td>5</td>\n",
       "    </tr>\n",
       "    <tr>\n",
       "      <th>541905</th>\n",
       "      <td>581587</td>\n",
       "      <td>22899</td>\n",
       "      <td>CHILDREN'S APRON DOLLY GIRL</td>\n",
       "      <td>6</td>\n",
       "      <td>2011-12-09 12:50:00</td>\n",
       "      <td>2.10</td>\n",
       "      <td>12680.0</td>\n",
       "      <td>France</td>\n",
       "      <td>12.60</td>\n",
       "      <td>False</td>\n",
       "      <td>...</td>\n",
       "      <td>9</td>\n",
       "      <td>4</td>\n",
       "      <td>Friday</td>\n",
       "      <td>2011-12</td>\n",
       "      <td>12:50:00</td>\n",
       "      <td>12</td>\n",
       "      <td>581587</td>\n",
       "      <td>2011-12-01</td>\n",
       "      <td>2011-08-01</td>\n",
       "      <td>5</td>\n",
       "    </tr>\n",
       "    <tr>\n",
       "      <th>541906</th>\n",
       "      <td>581587</td>\n",
       "      <td>23254</td>\n",
       "      <td>CHILDRENS CUTLERY DOLLY GIRL</td>\n",
       "      <td>4</td>\n",
       "      <td>2011-12-09 12:50:00</td>\n",
       "      <td>4.15</td>\n",
       "      <td>12680.0</td>\n",
       "      <td>France</td>\n",
       "      <td>16.60</td>\n",
       "      <td>False</td>\n",
       "      <td>...</td>\n",
       "      <td>9</td>\n",
       "      <td>4</td>\n",
       "      <td>Friday</td>\n",
       "      <td>2011-12</td>\n",
       "      <td>12:50:00</td>\n",
       "      <td>12</td>\n",
       "      <td>581587</td>\n",
       "      <td>2011-12-01</td>\n",
       "      <td>2011-08-01</td>\n",
       "      <td>5</td>\n",
       "    </tr>\n",
       "    <tr>\n",
       "      <th>541907</th>\n",
       "      <td>581587</td>\n",
       "      <td>23255</td>\n",
       "      <td>CHILDRENS CUTLERY CIRCUS PARADE</td>\n",
       "      <td>4</td>\n",
       "      <td>2011-12-09 12:50:00</td>\n",
       "      <td>4.15</td>\n",
       "      <td>12680.0</td>\n",
       "      <td>France</td>\n",
       "      <td>16.60</td>\n",
       "      <td>False</td>\n",
       "      <td>...</td>\n",
       "      <td>9</td>\n",
       "      <td>4</td>\n",
       "      <td>Friday</td>\n",
       "      <td>2011-12</td>\n",
       "      <td>12:50:00</td>\n",
       "      <td>12</td>\n",
       "      <td>581587</td>\n",
       "      <td>2011-12-01</td>\n",
       "      <td>2011-08-01</td>\n",
       "      <td>5</td>\n",
       "    </tr>\n",
       "    <tr>\n",
       "      <th>541908</th>\n",
       "      <td>581587</td>\n",
       "      <td>22138</td>\n",
       "      <td>BAKING SET 9 PIECE RETROSPOT</td>\n",
       "      <td>3</td>\n",
       "      <td>2011-12-09 12:50:00</td>\n",
       "      <td>4.95</td>\n",
       "      <td>12680.0</td>\n",
       "      <td>France</td>\n",
       "      <td>14.85</td>\n",
       "      <td>False</td>\n",
       "      <td>...</td>\n",
       "      <td>9</td>\n",
       "      <td>4</td>\n",
       "      <td>Friday</td>\n",
       "      <td>2011-12</td>\n",
       "      <td>12:50:00</td>\n",
       "      <td>12</td>\n",
       "      <td>581587</td>\n",
       "      <td>2011-12-01</td>\n",
       "      <td>2011-08-01</td>\n",
       "      <td>5</td>\n",
       "    </tr>\n",
       "  </tbody>\n",
       "</table>\n",
       "<p>392692 rows × 23 columns</p>\n",
       "</div>"
      ],
      "text/plain": [
       "       InvoiceNo StockCode                          Description  Quantity  \\\n",
       "0         536365    85123A   WHITE HANGING HEART T-LIGHT HOLDER         6   \n",
       "1         536365     71053                  WHITE METAL LANTERN         6   \n",
       "2         536365    84406B       CREAM CUPID HEARTS COAT HANGER         8   \n",
       "3         536365    84029G  KNITTED UNION FLAG HOT WATER BOTTLE         6   \n",
       "4         536365    84029E       RED WOOLLY HOTTIE WHITE HEART.         6   \n",
       "...          ...       ...                                  ...       ...   \n",
       "541904    581587     22613          PACK OF 20 SPACEBOY NAPKINS        12   \n",
       "541905    581587     22899         CHILDREN'S APRON DOLLY GIRL          6   \n",
       "541906    581587     23254        CHILDRENS CUTLERY DOLLY GIRL          4   \n",
       "541907    581587     23255      CHILDRENS CUTLERY CIRCUS PARADE         4   \n",
       "541908    581587     22138        BAKING SET 9 PIECE RETROSPOT          3   \n",
       "\n",
       "               InvoiceDate  UnitPrice  CustomerID         Country  TotalPrice  \\\n",
       "0      2010-12-01 08:26:00       2.55     17850.0  United Kingdom       15.30   \n",
       "1      2010-12-01 08:26:00       3.39     17850.0  United Kingdom       20.34   \n",
       "2      2010-12-01 08:26:00       2.75     17850.0  United Kingdom       22.00   \n",
       "3      2010-12-01 08:26:00       3.39     17850.0  United Kingdom       20.34   \n",
       "4      2010-12-01 08:26:00       3.39     17850.0  United Kingdom       20.34   \n",
       "...                    ...        ...         ...             ...         ...   \n",
       "541904 2011-12-09 12:50:00       0.85     12680.0          France       10.20   \n",
       "541905 2011-12-09 12:50:00       2.10     12680.0          France       12.60   \n",
       "541906 2011-12-09 12:50:00       4.15     12680.0          France       16.60   \n",
       "541907 2011-12-09 12:50:00       4.15     12680.0          France       16.60   \n",
       "541908 2011-12-09 12:50:00       4.95     12680.0          France       14.85   \n",
       "\n",
       "        id_null  ...  InvoiceDay  InvoiceDow  InvoiceDayname  InvoiceYM  \\\n",
       "0         False  ...           1           2       Wednesday    2010-12   \n",
       "1         False  ...           1           2       Wednesday    2010-12   \n",
       "2         False  ...           1           2       Wednesday    2010-12   \n",
       "3         False  ...           1           2       Wednesday    2010-12   \n",
       "4         False  ...           1           2       Wednesday    2010-12   \n",
       "...         ...  ...         ...         ...             ...        ...   \n",
       "541904    False  ...           9           4          Friday    2011-12   \n",
       "541905    False  ...           9           4          Friday    2011-12   \n",
       "541906    False  ...           9           4          Friday    2011-12   \n",
       "541907    False  ...           9           4          Friday    2011-12   \n",
       "541908    False  ...           9           4          Friday    2011-12   \n",
       "\n",
       "        InvoiceTime InvoiceHour InvoiceNoRemoveC InvoiceDate1  InvoiceDateMin  \\\n",
       "0          08:26:00           8           536365   2010-12-01      2010-12-01   \n",
       "1          08:26:00           8           536365   2010-12-01      2010-12-01   \n",
       "2          08:26:00           8           536365   2010-12-01      2010-12-01   \n",
       "3          08:26:00           8           536365   2010-12-01      2010-12-01   \n",
       "4          08:26:00           8           536365   2010-12-01      2010-12-01   \n",
       "...             ...         ...              ...          ...             ...   \n",
       "541904     12:50:00          12           581587   2011-12-01      2011-08-01   \n",
       "541905     12:50:00          12           581587   2011-12-01      2011-08-01   \n",
       "541906     12:50:00          12           581587   2011-12-01      2011-08-01   \n",
       "541907     12:50:00          12           581587   2011-12-01      2011-08-01   \n",
       "541908     12:50:00          12           581587   2011-12-01      2011-08-01   \n",
       "\n",
       "       CohortIndex  \n",
       "0                1  \n",
       "1                1  \n",
       "2                1  \n",
       "3                1  \n",
       "4                1  \n",
       "...            ...  \n",
       "541904           5  \n",
       "541905           5  \n",
       "541906           5  \n",
       "541907           5  \n",
       "541908           5  \n",
       "\n",
       "[392692 rows x 23 columns]"
      ]
     },
     "execution_count": 75,
     "metadata": {},
     "output_type": "execute_result"
    }
   ],
   "source": [
    "# \" 연도차이 * 12개월 + 월차이 + 1 \"로 첫 구매 후 몇달 후 구매인지 알 수 있도록 CohortIndex 변수를 생성합니다.\n",
    "# 2010-12-01부터 2011-12-01의 데이터를 기반으로 진행되어 CohortIndex 변수의 최소값은 1이며, 최대값 13입니다.\n",
    "# df_valid[\"CohortIndex\"]\n",
    "df_valid['CohortIndex'] = year_diff * 12 + month_diff + 1\n",
    "df_valid"
   ]
  },
  {
   "cell_type": "markdown",
   "metadata": {
    "id": "Dzrk-uO5VUqi"
   },
   "source": [
    "### 코호트 월별 빈도수"
   ]
  },
  {
   "cell_type": "code",
   "execution_count": 76,
   "metadata": {
    "colab": {
     "base_uri": "https://localhost:8080/"
    },
    "executionInfo": {
     "elapsed": 15,
     "status": "ok",
     "timestamp": 1634789357990,
     "user": {
      "displayName": "JINY ROH",
      "photoUrl": "https://lh3.googleusercontent.com/a-/AOh14Gi7VIzxUnr7MUJE9Bupl4bkwgEAsz4e1gsgrYIPZw=s64",
      "userId": "06348894780083418282"
     },
     "user_tz": -540
    },
    "id": "cuGdlq1jVUqi",
    "outputId": "850241c5-7e74-472c-e1fd-c9283a9c4f37"
   },
   "outputs": [
    {
     "data": {
      "text/plain": [
       "1     116857\n",
       "2      27516\n",
       "3      26727\n",
       "4      26993\n",
       "5      25165\n",
       "6      26673\n",
       "7      23462\n",
       "8      23298\n",
       "9      22751\n",
       "10     22968\n",
       "11     20098\n",
       "12     23011\n",
       "13      7173\n",
       "Name: CohortIndex, dtype: int64"
      ]
     },
     "execution_count": 76,
     "metadata": {},
     "output_type": "execute_result"
    }
   ],
   "source": [
    "# CohortIndex 값으로 월별 잔존 구매에 대한 빈도수를 구합니다.\n",
    "# 회원가입 후 월별 구매 빈도수를 value_counts 로 구합니다.\n",
    "df_valid['CohortIndex'].value_counts().sort_index()"
   ]
  },
  {
   "cell_type": "code",
   "execution_count": 77,
   "metadata": {
    "colab": {
     "base_uri": "https://localhost:8080/",
     "height": 298
    },
    "executionInfo": {
     "elapsed": 12,
     "status": "ok",
     "timestamp": 1634789357991,
     "user": {
      "displayName": "JINY ROH",
      "photoUrl": "https://lh3.googleusercontent.com/a-/AOh14Gi7VIzxUnr7MUJE9Bupl4bkwgEAsz4e1gsgrYIPZw=s64",
      "userId": "06348894780083418282"
     },
     "user_tz": -540
    },
    "id": "O3yTHc5EVUqi",
    "outputId": "3d00b9d7-f686-4791-fe56-8ad23e8de469"
   },
   "outputs": [
    {
     "data": {
      "text/plain": [
       "<AxesSubplot:xlabel='CohortIndex', ylabel='count'>"
      ]
     },
     "execution_count": 77,
     "metadata": {},
     "output_type": "execute_result"
    },
    {
     "data": {
      "image/png": "[encoded data removed]",
      "text/plain": [
       "<Figure size 864x288 with 1 Axes>"
      ]
     },
     "metadata": {
      "needs_background": "light"
     },
     "output_type": "display_data"
    }
   ],
   "source": [
    "# countplot 으로 CohortIndex 의 빈도수를 시각화합니다.\n",
    "plt.figure(figsize=(12, 4))\n",
    "sns.countplot(data=df_valid, x=\"CohortIndex\")"
   ]
  },
  {
   "cell_type": "markdown",
   "metadata": {
    "id": "pttmLPouVUqk"
   },
   "source": [
    "## 월별, 주문건, 주문제품 종류 수, 중복을 제외한 고객 수, 총 주문금액"
   ]
  },
  {
   "cell_type": "code",
   "execution_count": 79,
   "metadata": {
    "colab": {
     "base_uri": "https://localhost:8080/",
     "height": 318
    },
    "executionInfo": {
     "elapsed": 318,
     "status": "ok",
     "timestamp": 1634789358304,
     "user": {
      "displayName": "JINY ROH",
      "photoUrl": "https://lh3.googleusercontent.com/a-/AOh14Gi7VIzxUnr7MUJE9Bupl4bkwgEAsz4e1gsgrYIPZw=s64",
      "userId": "06348894780083418282"
     },
     "user_tz": -540
    },
    "id": "kaoFCIYHVUqk",
    "outputId": "644076c3-3d1b-4ebc-9cc2-d37af490dab9"
   },
   "outputs": [
    {
     "data": {
      "text/html": [
       "<style type=\"text/css\">\n",
       "</style>\n",
       "<table id=\"T_5f3cc_\">\n",
       "  <thead>\n",
       "    <tr>\n",
       "      <th class=\"blank level0\" >&nbsp;</th>\n",
       "      <th class=\"col_heading level0 col0\" >InvoiceNo</th>\n",
       "      <th class=\"col_heading level0 col1\" >StockCode</th>\n",
       "      <th class=\"col_heading level0 col2\" >CustomerID</th>\n",
       "      <th class=\"col_heading level0 col3\" >UnitPrice</th>\n",
       "      <th class=\"col_heading level0 col4\" >Quantity</th>\n",
       "      <th class=\"col_heading level0 col5\" >TotalPrice</th>\n",
       "    </tr>\n",
       "    <tr>\n",
       "      <th class=\"index_name level0\" >InvoiceMonth</th>\n",
       "      <th class=\"blank col0\" >&nbsp;</th>\n",
       "      <th class=\"blank col1\" >&nbsp;</th>\n",
       "      <th class=\"blank col2\" >&nbsp;</th>\n",
       "      <th class=\"blank col3\" >&nbsp;</th>\n",
       "      <th class=\"blank col4\" >&nbsp;</th>\n",
       "      <th class=\"blank col5\" >&nbsp;</th>\n",
       "    </tr>\n",
       "  </thead>\n",
       "  <tbody>\n",
       "    <tr>\n",
       "      <th id=\"T_5f3cc_level0_row0\" class=\"row_heading level0 row0\" >1</th>\n",
       "      <td id=\"T_5f3cc_row0_col0\" class=\"data row0 col0\" >20,988</td>\n",
       "      <td id=\"T_5f3cc_row0_col1\" class=\"data row0 col1\" >2,121</td>\n",
       "      <td id=\"T_5f3cc_row0_col2\" class=\"data row0 col2\" >741</td>\n",
       "      <td id=\"T_5f3cc_row0_col3\" class=\"data row0 col3\" >66,234.65</td>\n",
       "      <td id=\"T_5f3cc_row0_col4\" class=\"data row0 col4\" >348,473</td>\n",
       "      <td id=\"T_5f3cc_row0_col5\" class=\"data row0 col5\" >568,101.31</td>\n",
       "    </tr>\n",
       "    <tr>\n",
       "      <th id=\"T_5f3cc_level0_row1\" class=\"row_heading level0 row1\" >2</th>\n",
       "      <td id=\"T_5f3cc_row1_col0\" class=\"data row1 col0\" >19,706</td>\n",
       "      <td id=\"T_5f3cc_row1_col1\" class=\"data row1 col1\" >2,124</td>\n",
       "      <td id=\"T_5f3cc_row1_col2\" class=\"data row1 col2\" >758</td>\n",
       "      <td id=\"T_5f3cc_row1_col3\" class=\"data row1 col3\" >62,619.48</td>\n",
       "      <td id=\"T_5f3cc_row1_col4\" class=\"data row1 col4\" >265,027</td>\n",
       "      <td id=\"T_5f3cc_row1_col5\" class=\"data row1 col5\" >446,084.92</td>\n",
       "    </tr>\n",
       "    <tr>\n",
       "      <th id=\"T_5f3cc_level0_row2\" class=\"row_heading level0 row2\" >3</th>\n",
       "      <td id=\"T_5f3cc_row2_col0\" class=\"data row2 col0\" >26,870</td>\n",
       "      <td id=\"T_5f3cc_row2_col1\" class=\"data row2 col1\" >2,234</td>\n",
       "      <td id=\"T_5f3cc_row2_col2\" class=\"data row2 col2\" >974</td>\n",
       "      <td id=\"T_5f3cc_row2_col3\" class=\"data row2 col3\" >87,864.79</td>\n",
       "      <td id=\"T_5f3cc_row2_col4\" class=\"data row2 col4\" >347,582</td>\n",
       "      <td id=\"T_5f3cc_row2_col5\" class=\"data row2 col5\" >594,081.76</td>\n",
       "    </tr>\n",
       "    <tr>\n",
       "      <th id=\"T_5f3cc_level0_row3\" class=\"row_heading level0 row3\" >4</th>\n",
       "      <td id=\"T_5f3cc_row3_col0\" class=\"data row3 col0\" >22,433</td>\n",
       "      <td id=\"T_5f3cc_row3_col1\" class=\"data row3 col1\" >2,217</td>\n",
       "      <td id=\"T_5f3cc_row3_col2\" class=\"data row3 col2\" >856</td>\n",
       "      <td id=\"T_5f3cc_row3_col3\" class=\"data row3 col3\" >78,543.481</td>\n",
       "      <td id=\"T_5f3cc_row3_col4\" class=\"data row3 col4\" >291,366</td>\n",
       "      <td id=\"T_5f3cc_row3_col5\" class=\"data row3 col5\" >468,374.331</td>\n",
       "    </tr>\n",
       "    <tr>\n",
       "      <th id=\"T_5f3cc_level0_row4\" class=\"row_heading level0 row4\" >5</th>\n",
       "      <td id=\"T_5f3cc_row4_col0\" class=\"data row4 col0\" >28,073</td>\n",
       "      <td id=\"T_5f3cc_row4_col1\" class=\"data row4 col1\" >2,219</td>\n",
       "      <td id=\"T_5f3cc_row4_col2\" class=\"data row4 col2\" >1,056</td>\n",
       "      <td id=\"T_5f3cc_row4_col3\" class=\"data row4 col3\" >101,500.91</td>\n",
       "      <td id=\"T_5f3cc_row4_col4\" class=\"data row4 col4\" >372,864</td>\n",
       "      <td id=\"T_5f3cc_row4_col5\" class=\"data row4 col5\" >677,355.15</td>\n",
       "    </tr>\n",
       "    <tr>\n",
       "      <th id=\"T_5f3cc_level0_row5\" class=\"row_heading level0 row5\" >6</th>\n",
       "      <td id=\"T_5f3cc_row5_col0\" class=\"data row5 col0\" >26,926</td>\n",
       "      <td id=\"T_5f3cc_row5_col1\" class=\"data row5 col1\" >2,339</td>\n",
       "      <td id=\"T_5f3cc_row5_col2\" class=\"data row5 col2\" >991</td>\n",
       "      <td id=\"T_5f3cc_row5_col3\" class=\"data row5 col3\" >84,602.66</td>\n",
       "      <td id=\"T_5f3cc_row5_col4\" class=\"data row5 col4\" >363,014</td>\n",
       "      <td id=\"T_5f3cc_row5_col5\" class=\"data row5 col5\" >660,046.05</td>\n",
       "    </tr>\n",
       "    <tr>\n",
       "      <th id=\"T_5f3cc_level0_row6\" class=\"row_heading level0 row6\" >7</th>\n",
       "      <td id=\"T_5f3cc_row6_col0\" class=\"data row6 col0\" >26,580</td>\n",
       "      <td id=\"T_5f3cc_row6_col1\" class=\"data row6 col1\" >2,351</td>\n",
       "      <td id=\"T_5f3cc_row6_col2\" class=\"data row6 col2\" >949</td>\n",
       "      <td id=\"T_5f3cc_row6_col3\" class=\"data row6 col3\" >75,454.521</td>\n",
       "      <td id=\"T_5f3cc_row6_col4\" class=\"data row6 col4\" >367,360</td>\n",
       "      <td id=\"T_5f3cc_row6_col5\" class=\"data row6 col5\" >598,962.901</td>\n",
       "    </tr>\n",
       "    <tr>\n",
       "      <th id=\"T_5f3cc_level0_row7\" class=\"row_heading level0 row7\" >8</th>\n",
       "      <td id=\"T_5f3cc_row7_col0\" class=\"data row7 col0\" >26,790</td>\n",
       "      <td id=\"T_5f3cc_row7_col1\" class=\"data row7 col1\" >2,356</td>\n",
       "      <td id=\"T_5f3cc_row7_col2\" class=\"data row7 col2\" >935</td>\n",
       "      <td id=\"T_5f3cc_row7_col3\" class=\"data row7 col3\" >78,877.09</td>\n",
       "      <td id=\"T_5f3cc_row7_col4\" class=\"data row7 col4\" >397,373</td>\n",
       "      <td id=\"T_5f3cc_row7_col5\" class=\"data row7 col5\" >644,051.04</td>\n",
       "    </tr>\n",
       "    <tr>\n",
       "      <th id=\"T_5f3cc_level0_row8\" class=\"row_heading level0 row8\" >9</th>\n",
       "      <td id=\"T_5f3cc_row8_col0\" class=\"data row8 col0\" >39,669</td>\n",
       "      <td id=\"T_5f3cc_row8_col1\" class=\"data row8 col1\" >2,545</td>\n",
       "      <td id=\"T_5f3cc_row8_col2\" class=\"data row8 col2\" >1,266</td>\n",
       "      <td id=\"T_5f3cc_row8_col3\" class=\"data row8 col3\" >118,160.322</td>\n",
       "      <td id=\"T_5f3cc_row8_col4\" class=\"data row8 col4\" >543,652</td>\n",
       "      <td id=\"T_5f3cc_row8_col5\" class=\"data row8 col5\" >950,690.202</td>\n",
       "    </tr>\n",
       "    <tr>\n",
       "      <th id=\"T_5f3cc_level0_row9\" class=\"row_heading level0 row9\" >10</th>\n",
       "      <td id=\"T_5f3cc_row9_col0\" class=\"data row9 col0\" >48,793</td>\n",
       "      <td id=\"T_5f3cc_row9_col1\" class=\"data row9 col1\" >2,622</td>\n",
       "      <td id=\"T_5f3cc_row9_col2\" class=\"data row9 col2\" >1,364</td>\n",
       "      <td id=\"T_5f3cc_row9_col3\" class=\"data row9 col3\" >164,084.09</td>\n",
       "      <td id=\"T_5f3cc_row9_col4\" class=\"data row9 col4\" >591,543</td>\n",
       "      <td id=\"T_5f3cc_row9_col5\" class=\"data row9 col5\" >1,035,642.45</td>\n",
       "    </tr>\n",
       "    <tr>\n",
       "      <th id=\"T_5f3cc_level0_row10\" class=\"row_heading level0 row10\" >11</th>\n",
       "      <td id=\"T_5f3cc_row10_col0\" class=\"data row10 col0\" >63,168</td>\n",
       "      <td id=\"T_5f3cc_row10_col1\" class=\"data row10 col1\" >2,695</td>\n",
       "      <td id=\"T_5f3cc_row10_col2\" class=\"data row10 col2\" >1,664</td>\n",
       "      <td id=\"T_5f3cc_row10_col3\" class=\"data row10 col3\" >182,340.09</td>\n",
       "      <td id=\"T_5f3cc_row10_col4\" class=\"data row10 col4\" >665,923</td>\n",
       "      <td id=\"T_5f3cc_row10_col5\" class=\"data row10 col5\" >1,156,205.61</td>\n",
       "    </tr>\n",
       "    <tr>\n",
       "      <th id=\"T_5f3cc_level0_row11\" class=\"row_heading level0 row11\" >12</th>\n",
       "      <td id=\"T_5f3cc_row11_col0\" class=\"data row11 col0\" >42,696</td>\n",
       "      <td id=\"T_5f3cc_row11_col1\" class=\"data row11 col1\" >3,079</td>\n",
       "      <td id=\"T_5f3cc_row11_col2\" class=\"data row11 col2\" >1,265</td>\n",
       "      <td id=\"T_5f3cc_row11_col3\" class=\"data row11 col3\" >127,239.3</td>\n",
       "      <td id=\"T_5f3cc_row11_col4\" class=\"data row11 col4\" >597,825</td>\n",
       "      <td id=\"T_5f3cc_row11_col5\" class=\"data row11 col5\" >1,087,613.17</td>\n",
       "    </tr>\n",
       "  </tbody>\n",
       "</table>\n"
      ],
      "text/plain": [
       "<pandas.io.formats.style.Styler at 0x1bc5380acd0>"
      ]
     },
     "execution_count": 79,
     "metadata": {},
     "output_type": "execute_result"
    }
   ],
   "source": [
    "# df_valid(유효고객, 유효주문)에 대해 월별 데이터( InvoiceMonth )를 확인합니다.\n",
    "# InvoiceNo 의 수\n",
    "# StockCode, CustomerID 의 유일값의 수\n",
    "# UnitPrice, Quantity, TotalPrice 의 sum\n",
    "df_valid.groupby('InvoiceMonth').agg({\"InvoiceNo\":\"count\",\n",
    "                                      \"StockCode\":\"nunique\", \n",
    "                                      \"CustomerID\":\"nunique\",\n",
    "                                      \"UnitPrice\":\"sum\",\n",
    "                                      \"Quantity\":\"sum\",\n",
    "                                      \"TotalPrice\":\"sum\"\n",
    "                                     }).style.format(\"{:,}\")"
   ]
  },
  {
   "cell_type": "markdown",
   "metadata": {
    "id": "iGfd7BtbVUqk"
   },
   "source": [
    "## 잔존 빈도 구하기"
   ]
  },
  {
   "cell_type": "code",
   "execution_count": 84,
   "metadata": {
    "colab": {
     "base_uri": "https://localhost:8080/",
     "height": 488
    },
    "executionInfo": {
     "elapsed": 9,
     "status": "ok",
     "timestamp": 1634789358305,
     "user": {
      "displayName": "JINY ROH",
      "photoUrl": "https://lh3.googleusercontent.com/a-/AOh14Gi7VIzxUnr7MUJE9Bupl4bkwgEAsz4e1gsgrYIPZw=s64",
      "userId": "06348894780083418282"
     },
     "user_tz": -540
    },
    "id": "Jk5MZXgfVUql",
    "outputId": "2952174e-01d5-4394-fb06-8ee0125eea09"
   },
   "outputs": [
    {
     "data": {
      "text/html": [
       "<div>\n",
       "<style scoped>\n",
       "    .dataframe tbody tr th:only-of-type {\n",
       "        vertical-align: middle;\n",
       "    }\n",
       "\n",
       "    .dataframe tbody tr th {\n",
       "        vertical-align: top;\n",
       "    }\n",
       "\n",
       "    .dataframe thead th {\n",
       "        text-align: right;\n",
       "    }\n",
       "</style>\n",
       "<table border=\"1\" class=\"dataframe\">\n",
       "  <thead>\n",
       "    <tr style=\"text-align: right;\">\n",
       "      <th>CohortIndex</th>\n",
       "      <th>1</th>\n",
       "      <th>2</th>\n",
       "      <th>3</th>\n",
       "      <th>4</th>\n",
       "      <th>5</th>\n",
       "      <th>6</th>\n",
       "      <th>7</th>\n",
       "      <th>8</th>\n",
       "      <th>9</th>\n",
       "      <th>10</th>\n",
       "      <th>11</th>\n",
       "      <th>12</th>\n",
       "      <th>13</th>\n",
       "    </tr>\n",
       "    <tr>\n",
       "      <th>InvoiceDateMin</th>\n",
       "      <th></th>\n",
       "      <th></th>\n",
       "      <th></th>\n",
       "      <th></th>\n",
       "      <th></th>\n",
       "      <th></th>\n",
       "      <th></th>\n",
       "      <th></th>\n",
       "      <th></th>\n",
       "      <th></th>\n",
       "      <th></th>\n",
       "      <th></th>\n",
       "      <th></th>\n",
       "    </tr>\n",
       "  </thead>\n",
       "  <tbody>\n",
       "    <tr>\n",
       "      <th>2010-12-01</th>\n",
       "      <td>885.0</td>\n",
       "      <td>324.0</td>\n",
       "      <td>286.0</td>\n",
       "      <td>340.0</td>\n",
       "      <td>321.0</td>\n",
       "      <td>352.0</td>\n",
       "      <td>321.0</td>\n",
       "      <td>309.0</td>\n",
       "      <td>313.0</td>\n",
       "      <td>350.0</td>\n",
       "      <td>331.0</td>\n",
       "      <td>445.0</td>\n",
       "      <td>235.0</td>\n",
       "    </tr>\n",
       "    <tr>\n",
       "      <th>2011-01-01</th>\n",
       "      <td>417.0</td>\n",
       "      <td>92.0</td>\n",
       "      <td>111.0</td>\n",
       "      <td>96.0</td>\n",
       "      <td>134.0</td>\n",
       "      <td>120.0</td>\n",
       "      <td>103.0</td>\n",
       "      <td>101.0</td>\n",
       "      <td>125.0</td>\n",
       "      <td>136.0</td>\n",
       "      <td>152.0</td>\n",
       "      <td>49.0</td>\n",
       "      <td>NaN</td>\n",
       "    </tr>\n",
       "    <tr>\n",
       "      <th>2011-02-01</th>\n",
       "      <td>380.0</td>\n",
       "      <td>71.0</td>\n",
       "      <td>71.0</td>\n",
       "      <td>108.0</td>\n",
       "      <td>103.0</td>\n",
       "      <td>94.0</td>\n",
       "      <td>96.0</td>\n",
       "      <td>106.0</td>\n",
       "      <td>94.0</td>\n",
       "      <td>116.0</td>\n",
       "      <td>26.0</td>\n",
       "      <td>NaN</td>\n",
       "      <td>NaN</td>\n",
       "    </tr>\n",
       "    <tr>\n",
       "      <th>2011-03-01</th>\n",
       "      <td>452.0</td>\n",
       "      <td>68.0</td>\n",
       "      <td>114.0</td>\n",
       "      <td>90.0</td>\n",
       "      <td>101.0</td>\n",
       "      <td>76.0</td>\n",
       "      <td>121.0</td>\n",
       "      <td>104.0</td>\n",
       "      <td>126.0</td>\n",
       "      <td>39.0</td>\n",
       "      <td>NaN</td>\n",
       "      <td>NaN</td>\n",
       "      <td>NaN</td>\n",
       "    </tr>\n",
       "    <tr>\n",
       "      <th>2011-04-01</th>\n",
       "      <td>300.0</td>\n",
       "      <td>64.0</td>\n",
       "      <td>61.0</td>\n",
       "      <td>63.0</td>\n",
       "      <td>59.0</td>\n",
       "      <td>68.0</td>\n",
       "      <td>65.0</td>\n",
       "      <td>78.0</td>\n",
       "      <td>22.0</td>\n",
       "      <td>NaN</td>\n",
       "      <td>NaN</td>\n",
       "      <td>NaN</td>\n",
       "      <td>NaN</td>\n",
       "    </tr>\n",
       "    <tr>\n",
       "      <th>2011-05-01</th>\n",
       "      <td>284.0</td>\n",
       "      <td>54.0</td>\n",
       "      <td>49.0</td>\n",
       "      <td>49.0</td>\n",
       "      <td>59.0</td>\n",
       "      <td>66.0</td>\n",
       "      <td>75.0</td>\n",
       "      <td>27.0</td>\n",
       "      <td>NaN</td>\n",
       "      <td>NaN</td>\n",
       "      <td>NaN</td>\n",
       "      <td>NaN</td>\n",
       "      <td>NaN</td>\n",
       "    </tr>\n",
       "    <tr>\n",
       "      <th>2011-06-01</th>\n",
       "      <td>242.0</td>\n",
       "      <td>42.0</td>\n",
       "      <td>38.0</td>\n",
       "      <td>64.0</td>\n",
       "      <td>56.0</td>\n",
       "      <td>81.0</td>\n",
       "      <td>23.0</td>\n",
       "      <td>NaN</td>\n",
       "      <td>NaN</td>\n",
       "      <td>NaN</td>\n",
       "      <td>NaN</td>\n",
       "      <td>NaN</td>\n",
       "      <td>NaN</td>\n",
       "    </tr>\n",
       "    <tr>\n",
       "      <th>2011-07-01</th>\n",
       "      <td>188.0</td>\n",
       "      <td>34.0</td>\n",
       "      <td>39.0</td>\n",
       "      <td>42.0</td>\n",
       "      <td>51.0</td>\n",
       "      <td>21.0</td>\n",
       "      <td>NaN</td>\n",
       "      <td>NaN</td>\n",
       "      <td>NaN</td>\n",
       "      <td>NaN</td>\n",
       "      <td>NaN</td>\n",
       "      <td>NaN</td>\n",
       "      <td>NaN</td>\n",
       "    </tr>\n",
       "    <tr>\n",
       "      <th>2011-08-01</th>\n",
       "      <td>169.0</td>\n",
       "      <td>35.0</td>\n",
       "      <td>42.0</td>\n",
       "      <td>41.0</td>\n",
       "      <td>21.0</td>\n",
       "      <td>NaN</td>\n",
       "      <td>NaN</td>\n",
       "      <td>NaN</td>\n",
       "      <td>NaN</td>\n",
       "      <td>NaN</td>\n",
       "      <td>NaN</td>\n",
       "      <td>NaN</td>\n",
       "      <td>NaN</td>\n",
       "    </tr>\n",
       "    <tr>\n",
       "      <th>2011-09-01</th>\n",
       "      <td>299.0</td>\n",
       "      <td>70.0</td>\n",
       "      <td>90.0</td>\n",
       "      <td>34.0</td>\n",
       "      <td>NaN</td>\n",
       "      <td>NaN</td>\n",
       "      <td>NaN</td>\n",
       "      <td>NaN</td>\n",
       "      <td>NaN</td>\n",
       "      <td>NaN</td>\n",
       "      <td>NaN</td>\n",
       "      <td>NaN</td>\n",
       "      <td>NaN</td>\n",
       "    </tr>\n",
       "    <tr>\n",
       "      <th>2011-10-01</th>\n",
       "      <td>358.0</td>\n",
       "      <td>86.0</td>\n",
       "      <td>41.0</td>\n",
       "      <td>NaN</td>\n",
       "      <td>NaN</td>\n",
       "      <td>NaN</td>\n",
       "      <td>NaN</td>\n",
       "      <td>NaN</td>\n",
       "      <td>NaN</td>\n",
       "      <td>NaN</td>\n",
       "      <td>NaN</td>\n",
       "      <td>NaN</td>\n",
       "      <td>NaN</td>\n",
       "    </tr>\n",
       "    <tr>\n",
       "      <th>2011-11-01</th>\n",
       "      <td>323.0</td>\n",
       "      <td>36.0</td>\n",
       "      <td>NaN</td>\n",
       "      <td>NaN</td>\n",
       "      <td>NaN</td>\n",
       "      <td>NaN</td>\n",
       "      <td>NaN</td>\n",
       "      <td>NaN</td>\n",
       "      <td>NaN</td>\n",
       "      <td>NaN</td>\n",
       "      <td>NaN</td>\n",
       "      <td>NaN</td>\n",
       "      <td>NaN</td>\n",
       "    </tr>\n",
       "    <tr>\n",
       "      <th>2011-12-01</th>\n",
       "      <td>41.0</td>\n",
       "      <td>NaN</td>\n",
       "      <td>NaN</td>\n",
       "      <td>NaN</td>\n",
       "      <td>NaN</td>\n",
       "      <td>NaN</td>\n",
       "      <td>NaN</td>\n",
       "      <td>NaN</td>\n",
       "      <td>NaN</td>\n",
       "      <td>NaN</td>\n",
       "      <td>NaN</td>\n",
       "      <td>NaN</td>\n",
       "      <td>NaN</td>\n",
       "    </tr>\n",
       "  </tbody>\n",
       "</table>\n",
       "</div>"
      ],
      "text/plain": [
       "CohortIndex        1      2      3      4      5      6      7      8      9   \\\n",
       "InvoiceDateMin                                                                  \n",
       "2010-12-01      885.0  324.0  286.0  340.0  321.0  352.0  321.0  309.0  313.0   \n",
       "2011-01-01      417.0   92.0  111.0   96.0  134.0  120.0  103.0  101.0  125.0   \n",
       "2011-02-01      380.0   71.0   71.0  108.0  103.0   94.0   96.0  106.0   94.0   \n",
       "2011-03-01      452.0   68.0  114.0   90.0  101.0   76.0  121.0  104.0  126.0   \n",
       "2011-04-01      300.0   64.0   61.0   63.0   59.0   68.0   65.0   78.0   22.0   \n",
       "2011-05-01      284.0   54.0   49.0   49.0   59.0   66.0   75.0   27.0    NaN   \n",
       "2011-06-01      242.0   42.0   38.0   64.0   56.0   81.0   23.0    NaN    NaN   \n",
       "2011-07-01      188.0   34.0   39.0   42.0   51.0   21.0    NaN    NaN    NaN   \n",
       "2011-08-01      169.0   35.0   42.0   41.0   21.0    NaN    NaN    NaN    NaN   \n",
       "2011-09-01      299.0   70.0   90.0   34.0    NaN    NaN    NaN    NaN    NaN   \n",
       "2011-10-01      358.0   86.0   41.0    NaN    NaN    NaN    NaN    NaN    NaN   \n",
       "2011-11-01      323.0   36.0    NaN    NaN    NaN    NaN    NaN    NaN    NaN   \n",
       "2011-12-01       41.0    NaN    NaN    NaN    NaN    NaN    NaN    NaN    NaN   \n",
       "\n",
       "CohortIndex        10     11     12     13  \n",
       "InvoiceDateMin                              \n",
       "2010-12-01      350.0  331.0  445.0  235.0  \n",
       "2011-01-01      136.0  152.0   49.0    NaN  \n",
       "2011-02-01      116.0   26.0    NaN    NaN  \n",
       "2011-03-01       39.0    NaN    NaN    NaN  \n",
       "2011-04-01        NaN    NaN    NaN    NaN  \n",
       "2011-05-01        NaN    NaN    NaN    NaN  \n",
       "2011-06-01        NaN    NaN    NaN    NaN  \n",
       "2011-07-01        NaN    NaN    NaN    NaN  \n",
       "2011-08-01        NaN    NaN    NaN    NaN  \n",
       "2011-09-01        NaN    NaN    NaN    NaN  \n",
       "2011-10-01        NaN    NaN    NaN    NaN  \n",
       "2011-11-01        NaN    NaN    NaN    NaN  \n",
       "2011-12-01        NaN    NaN    NaN    NaN  "
      ]
     },
     "execution_count": 84,
     "metadata": {},
     "output_type": "execute_result"
    }
   ],
   "source": [
    "# InvoiceDateMin , CohortIndex 로 그룹화 하여 CustomerID 의 유일값에 대한 빈도수를 구합니다.\n",
    "# cohort_count\n",
    "cohort_count = df_valid.groupby(['InvoiceDateMin', 'CohortIndex'])['CustomerID'].nunique().unstack()\n",
    "cohort_count"
   ]
  },
  {
   "cell_type": "code",
   "execution_count": 90,
   "metadata": {},
   "outputs": [],
   "source": [
    "cohort_count.index = cohort_count.index.astype(str)"
   ]
  },
  {
   "cell_type": "code",
   "execution_count": 91,
   "metadata": {
    "colab": {
     "base_uri": "https://localhost:8080/",
     "height": 516
    },
    "executionInfo": {
     "elapsed": 1168,
     "status": "ok",
     "timestamp": 1634789359465,
     "user": {
      "displayName": "JINY ROH",
      "photoUrl": "https://lh3.googleusercontent.com/a-/AOh14Gi7VIzxUnr7MUJE9Bupl4bkwgEAsz4e1gsgrYIPZw=s64",
      "userId": "06348894780083418282"
     },
     "user_tz": -540
    },
    "id": "u_HooWzvVUql",
    "outputId": "087b5350-76a3-4502-afa7-b7e8444dab91"
   },
   "outputs": [
    {
     "data": {
      "text/plain": [
       "<AxesSubplot:xlabel='CohortIndex', ylabel='InvoiceDateMin'>"
      ]
     },
     "execution_count": 91,
     "metadata": {},
     "output_type": "execute_result"
    },
    {
     "data": {
      "image/png": "[encoded data removed]",
      "text/plain": [
       "<Figure size 864x576 with 2 Axes>"
      ]
     },
     "metadata": {
      "needs_background": "light"
     },
     "output_type": "display_data"
    }
   ],
   "source": [
    "# heatmap을 통해 위에서 구한 잔존수을 시각화 합니다.\n",
    "plt.figure(figsize=(12, 8))\n",
    "sns.heatmap(data=cohort_count, annot=True, fmt=\".0f\", cmap='Blues')"
   ]
  },
  {
   "cell_type": "markdown",
   "metadata": {
    "id": "pBm8RhFuVUql"
   },
   "source": [
    "## 잔존율 구하기"
   ]
  },
  {
   "cell_type": "code",
   "execution_count": 98,
   "metadata": {
    "colab": {
     "base_uri": "https://localhost:8080/",
     "height": 488
    },
    "executionInfo": {
     "elapsed": 10,
     "status": "ok",
     "timestamp": 1634789359466,
     "user": {
      "displayName": "JINY ROH",
      "photoUrl": "https://lh3.googleusercontent.com/a-/AOh14Gi7VIzxUnr7MUJE9Bupl4bkwgEAsz4e1gsgrYIPZw=s64",
      "userId": "06348894780083418282"
     },
     "user_tz": -540
    },
    "id": "tJPPTLnJVUqm",
    "outputId": "64bcbda8-8f14-4845-a4f5-c0e575d85a6b"
   },
   "outputs": [
    {
     "data": {
      "text/html": [
       "<div>\n",
       "<style scoped>\n",
       "    .dataframe tbody tr th:only-of-type {\n",
       "        vertical-align: middle;\n",
       "    }\n",
       "\n",
       "    .dataframe tbody tr th {\n",
       "        vertical-align: top;\n",
       "    }\n",
       "\n",
       "    .dataframe thead th {\n",
       "        text-align: right;\n",
       "    }\n",
       "</style>\n",
       "<table border=\"1\" class=\"dataframe\">\n",
       "  <thead>\n",
       "    <tr style=\"text-align: right;\">\n",
       "      <th>CohortIndex</th>\n",
       "      <th>1</th>\n",
       "      <th>2</th>\n",
       "      <th>3</th>\n",
       "      <th>4</th>\n",
       "      <th>5</th>\n",
       "      <th>6</th>\n",
       "      <th>7</th>\n",
       "      <th>8</th>\n",
       "      <th>9</th>\n",
       "      <th>10</th>\n",
       "      <th>11</th>\n",
       "      <th>12</th>\n",
       "      <th>13</th>\n",
       "    </tr>\n",
       "    <tr>\n",
       "      <th>InvoiceDateMin</th>\n",
       "      <th></th>\n",
       "      <th></th>\n",
       "      <th></th>\n",
       "      <th></th>\n",
       "      <th></th>\n",
       "      <th></th>\n",
       "      <th></th>\n",
       "      <th></th>\n",
       "      <th></th>\n",
       "      <th></th>\n",
       "      <th></th>\n",
       "      <th></th>\n",
       "      <th></th>\n",
       "    </tr>\n",
       "  </thead>\n",
       "  <tbody>\n",
       "    <tr>\n",
       "      <th>2010-12-01</th>\n",
       "      <td>100.0</td>\n",
       "      <td>36.61</td>\n",
       "      <td>32.32</td>\n",
       "      <td>38.42</td>\n",
       "      <td>36.27</td>\n",
       "      <td>39.77</td>\n",
       "      <td>36.27</td>\n",
       "      <td>34.92</td>\n",
       "      <td>35.37</td>\n",
       "      <td>39.55</td>\n",
       "      <td>37.40</td>\n",
       "      <td>50.28</td>\n",
       "      <td>26.55</td>\n",
       "    </tr>\n",
       "    <tr>\n",
       "      <th>2011-01-01</th>\n",
       "      <td>100.0</td>\n",
       "      <td>22.06</td>\n",
       "      <td>26.62</td>\n",
       "      <td>23.02</td>\n",
       "      <td>32.13</td>\n",
       "      <td>28.78</td>\n",
       "      <td>24.70</td>\n",
       "      <td>24.22</td>\n",
       "      <td>29.98</td>\n",
       "      <td>32.61</td>\n",
       "      <td>36.45</td>\n",
       "      <td>11.75</td>\n",
       "      <td>NaN</td>\n",
       "    </tr>\n",
       "    <tr>\n",
       "      <th>2011-02-01</th>\n",
       "      <td>100.0</td>\n",
       "      <td>18.68</td>\n",
       "      <td>18.68</td>\n",
       "      <td>28.42</td>\n",
       "      <td>27.11</td>\n",
       "      <td>24.74</td>\n",
       "      <td>25.26</td>\n",
       "      <td>27.89</td>\n",
       "      <td>24.74</td>\n",
       "      <td>30.53</td>\n",
       "      <td>6.84</td>\n",
       "      <td>NaN</td>\n",
       "      <td>NaN</td>\n",
       "    </tr>\n",
       "    <tr>\n",
       "      <th>2011-03-01</th>\n",
       "      <td>100.0</td>\n",
       "      <td>15.04</td>\n",
       "      <td>25.22</td>\n",
       "      <td>19.91</td>\n",
       "      <td>22.35</td>\n",
       "      <td>16.81</td>\n",
       "      <td>26.77</td>\n",
       "      <td>23.01</td>\n",
       "      <td>27.88</td>\n",
       "      <td>8.63</td>\n",
       "      <td>NaN</td>\n",
       "      <td>NaN</td>\n",
       "      <td>NaN</td>\n",
       "    </tr>\n",
       "    <tr>\n",
       "      <th>2011-04-01</th>\n",
       "      <td>100.0</td>\n",
       "      <td>21.33</td>\n",
       "      <td>20.33</td>\n",
       "      <td>21.00</td>\n",
       "      <td>19.67</td>\n",
       "      <td>22.67</td>\n",
       "      <td>21.67</td>\n",
       "      <td>26.00</td>\n",
       "      <td>7.33</td>\n",
       "      <td>NaN</td>\n",
       "      <td>NaN</td>\n",
       "      <td>NaN</td>\n",
       "      <td>NaN</td>\n",
       "    </tr>\n",
       "    <tr>\n",
       "      <th>2011-05-01</th>\n",
       "      <td>100.0</td>\n",
       "      <td>19.01</td>\n",
       "      <td>17.25</td>\n",
       "      <td>17.25</td>\n",
       "      <td>20.77</td>\n",
       "      <td>23.24</td>\n",
       "      <td>26.41</td>\n",
       "      <td>9.51</td>\n",
       "      <td>NaN</td>\n",
       "      <td>NaN</td>\n",
       "      <td>NaN</td>\n",
       "      <td>NaN</td>\n",
       "      <td>NaN</td>\n",
       "    </tr>\n",
       "    <tr>\n",
       "      <th>2011-06-01</th>\n",
       "      <td>100.0</td>\n",
       "      <td>17.36</td>\n",
       "      <td>15.70</td>\n",
       "      <td>26.45</td>\n",
       "      <td>23.14</td>\n",
       "      <td>33.47</td>\n",
       "      <td>9.50</td>\n",
       "      <td>NaN</td>\n",
       "      <td>NaN</td>\n",
       "      <td>NaN</td>\n",
       "      <td>NaN</td>\n",
       "      <td>NaN</td>\n",
       "      <td>NaN</td>\n",
       "    </tr>\n",
       "    <tr>\n",
       "      <th>2011-07-01</th>\n",
       "      <td>100.0</td>\n",
       "      <td>18.09</td>\n",
       "      <td>20.74</td>\n",
       "      <td>22.34</td>\n",
       "      <td>27.13</td>\n",
       "      <td>11.17</td>\n",
       "      <td>NaN</td>\n",
       "      <td>NaN</td>\n",
       "      <td>NaN</td>\n",
       "      <td>NaN</td>\n",
       "      <td>NaN</td>\n",
       "      <td>NaN</td>\n",
       "      <td>NaN</td>\n",
       "    </tr>\n",
       "    <tr>\n",
       "      <th>2011-08-01</th>\n",
       "      <td>100.0</td>\n",
       "      <td>20.71</td>\n",
       "      <td>24.85</td>\n",
       "      <td>24.26</td>\n",
       "      <td>12.43</td>\n",
       "      <td>NaN</td>\n",
       "      <td>NaN</td>\n",
       "      <td>NaN</td>\n",
       "      <td>NaN</td>\n",
       "      <td>NaN</td>\n",
       "      <td>NaN</td>\n",
       "      <td>NaN</td>\n",
       "      <td>NaN</td>\n",
       "    </tr>\n",
       "    <tr>\n",
       "      <th>2011-09-01</th>\n",
       "      <td>100.0</td>\n",
       "      <td>23.41</td>\n",
       "      <td>30.10</td>\n",
       "      <td>11.37</td>\n",
       "      <td>NaN</td>\n",
       "      <td>NaN</td>\n",
       "      <td>NaN</td>\n",
       "      <td>NaN</td>\n",
       "      <td>NaN</td>\n",
       "      <td>NaN</td>\n",
       "      <td>NaN</td>\n",
       "      <td>NaN</td>\n",
       "      <td>NaN</td>\n",
       "    </tr>\n",
       "    <tr>\n",
       "      <th>2011-10-01</th>\n",
       "      <td>100.0</td>\n",
       "      <td>24.02</td>\n",
       "      <td>11.45</td>\n",
       "      <td>NaN</td>\n",
       "      <td>NaN</td>\n",
       "      <td>NaN</td>\n",
       "      <td>NaN</td>\n",
       "      <td>NaN</td>\n",
       "      <td>NaN</td>\n",
       "      <td>NaN</td>\n",
       "      <td>NaN</td>\n",
       "      <td>NaN</td>\n",
       "      <td>NaN</td>\n",
       "    </tr>\n",
       "    <tr>\n",
       "      <th>2011-11-01</th>\n",
       "      <td>100.0</td>\n",
       "      <td>11.15</td>\n",
       "      <td>NaN</td>\n",
       "      <td>NaN</td>\n",
       "      <td>NaN</td>\n",
       "      <td>NaN</td>\n",
       "      <td>NaN</td>\n",
       "      <td>NaN</td>\n",
       "      <td>NaN</td>\n",
       "      <td>NaN</td>\n",
       "      <td>NaN</td>\n",
       "      <td>NaN</td>\n",
       "      <td>NaN</td>\n",
       "    </tr>\n",
       "    <tr>\n",
       "      <th>2011-12-01</th>\n",
       "      <td>100.0</td>\n",
       "      <td>NaN</td>\n",
       "      <td>NaN</td>\n",
       "      <td>NaN</td>\n",
       "      <td>NaN</td>\n",
       "      <td>NaN</td>\n",
       "      <td>NaN</td>\n",
       "      <td>NaN</td>\n",
       "      <td>NaN</td>\n",
       "      <td>NaN</td>\n",
       "      <td>NaN</td>\n",
       "      <td>NaN</td>\n",
       "      <td>NaN</td>\n",
       "    </tr>\n",
       "  </tbody>\n",
       "</table>\n",
       "</div>"
      ],
      "text/plain": [
       "CohortIndex        1      2      3      4      5      6      7      8      9   \\\n",
       "InvoiceDateMin                                                                  \n",
       "2010-12-01      100.0  36.61  32.32  38.42  36.27  39.77  36.27  34.92  35.37   \n",
       "2011-01-01      100.0  22.06  26.62  23.02  32.13  28.78  24.70  24.22  29.98   \n",
       "2011-02-01      100.0  18.68  18.68  28.42  27.11  24.74  25.26  27.89  24.74   \n",
       "2011-03-01      100.0  15.04  25.22  19.91  22.35  16.81  26.77  23.01  27.88   \n",
       "2011-04-01      100.0  21.33  20.33  21.00  19.67  22.67  21.67  26.00   7.33   \n",
       "2011-05-01      100.0  19.01  17.25  17.25  20.77  23.24  26.41   9.51    NaN   \n",
       "2011-06-01      100.0  17.36  15.70  26.45  23.14  33.47   9.50    NaN    NaN   \n",
       "2011-07-01      100.0  18.09  20.74  22.34  27.13  11.17    NaN    NaN    NaN   \n",
       "2011-08-01      100.0  20.71  24.85  24.26  12.43    NaN    NaN    NaN    NaN   \n",
       "2011-09-01      100.0  23.41  30.10  11.37    NaN    NaN    NaN    NaN    NaN   \n",
       "2011-10-01      100.0  24.02  11.45    NaN    NaN    NaN    NaN    NaN    NaN   \n",
       "2011-11-01      100.0  11.15    NaN    NaN    NaN    NaN    NaN    NaN    NaN   \n",
       "2011-12-01      100.0    NaN    NaN    NaN    NaN    NaN    NaN    NaN    NaN   \n",
       "\n",
       "CohortIndex        10     11     12     13  \n",
       "InvoiceDateMin                              \n",
       "2010-12-01      39.55  37.40  50.28  26.55  \n",
       "2011-01-01      32.61  36.45  11.75    NaN  \n",
       "2011-02-01      30.53   6.84    NaN    NaN  \n",
       "2011-03-01       8.63    NaN    NaN    NaN  \n",
       "2011-04-01        NaN    NaN    NaN    NaN  \n",
       "2011-05-01        NaN    NaN    NaN    NaN  \n",
       "2011-06-01        NaN    NaN    NaN    NaN  \n",
       "2011-07-01        NaN    NaN    NaN    NaN  \n",
       "2011-08-01        NaN    NaN    NaN    NaN  \n",
       "2011-09-01        NaN    NaN    NaN    NaN  \n",
       "2011-10-01        NaN    NaN    NaN    NaN  \n",
       "2011-11-01        NaN    NaN    NaN    NaN  \n",
       "2011-12-01        NaN    NaN    NaN    NaN  "
      ]
     },
     "execution_count": 98,
     "metadata": {},
     "output_type": "execute_result"
    }
   ],
   "source": [
    "# 가입한 달을 1로 나누면 잔존률을 구할 수 있습니다.\n",
    "# div 를 통해 구하며 axis=0 으로 설정하면 첫 달을 기준으로 나머지 달을 나누게 됩니다.\n",
    "# cohort_ratio\n",
    "cohort_ratio = cohort_count.div(cohort_count[1], axis=0) * 100\n",
    "cohort_ratio = cohort_ratio.round(2)\n",
    "cohort_ratio"
   ]
  },
  {
   "cell_type": "code",
   "execution_count": 101,
   "metadata": {
    "colab": {
     "base_uri": "https://localhost:8080/",
     "height": 519
    },
    "executionInfo": {
     "elapsed": 630,
     "status": "ok",
     "timestamp": 1634789360088,
     "user": {
      "displayName": "JINY ROH",
      "photoUrl": "https://lh3.googleusercontent.com/a-/AOh14Gi7VIzxUnr7MUJE9Bupl4bkwgEAsz4e1gsgrYIPZw=s64",
      "userId": "06348894780083418282"
     },
     "user_tz": -540
    },
    "id": "GNU1FBAhVUqm",
    "outputId": "90eb7c49-609c-4acf-b245-1298c8b6aff6"
   },
   "outputs": [
    {
     "data": {
      "text/plain": [
       "<AxesSubplot:xlabel='CohortIndex', ylabel='InvoiceDateMin'>"
      ]
     },
     "execution_count": 101,
     "metadata": {},
     "output_type": "execute_result"
    },
    {
     "data": {
      "image/png": "[encoded data removed]",
      "text/plain": [
       "<Figure size 864x576 with 2 Axes>"
      ]
     },
     "metadata": {
      "needs_background": "light"
     },
     "output_type": "display_data"
    }
   ],
   "source": [
    "# heatmap을 통해 위에서 구한 잔존률을 시각화 합니다.\n",
    "plt.figure(figsize=(12, 8))\n",
    "sns.heatmap(data=cohort_ratio, cmap='Blues', annot=True, fmt=\".0f\")"
   ]
  },
  {
   "cell_type": "code",
   "execution_count": null,
   "metadata": {},
   "outputs": [],
   "source": []
  }
 ],
 "metadata": {
  "colab": {
   "collapsed_sections": [],
   "name": "01-basic-eda.ipynb",
   "provenance": []
  },
  "kernelspec": {
   "display_name": "Python 3 (ipykernel)",
   "language": "python",
   "name": "python3"
  },
  "language_info": {
   "codemirror_mode": {
    "name": "ipython",
    "version": 3
   },
   "file_extension": ".py",
   "mimetype": "text/x-python",
   "name": "python",
   "nbconvert_exporter": "python",
   "pygments_lexer": "ipython3",
   "version": "3.8.11"
  },
  "toc": {
   "base_numbering": 1,
   "nav_menu": {},
   "number_sections": true,
   "sideBar": true,
   "skip_h1_title": false,
   "title_cell": "Table of Contents",
   "title_sidebar": "Contents",
   "toc_cell": false,
   "toc_position": {
    "height": "calc(100% - 180px)",
    "left": "10px",
    "top": "150px",
    "width": "320px"
   },
   "toc_section_display": true,
   "toc_window_display": true
  },
  "varInspector": {
   "cols": {
    "lenName": 16,
    "lenType": 16,
    "lenVar": 40
   },
   "kernels_config": {
    "python": {
     "delete_cmd_postfix": "",
     "delete_cmd_prefix": "del ",
     "library": "var_list.py",
     "varRefreshCmd": "print(var_dic_list())"
    },
    "r": {
     "delete_cmd_postfix": ") ",
     "delete_cmd_prefix": "rm(",
     "library": "var_list.r",
     "varRefreshCmd": "cat(var_dic_list()) "
    }
   },
   "types_to_exclude": [
    "module",
    "function",
    "builtin_function_or_method",
    "instance",
    "_Feature"
   ],
   "window_display": false
  }
 },
 "nbformat": 4,
 "nbformat_minor": 1
}
