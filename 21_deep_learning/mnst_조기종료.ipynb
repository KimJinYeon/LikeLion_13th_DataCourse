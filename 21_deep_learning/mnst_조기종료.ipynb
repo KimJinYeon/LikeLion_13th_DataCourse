{
 "cells": [
  {
   "cell_type": "code",
   "execution_count": 1,
   "id": "4476d8a0",
   "metadata": {},
   "outputs": [],
   "source": [
    "from keras.utils import np_utils\n",
    "from keras.datasets import mnist\n",
    "from keras.models import Sequential\n",
    "from keras.layers import Dense, Activation\n",
    "import numpy as np"
   ]
  },
  {
   "cell_type": "code",
   "execution_count": 2,
   "id": "85a0e9f0",
   "metadata": {},
   "outputs": [],
   "source": [
    "np.random.seed(3)\n",
    "\n",
    "(X_train, y_train), (X_test, y_test) = mnist.load_data()\n",
    "\n",
    "# 훈련셋과 검증셋 분리\n",
    "X_val = X_train[50000:]\n",
    "y_val = y_train[50000:]\n",
    "X_train = X_train[:50000]\n",
    "y_train = y_train[:50000]"
   ]
  },
  {
   "cell_type": "code",
   "execution_count": 3,
   "id": "4ed3bd18",
   "metadata": {},
   "outputs": [],
   "source": [
    "X_train = X_train.reshape(50000, 784).astype('float32') / 255.0\n",
    "X_val = X_val.reshape(10000, 784).astype('float32') / 255.0\n",
    "X_test = X_test.reshape(10000, 784).astype('float32') / 255.0"
   ]
  },
  {
   "cell_type": "code",
   "execution_count": 4,
   "id": "b70323a5",
   "metadata": {},
   "outputs": [],
   "source": [
    "# 훈련셋, 검증셋 고르기\n",
    "train_rand_idxs = np.random.choice(50000, 10000)\n",
    "val_rand_idxs = np.random.choice(10000, 5000)\n",
    "\n",
    "X_train = X_train[train_rand_idxs]\n",
    "y_train = y_train[train_rand_idxs]\n",
    "X_val = X_val[val_rand_idxs]\n",
    "y_val = y_val[val_rand_idxs]"
   ]
  },
  {
   "cell_type": "code",
   "execution_count": 6,
   "id": "cdb0ae05",
   "metadata": {},
   "outputs": [
    {
     "data": {
      "text/plain": [
       "array([ 5994,  1688, 11513, ..., 14212, 34068, 44307])"
      ]
     },
     "execution_count": 6,
     "metadata": {},
     "output_type": "execute_result"
    }
   ],
   "source": [
    "train_rand_idxs"
   ]
  },
  {
   "cell_type": "code",
   "execution_count": 7,
   "id": "335f4933",
   "metadata": {},
   "outputs": [],
   "source": [
    "# 라벨링 전환\n",
    "y_train = np_utils.to_categorical(y_train)\n",
    "y_val = np_utils.to_categorical(y_val)\n",
    "y_test = np_utils.to_categorical(y_test)"
   ]
  },
  {
   "cell_type": "code",
   "execution_count": 8,
   "id": "9e607fe5",
   "metadata": {},
   "outputs": [
    {
     "name": "stdout",
     "output_type": "stream",
     "text": [
      "(10000, 784) (10000, 10)\n",
      "(5000, 784) (5000, 10)\n",
      "(10000, 784) (10000, 10)\n"
     ]
    }
   ],
   "source": [
    "print(X_train.shape, y_train.shape)\n",
    "print(X_val.shape, y_val.shape)\n",
    "print(X_test.shape, y_test.shape)"
   ]
  },
  {
   "cell_type": "code",
   "execution_count": 9,
   "id": "35c58215",
   "metadata": {},
   "outputs": [],
   "source": [
    "# 2. 모델 구성하기\n",
    "model = Sequential()\n",
    "model.add(Dense(units=64, input_dim=28*28, activation='relu'))\n",
    "model.add(Dense(units=32, activation='relu'))\n",
    "model.add(Dense(units=10, activation='softmax'))"
   ]
  },
  {
   "cell_type": "code",
   "execution_count": 10,
   "id": "3e14b334",
   "metadata": {},
   "outputs": [],
   "source": [
    "# 3. 모델의 오차함수, 최적화 함수 설정\n",
    "model.compile(loss='categorical_crossentropy', \n",
    "              optimizer='sgd', \n",
    "              metrics=['accuracy'])"
   ]
  },
  {
   "cell_type": "code",
   "execution_count": 11,
   "id": "b5450071",
   "metadata": {},
   "outputs": [],
   "source": [
    "from keras.callbacks import EarlyStopping"
   ]
  },
  {
   "cell_type": "code",
   "execution_count": 12,
   "id": "4509fbf3",
   "metadata": {},
   "outputs": [
    {
     "name": "stdout",
     "output_type": "stream",
     "text": [
      "Epoch 1/3000\n",
      "1000/1000 [==============================] - 1s 840us/step - loss: 1.0283 - accuracy: 0.7127 - val_loss: 0.4250 - val_accuracy: 0.8788\n",
      "Epoch 2/3000\n",
      "1000/1000 [==============================] - 1s 684us/step - loss: 0.4011 - accuracy: 0.8866 - val_loss: 0.3307 - val_accuracy: 0.8996\n",
      "Epoch 3/3000\n",
      "1000/1000 [==============================] - 1s 680us/step - loss: 0.3192 - accuracy: 0.9088 - val_loss: 0.2932 - val_accuracy: 0.9136\n",
      "Epoch 4/3000\n",
      "1000/1000 [==============================] - 1s 673us/step - loss: 0.2751 - accuracy: 0.9207 - val_loss: 0.2666 - val_accuracy: 0.9228\n",
      "Epoch 5/3000\n",
      "1000/1000 [==============================] - 1s 675us/step - loss: 0.2428 - accuracy: 0.9315 - val_loss: 0.2497 - val_accuracy: 0.9254\n",
      "Epoch 6/3000\n",
      "1000/1000 [==============================] - 1s 668us/step - loss: 0.2162 - accuracy: 0.9381 - val_loss: 0.2381 - val_accuracy: 0.9274\n",
      "Epoch 7/3000\n",
      "1000/1000 [==============================] - 1s 662us/step - loss: 0.1942 - accuracy: 0.9439 - val_loss: 0.2213 - val_accuracy: 0.9358\n",
      "Epoch 8/3000\n",
      "1000/1000 [==============================] - 1s 667us/step - loss: 0.1760 - accuracy: 0.9501 - val_loss: 0.2179 - val_accuracy: 0.9366\n",
      "Epoch 9/3000\n",
      "1000/1000 [==============================] - 1s 656us/step - loss: 0.1578 - accuracy: 0.9551 - val_loss: 0.2184 - val_accuracy: 0.9320\n",
      "Epoch 10/3000\n",
      "1000/1000 [==============================] - 1s 661us/step - loss: 0.1435 - accuracy: 0.9599 - val_loss: 0.1986 - val_accuracy: 0.9402\n",
      "Epoch 11/3000\n",
      "1000/1000 [==============================] - 1s 660us/step - loss: 0.1291 - accuracy: 0.9643 - val_loss: 0.2106 - val_accuracy: 0.9396\n",
      "Epoch 12/3000\n",
      "1000/1000 [==============================] - 1s 646us/step - loss: 0.1188 - accuracy: 0.9683 - val_loss: 0.1902 - val_accuracy: 0.9440\n",
      "Epoch 13/3000\n",
      "1000/1000 [==============================] - 1s 676us/step - loss: 0.1084 - accuracy: 0.9714 - val_loss: 0.1881 - val_accuracy: 0.9468\n",
      "Epoch 14/3000\n",
      "1000/1000 [==============================] - 1s 656us/step - loss: 0.0992 - accuracy: 0.9740 - val_loss: 0.1840 - val_accuracy: 0.9480\n",
      "Epoch 15/3000\n",
      "1000/1000 [==============================] - 1s 656us/step - loss: 0.0891 - accuracy: 0.9774 - val_loss: 0.1840 - val_accuracy: 0.9460\n",
      "Epoch 16/3000\n",
      "1000/1000 [==============================] - 1s 713us/step - loss: 0.0819 - accuracy: 0.9779 - val_loss: 0.1855 - val_accuracy: 0.9502\n",
      "Epoch 17/3000\n",
      "1000/1000 [==============================] - 1s 697us/step - loss: 0.0747 - accuracy: 0.9816 - val_loss: 0.1774 - val_accuracy: 0.9510\n",
      "Epoch 18/3000\n",
      "1000/1000 [==============================] - 1s 670us/step - loss: 0.0679 - accuracy: 0.9829 - val_loss: 0.1849 - val_accuracy: 0.9492\n",
      "Epoch 19/3000\n",
      "1000/1000 [==============================] - 1s 693us/step - loss: 0.0610 - accuracy: 0.9857 - val_loss: 0.1705 - val_accuracy: 0.9534\n",
      "Epoch 20/3000\n",
      "1000/1000 [==============================] - 1s 682us/step - loss: 0.0557 - accuracy: 0.9870 - val_loss: 0.1877 - val_accuracy: 0.9472\n",
      "Epoch 21/3000\n",
      "1000/1000 [==============================] - 1s 667us/step - loss: 0.0507 - accuracy: 0.9877 - val_loss: 0.1795 - val_accuracy: 0.9494\n",
      "Epoch 22/3000\n",
      "1000/1000 [==============================] - 1s 665us/step - loss: 0.0469 - accuracy: 0.9898 - val_loss: 0.1874 - val_accuracy: 0.9518\n",
      "Epoch 23/3000\n",
      "1000/1000 [==============================] - 1s 687us/step - loss: 0.0430 - accuracy: 0.9907 - val_loss: 0.1822 - val_accuracy: 0.9484\n",
      "Epoch 24/3000\n",
      "1000/1000 [==============================] - 1s 721us/step - loss: 0.0390 - accuracy: 0.9913 - val_loss: 0.1912 - val_accuracy: 0.9466\n",
      "Epoch 25/3000\n",
      "1000/1000 [==============================] - 1s 746us/step - loss: 0.0350 - accuracy: 0.9932 - val_loss: 0.1770 - val_accuracy: 0.9532\n",
      "Epoch 26/3000\n",
      "1000/1000 [==============================] - 1s 682us/step - loss: 0.0317 - accuracy: 0.9943 - val_loss: 0.1736 - val_accuracy: 0.9528\n",
      "Epoch 27/3000\n",
      "1000/1000 [==============================] - 1s 728us/step - loss: 0.0285 - accuracy: 0.9947 - val_loss: 0.1827 - val_accuracy: 0.9516\n",
      "Epoch 28/3000\n",
      "1000/1000 [==============================] - 1s 733us/step - loss: 0.0261 - accuracy: 0.9958 - val_loss: 0.1821 - val_accuracy: 0.9530\n",
      "Epoch 29/3000\n",
      "1000/1000 [==============================] - 1s 704us/step - loss: 0.0235 - accuracy: 0.9969 - val_loss: 0.1780 - val_accuracy: 0.9540\n",
      "Epoch 30/3000\n",
      "1000/1000 [==============================] - 1s 665us/step - loss: 0.0214 - accuracy: 0.9973 - val_loss: 0.1836 - val_accuracy: 0.9516\n",
      "Epoch 31/3000\n",
      "1000/1000 [==============================] - 1s 672us/step - loss: 0.0192 - accuracy: 0.9981 - val_loss: 0.1790 - val_accuracy: 0.9518\n",
      "Epoch 32/3000\n",
      "1000/1000 [==============================] - 1s 674us/step - loss: 0.0178 - accuracy: 0.9979 - val_loss: 0.1852 - val_accuracy: 0.9524\n",
      "Epoch 33/3000\n",
      "1000/1000 [==============================] - 1s 671us/step - loss: 0.0164 - accuracy: 0.9985 - val_loss: 0.1831 - val_accuracy: 0.9538\n",
      "Epoch 34/3000\n",
      "1000/1000 [==============================] - 1s 660us/step - loss: 0.0149 - accuracy: 0.9990 - val_loss: 0.1854 - val_accuracy: 0.9510\n",
      "Epoch 35/3000\n",
      "1000/1000 [==============================] - 1s 675us/step - loss: 0.0136 - accuracy: 0.9992 - val_loss: 0.1857 - val_accuracy: 0.9522\n",
      "Epoch 36/3000\n",
      "1000/1000 [==============================] - 1s 648us/step - loss: 0.0125 - accuracy: 0.9992 - val_loss: 0.1855 - val_accuracy: 0.9528\n",
      "Epoch 37/3000\n",
      "1000/1000 [==============================] - 1s 652us/step - loss: 0.0117 - accuracy: 0.9997 - val_loss: 0.1898 - val_accuracy: 0.9552\n",
      "Epoch 38/3000\n",
      "1000/1000 [==============================] - 1s 653us/step - loss: 0.0109 - accuracy: 0.9996 - val_loss: 0.1921 - val_accuracy: 0.9522\n",
      "Epoch 39/3000\n",
      "1000/1000 [==============================] - 1s 644us/step - loss: 0.0101 - accuracy: 0.9997 - val_loss: 0.1903 - val_accuracy: 0.9534\n",
      "Epoch 40/3000\n",
      "1000/1000 [==============================] - 1s 670us/step - loss: 0.0094 - accuracy: 0.9997 - val_loss: 0.1915 - val_accuracy: 0.9536\n",
      "Epoch 41/3000\n",
      "1000/1000 [==============================] - 1s 659us/step - loss: 0.0089 - accuracy: 0.9998 - val_loss: 0.1917 - val_accuracy: 0.9554\n",
      "Epoch 42/3000\n",
      "1000/1000 [==============================] - 1s 680us/step - loss: 0.0084 - accuracy: 0.9999 - val_loss: 0.1892 - val_accuracy: 0.9544\n",
      "Epoch 43/3000\n",
      "1000/1000 [==============================] - 1s 790us/step - loss: 0.0080 - accuracy: 0.9998 - val_loss: 0.1922 - val_accuracy: 0.9536\n",
      "Epoch 44/3000\n",
      "1000/1000 [==============================] - 1s 766us/step - loss: 0.0075 - accuracy: 0.9999 - val_loss: 0.1954 - val_accuracy: 0.9552\n",
      "Epoch 45/3000\n",
      "1000/1000 [==============================] - 1s 720us/step - loss: 0.0069 - accuracy: 1.0000 - val_loss: 0.1991 - val_accuracy: 0.9534\n",
      "Epoch 46/3000\n",
      "1000/1000 [==============================] - 1s 666us/step - loss: 0.0067 - accuracy: 1.0000 - val_loss: 0.1946 - val_accuracy: 0.9544\n",
      "Epoch 47/3000\n",
      "1000/1000 [==============================] - 1s 660us/step - loss: 0.0062 - accuracy: 1.0000 - val_loss: 0.1983 - val_accuracy: 0.9540\n",
      "Epoch 48/3000\n",
      "1000/1000 [==============================] - 1s 676us/step - loss: 0.0060 - accuracy: 1.0000 - val_loss: 0.1975 - val_accuracy: 0.9546\n",
      "Epoch 49/3000\n",
      "1000/1000 [==============================] - 1s 728us/step - loss: 0.0057 - accuracy: 1.0000 - val_loss: 0.1973 - val_accuracy: 0.9540\n"
     ]
    }
   ],
   "source": [
    "# early_stopping = EarlyStopping() # 조기종료 콜백함수 정의\n",
    "early_stopping = EarlyStopping(patience = 30) # 조기종료 콜백함수 정의\n",
    "hist = model.fit(X_train, y_train, \n",
    "                 epochs=3000, \n",
    "                 batch_size=10, \n",
    "                 validation_data=(X_val, y_val), \n",
    "                 callbacks=[early_stopping])"
   ]
  },
  {
   "cell_type": "code",
   "execution_count": 13,
   "id": "2df5bab4",
   "metadata": {},
   "outputs": [
    {
     "data": {
      "text/plain": [
       "dict_keys(['loss', 'accuracy', 'val_loss', 'val_accuracy'])"
      ]
     },
     "execution_count": 13,
     "metadata": {},
     "output_type": "execute_result"
    }
   ],
   "source": [
    "hist.history.keys()"
   ]
  },
  {
   "cell_type": "code",
   "execution_count": 14,
   "id": "e08ca579",
   "metadata": {},
   "outputs": [
    {
     "data": {
      "text/plain": [
       "keras.callbacks.History"
      ]
     },
     "execution_count": 14,
     "metadata": {},
     "output_type": "execute_result"
    }
   ],
   "source": [
    "type(hist)"
   ]
  },
  {
   "cell_type": "code",
   "execution_count": 15,
   "id": "0e6aa802",
   "metadata": {
    "scrolled": true
   },
   "outputs": [
    {
     "data": {
      "text/plain": [
       "[1.0283260345458984,\n",
       " 0.4010566473007202,\n",
       " 0.31918489933013916,\n",
       " 0.2750616669654846,\n",
       " 0.24282929301261902,\n",
       " 0.21617183089256287,\n",
       " 0.19422875344753265,\n",
       " 0.17604665458202362,\n",
       " 0.15779872238636017,\n",
       " 0.14347843825817108,\n",
       " 0.12908801436424255,\n",
       " 0.11877638846635818,\n",
       " 0.10844872891902924,\n",
       " 0.09918571263551712,\n",
       " 0.0890507847070694,\n",
       " 0.08190573006868362,\n",
       " 0.07465825974941254,\n",
       " 0.06792937964200974,\n",
       " 0.060986537486314774,\n",
       " 0.05572563037276268,\n",
       " 0.050651393830776215,\n",
       " 0.046912867575883865,\n",
       " 0.04302540794014931,\n",
       " 0.03896167129278183,\n",
       " 0.03500571474432945,\n",
       " 0.03171843662858009,\n",
       " 0.02854996919631958,\n",
       " 0.0261138454079628,\n",
       " 0.023493077605962753,\n",
       " 0.021437566727399826,\n",
       " 0.019218318164348602,\n",
       " 0.017750181257724762,\n",
       " 0.016366902738809586,\n",
       " 0.0148591548204422,\n",
       " 0.013602116145193577,\n",
       " 0.012513372115790844,\n",
       " 0.011657054536044598,\n",
       " 0.010852601379156113,\n",
       " 0.010130763053894043,\n",
       " 0.009401670657098293,\n",
       " 0.00888136401772499,\n",
       " 0.008426341228187084,\n",
       " 0.00795331783592701,\n",
       " 0.007480725180357695,\n",
       " 0.00693901302292943,\n",
       " 0.006676813587546349,\n",
       " 0.006244441960006952,\n",
       " 0.006040061358362436,\n",
       " 0.005708407144993544]"
      ]
     },
     "execution_count": 15,
     "metadata": {},
     "output_type": "execute_result"
    }
   ],
   "source": [
    "hist.history['loss']"
   ]
  },
  {
   "cell_type": "code",
   "execution_count": 16,
   "id": "7e1727bb",
   "metadata": {},
   "outputs": [
    {
     "data": {
      "image/png": "[encoded data removed]",
      "text/plain": [
       "<Figure size 432x288 with 2 Axes>"
      ]
     },
     "metadata": {
      "needs_background": "light"
     },
     "output_type": "display_data"
    }
   ],
   "source": [
    "# 5. 모델 학습 과정 표시하기\n",
    "%matplotlib inline\n",
    "import matplotlib.pyplot as plt\n",
    "\n",
    "fig, loss_ax = plt.subplots()\n",
    "\n",
    "acc_ax = loss_ax.twinx()\n",
    "\n",
    "loss_ax.plot(hist.history['loss'], 'y', label='train loss')\n",
    "loss_ax.plot(hist.history['val_loss'], 'r', label='val loss')\n",
    "\n",
    "acc_ax.plot(hist.history['accuracy'], 'b', label='train acc')\n",
    "acc_ax.plot(hist.history['val_accuracy'], 'g', label='val acc')\n",
    "\n",
    "loss_ax.set_xlabel('epoch')\n",
    "loss_ax.set_ylabel('loss')\n",
    "acc_ax.set_ylabel('accuray')\n",
    "\n",
    "loss_ax.legend(loc='upper left')\n",
    "acc_ax.legend(loc='lower left')\n",
    "\n",
    "plt.show()"
   ]
  },
  {
   "cell_type": "code",
   "execution_count": 17,
   "id": "c45e2630",
   "metadata": {},
   "outputs": [
    {
     "name": "stdout",
     "output_type": "stream",
     "text": [
      "313/313 [==============================] - 0s 778us/step - loss: 0.1925 - accuracy: 0.9546\n",
      "\n",
      "loss : 0.1925330013036728\n",
      "accuray : 0.9545999765396118\n"
     ]
    }
   ],
   "source": [
    "# 6. 모델 평가하기\n",
    "loss_and_metrics = model.evaluate(X_test, y_test, batch_size=32)\n",
    "\n",
    "print('')\n",
    "print('loss : ' + str(loss_and_metrics[0]))\n",
    "print('accuray : ' + str(loss_and_metrics[1]))"
   ]
  },
  {
   "cell_type": "code",
   "execution_count": null,
   "id": "a06bbef7",
   "metadata": {},
   "outputs": [],
   "source": []
  }
 ],
 "metadata": {
  "kernelspec": {
   "display_name": "Python 3 (ipykernel)",
   "language": "python",
   "name": "python3"
  },
  "language_info": {
   "codemirror_mode": {
    "name": "ipython",
    "version": 3
   },
   "file_extension": ".py",
   "mimetype": "text/x-python",
   "name": "python",
   "nbconvert_exporter": "python",
   "pygments_lexer": "ipython3",
   "version": "3.8.11"
  }
 },
 "nbformat": 4,
 "nbformat_minor": 5
}
