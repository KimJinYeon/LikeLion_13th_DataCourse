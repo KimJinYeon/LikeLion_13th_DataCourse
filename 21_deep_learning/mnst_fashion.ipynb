{
 "cells": [
  {
   "cell_type": "code",
   "execution_count": 10,
   "id": "8fc83942",
   "metadata": {},
   "outputs": [
    {
     "name": "stdout",
     "output_type": "stream",
     "text": [
      "2.6.1\n",
      "1.19.5\n"
     ]
    }
   ],
   "source": [
    "# tensorflow와 tf.keras를 임포트합니다\n",
    "import tensorflow as tf\n",
    "from tensorflow import keras\n",
    "\n",
    "# 헬퍼(helper) 라이브러리를 임포트합니다\n",
    "import numpy as np\n",
    "import matplotlib.pyplot as plt\n",
    "\n",
    "print(tf.__version__)\n",
    "print(np.__version__)"
   ]
  },
  {
   "cell_type": "code",
   "execution_count": 11,
   "id": "e4e94284",
   "metadata": {},
   "outputs": [],
   "source": [
    "fashion_mnist = keras.datasets.fashion_mnist\n",
    "\n",
    "\n",
    "# 4개의 데이터 셋 반환(numpy 배열)\n",
    "(train_images, train_labels), (test_images, test_labels) = fashion_mnist.load_data()"
   ]
  },
  {
   "cell_type": "code",
   "execution_count": 12,
   "id": "1085d4cd",
   "metadata": {},
   "outputs": [
    {
     "name": "stdout",
     "output_type": "stream",
     "text": [
      "학습용 데이터 : x: (60000, 28, 28), y:(60000,)\n",
      "테스트 데이터 : x: (10000, 28, 28), y:(10000,)\n"
     ]
    }
   ],
   "source": [
    "print(\"학습용 데이터 : x: {}, y:{}\".format(train_images.shape, train_labels.shape) )\n",
    "print(\"테스트 데이터 : x: {}, y:{}\".format(test_images.shape, test_labels.shape) )"
   ]
  },
  {
   "cell_type": "code",
   "execution_count": 13,
   "id": "f9af996d",
   "metadata": {
    "scrolled": true
   },
   "outputs": [
    {
     "data": {
      "text/plain": [
       "array([[[0, 0, 0, ..., 0, 0, 0],\n",
       "        [0, 0, 0, ..., 0, 0, 0],\n",
       "        [0, 0, 0, ..., 0, 0, 0],\n",
       "        ...,\n",
       "        [0, 0, 0, ..., 0, 0, 0],\n",
       "        [0, 0, 0, ..., 0, 0, 0],\n",
       "        [0, 0, 0, ..., 0, 0, 0]],\n",
       "\n",
       "       [[0, 0, 0, ..., 0, 0, 0],\n",
       "        [0, 0, 0, ..., 0, 0, 0],\n",
       "        [0, 0, 0, ..., 0, 0, 0],\n",
       "        ...,\n",
       "        [0, 0, 0, ..., 0, 0, 0],\n",
       "        [0, 0, 0, ..., 0, 0, 0],\n",
       "        [0, 0, 0, ..., 0, 0, 0]],\n",
       "\n",
       "       [[0, 0, 0, ..., 0, 0, 0],\n",
       "        [0, 0, 0, ..., 0, 0, 0],\n",
       "        [0, 0, 0, ..., 0, 0, 0],\n",
       "        ...,\n",
       "        [0, 0, 0, ..., 0, 0, 0],\n",
       "        [0, 0, 0, ..., 0, 0, 0],\n",
       "        [0, 0, 0, ..., 0, 0, 0]],\n",
       "\n",
       "       ...,\n",
       "\n",
       "       [[0, 0, 0, ..., 0, 0, 0],\n",
       "        [0, 0, 0, ..., 0, 0, 0],\n",
       "        [0, 0, 0, ..., 0, 0, 0],\n",
       "        ...,\n",
       "        [0, 0, 0, ..., 0, 0, 0],\n",
       "        [0, 0, 0, ..., 0, 0, 0],\n",
       "        [0, 0, 0, ..., 0, 0, 0]],\n",
       "\n",
       "       [[0, 0, 0, ..., 0, 0, 0],\n",
       "        [0, 0, 0, ..., 0, 0, 0],\n",
       "        [0, 0, 0, ..., 0, 0, 0],\n",
       "        ...,\n",
       "        [0, 0, 0, ..., 0, 0, 0],\n",
       "        [0, 0, 0, ..., 0, 0, 0],\n",
       "        [0, 0, 0, ..., 0, 0, 0]],\n",
       "\n",
       "       [[0, 0, 0, ..., 0, 0, 0],\n",
       "        [0, 0, 0, ..., 0, 0, 0],\n",
       "        [0, 0, 0, ..., 0, 0, 0],\n",
       "        ...,\n",
       "        [0, 0, 0, ..., 0, 0, 0],\n",
       "        [0, 0, 0, ..., 0, 0, 0],\n",
       "        [0, 0, 0, ..., 0, 0, 0]]], dtype=uint8)"
      ]
     },
     "execution_count": 13,
     "metadata": {},
     "output_type": "execute_result"
    }
   ],
   "source": [
    "train_images"
   ]
  },
  {
   "cell_type": "code",
   "execution_count": 14,
   "id": "bc6daaff",
   "metadata": {},
   "outputs": [],
   "source": [
    "train_images = train_images.reshape(60000, pow(28,2))\n",
    "test_images = test_images.reshape(10000, pow(28,2))"
   ]
  },
  {
   "cell_type": "code",
   "execution_count": 17,
   "id": "20af0335",
   "metadata": {},
   "outputs": [],
   "source": [
    "from keras.utils import np_utils\n",
    "train_labels = np_utils.to_categorical(train_labels)\n",
    "test_labels = np_utils.to_categorical(test_labels)"
   ]
  },
  {
   "cell_type": "code",
   "execution_count": 20,
   "id": "2f30ad9b",
   "metadata": {},
   "outputs": [],
   "source": [
    "model = keras.Sequential()"
   ]
  },
  {
   "cell_type": "code",
   "execution_count": 21,
   "id": "45be12a9",
   "metadata": {},
   "outputs": [],
   "source": [
    "from keras.layers import Dense, Activation \n",
    "model.add(Dense(units=64, input_dim = 784, activation='tanh'))\n",
    "model.add(Dense(units=32, activation='relu'))\n",
    "model.add(Dense(units=10, activation='softmax'))"
   ]
  },
  {
   "cell_type": "code",
   "execution_count": 22,
   "id": "823b0656",
   "metadata": {},
   "outputs": [],
   "source": [
    "model.compile(loss='categorical_crossentropy', \n",
    "              optimizer='sgd', \n",
    "              metrics=['accuracy'])"
   ]
  },
  {
   "cell_type": "code",
   "execution_count": 25,
   "id": "758fb18f",
   "metadata": {},
   "outputs": [
    {
     "name": "stdout",
     "output_type": "stream",
     "text": [
      "Epoch 1/30\n",
      "300/300 - 1s - loss: 1.2654 - accuracy: 0.5883 - val_loss: 0.8885 - val_accuracy: 0.6992\n",
      "Epoch 2/30\n",
      "300/300 - 0s - loss: 0.8119 - accuracy: 0.7175 - val_loss: 0.7616 - val_accuracy: 0.7338\n",
      "Epoch 3/30\n",
      "300/300 - 0s - loss: 0.7526 - accuracy: 0.7310 - val_loss: 0.7248 - val_accuracy: 0.7388\n",
      "Epoch 4/30\n",
      "300/300 - 0s - loss: 0.7213 - accuracy: 0.7391 - val_loss: 0.7267 - val_accuracy: 0.7315\n",
      "Epoch 5/30\n",
      "300/300 - 0s - loss: 0.6927 - accuracy: 0.7500 - val_loss: 0.7097 - val_accuracy: 0.7416\n",
      "Epoch 6/30\n",
      "300/300 - 0s - loss: 0.6921 - accuracy: 0.7502 - val_loss: 0.7032 - val_accuracy: 0.7425\n",
      "Epoch 7/30\n",
      "300/300 - 0s - loss: 0.6712 - accuracy: 0.7610 - val_loss: 0.6949 - val_accuracy: 0.7360\n",
      "Epoch 8/30\n",
      "300/300 - 0s - loss: 0.6540 - accuracy: 0.7620 - val_loss: 0.6727 - val_accuracy: 0.7493\n",
      "Epoch 9/30\n",
      "300/300 - 0s - loss: 0.6446 - accuracy: 0.7631 - val_loss: 0.6373 - val_accuracy: 0.7745\n",
      "Epoch 10/30\n",
      "300/300 - 0s - loss: 0.6317 - accuracy: 0.7641 - val_loss: 0.6751 - val_accuracy: 0.7381\n",
      "Epoch 11/30\n",
      "300/300 - 0s - loss: 0.6327 - accuracy: 0.7672 - val_loss: 0.6866 - val_accuracy: 0.7383\n",
      "Epoch 12/30\n",
      "300/300 - 0s - loss: 0.6338 - accuracy: 0.7626 - val_loss: 0.6634 - val_accuracy: 0.7524\n",
      "Epoch 13/30\n",
      "300/300 - 0s - loss: 0.6465 - accuracy: 0.7674 - val_loss: 0.6757 - val_accuracy: 0.7569\n",
      "Epoch 14/30\n",
      "300/300 - 0s - loss: 0.6383 - accuracy: 0.7703 - val_loss: 0.6516 - val_accuracy: 0.7669\n",
      "Epoch 15/30\n",
      "300/300 - 0s - loss: 0.6265 - accuracy: 0.7696 - val_loss: 0.6663 - val_accuracy: 0.7508\n",
      "Epoch 16/30\n",
      "300/300 - 0s - loss: 0.6419 - accuracy: 0.7636 - val_loss: 0.6623 - val_accuracy: 0.7589\n",
      "Epoch 17/30\n",
      "300/300 - 0s - loss: 0.6293 - accuracy: 0.7658 - val_loss: 0.6508 - val_accuracy: 0.7583\n",
      "Epoch 18/30\n",
      "300/300 - 0s - loss: 0.6184 - accuracy: 0.7708 - val_loss: 0.6219 - val_accuracy: 0.7744\n",
      "Epoch 19/30\n",
      "300/300 - 0s - loss: 0.6061 - accuracy: 0.7777 - val_loss: 0.6267 - val_accuracy: 0.7743\n",
      "Epoch 20/30\n",
      "300/300 - 0s - loss: 0.6154 - accuracy: 0.7775 - val_loss: 0.6413 - val_accuracy: 0.7655\n",
      "Epoch 21/30\n",
      "300/300 - 0s - loss: 0.6369 - accuracy: 0.7639 - val_loss: 0.7023 - val_accuracy: 0.7375\n",
      "Epoch 22/30\n",
      "300/300 - 0s - loss: 0.6684 - accuracy: 0.7534 - val_loss: 0.6919 - val_accuracy: 0.7462\n",
      "Epoch 23/30\n",
      "300/300 - 0s - loss: 0.6479 - accuracy: 0.7623 - val_loss: 0.6733 - val_accuracy: 0.7345\n",
      "Epoch 24/30\n",
      "300/300 - 0s - loss: 0.6301 - accuracy: 0.7652 - val_loss: 0.6638 - val_accuracy: 0.7454\n",
      "Epoch 25/30\n",
      "300/300 - 0s - loss: 0.6153 - accuracy: 0.7688 - val_loss: 0.6291 - val_accuracy: 0.7671\n",
      "Epoch 26/30\n",
      "300/300 - 0s - loss: 0.6365 - accuracy: 0.7610 - val_loss: 0.7105 - val_accuracy: 0.7030\n",
      "Epoch 27/30\n",
      "300/300 - 0s - loss: 0.6505 - accuracy: 0.7635 - val_loss: 0.6727 - val_accuracy: 0.7693\n",
      "Epoch 28/30\n",
      "300/300 - 0s - loss: 0.6394 - accuracy: 0.7663 - val_loss: 0.6759 - val_accuracy: 0.7545\n",
      "Epoch 29/30\n",
      "300/300 - 0s - loss: 0.6359 - accuracy: 0.7706 - val_loss: 0.6466 - val_accuracy: 0.7701\n",
      "Epoch 30/30\n",
      "300/300 - 0s - loss: 0.6186 - accuracy: 0.7786 - val_loss: 0.6469 - val_accuracy: 0.7653\n"
     ]
    }
   ],
   "source": [
    "hist = model.fit(train_images, train_labels, \n",
    "                 validation_data=(test_images, test_labels),\n",
    "                 epochs=30,\n",
    "                 batch_size=200,\n",
    "                 verbose=2)"
   ]
  },
  {
   "cell_type": "code",
   "execution_count": 27,
   "id": "5967a033",
   "metadata": {},
   "outputs": [
    {
     "name": "stdout",
     "output_type": "stream",
     "text": [
      "Epoch 1/30\n",
      "300/300 - 1s - loss: 87676432.0000 - accuracy: 0.1001 - val_loss: 2.3026 - val_accuracy: 0.1000\n",
      "Epoch 2/30\n",
      "300/300 - 0s - loss: 2.3026 - accuracy: 0.0964 - val_loss: 2.3026 - val_accuracy: 0.1000\n",
      "Epoch 3/30\n",
      "300/300 - 0s - loss: 2.3026 - accuracy: 0.0985 - val_loss: 2.3026 - val_accuracy: 0.1000\n",
      "Epoch 4/30\n",
      "300/300 - 0s - loss: 2.3026 - accuracy: 0.0997 - val_loss: 2.3026 - val_accuracy: 0.1000\n",
      "Epoch 5/30\n",
      "300/300 - 0s - loss: 2.3026 - accuracy: 0.0981 - val_loss: 2.3026 - val_accuracy: 0.1000\n",
      "Epoch 6/30\n",
      "300/300 - 0s - loss: 2.3026 - accuracy: 0.0990 - val_loss: 2.3026 - val_accuracy: 0.1000\n",
      "Epoch 7/30\n",
      "300/300 - 0s - loss: 2.3026 - accuracy: 0.0996 - val_loss: 2.3026 - val_accuracy: 0.1000\n",
      "Epoch 8/30\n",
      "300/300 - 0s - loss: 2.3026 - accuracy: 0.0979 - val_loss: 2.3026 - val_accuracy: 0.1000\n",
      "Epoch 9/30\n",
      "300/300 - 0s - loss: 2.3026 - accuracy: 0.0978 - val_loss: 2.3026 - val_accuracy: 0.1000\n",
      "Epoch 10/30\n",
      "300/300 - 0s - loss: 2.3026 - accuracy: 0.0986 - val_loss: 2.3026 - val_accuracy: 0.1000\n",
      "Epoch 11/30\n",
      "300/300 - 0s - loss: 2.3026 - accuracy: 0.0950 - val_loss: 2.3026 - val_accuracy: 0.1000\n",
      "Epoch 12/30\n",
      "300/300 - 0s - loss: 2.3026 - accuracy: 0.0970 - val_loss: 2.3026 - val_accuracy: 0.1000\n",
      "Epoch 13/30\n",
      "300/300 - 0s - loss: 2.3026 - accuracy: 0.0968 - val_loss: 2.3026 - val_accuracy: 0.1000\n",
      "Epoch 14/30\n",
      "300/300 - 0s - loss: 2.3026 - accuracy: 0.0976 - val_loss: 2.3026 - val_accuracy: 0.1000\n",
      "Epoch 15/30\n",
      "300/300 - 0s - loss: 2.3026 - accuracy: 0.0964 - val_loss: 2.3026 - val_accuracy: 0.1000\n",
      "Epoch 16/30\n",
      "300/300 - 0s - loss: 2.3026 - accuracy: 0.0966 - val_loss: 2.3026 - val_accuracy: 0.1000\n",
      "Epoch 17/30\n",
      "300/300 - 0s - loss: 2.3026 - accuracy: 0.0972 - val_loss: 2.3026 - val_accuracy: 0.1000\n",
      "Epoch 18/30\n",
      "300/300 - 0s - loss: 2.3026 - accuracy: 0.0969 - val_loss: 2.3026 - val_accuracy: 0.1000\n",
      "Epoch 19/30\n",
      "300/300 - 0s - loss: 2.3026 - accuracy: 0.0975 - val_loss: 2.3026 - val_accuracy: 0.1000\n",
      "Epoch 20/30\n",
      "300/300 - 0s - loss: 2.3026 - accuracy: 0.0955 - val_loss: 2.3026 - val_accuracy: 0.1000\n",
      "Epoch 21/30\n",
      "300/300 - 0s - loss: 2.3026 - accuracy: 0.0980 - val_loss: 2.3026 - val_accuracy: 0.1000\n",
      "Epoch 22/30\n",
      "300/300 - 0s - loss: 2.3026 - accuracy: 0.0977 - val_loss: 2.3026 - val_accuracy: 0.1000\n",
      "Epoch 23/30\n",
      "300/300 - 0s - loss: 2.3026 - accuracy: 0.0984 - val_loss: 2.3026 - val_accuracy: 0.1000\n",
      "Epoch 24/30\n",
      "300/300 - 0s - loss: 2.3026 - accuracy: 0.0976 - val_loss: 2.3026 - val_accuracy: 0.1000\n",
      "Epoch 25/30\n",
      "300/300 - 0s - loss: 2.3026 - accuracy: 0.0976 - val_loss: 2.3026 - val_accuracy: 0.1000\n",
      "Epoch 26/30\n",
      "300/300 - 0s - loss: 2.3026 - accuracy: 0.0984 - val_loss: 2.3026 - val_accuracy: 0.1000\n",
      "Epoch 27/30\n",
      "300/300 - 0s - loss: 2.3026 - accuracy: 0.0981 - val_loss: 2.3026 - val_accuracy: 0.1000\n",
      "Epoch 28/30\n",
      "300/300 - 0s - loss: 2.3026 - accuracy: 0.0953 - val_loss: 2.3026 - val_accuracy: 0.1000\n",
      "Epoch 29/30\n",
      "300/300 - 0s - loss: 2.3026 - accuracy: 0.0964 - val_loss: 2.3026 - val_accuracy: 0.1000\n",
      "Epoch 30/30\n",
      "300/300 - 0s - loss: 2.3026 - accuracy: 0.0973 - val_loss: 2.3026 - val_accuracy: 0.1000\n"
     ]
    }
   ],
   "source": [
    "model = keras.Sequential()\n",
    "model.add(Dense(units=64, input_dim = 784, activation='relu'))\n",
    "model.add(Dense(units=32, activation='relu'))\n",
    "model.add(Dense(units=10, activation='softmax'))\n",
    "model.compile(loss='categorical_crossentropy', \n",
    "              optimizer='sgd', \n",
    "              metrics=['accuracy'])\n",
    "hist = model.fit(train_images, train_labels, \n",
    "                 validation_data=(test_images, test_labels),\n",
    "                 epochs=30,\n",
    "                 batch_size=200,\n",
    "                 verbose=2)"
   ]
  },
  {
   "cell_type": "code",
   "execution_count": null,
   "id": "db288b63",
   "metadata": {},
   "outputs": [],
   "source": []
  }
 ],
 "metadata": {
  "kernelspec": {
   "display_name": "Python 3 (ipykernel)",
   "language": "python",
   "name": "python3"
  },
  "language_info": {
   "codemirror_mode": {
    "name": "ipython",
    "version": 3
   },
   "file_extension": ".py",
   "mimetype": "text/x-python",
   "name": "python",
   "nbconvert_exporter": "python",
   "pygments_lexer": "ipython3",
   "version": "3.8.11"
  }
 },
 "nbformat": 4,
 "nbformat_minor": 5
}
