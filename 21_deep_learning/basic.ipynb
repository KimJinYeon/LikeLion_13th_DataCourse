{
 "cells": [
  {
   "cell_type": "code",
   "execution_count": 4,
   "id": "8ecf9d96",
   "metadata": {},
   "outputs": [],
   "source": [
    "import tensorflow as tf\n",
    "import pandas as pd"
   ]
  },
  {
   "cell_type": "code",
   "execution_count": 5,
   "id": "a378243e",
   "metadata": {},
   "outputs": [
    {
     "data": {
      "text/plain": [
       "'2.6.1'"
      ]
     },
     "execution_count": 5,
     "metadata": {},
     "output_type": "execute_result"
    }
   ],
   "source": [
    "tf.__version__"
   ]
  },
  {
   "cell_type": "code",
   "execution_count": 6,
   "id": "b95be125",
   "metadata": {},
   "outputs": [
    {
     "data": {
      "text/html": [
       "<div>\n",
       "<style scoped>\n",
       "    .dataframe tbody tr th:only-of-type {\n",
       "        vertical-align: middle;\n",
       "    }\n",
       "\n",
       "    .dataframe tbody tr th {\n",
       "        vertical-align: top;\n",
       "    }\n",
       "\n",
       "    .dataframe thead th {\n",
       "        text-align: right;\n",
       "    }\n",
       "</style>\n",
       "<table border=\"1\" class=\"dataframe\">\n",
       "  <thead>\n",
       "    <tr style=\"text-align: right;\">\n",
       "      <th></th>\n",
       "      <th>kor</th>\n",
       "      <th>eng</th>\n",
       "      <th>math</th>\n",
       "    </tr>\n",
       "  </thead>\n",
       "  <tbody>\n",
       "    <tr>\n",
       "      <th>0</th>\n",
       "      <td>50</td>\n",
       "      <td>70</td>\n",
       "      <td>170</td>\n",
       "    </tr>\n",
       "    <tr>\n",
       "      <th>1</th>\n",
       "      <td>70</td>\n",
       "      <td>80</td>\n",
       "      <td>220</td>\n",
       "    </tr>\n",
       "    <tr>\n",
       "      <th>2</th>\n",
       "      <td>80</td>\n",
       "      <td>90</td>\n",
       "      <td>250</td>\n",
       "    </tr>\n",
       "    <tr>\n",
       "      <th>3</th>\n",
       "      <td>90</td>\n",
       "      <td>100</td>\n",
       "      <td>280</td>\n",
       "    </tr>\n",
       "    <tr>\n",
       "      <th>4</th>\n",
       "      <td>100</td>\n",
       "      <td>70</td>\n",
       "      <td>270</td>\n",
       "    </tr>\n",
       "  </tbody>\n",
       "</table>\n",
       "</div>"
      ],
      "text/plain": [
       "   kor  eng  math\n",
       "0   50   70   170\n",
       "1   70   80   220\n",
       "2   80   90   250\n",
       "3   90  100   280\n",
       "4  100   70   270"
      ]
     },
     "execution_count": 6,
     "metadata": {},
     "output_type": "execute_result"
    }
   ],
   "source": [
    "kor = [50,70,80,90,100]\n",
    "eng = [70,80,90,100,70]\n",
    "math = [170,220,250,280,270]\n",
    "\n",
    "dat = pd.DataFrame( {\"kor\":kor, \"eng\":eng, \"math\":math } )\n",
    "dat"
   ]
  },
  {
   "cell_type": "code",
   "execution_count": 7,
   "id": "6cd992be",
   "metadata": {},
   "outputs": [
    {
     "name": "stdout",
     "output_type": "stream",
     "text": [
      "가중치 , y절편 :  [2. 1.] -5.684341886080802e-14\n"
     ]
    }
   ],
   "source": [
    "from sklearn.linear_model import LinearRegression\n",
    "\n",
    "X = dat[ ['kor', 'eng'] ] \n",
    "y = dat[ 'math' ]\n",
    "\n",
    "model = LinearRegression()\n",
    "model.fit(X, y)\n",
    "print(\"가중치 , y절편 : \",  model.coef_, model.intercept_)"
   ]
  },
  {
   "cell_type": "code",
   "execution_count": 8,
   "id": "6e8cc40e",
   "metadata": {},
   "outputs": [],
   "source": [
    "import keras\n",
    "import numpy as np"
   ]
  },
  {
   "cell_type": "code",
   "execution_count": 9,
   "id": "53d54fdc",
   "metadata": {},
   "outputs": [
    {
     "name": "stdout",
     "output_type": "stream",
     "text": [
      "0\n",
      "()\n"
     ]
    }
   ],
   "source": [
    "x = np.array(12)\n",
    "print(x.ndim)\n",
    "print(x.shape)"
   ]
  },
  {
   "cell_type": "code",
   "execution_count": 10,
   "id": "4435a47e",
   "metadata": {},
   "outputs": [
    {
     "name": "stdout",
     "output_type": "stream",
     "text": [
      "1\n",
      "(5,)\n"
     ]
    }
   ],
   "source": [
    "x = np.array([10,20,30,40,50])\n",
    "print(x.ndim)\n",
    "print(x.shape)"
   ]
  },
  {
   "cell_type": "code",
   "execution_count": 12,
   "id": "7e90406e",
   "metadata": {},
   "outputs": [
    {
     "name": "stdout",
     "output_type": "stream",
     "text": [
      "2\n",
      "(3, 5)\n"
     ]
    }
   ],
   "source": [
    "x = np.array([[10,20,30,40,50],\n",
    "            [10,20,30,40,50],\n",
    "            [10,20,30,40,50]])\n",
    "print(x.ndim)\n",
    "print(x.shape)"
   ]
  },
  {
   "cell_type": "code",
   "execution_count": 13,
   "id": "563d99c6",
   "metadata": {},
   "outputs": [
    {
     "name": "stdout",
     "output_type": "stream",
     "text": [
      "3\n",
      "(3, 3, 3)\n"
     ]
    },
    {
     "data": {
      "text/plain": [
       "array([[[11, 21, 31],\n",
       "        [12, 22, 32],\n",
       "        [13, 23, 33]],\n",
       "\n",
       "       [[11, 21, 31],\n",
       "        [12, 22, 32],\n",
       "        [13, 23, 33]],\n",
       "\n",
       "       [[11, 21, 31],\n",
       "        [12, 22, 32],\n",
       "        [13, 23, 33]]])"
      ]
     },
     "execution_count": 13,
     "metadata": {},
     "output_type": "execute_result"
    }
   ],
   "source": [
    "x = np.array([\n",
    "              [ [11,21,31],\n",
    "               [12,22,32],\n",
    "               [13,23,33] ],\n",
    "              [ [11,21,31],\n",
    "               [12,22,32],\n",
    "               [13,23,33] ],\n",
    "              [ [11,21,31],\n",
    "               [12,22,32],\n",
    "               [13,23,33] ]\n",
    "             ])\n",
    "print(x.ndim)\n",
    "print(x.shape)\n",
    "x"
   ]
  },
  {
   "cell_type": "code",
   "execution_count": 14,
   "id": "c312b60d",
   "metadata": {},
   "outputs": [
    {
     "name": "stdout",
     "output_type": "stream",
     "text": [
      "Downloading data from https://storage.googleapis.com/tensorflow/tf-keras-datasets/mnist.npz\n",
      "11493376/11490434 [==============================] - 1s 0us/step\n",
      "11501568/11490434 [==============================] - 1s 0us/step\n"
     ]
    }
   ],
   "source": [
    "from keras.datasets import mnist\n",
    "(train_images, train_labels), (test_images, test_labels) = mnist.load_data()"
   ]
  },
  {
   "cell_type": "code",
   "execution_count": 15,
   "id": "173b5937",
   "metadata": {},
   "outputs": [
    {
     "name": "stdout",
     "output_type": "stream",
     "text": [
      "3\n",
      "(60000, 28, 28)\n",
      "uint8\n"
     ]
    }
   ],
   "source": [
    "print(train_images.ndim)\n",
    "print(train_images.shape)\n",
    "print(train_images.dtype)"
   ]
  },
  {
   "cell_type": "code",
   "execution_count": 16,
   "id": "e737a85e",
   "metadata": {},
   "outputs": [
    {
     "data": {
      "image/png": "[encoded data removed]",
      "text/plain": [
       "<Figure size 432x288 with 1 Axes>"
      ]
     },
     "metadata": {
      "needs_background": "light"
     },
     "output_type": "display_data"
    }
   ],
   "source": [
    "import matplotlib.pyplot as plt\n",
    "\n",
    "image = train_images[5]\n",
    "plt.imshow(image, cmap=plt.cm.binary)\n",
    "plt.show()"
   ]
  },
  {
   "cell_type": "code",
   "execution_count": 19,
   "id": "fd120db5",
   "metadata": {},
   "outputs": [
    {
     "name": "stdout",
     "output_type": "stream",
     "text": [
      "(60000, 14, 14)\n"
     ]
    }
   ],
   "source": [
    "my_slice = train_images[:, 14:, 14:]\n",
    "print(my_slice.shape)"
   ]
  },
  {
   "cell_type": "code",
   "execution_count": 20,
   "id": "9c9ccb46",
   "metadata": {},
   "outputs": [
    {
     "data": {
      "image/png": "[encoded data removed]",
      "text/plain": [
       "<Figure size 432x288 with 1 Axes>"
      ]
     },
     "metadata": {
      "needs_background": "light"
     },
     "output_type": "display_data"
    }
   ],
   "source": [
    "image = my_slice[5]\n",
    "plt.imshow(image, cmap = plt.cm.binary)\n",
    "plt.show()"
   ]
  },
  {
   "cell_type": "code",
   "execution_count": 21,
   "id": "96748c3b",
   "metadata": {},
   "outputs": [],
   "source": [
    "import tensorflow as tf\n",
    "import keras\n",
    "\n",
    "import numpy as np\n",
    "import matplotlib.pyplot as plt\n",
    "import matplotlib\n",
    "import pandas as pd"
   ]
  },
  {
   "cell_type": "code",
   "execution_count": 22,
   "id": "47a2b822",
   "metadata": {},
   "outputs": [
    {
     "name": "stdout",
     "output_type": "stream",
     "text": [
      "tf version : 2.6.1\n",
      "keras version : 2.6.0\n",
      "numpy version : 1.19.5\n",
      "matplotlib version : 3.4.2\n",
      "pandas version : 1.3.2\n"
     ]
    }
   ],
   "source": [
    "print(\"tf version : {}\".format(tf.__version__))\n",
    "print(\"keras version : {}\".format(keras.__version__))\n",
    "print(\"numpy version : {}\".format(np.__version__))\n",
    "print(\"matplotlib version : {}\".format(matplotlib.__version__))\n",
    "print(\"pandas version : {}\".format(pd.__version__))"
   ]
  },
  {
   "cell_type": "code",
   "execution_count": 24,
   "id": "7067a4ac",
   "metadata": {},
   "outputs": [],
   "source": [
    "train = pd.read_csv('./data/bike_mod_tr.csv')\n",
    "test = pd.read_csv('./data/bike_mod_test.csv')"
   ]
  },
  {
   "cell_type": "code",
   "execution_count": 25,
   "id": "fa32ee22",
   "metadata": {},
   "outputs": [
    {
     "data": {
      "text/html": [
       "<div>\n",
       "<style scoped>\n",
       "    .dataframe tbody tr th:only-of-type {\n",
       "        vertical-align: middle;\n",
       "    }\n",
       "\n",
       "    .dataframe tbody tr th {\n",
       "        vertical-align: top;\n",
       "    }\n",
       "\n",
       "    .dataframe thead th {\n",
       "        text-align: right;\n",
       "    }\n",
       "</style>\n",
       "<table border=\"1\" class=\"dataframe\">\n",
       "  <thead>\n",
       "    <tr style=\"text-align: right;\">\n",
       "      <th></th>\n",
       "      <th>datetime</th>\n",
       "      <th>season</th>\n",
       "      <th>holiday</th>\n",
       "      <th>workingday</th>\n",
       "      <th>weather</th>\n",
       "      <th>temp</th>\n",
       "      <th>atemp</th>\n",
       "      <th>humidity</th>\n",
       "      <th>windspeed</th>\n",
       "      <th>casual</th>\n",
       "      <th>registered</th>\n",
       "      <th>count</th>\n",
       "      <th>year</th>\n",
       "      <th>month</th>\n",
       "      <th>day</th>\n",
       "      <th>hour</th>\n",
       "      <th>minute</th>\n",
       "      <th>second</th>\n",
       "      <th>dayofweek</th>\n",
       "    </tr>\n",
       "  </thead>\n",
       "  <tbody>\n",
       "    <tr>\n",
       "      <th>0</th>\n",
       "      <td>2011-01-01 00:00:00</td>\n",
       "      <td>1</td>\n",
       "      <td>0</td>\n",
       "      <td>0</td>\n",
       "      <td>1</td>\n",
       "      <td>9.84</td>\n",
       "      <td>14.395</td>\n",
       "      <td>81</td>\n",
       "      <td>0.0000</td>\n",
       "      <td>3</td>\n",
       "      <td>13</td>\n",
       "      <td>16</td>\n",
       "      <td>2011</td>\n",
       "      <td>1</td>\n",
       "      <td>1</td>\n",
       "      <td>0</td>\n",
       "      <td>0</td>\n",
       "      <td>0</td>\n",
       "      <td>5</td>\n",
       "    </tr>\n",
       "    <tr>\n",
       "      <th>1</th>\n",
       "      <td>2011-01-01 01:00:00</td>\n",
       "      <td>1</td>\n",
       "      <td>0</td>\n",
       "      <td>0</td>\n",
       "      <td>1</td>\n",
       "      <td>9.02</td>\n",
       "      <td>13.635</td>\n",
       "      <td>80</td>\n",
       "      <td>0.0000</td>\n",
       "      <td>8</td>\n",
       "      <td>32</td>\n",
       "      <td>40</td>\n",
       "      <td>2011</td>\n",
       "      <td>1</td>\n",
       "      <td>1</td>\n",
       "      <td>1</td>\n",
       "      <td>0</td>\n",
       "      <td>0</td>\n",
       "      <td>5</td>\n",
       "    </tr>\n",
       "    <tr>\n",
       "      <th>2</th>\n",
       "      <td>2011-01-01 02:00:00</td>\n",
       "      <td>1</td>\n",
       "      <td>0</td>\n",
       "      <td>0</td>\n",
       "      <td>1</td>\n",
       "      <td>9.02</td>\n",
       "      <td>13.635</td>\n",
       "      <td>80</td>\n",
       "      <td>0.0000</td>\n",
       "      <td>5</td>\n",
       "      <td>27</td>\n",
       "      <td>32</td>\n",
       "      <td>2011</td>\n",
       "      <td>1</td>\n",
       "      <td>1</td>\n",
       "      <td>2</td>\n",
       "      <td>0</td>\n",
       "      <td>0</td>\n",
       "      <td>5</td>\n",
       "    </tr>\n",
       "    <tr>\n",
       "      <th>3</th>\n",
       "      <td>2011-01-01 03:00:00</td>\n",
       "      <td>1</td>\n",
       "      <td>0</td>\n",
       "      <td>0</td>\n",
       "      <td>1</td>\n",
       "      <td>9.84</td>\n",
       "      <td>14.395</td>\n",
       "      <td>75</td>\n",
       "      <td>0.0000</td>\n",
       "      <td>3</td>\n",
       "      <td>10</td>\n",
       "      <td>13</td>\n",
       "      <td>2011</td>\n",
       "      <td>1</td>\n",
       "      <td>1</td>\n",
       "      <td>3</td>\n",
       "      <td>0</td>\n",
       "      <td>0</td>\n",
       "      <td>5</td>\n",
       "    </tr>\n",
       "    <tr>\n",
       "      <th>4</th>\n",
       "      <td>2011-01-01 04:00:00</td>\n",
       "      <td>1</td>\n",
       "      <td>0</td>\n",
       "      <td>0</td>\n",
       "      <td>1</td>\n",
       "      <td>9.84</td>\n",
       "      <td>14.395</td>\n",
       "      <td>75</td>\n",
       "      <td>0.0000</td>\n",
       "      <td>0</td>\n",
       "      <td>1</td>\n",
       "      <td>1</td>\n",
       "      <td>2011</td>\n",
       "      <td>1</td>\n",
       "      <td>1</td>\n",
       "      <td>4</td>\n",
       "      <td>0</td>\n",
       "      <td>0</td>\n",
       "      <td>5</td>\n",
       "    </tr>\n",
       "    <tr>\n",
       "      <th>...</th>\n",
       "      <td>...</td>\n",
       "      <td>...</td>\n",
       "      <td>...</td>\n",
       "      <td>...</td>\n",
       "      <td>...</td>\n",
       "      <td>...</td>\n",
       "      <td>...</td>\n",
       "      <td>...</td>\n",
       "      <td>...</td>\n",
       "      <td>...</td>\n",
       "      <td>...</td>\n",
       "      <td>...</td>\n",
       "      <td>...</td>\n",
       "      <td>...</td>\n",
       "      <td>...</td>\n",
       "      <td>...</td>\n",
       "      <td>...</td>\n",
       "      <td>...</td>\n",
       "      <td>...</td>\n",
       "    </tr>\n",
       "    <tr>\n",
       "      <th>10881</th>\n",
       "      <td>2012-12-19 19:00:00</td>\n",
       "      <td>4</td>\n",
       "      <td>0</td>\n",
       "      <td>1</td>\n",
       "      <td>1</td>\n",
       "      <td>15.58</td>\n",
       "      <td>19.695</td>\n",
       "      <td>50</td>\n",
       "      <td>26.0027</td>\n",
       "      <td>7</td>\n",
       "      <td>329</td>\n",
       "      <td>336</td>\n",
       "      <td>2012</td>\n",
       "      <td>12</td>\n",
       "      <td>19</td>\n",
       "      <td>19</td>\n",
       "      <td>0</td>\n",
       "      <td>0</td>\n",
       "      <td>2</td>\n",
       "    </tr>\n",
       "    <tr>\n",
       "      <th>10882</th>\n",
       "      <td>2012-12-19 20:00:00</td>\n",
       "      <td>4</td>\n",
       "      <td>0</td>\n",
       "      <td>1</td>\n",
       "      <td>1</td>\n",
       "      <td>14.76</td>\n",
       "      <td>17.425</td>\n",
       "      <td>57</td>\n",
       "      <td>15.0013</td>\n",
       "      <td>10</td>\n",
       "      <td>231</td>\n",
       "      <td>241</td>\n",
       "      <td>2012</td>\n",
       "      <td>12</td>\n",
       "      <td>19</td>\n",
       "      <td>20</td>\n",
       "      <td>0</td>\n",
       "      <td>0</td>\n",
       "      <td>2</td>\n",
       "    </tr>\n",
       "    <tr>\n",
       "      <th>10883</th>\n",
       "      <td>2012-12-19 21:00:00</td>\n",
       "      <td>4</td>\n",
       "      <td>0</td>\n",
       "      <td>1</td>\n",
       "      <td>1</td>\n",
       "      <td>13.94</td>\n",
       "      <td>15.910</td>\n",
       "      <td>61</td>\n",
       "      <td>15.0013</td>\n",
       "      <td>4</td>\n",
       "      <td>164</td>\n",
       "      <td>168</td>\n",
       "      <td>2012</td>\n",
       "      <td>12</td>\n",
       "      <td>19</td>\n",
       "      <td>21</td>\n",
       "      <td>0</td>\n",
       "      <td>0</td>\n",
       "      <td>2</td>\n",
       "    </tr>\n",
       "    <tr>\n",
       "      <th>10884</th>\n",
       "      <td>2012-12-19 22:00:00</td>\n",
       "      <td>4</td>\n",
       "      <td>0</td>\n",
       "      <td>1</td>\n",
       "      <td>1</td>\n",
       "      <td>13.94</td>\n",
       "      <td>17.425</td>\n",
       "      <td>61</td>\n",
       "      <td>6.0032</td>\n",
       "      <td>12</td>\n",
       "      <td>117</td>\n",
       "      <td>129</td>\n",
       "      <td>2012</td>\n",
       "      <td>12</td>\n",
       "      <td>19</td>\n",
       "      <td>22</td>\n",
       "      <td>0</td>\n",
       "      <td>0</td>\n",
       "      <td>2</td>\n",
       "    </tr>\n",
       "    <tr>\n",
       "      <th>10885</th>\n",
       "      <td>2012-12-19 23:00:00</td>\n",
       "      <td>4</td>\n",
       "      <td>0</td>\n",
       "      <td>1</td>\n",
       "      <td>1</td>\n",
       "      <td>13.12</td>\n",
       "      <td>16.665</td>\n",
       "      <td>66</td>\n",
       "      <td>8.9981</td>\n",
       "      <td>4</td>\n",
       "      <td>84</td>\n",
       "      <td>88</td>\n",
       "      <td>2012</td>\n",
       "      <td>12</td>\n",
       "      <td>19</td>\n",
       "      <td>23</td>\n",
       "      <td>0</td>\n",
       "      <td>0</td>\n",
       "      <td>2</td>\n",
       "    </tr>\n",
       "  </tbody>\n",
       "</table>\n",
       "<p>10886 rows × 19 columns</p>\n",
       "</div>"
      ],
      "text/plain": [
       "                  datetime  season  holiday  workingday  weather   temp  \\\n",
       "0      2011-01-01 00:00:00       1        0           0        1   9.84   \n",
       "1      2011-01-01 01:00:00       1        0           0        1   9.02   \n",
       "2      2011-01-01 02:00:00       1        0           0        1   9.02   \n",
       "3      2011-01-01 03:00:00       1        0           0        1   9.84   \n",
       "4      2011-01-01 04:00:00       1        0           0        1   9.84   \n",
       "...                    ...     ...      ...         ...      ...    ...   \n",
       "10881  2012-12-19 19:00:00       4        0           1        1  15.58   \n",
       "10882  2012-12-19 20:00:00       4        0           1        1  14.76   \n",
       "10883  2012-12-19 21:00:00       4        0           1        1  13.94   \n",
       "10884  2012-12-19 22:00:00       4        0           1        1  13.94   \n",
       "10885  2012-12-19 23:00:00       4        0           1        1  13.12   \n",
       "\n",
       "        atemp  humidity  windspeed  casual  registered  count  year  month  \\\n",
       "0      14.395        81     0.0000       3          13     16  2011      1   \n",
       "1      13.635        80     0.0000       8          32     40  2011      1   \n",
       "2      13.635        80     0.0000       5          27     32  2011      1   \n",
       "3      14.395        75     0.0000       3          10     13  2011      1   \n",
       "4      14.395        75     0.0000       0           1      1  2011      1   \n",
       "...       ...       ...        ...     ...         ...    ...   ...    ...   \n",
       "10881  19.695        50    26.0027       7         329    336  2012     12   \n",
       "10882  17.425        57    15.0013      10         231    241  2012     12   \n",
       "10883  15.910        61    15.0013       4         164    168  2012     12   \n",
       "10884  17.425        61     6.0032      12         117    129  2012     12   \n",
       "10885  16.665        66     8.9981       4          84     88  2012     12   \n",
       "\n",
       "       day  hour  minute  second  dayofweek  \n",
       "0        1     0       0       0          5  \n",
       "1        1     1       0       0          5  \n",
       "2        1     2       0       0          5  \n",
       "3        1     3       0       0          5  \n",
       "4        1     4       0       0          5  \n",
       "...    ...   ...     ...     ...        ...  \n",
       "10881   19    19       0       0          2  \n",
       "10882   19    20       0       0          2  \n",
       "10883   19    21       0       0          2  \n",
       "10884   19    22       0       0          2  \n",
       "10885   19    23       0       0          2  \n",
       "\n",
       "[10886 rows x 19 columns]"
      ]
     },
     "execution_count": 25,
     "metadata": {},
     "output_type": "execute_result"
    }
   ],
   "source": [
    "train"
   ]
  },
  {
   "cell_type": "code",
   "execution_count": 26,
   "id": "751c896e",
   "metadata": {},
   "outputs": [
    {
     "data": {
      "text/html": [
       "<div>\n",
       "<style scoped>\n",
       "    .dataframe tbody tr th:only-of-type {\n",
       "        vertical-align: middle;\n",
       "    }\n",
       "\n",
       "    .dataframe tbody tr th {\n",
       "        vertical-align: top;\n",
       "    }\n",
       "\n",
       "    .dataframe thead th {\n",
       "        text-align: right;\n",
       "    }\n",
       "</style>\n",
       "<table border=\"1\" class=\"dataframe\">\n",
       "  <thead>\n",
       "    <tr style=\"text-align: right;\">\n",
       "      <th></th>\n",
       "      <th>datetime</th>\n",
       "      <th>season</th>\n",
       "      <th>holiday</th>\n",
       "      <th>workingday</th>\n",
       "      <th>weather</th>\n",
       "      <th>temp</th>\n",
       "      <th>atemp</th>\n",
       "      <th>humidity</th>\n",
       "      <th>windspeed</th>\n",
       "      <th>year</th>\n",
       "      <th>month</th>\n",
       "      <th>day</th>\n",
       "      <th>dayofweek</th>\n",
       "      <th>hour</th>\n",
       "      <th>minute</th>\n",
       "      <th>second</th>\n",
       "    </tr>\n",
       "  </thead>\n",
       "  <tbody>\n",
       "    <tr>\n",
       "      <th>0</th>\n",
       "      <td>2011-01-20 00:00:00</td>\n",
       "      <td>1</td>\n",
       "      <td>0</td>\n",
       "      <td>1</td>\n",
       "      <td>1</td>\n",
       "      <td>10.66</td>\n",
       "      <td>11.365</td>\n",
       "      <td>56</td>\n",
       "      <td>26.0027</td>\n",
       "      <td>2011</td>\n",
       "      <td>1</td>\n",
       "      <td>20</td>\n",
       "      <td>3</td>\n",
       "      <td>0</td>\n",
       "      <td>0</td>\n",
       "      <td>0</td>\n",
       "    </tr>\n",
       "    <tr>\n",
       "      <th>1</th>\n",
       "      <td>2011-01-20 01:00:00</td>\n",
       "      <td>1</td>\n",
       "      <td>0</td>\n",
       "      <td>1</td>\n",
       "      <td>1</td>\n",
       "      <td>10.66</td>\n",
       "      <td>13.635</td>\n",
       "      <td>56</td>\n",
       "      <td>0.0000</td>\n",
       "      <td>2011</td>\n",
       "      <td>1</td>\n",
       "      <td>20</td>\n",
       "      <td>3</td>\n",
       "      <td>1</td>\n",
       "      <td>0</td>\n",
       "      <td>0</td>\n",
       "    </tr>\n",
       "    <tr>\n",
       "      <th>2</th>\n",
       "      <td>2011-01-20 02:00:00</td>\n",
       "      <td>1</td>\n",
       "      <td>0</td>\n",
       "      <td>1</td>\n",
       "      <td>1</td>\n",
       "      <td>10.66</td>\n",
       "      <td>13.635</td>\n",
       "      <td>56</td>\n",
       "      <td>0.0000</td>\n",
       "      <td>2011</td>\n",
       "      <td>1</td>\n",
       "      <td>20</td>\n",
       "      <td>3</td>\n",
       "      <td>2</td>\n",
       "      <td>0</td>\n",
       "      <td>0</td>\n",
       "    </tr>\n",
       "    <tr>\n",
       "      <th>3</th>\n",
       "      <td>2011-01-20 03:00:00</td>\n",
       "      <td>1</td>\n",
       "      <td>0</td>\n",
       "      <td>1</td>\n",
       "      <td>1</td>\n",
       "      <td>10.66</td>\n",
       "      <td>12.880</td>\n",
       "      <td>56</td>\n",
       "      <td>11.0014</td>\n",
       "      <td>2011</td>\n",
       "      <td>1</td>\n",
       "      <td>20</td>\n",
       "      <td>3</td>\n",
       "      <td>3</td>\n",
       "      <td>0</td>\n",
       "      <td>0</td>\n",
       "    </tr>\n",
       "    <tr>\n",
       "      <th>4</th>\n",
       "      <td>2011-01-20 04:00:00</td>\n",
       "      <td>1</td>\n",
       "      <td>0</td>\n",
       "      <td>1</td>\n",
       "      <td>1</td>\n",
       "      <td>10.66</td>\n",
       "      <td>12.880</td>\n",
       "      <td>56</td>\n",
       "      <td>11.0014</td>\n",
       "      <td>2011</td>\n",
       "      <td>1</td>\n",
       "      <td>20</td>\n",
       "      <td>3</td>\n",
       "      <td>4</td>\n",
       "      <td>0</td>\n",
       "      <td>0</td>\n",
       "    </tr>\n",
       "    <tr>\n",
       "      <th>...</th>\n",
       "      <td>...</td>\n",
       "      <td>...</td>\n",
       "      <td>...</td>\n",
       "      <td>...</td>\n",
       "      <td>...</td>\n",
       "      <td>...</td>\n",
       "      <td>...</td>\n",
       "      <td>...</td>\n",
       "      <td>...</td>\n",
       "      <td>...</td>\n",
       "      <td>...</td>\n",
       "      <td>...</td>\n",
       "      <td>...</td>\n",
       "      <td>...</td>\n",
       "      <td>...</td>\n",
       "      <td>...</td>\n",
       "    </tr>\n",
       "    <tr>\n",
       "      <th>6488</th>\n",
       "      <td>2012-12-31 19:00:00</td>\n",
       "      <td>1</td>\n",
       "      <td>0</td>\n",
       "      <td>1</td>\n",
       "      <td>2</td>\n",
       "      <td>10.66</td>\n",
       "      <td>12.880</td>\n",
       "      <td>60</td>\n",
       "      <td>11.0014</td>\n",
       "      <td>2012</td>\n",
       "      <td>12</td>\n",
       "      <td>31</td>\n",
       "      <td>0</td>\n",
       "      <td>19</td>\n",
       "      <td>0</td>\n",
       "      <td>0</td>\n",
       "    </tr>\n",
       "    <tr>\n",
       "      <th>6489</th>\n",
       "      <td>2012-12-31 20:00:00</td>\n",
       "      <td>1</td>\n",
       "      <td>0</td>\n",
       "      <td>1</td>\n",
       "      <td>2</td>\n",
       "      <td>10.66</td>\n",
       "      <td>12.880</td>\n",
       "      <td>60</td>\n",
       "      <td>11.0014</td>\n",
       "      <td>2012</td>\n",
       "      <td>12</td>\n",
       "      <td>31</td>\n",
       "      <td>0</td>\n",
       "      <td>20</td>\n",
       "      <td>0</td>\n",
       "      <td>0</td>\n",
       "    </tr>\n",
       "    <tr>\n",
       "      <th>6490</th>\n",
       "      <td>2012-12-31 21:00:00</td>\n",
       "      <td>1</td>\n",
       "      <td>0</td>\n",
       "      <td>1</td>\n",
       "      <td>1</td>\n",
       "      <td>10.66</td>\n",
       "      <td>12.880</td>\n",
       "      <td>60</td>\n",
       "      <td>11.0014</td>\n",
       "      <td>2012</td>\n",
       "      <td>12</td>\n",
       "      <td>31</td>\n",
       "      <td>0</td>\n",
       "      <td>21</td>\n",
       "      <td>0</td>\n",
       "      <td>0</td>\n",
       "    </tr>\n",
       "    <tr>\n",
       "      <th>6491</th>\n",
       "      <td>2012-12-31 22:00:00</td>\n",
       "      <td>1</td>\n",
       "      <td>0</td>\n",
       "      <td>1</td>\n",
       "      <td>1</td>\n",
       "      <td>10.66</td>\n",
       "      <td>13.635</td>\n",
       "      <td>56</td>\n",
       "      <td>8.9981</td>\n",
       "      <td>2012</td>\n",
       "      <td>12</td>\n",
       "      <td>31</td>\n",
       "      <td>0</td>\n",
       "      <td>22</td>\n",
       "      <td>0</td>\n",
       "      <td>0</td>\n",
       "    </tr>\n",
       "    <tr>\n",
       "      <th>6492</th>\n",
       "      <td>2012-12-31 23:00:00</td>\n",
       "      <td>1</td>\n",
       "      <td>0</td>\n",
       "      <td>1</td>\n",
       "      <td>1</td>\n",
       "      <td>10.66</td>\n",
       "      <td>13.635</td>\n",
       "      <td>65</td>\n",
       "      <td>8.9981</td>\n",
       "      <td>2012</td>\n",
       "      <td>12</td>\n",
       "      <td>31</td>\n",
       "      <td>0</td>\n",
       "      <td>23</td>\n",
       "      <td>0</td>\n",
       "      <td>0</td>\n",
       "    </tr>\n",
       "  </tbody>\n",
       "</table>\n",
       "<p>6493 rows × 16 columns</p>\n",
       "</div>"
      ],
      "text/plain": [
       "                 datetime  season  holiday  workingday  weather   temp  \\\n",
       "0     2011-01-20 00:00:00       1        0           1        1  10.66   \n",
       "1     2011-01-20 01:00:00       1        0           1        1  10.66   \n",
       "2     2011-01-20 02:00:00       1        0           1        1  10.66   \n",
       "3     2011-01-20 03:00:00       1        0           1        1  10.66   \n",
       "4     2011-01-20 04:00:00       1        0           1        1  10.66   \n",
       "...                   ...     ...      ...         ...      ...    ...   \n",
       "6488  2012-12-31 19:00:00       1        0           1        2  10.66   \n",
       "6489  2012-12-31 20:00:00       1        0           1        2  10.66   \n",
       "6490  2012-12-31 21:00:00       1        0           1        1  10.66   \n",
       "6491  2012-12-31 22:00:00       1        0           1        1  10.66   \n",
       "6492  2012-12-31 23:00:00       1        0           1        1  10.66   \n",
       "\n",
       "       atemp  humidity  windspeed  year  month  day  dayofweek  hour  minute  \\\n",
       "0     11.365        56    26.0027  2011      1   20          3     0       0   \n",
       "1     13.635        56     0.0000  2011      1   20          3     1       0   \n",
       "2     13.635        56     0.0000  2011      1   20          3     2       0   \n",
       "3     12.880        56    11.0014  2011      1   20          3     3       0   \n",
       "4     12.880        56    11.0014  2011      1   20          3     4       0   \n",
       "...      ...       ...        ...   ...    ...  ...        ...   ...     ...   \n",
       "6488  12.880        60    11.0014  2012     12   31          0    19       0   \n",
       "6489  12.880        60    11.0014  2012     12   31          0    20       0   \n",
       "6490  12.880        60    11.0014  2012     12   31          0    21       0   \n",
       "6491  13.635        56     8.9981  2012     12   31          0    22       0   \n",
       "6492  13.635        65     8.9981  2012     12   31          0    23       0   \n",
       "\n",
       "      second  \n",
       "0          0  \n",
       "1          0  \n",
       "2          0  \n",
       "3          0  \n",
       "4          0  \n",
       "...      ...  \n",
       "6488       0  \n",
       "6489       0  \n",
       "6490       0  \n",
       "6491       0  \n",
       "6492       0  \n",
       "\n",
       "[6493 rows x 16 columns]"
      ]
     },
     "execution_count": 26,
     "metadata": {},
     "output_type": "execute_result"
    }
   ],
   "source": [
    "test"
   ]
  },
  {
   "cell_type": "code",
   "execution_count": 27,
   "id": "abb7df68",
   "metadata": {},
   "outputs": [
    {
     "name": "stdout",
     "output_type": "stream",
     "text": [
      "<class 'pandas.core.frame.DataFrame'>\n",
      "RangeIndex: 10886 entries, 0 to 10885\n",
      "Data columns (total 19 columns):\n",
      " #   Column      Non-Null Count  Dtype  \n",
      "---  ------      --------------  -----  \n",
      " 0   datetime    10886 non-null  object \n",
      " 1   season      10886 non-null  int64  \n",
      " 2   holiday     10886 non-null  int64  \n",
      " 3   workingday  10886 non-null  int64  \n",
      " 4   weather     10886 non-null  int64  \n",
      " 5   temp        10886 non-null  float64\n",
      " 6   atemp       10886 non-null  float64\n",
      " 7   humidity    10886 non-null  int64  \n",
      " 8   windspeed   10886 non-null  float64\n",
      " 9   casual      10886 non-null  int64  \n",
      " 10  registered  10886 non-null  int64  \n",
      " 11  count       10886 non-null  int64  \n",
      " 12  year        10886 non-null  int64  \n",
      " 13  month       10886 non-null  int64  \n",
      " 14  day         10886 non-null  int64  \n",
      " 15  hour        10886 non-null  int64  \n",
      " 16  minute      10886 non-null  int64  \n",
      " 17  second      10886 non-null  int64  \n",
      " 18  dayofweek   10886 non-null  int64  \n",
      "dtypes: float64(3), int64(15), object(1)\n",
      "memory usage: 1.6+ MB\n"
     ]
    }
   ],
   "source": [
    "train.info()"
   ]
  },
  {
   "cell_type": "code",
   "execution_count": 28,
   "id": "518cf254",
   "metadata": {},
   "outputs": [
    {
     "name": "stdout",
     "output_type": "stream",
     "text": [
      "<class 'pandas.core.frame.DataFrame'>\n",
      "RangeIndex: 6493 entries, 0 to 6492\n",
      "Data columns (total 16 columns):\n",
      " #   Column      Non-Null Count  Dtype  \n",
      "---  ------      --------------  -----  \n",
      " 0   datetime    6493 non-null   object \n",
      " 1   season      6493 non-null   int64  \n",
      " 2   holiday     6493 non-null   int64  \n",
      " 3   workingday  6493 non-null   int64  \n",
      " 4   weather     6493 non-null   int64  \n",
      " 5   temp        6493 non-null   float64\n",
      " 6   atemp       6493 non-null   float64\n",
      " 7   humidity    6493 non-null   int64  \n",
      " 8   windspeed   6493 non-null   float64\n",
      " 9   year        6493 non-null   int64  \n",
      " 10  month       6493 non-null   int64  \n",
      " 11  day         6493 non-null   int64  \n",
      " 12  dayofweek   6493 non-null   int64  \n",
      " 13  hour        6493 non-null   int64  \n",
      " 14  minute      6493 non-null   int64  \n",
      " 15  second      6493 non-null   int64  \n",
      "dtypes: float64(3), int64(12), object(1)\n",
      "memory usage: 811.8+ KB\n"
     ]
    }
   ],
   "source": [
    "test.info()"
   ]
  },
  {
   "cell_type": "code",
   "execution_count": 42,
   "id": "8a5b771c",
   "metadata": {},
   "outputs": [],
   "source": [
    "sel = ['hour', 'temp']\n",
    "\n",
    "X = train[sel]\n",
    "y = train['count']\n",
    "X_val = test[sel]"
   ]
  },
  {
   "cell_type": "code",
   "execution_count": 43,
   "id": "10af84ed",
   "metadata": {},
   "outputs": [],
   "source": [
    "from sklearn.model_selection import train_test_split"
   ]
  },
  {
   "cell_type": "code",
   "execution_count": 53,
   "id": "724267cc",
   "metadata": {},
   "outputs": [],
   "source": [
    "X_train, X_test, y_train, y_test = train_test_split(X, y, \n",
    "                                                random_state=0)"
   ]
  },
  {
   "cell_type": "code",
   "execution_count": 54,
   "id": "81dcfe12",
   "metadata": {},
   "outputs": [
    {
     "name": "stdout",
     "output_type": "stream",
     "text": [
      "(8164, 2)\n",
      "(2722, 2)\n"
     ]
    }
   ],
   "source": [
    "print(X_train.shape)\n",
    "print(X_test.shape)"
   ]
  },
  {
   "cell_type": "code",
   "execution_count": 55,
   "id": "c9045c0f",
   "metadata": {},
   "outputs": [
    {
     "data": {
      "text/html": [
       "<div>\n",
       "<style scoped>\n",
       "    .dataframe tbody tr th:only-of-type {\n",
       "        vertical-align: middle;\n",
       "    }\n",
       "\n",
       "    .dataframe tbody tr th {\n",
       "        vertical-align: top;\n",
       "    }\n",
       "\n",
       "    .dataframe thead th {\n",
       "        text-align: right;\n",
       "    }\n",
       "</style>\n",
       "<table border=\"1\" class=\"dataframe\">\n",
       "  <thead>\n",
       "    <tr style=\"text-align: right;\">\n",
       "      <th></th>\n",
       "      <th>hour</th>\n",
       "      <th>temp</th>\n",
       "    </tr>\n",
       "  </thead>\n",
       "  <tbody>\n",
       "    <tr>\n",
       "      <th>10639</th>\n",
       "      <td>17</td>\n",
       "      <td>14.76</td>\n",
       "    </tr>\n",
       "    <tr>\n",
       "      <th>2666</th>\n",
       "      <td>0</td>\n",
       "      <td>28.70</td>\n",
       "    </tr>\n",
       "    <tr>\n",
       "      <th>7474</th>\n",
       "      <td>19</td>\n",
       "      <td>22.14</td>\n",
       "    </tr>\n",
       "    <tr>\n",
       "      <th>5094</th>\n",
       "      <td>8</td>\n",
       "      <td>18.86</td>\n",
       "    </tr>\n",
       "    <tr>\n",
       "      <th>1714</th>\n",
       "      <td>8</td>\n",
       "      <td>15.58</td>\n",
       "    </tr>\n",
       "    <tr>\n",
       "      <th>...</th>\n",
       "      <td>...</td>\n",
       "      <td>...</td>\n",
       "    </tr>\n",
       "    <tr>\n",
       "      <th>4859</th>\n",
       "      <td>13</td>\n",
       "      <td>22.14</td>\n",
       "    </tr>\n",
       "    <tr>\n",
       "      <th>3264</th>\n",
       "      <td>22</td>\n",
       "      <td>28.70</td>\n",
       "    </tr>\n",
       "    <tr>\n",
       "      <th>9845</th>\n",
       "      <td>14</td>\n",
       "      <td>27.06</td>\n",
       "    </tr>\n",
       "    <tr>\n",
       "      <th>10799</th>\n",
       "      <td>9</td>\n",
       "      <td>14.76</td>\n",
       "    </tr>\n",
       "    <tr>\n",
       "      <th>2732</th>\n",
       "      <td>18</td>\n",
       "      <td>33.62</td>\n",
       "    </tr>\n",
       "  </tbody>\n",
       "</table>\n",
       "<p>8164 rows × 2 columns</p>\n",
       "</div>"
      ],
      "text/plain": [
       "       hour   temp\n",
       "10639    17  14.76\n",
       "2666      0  28.70\n",
       "7474     19  22.14\n",
       "5094      8  18.86\n",
       "1714      8  15.58\n",
       "...     ...    ...\n",
       "4859     13  22.14\n",
       "3264     22  28.70\n",
       "9845     14  27.06\n",
       "10799     9  14.76\n",
       "2732     18  33.62\n",
       "\n",
       "[8164 rows x 2 columns]"
      ]
     },
     "execution_count": 55,
     "metadata": {},
     "output_type": "execute_result"
    }
   ],
   "source": [
    "X_train"
   ]
  },
  {
   "cell_type": "code",
   "execution_count": 56,
   "id": "8335a6da",
   "metadata": {},
   "outputs": [
    {
     "data": {
      "text/plain": [
       "10639    229\n",
       "2666      89\n",
       "7474     553\n",
       "5094     414\n",
       "1714      43\n",
       "        ... \n",
       "4859     153\n",
       "3264     188\n",
       "9845     617\n",
       "10799    132\n",
       "2732     383\n",
       "Name: count, Length: 8164, dtype: int64"
      ]
     },
     "execution_count": 56,
     "metadata": {},
     "output_type": "execute_result"
    }
   ],
   "source": [
    "y_train"
   ]
  },
  {
   "cell_type": "code",
   "execution_count": 57,
   "id": "e401e08e",
   "metadata": {},
   "outputs": [],
   "source": [
    "from keras.models import Sequential\n",
    "from keras.layers import Dense"
   ]
  },
  {
   "cell_type": "code",
   "execution_count": 58,
   "id": "c9e96849",
   "metadata": {},
   "outputs": [],
   "source": [
    "model = Sequential()"
   ]
  },
  {
   "cell_type": "code",
   "execution_count": 59,
   "id": "6e021a41",
   "metadata": {},
   "outputs": [],
   "source": [
    "model.add(Dense(16, input_dim = 2, activation='relu'))\n",
    "model.add(Dense(1))"
   ]
  },
  {
   "cell_type": "code",
   "execution_count": 60,
   "id": "a7320b9d",
   "metadata": {},
   "outputs": [
    {
     "name": "stdout",
     "output_type": "stream",
     "text": [
      "Model: \"sequential_2\"\n",
      "_________________________________________________________________\n",
      "Layer (type)                 Output Shape              Param #   \n",
      "=================================================================\n",
      "dense_4 (Dense)              (None, 16)                48        \n",
      "_________________________________________________________________\n",
      "dense_5 (Dense)              (None, 1)                 17        \n",
      "=================================================================\n",
      "Total params: 65\n",
      "Trainable params: 65\n",
      "Non-trainable params: 0\n",
      "_________________________________________________________________\n"
     ]
    }
   ],
   "source": [
    "model.summary()"
   ]
  },
  {
   "cell_type": "code",
   "execution_count": 61,
   "id": "224bd522",
   "metadata": {},
   "outputs": [
    {
     "name": "stdout",
     "output_type": "stream",
     "text": [
      "Epoch 1/20\n",
      "817/817 [==============================] - 1s 405us/step - loss: 42501.1719\n",
      "Epoch 2/20\n",
      "817/817 [==============================] - 0s 388us/step - loss: 24534.1016\n",
      "Epoch 3/20\n",
      "817/817 [==============================] - 0s 389us/step - loss: 23985.3301\n",
      "Epoch 4/20\n",
      "817/817 [==============================] - 0s 390us/step - loss: 23439.7168\n",
      "Epoch 5/20\n",
      "817/817 [==============================] - 0s 382us/step - loss: 22873.6426\n",
      "Epoch 6/20\n",
      "817/817 [==============================] - 0s 381us/step - loss: 22309.4355\n",
      "Epoch 7/20\n",
      "817/817 [==============================] - 0s 382us/step - loss: 21776.7598\n",
      "Epoch 8/20\n",
      "817/817 [==============================] - 0s 384us/step - loss: 21312.1074\n",
      "Epoch 9/20\n",
      "817/817 [==============================] - 0s 387us/step - loss: 20902.8887\n",
      "Epoch 10/20\n",
      "817/817 [==============================] - 0s 404us/step - loss: 20594.3965\n",
      "Epoch 11/20\n",
      "817/817 [==============================] - 0s 390us/step - loss: 20339.8809\n",
      "Epoch 12/20\n",
      "817/817 [==============================] - 0s 386us/step - loss: 20130.5566\n",
      "Epoch 13/20\n",
      "817/817 [==============================] - 0s 415us/step - loss: 19984.1914\n",
      "Epoch 14/20\n",
      "817/817 [==============================] - 0s 392us/step - loss: 19874.1484\n",
      "Epoch 15/20\n",
      "817/817 [==============================] - 0s 391us/step - loss: 19784.7305\n",
      "Epoch 16/20\n",
      "817/817 [==============================] - 0s 391us/step - loss: 19733.3574\n",
      "Epoch 17/20\n",
      "817/817 [==============================] - 0s 395us/step - loss: 19688.1035\n",
      "Epoch 18/20\n",
      "817/817 [==============================] - 0s 396us/step - loss: 19652.8066\n",
      "Epoch 19/20\n",
      "817/817 [==============================] - 0s 390us/step - loss: 19617.9102\n",
      "Epoch 20/20\n",
      "817/817 [==============================] - 0s 388us/step - loss: 19610.3965\n"
     ]
    },
    {
     "data": {
      "text/plain": [
       "<keras.callbacks.History at 0x222c8814dc0>"
      ]
     },
     "execution_count": 61,
     "metadata": {},
     "output_type": "execute_result"
    }
   ],
   "source": [
    "model.compile(loss='mean_squared_error', optimizer='rmsprop')\n",
    "model.fit(X_train, y_train, epochs=20, batch_size=10)"
   ]
  },
  {
   "cell_type": "code",
   "execution_count": 63,
   "id": "4c09c448",
   "metadata": {},
   "outputs": [
    {
     "name": "stdout",
     "output_type": "stream",
     "text": [
      "86/86 [==============================] - 0s 434us/step - loss: 19401.1172\n"
     ]
    },
    {
     "data": {
      "text/plain": [
       "19401.1171875"
      ]
     },
     "execution_count": 63,
     "metadata": {},
     "output_type": "execute_result"
    }
   ],
   "source": [
    "model.evaluate(X_test, y_test)"
   ]
  },
  {
   "cell_type": "code",
   "execution_count": 64,
   "id": "b25a2dc8",
   "metadata": {},
   "outputs": [],
   "source": [
    "pred = model.predict(X_val)"
   ]
  },
  {
   "cell_type": "code",
   "execution_count": 68,
   "id": "ea143bfb",
   "metadata": {},
   "outputs": [],
   "source": [
    "sub = pd.read_csv(\"./data/sampleSubmission.csv\")\n",
    "sub['count'] = pred\n",
    "\n",
    "sub.loc[sub['count']<0, 'count'] = 0"
   ]
  },
  {
   "cell_type": "code",
   "execution_count": 69,
   "id": "7a809b12",
   "metadata": {},
   "outputs": [],
   "source": [
    "sub.to_csv(\"sampleSubmission_sequential.csv\", index=False)"
   ]
  },
  {
   "cell_type": "code",
   "execution_count": 70,
   "id": "38e0914e",
   "metadata": {},
   "outputs": [
    {
     "name": "stdout",
     "output_type": "stream",
     "text": [
      "<class 'pandas.core.frame.DataFrame'>\n",
      "RangeIndex: 10886 entries, 0 to 10885\n",
      "Data columns (total 19 columns):\n",
      " #   Column      Non-Null Count  Dtype  \n",
      "---  ------      --------------  -----  \n",
      " 0   datetime    10886 non-null  object \n",
      " 1   season      10886 non-null  int64  \n",
      " 2   holiday     10886 non-null  int64  \n",
      " 3   workingday  10886 non-null  int64  \n",
      " 4   weather     10886 non-null  int64  \n",
      " 5   temp        10886 non-null  float64\n",
      " 6   atemp       10886 non-null  float64\n",
      " 7   humidity    10886 non-null  int64  \n",
      " 8   windspeed   10886 non-null  float64\n",
      " 9   casual      10886 non-null  int64  \n",
      " 10  registered  10886 non-null  int64  \n",
      " 11  count       10886 non-null  int64  \n",
      " 12  year        10886 non-null  int64  \n",
      " 13  month       10886 non-null  int64  \n",
      " 14  day         10886 non-null  int64  \n",
      " 15  hour        10886 non-null  int64  \n",
      " 16  minute      10886 non-null  int64  \n",
      " 17  second      10886 non-null  int64  \n",
      " 18  dayofweek   10886 non-null  int64  \n",
      "dtypes: float64(3), int64(15), object(1)\n",
      "memory usage: 1.6+ MB\n"
     ]
    }
   ],
   "source": [
    "train.info()"
   ]
  },
  {
   "cell_type": "code",
   "execution_count": 71,
   "id": "b3b3a0ec",
   "metadata": {},
   "outputs": [],
   "source": [
    "sel = ['hour', 'temp', 'season', 'holiday', 'weather', 'month', 'day']\n",
    "\n",
    "X = train[sel]\n",
    "y = train['count']\n",
    "X_val = test[sel]"
   ]
  },
  {
   "cell_type": "code",
   "execution_count": 72,
   "id": "ef7716a7",
   "metadata": {},
   "outputs": [],
   "source": [
    "X_train, X_test, y_train, y_test = train_test_split(X, y, \n",
    "                                                random_state=0)"
   ]
  },
  {
   "cell_type": "code",
   "execution_count": 73,
   "id": "f83417e2",
   "metadata": {},
   "outputs": [
    {
     "name": "stdout",
     "output_type": "stream",
     "text": [
      "(8164, 7)\n",
      "(2722, 7)\n"
     ]
    }
   ],
   "source": [
    "print(X_train.shape)\n",
    "print(X_test.shape)"
   ]
  },
  {
   "cell_type": "code",
   "execution_count": 78,
   "id": "6e0df39d",
   "metadata": {},
   "outputs": [],
   "source": [
    "model = Sequential()"
   ]
  },
  {
   "cell_type": "code",
   "execution_count": 79,
   "id": "b8a23821",
   "metadata": {},
   "outputs": [],
   "source": [
    "model.add(Dense(30, input_dim = 7, activation='relu'))\n",
    "model.add(Dense(15, activation='relu') )\n",
    "model.add(Dense(15, activation='relu') )\n",
    "model.add(Dense(1))"
   ]
  },
  {
   "cell_type": "code",
   "execution_count": 80,
   "id": "52ce9094",
   "metadata": {},
   "outputs": [
    {
     "name": "stdout",
     "output_type": "stream",
     "text": [
      "Model: \"sequential_4\"\n",
      "_________________________________________________________________\n",
      "Layer (type)                 Output Shape              Param #   \n",
      "=================================================================\n",
      "dense_8 (Dense)              (None, 30)                240       \n",
      "_________________________________________________________________\n",
      "dense_9 (Dense)              (None, 15)                465       \n",
      "_________________________________________________________________\n",
      "dense_10 (Dense)             (None, 15)                240       \n",
      "_________________________________________________________________\n",
      "dense_11 (Dense)             (None, 1)                 16        \n",
      "=================================================================\n",
      "Total params: 961\n",
      "Trainable params: 961\n",
      "Non-trainable params: 0\n",
      "_________________________________________________________________\n"
     ]
    }
   ],
   "source": [
    "model.summary()"
   ]
  },
  {
   "cell_type": "code",
   "execution_count": 81,
   "id": "b3071d6f",
   "metadata": {
    "scrolled": false
   },
   "outputs": [
    {
     "name": "stdout",
     "output_type": "stream",
     "text": [
      "Epoch 1/20\n",
      "817/817 [==============================] - 1s 448us/step - loss: 29620.3965 0s - loss: 30656.50\n",
      "Epoch 2/20\n",
      "817/817 [==============================] - 0s 448us/step - loss: 21124.2715\n",
      "Epoch 3/20\n",
      "817/817 [==============================] - 0s 439us/step - loss: 19223.2480\n",
      "Epoch 4/20\n",
      "817/817 [==============================] - 0s 444us/step - loss: 18574.0137\n",
      "Epoch 5/20\n",
      "817/817 [==============================] - 0s 442us/step - loss: 18283.7617\n",
      "Epoch 6/20\n",
      "817/817 [==============================] - 0s 435us/step - loss: 18092.4180\n",
      "Epoch 7/20\n",
      "817/817 [==============================] - 0s 439us/step - loss: 17963.6523\n",
      "Epoch 8/20\n",
      "817/817 [==============================] - 0s 441us/step - loss: 17838.4492\n",
      "Epoch 9/20\n",
      "817/817 [==============================] - 0s 433us/step - loss: 17700.1113\n",
      "Epoch 10/20\n",
      "817/817 [==============================] - 0s 437us/step - loss: 17633.7559\n",
      "Epoch 11/20\n",
      "817/817 [==============================] - 0s 452us/step - loss: 17549.5898\n",
      "Epoch 12/20\n",
      "817/817 [==============================] - 0s 440us/step - loss: 17427.3281\n",
      "Epoch 13/20\n",
      "817/817 [==============================] - 0s 436us/step - loss: 17394.4199\n",
      "Epoch 14/20\n",
      "817/817 [==============================] - 0s 438us/step - loss: 17366.9434\n",
      "Epoch 15/20\n",
      "817/817 [==============================] - 0s 439us/step - loss: 17300.1133\n",
      "Epoch 16/20\n",
      "817/817 [==============================] - 0s 435us/step - loss: 17273.5000\n",
      "Epoch 17/20\n",
      "817/817 [==============================] - 0s 442us/step - loss: 17231.9473\n",
      "Epoch 18/20\n",
      "817/817 [==============================] - 0s 440us/step - loss: 17083.7656\n",
      "Epoch 19/20\n",
      "817/817 [==============================] - 0s 437us/step - loss: 17134.3438\n",
      "Epoch 20/20\n",
      "817/817 [==============================] - 0s 442us/step - loss: 17087.4082\n"
     ]
    },
    {
     "data": {
      "text/plain": [
       "<keras.callbacks.History at 0x222c7bcdc40>"
      ]
     },
     "execution_count": 81,
     "metadata": {},
     "output_type": "execute_result"
    }
   ],
   "source": [
    "model.compile(loss='mean_squared_error', optimizer='rmsprop')\n",
    "model.fit(X_train, y_train, epochs=20, batch_size=10)"
   ]
  },
  {
   "cell_type": "code",
   "execution_count": 82,
   "id": "4e706199",
   "metadata": {},
   "outputs": [
    {
     "name": "stdout",
     "output_type": "stream",
     "text": [
      "86/86 [==============================] - 0s 387us/step - loss: 17115.0918\n"
     ]
    },
    {
     "data": {
      "text/plain": [
       "17115.091796875"
      ]
     },
     "execution_count": 82,
     "metadata": {},
     "output_type": "execute_result"
    }
   ],
   "source": [
    "model.evaluate(X_test, y_test)"
   ]
  },
  {
   "cell_type": "code",
   "execution_count": 83,
   "id": "017fdebc",
   "metadata": {},
   "outputs": [],
   "source": [
    "pred = model.predict(X_val)\n",
    "sub = pd.read_csv(\"./data/sampleSubmission.csv\")\n",
    "sub['count'] = pred\n",
    "\n",
    "sub.loc[sub['count']<0, 'count'] = 0\n",
    "sub.to_csv(\"sampleSubmission_sequential_morecol.csv\", index=False)"
   ]
  },
  {
   "cell_type": "code",
   "execution_count": 87,
   "id": "2cf95e9f",
   "metadata": {},
   "outputs": [],
   "source": [
    "model = Sequential()"
   ]
  },
  {
   "cell_type": "code",
   "execution_count": 88,
   "id": "f8a09c0b",
   "metadata": {},
   "outputs": [],
   "source": [
    "model.add(Dense(30, input_dim = 7, activation='relu'))\n",
    "model.add(Dense(15, activation='relu') )\n",
    "model.add(Dense(15, activation='relu') )\n",
    "model.add(Dense(15, activation='relu') )\n",
    "model.add(Dense(15, activation='relu') )\n",
    "model.add(Dense(15, activation='relu') )\n",
    "model.add(Dense(1))"
   ]
  },
  {
   "cell_type": "code",
   "execution_count": 89,
   "id": "eaf1fa9d",
   "metadata": {},
   "outputs": [
    {
     "name": "stdout",
     "output_type": "stream",
     "text": [
      "Model: \"sequential_6\"\n",
      "_________________________________________________________________\n",
      "Layer (type)                 Output Shape              Param #   \n",
      "=================================================================\n",
      "dense_23 (Dense)             (None, 30)                240       \n",
      "_________________________________________________________________\n",
      "dense_24 (Dense)             (None, 15)                465       \n",
      "_________________________________________________________________\n",
      "dense_25 (Dense)             (None, 15)                240       \n",
      "_________________________________________________________________\n",
      "dense_26 (Dense)             (None, 15)                240       \n",
      "_________________________________________________________________\n",
      "dense_27 (Dense)             (None, 15)                240       \n",
      "_________________________________________________________________\n",
      "dense_28 (Dense)             (None, 15)                240       \n",
      "_________________________________________________________________\n",
      "dense_29 (Dense)             (None, 1)                 16        \n",
      "=================================================================\n",
      "Total params: 1,681\n",
      "Trainable params: 1,681\n",
      "Non-trainable params: 0\n",
      "_________________________________________________________________\n"
     ]
    }
   ],
   "source": [
    "model.summary()"
   ]
  },
  {
   "cell_type": "code",
   "execution_count": 90,
   "id": "368ec489",
   "metadata": {},
   "outputs": [
    {
     "name": "stdout",
     "output_type": "stream",
     "text": [
      "Epoch 1/20\n",
      "817/817 [==============================] - 1s 529us/step - loss: 27126.7734\n",
      "Epoch 2/20\n",
      "817/817 [==============================] - 0s 516us/step - loss: 18881.4707\n",
      "Epoch 3/20\n",
      "817/817 [==============================] - 0s 516us/step - loss: 18459.0332\n",
      "Epoch 4/20\n",
      "817/817 [==============================] - 0s 517us/step - loss: 18059.2617\n",
      "Epoch 5/20\n",
      "817/817 [==============================] - 0s 528us/step - loss: 17818.9121\n",
      "Epoch 6/20\n",
      "817/817 [==============================] - 0s 521us/step - loss: 17583.5137\n",
      "Epoch 7/20\n",
      "817/817 [==============================] - 0s 528us/step - loss: 17468.8184\n",
      "Epoch 8/20\n",
      "817/817 [==============================] - 0s 524us/step - loss: 17331.1914\n",
      "Epoch 9/20\n",
      "817/817 [==============================] - 0s 530us/step - loss: 17162.3477\n",
      "Epoch 10/20\n",
      "817/817 [==============================] - 0s 520us/step - loss: 17020.9590\n",
      "Epoch 11/20\n",
      "817/817 [==============================] - 0s 523us/step - loss: 16913.4141\n",
      "Epoch 12/20\n",
      "817/817 [==============================] - 0s 518us/step - loss: 16674.7402\n",
      "Epoch 13/20\n",
      "817/817 [==============================] - 0s 522us/step - loss: 16516.7188\n",
      "Epoch 14/20\n",
      "817/817 [==============================] - 0s 517us/step - loss: 16308.0967\n",
      "Epoch 15/20\n",
      "817/817 [==============================] - 0s 557us/step - loss: 16064.3594\n",
      "Epoch 16/20\n",
      "817/817 [==============================] - 0s 557us/step - loss: 15750.7510\n",
      "Epoch 17/20\n",
      "817/817 [==============================] - 0s 552us/step - loss: 15437.8320\n",
      "Epoch 18/20\n",
      "817/817 [==============================] - 0s 522us/step - loss: 15165.6641\n",
      "Epoch 19/20\n",
      "817/817 [==============================] - 0s 557us/step - loss: 15025.0918\n",
      "Epoch 20/20\n",
      "817/817 [==============================] - 0s 541us/step - loss: 14924.3457\n"
     ]
    },
    {
     "data": {
      "text/plain": [
       "<keras.callbacks.History at 0x222c7c1b100>"
      ]
     },
     "execution_count": 90,
     "metadata": {},
     "output_type": "execute_result"
    }
   ],
   "source": [
    "model.compile(loss='mean_squared_error', optimizer='rmsprop')\n",
    "model.fit(X_train, y_train, epochs=20, batch_size=10)"
   ]
  },
  {
   "cell_type": "code",
   "execution_count": 91,
   "id": "de195449",
   "metadata": {},
   "outputs": [
    {
     "name": "stdout",
     "output_type": "stream",
     "text": [
      "86/86 [==============================] - 0s 387us/step - loss: 15056.6934\n"
     ]
    },
    {
     "data": {
      "text/plain": [
       "15056.693359375"
      ]
     },
     "execution_count": 91,
     "metadata": {},
     "output_type": "execute_result"
    }
   ],
   "source": [
    "model.evaluate(X_test, y_test)"
   ]
  },
  {
   "cell_type": "code",
   "execution_count": 92,
   "id": "5d4b8130",
   "metadata": {},
   "outputs": [],
   "source": [
    "pred = model.predict(X_val)\n",
    "sub = pd.read_csv(\"./data/sampleSubmission.csv\")\n",
    "sub['count'] = pred\n",
    "\n",
    "sub.loc[sub['count']<0, 'count'] = 0\n",
    "sub.to_csv(\"sampleSubmission_sequential_morelayer.csv\", index=False)"
   ]
  },
  {
   "cell_type": "code",
   "execution_count": 93,
   "id": "8cdd29f8",
   "metadata": {},
   "outputs": [],
   "source": [
    "model = Sequential()"
   ]
  },
  {
   "cell_type": "code",
   "execution_count": 95,
   "id": "ea5402c3",
   "metadata": {},
   "outputs": [],
   "source": [
    "model.add(Dense(50, input_dim = 7, activation='relu'))\n",
    "model.add(Dense(40, activation='relu') )\n",
    "model.add(Dense(30, activation='relu') )\n",
    "model.add(Dense(20, activation='relu') )\n",
    "model.add(Dense(10, activation='relu') )\n",
    "model.add(Dense(5, activation='relu') )\n",
    "model.add(Dense(1))"
   ]
  },
  {
   "cell_type": "code",
   "execution_count": 96,
   "id": "99a905ac",
   "metadata": {},
   "outputs": [
    {
     "name": "stdout",
     "output_type": "stream",
     "text": [
      "Epoch 1/20\n",
      "817/817 [==============================] - 1s 535us/step - loss: 26510.9512\n",
      "Epoch 2/20\n",
      "817/817 [==============================] - 0s 548us/step - loss: 19281.9277\n",
      "Epoch 3/20\n",
      "817/817 [==============================] - 0s 567us/step - loss: 18402.9258\n",
      "Epoch 4/20\n",
      "817/817 [==============================] - 0s 537us/step - loss: 18156.2344\n",
      "Epoch 5/20\n",
      "817/817 [==============================] - 0s 541us/step - loss: 17910.0527\n",
      "Epoch 6/20\n",
      "817/817 [==============================] - 0s 555us/step - loss: 17712.9375\n",
      "Epoch 7/20\n",
      "817/817 [==============================] - 0s 540us/step - loss: 17479.9863\n",
      "Epoch 8/20\n",
      "817/817 [==============================] - 0s 541us/step - loss: 17428.7402\n",
      "Epoch 9/20\n",
      "817/817 [==============================] - 0s 551us/step - loss: 17265.7520\n",
      "Epoch 10/20\n",
      "817/817 [==============================] - 0s 544us/step - loss: 17062.3242\n",
      "Epoch 11/20\n",
      "817/817 [==============================] - 0s 564us/step - loss: 16899.2969\n",
      "Epoch 12/20\n",
      "817/817 [==============================] - 0s 519us/step - loss: 16694.1250\n",
      "Epoch 13/20\n",
      "817/817 [==============================] - 0s 519us/step - loss: 16460.6953\n",
      "Epoch 14/20\n",
      "817/817 [==============================] - 0s 517us/step - loss: 16191.2734\n",
      "Epoch 15/20\n",
      "817/817 [==============================] - 0s 516us/step - loss: 15965.0469\n",
      "Epoch 16/20\n",
      "817/817 [==============================] - 0s 515us/step - loss: 15608.3818\n",
      "Epoch 17/20\n",
      "817/817 [==============================] - 0s 517us/step - loss: 15415.1748\n",
      "Epoch 18/20\n",
      "817/817 [==============================] - 0s 530us/step - loss: 15330.4893\n",
      "Epoch 19/20\n",
      "817/817 [==============================] - 0s 526us/step - loss: 15070.1738\n",
      "Epoch 20/20\n",
      "817/817 [==============================] - 0s 524us/step - loss: 15055.2949\n"
     ]
    },
    {
     "data": {
      "text/plain": [
       "<keras.callbacks.History at 0x222c803c1c0>"
      ]
     },
     "execution_count": 96,
     "metadata": {},
     "output_type": "execute_result"
    }
   ],
   "source": [
    "model.compile(loss='mean_squared_error', optimizer='rmsprop')\n",
    "model.fit(X_train, y_train, epochs=20, batch_size=10)"
   ]
  },
  {
   "cell_type": "code",
   "execution_count": 97,
   "id": "e270ddbf",
   "metadata": {},
   "outputs": [
    {
     "name": "stdout",
     "output_type": "stream",
     "text": [
      "86/86 [==============================] - 0s 399us/step - loss: 14813.2783\n"
     ]
    },
    {
     "data": {
      "text/plain": [
       "14813.2783203125"
      ]
     },
     "execution_count": 97,
     "metadata": {},
     "output_type": "execute_result"
    }
   ],
   "source": [
    "model.evaluate(X_test, y_test)"
   ]
  },
  {
   "cell_type": "code",
   "execution_count": 98,
   "id": "13d6368c",
   "metadata": {},
   "outputs": [],
   "source": [
    "pred = model.predict(X_val)\n",
    "sub = pd.read_csv(\"./data/sampleSubmission.csv\")\n",
    "sub['count'] = pred\n",
    "\n",
    "sub.loc[sub['count']<0, 'count'] = 0\n",
    "sub.to_csv(\"sampleSubmission_sequential_morenode.csv\", index=False)"
   ]
  },
  {
   "cell_type": "code",
   "execution_count": 100,
   "id": "8dc48f27",
   "metadata": {},
   "outputs": [],
   "source": [
    "model = Sequential()\n",
    "model.add(Dense(50, input_dim = 7, activation='relu'))\n",
    "model.add(Dense(100, activation='relu') )\n",
    "model.add(Dense(70, activation='relu') )\n",
    "model.add(Dense(50, activation='relu') )\n",
    "model.add(Dense(30, activation='relu') )\n",
    "model.add(Dense(20, activation='relu') )\n",
    "model.add(Dense(10, activation='relu') )\n",
    "model.add(Dense(5, activation='relu') )\n",
    "model.add(Dense(1))"
   ]
  },
  {
   "cell_type": "code",
   "execution_count": 101,
   "id": "0b2b4328",
   "metadata": {},
   "outputs": [
    {
     "name": "stdout",
     "output_type": "stream",
     "text": [
      "Epoch 1/20\n",
      "817/817 [==============================] - 1s 699us/step - loss: 22397.9082\n",
      "Epoch 2/20\n",
      "817/817 [==============================] - 1s 697us/step - loss: 18488.8848\n",
      "Epoch 3/20\n",
      "817/817 [==============================] - 1s 709us/step - loss: 18134.8945\n",
      "Epoch 4/20\n",
      "817/817 [==============================] - 1s 774us/step - loss: 17844.0859\n",
      "Epoch 5/20\n",
      "817/817 [==============================] - 1s 727us/step - loss: 17561.3398\n",
      "Epoch 6/20\n",
      "817/817 [==============================] - 1s 684us/step - loss: 17195.9570\n",
      "Epoch 7/20\n",
      "817/817 [==============================] - 1s 660us/step - loss: 16932.0527\n",
      "Epoch 8/20\n",
      "817/817 [==============================] - 1s 682us/step - loss: 16597.2344\n",
      "Epoch 9/20\n",
      "817/817 [==============================] - 1s 663us/step - loss: 16234.0459\n",
      "Epoch 10/20\n",
      "817/817 [==============================] - 1s 662us/step - loss: 15998.4873\n",
      "Epoch 11/20\n",
      "817/817 [==============================] - 1s 669us/step - loss: 15658.5244\n",
      "Epoch 12/20\n",
      "817/817 [==============================] - 1s 663us/step - loss: 15562.0576\n",
      "Epoch 13/20\n",
      "817/817 [==============================] - 1s 669us/step - loss: 15375.6641\n",
      "Epoch 14/20\n",
      "817/817 [==============================] - 1s 644us/step - loss: 15144.6289\n",
      "Epoch 15/20\n",
      "817/817 [==============================] - 1s 671us/step - loss: 15137.3975\n",
      "Epoch 16/20\n",
      "817/817 [==============================] - 1s 695us/step - loss: 14989.3379\n",
      "Epoch 17/20\n",
      "817/817 [==============================] - 1s 693us/step - loss: 14994.9658\n",
      "Epoch 18/20\n",
      "817/817 [==============================] - 1s 689us/step - loss: 14906.9092\n",
      "Epoch 19/20\n",
      "817/817 [==============================] - 1s 702us/step - loss: 14818.0303\n",
      "Epoch 20/20\n",
      "817/817 [==============================] - 1s 670us/step - loss: 14615.5859\n"
     ]
    },
    {
     "data": {
      "text/plain": [
       "<keras.callbacks.History at 0x222c849ea90>"
      ]
     },
     "execution_count": 101,
     "metadata": {},
     "output_type": "execute_result"
    }
   ],
   "source": [
    "model.compile(loss='mean_squared_error', optimizer='rmsprop')\n",
    "model.fit(X_train, y_train, epochs=20, batch_size=10)"
   ]
  },
  {
   "cell_type": "code",
   "execution_count": 102,
   "id": "517194f3",
   "metadata": {},
   "outputs": [
    {
     "name": "stdout",
     "output_type": "stream",
     "text": [
      "86/86 [==============================] - 0s 458us/step - loss: 15928.3369\n"
     ]
    },
    {
     "data": {
      "text/plain": [
       "15928.3369140625"
      ]
     },
     "execution_count": 102,
     "metadata": {},
     "output_type": "execute_result"
    }
   ],
   "source": [
    "model.evaluate(X_test, y_test)"
   ]
  },
  {
   "cell_type": "code",
   "execution_count": 103,
   "id": "36ec1ce6",
   "metadata": {},
   "outputs": [],
   "source": [
    "pred = model.predict(X_val)\n",
    "sub = pd.read_csv(\"./data/sampleSubmission.csv\")\n",
    "sub['count'] = pred\n",
    "\n",
    "sub.loc[sub['count']<0, 'count'] = 0\n",
    "sub.to_csv(\"sampleSubmission_sequential_firsthiddenlayerbigger.csv\", index=False)"
   ]
  },
  {
   "cell_type": "code",
   "execution_count": 104,
   "id": "08a381ec",
   "metadata": {},
   "outputs": [],
   "source": [
    "model = Sequential()\n",
    "model.add(Dense(30, input_dim = 7, activation='relu'))\n",
    "model.add(Dense(70, activation='relu') )\n",
    "model.add(Dense(40, activation='relu') )\n",
    "model.add(Dense(30, activation='relu') )\n",
    "model.add(Dense(10, activation='relu') )\n",
    "model.add(Dense(5, activation='relu') )\n",
    "model.add(Dense(1))"
   ]
  },
  {
   "cell_type": "code",
   "execution_count": 105,
   "id": "4a487a70",
   "metadata": {},
   "outputs": [
    {
     "name": "stdout",
     "output_type": "stream",
     "text": [
      "Epoch 1/20\n",
      "817/817 [==============================] - 1s 618us/step - loss: 23432.9160\n",
      "Epoch 2/20\n",
      "817/817 [==============================] - 0s 555us/step - loss: 18750.2930\n",
      "Epoch 3/20\n",
      "817/817 [==============================] - 0s 565us/step - loss: 18296.0078\n",
      "Epoch 4/20\n",
      "817/817 [==============================] - 0s 561us/step - loss: 18087.9121\n",
      "Epoch 5/20\n",
      "817/817 [==============================] - 0s 572us/step - loss: 17916.8438\n",
      "Epoch 6/20\n",
      "817/817 [==============================] - 0s 592us/step - loss: 17567.4609\n",
      "Epoch 7/20\n",
      "817/817 [==============================] - 0s 603us/step - loss: 17303.4199\n",
      "Epoch 8/20\n",
      "817/817 [==============================] - 0s 590us/step - loss: 17046.4629\n",
      "Epoch 9/20\n",
      "817/817 [==============================] - 0s 582us/step - loss: 16701.5039\n",
      "Epoch 10/20\n",
      "817/817 [==============================] - 0s 556us/step - loss: 16357.4004\n",
      "Epoch 11/20\n",
      "817/817 [==============================] - 0s 540us/step - loss: 16006.8994\n",
      "Epoch 12/20\n",
      "817/817 [==============================] - 0s 581us/step - loss: 15737.9111\n",
      "Epoch 13/20\n",
      "817/817 [==============================] - 0s 590us/step - loss: 15525.7695\n",
      "Epoch 14/20\n",
      "817/817 [==============================] - 0s 572us/step - loss: 15330.6807\n",
      "Epoch 15/20\n",
      "817/817 [==============================] - 0s 588us/step - loss: 15243.6758\n",
      "Epoch 16/20\n",
      "817/817 [==============================] - 0s 560us/step - loss: 14985.7900\n",
      "Epoch 17/20\n",
      "817/817 [==============================] - 0s 575us/step - loss: 14851.8936\n",
      "Epoch 18/20\n",
      "817/817 [==============================] - 0s 579us/step - loss: 14790.1211\n",
      "Epoch 19/20\n",
      "817/817 [==============================] - 0s 538us/step - loss: 14675.0859\n",
      "Epoch 20/20\n",
      "817/817 [==============================] - 0s 602us/step - loss: 14559.9688\n"
     ]
    },
    {
     "data": {
      "text/plain": [
       "<keras.callbacks.History at 0x222d77339d0>"
      ]
     },
     "execution_count": 105,
     "metadata": {},
     "output_type": "execute_result"
    }
   ],
   "source": [
    "model.compile(loss='mean_squared_error', optimizer='rmsprop')\n",
    "model.fit(X_train, y_train, epochs=20, batch_size=10)"
   ]
  },
  {
   "cell_type": "code",
   "execution_count": 106,
   "id": "85aa60c5",
   "metadata": {},
   "outputs": [
    {
     "name": "stdout",
     "output_type": "stream",
     "text": [
      "86/86 [==============================] - 0s 411us/step - loss: 15325.5566\n"
     ]
    },
    {
     "data": {
      "text/plain": [
       "15325.556640625"
      ]
     },
     "execution_count": 106,
     "metadata": {},
     "output_type": "execute_result"
    }
   ],
   "source": [
    "model.evaluate(X_test, y_test)"
   ]
  },
  {
   "cell_type": "code",
   "execution_count": 107,
   "id": "2dab405d",
   "metadata": {},
   "outputs": [],
   "source": [
    "pred = model.predict(X_val)\n",
    "sub = pd.read_csv(\"./data/sampleSubmission.csv\")\n",
    "sub['count'] = pred\n",
    "\n",
    "sub.loc[sub['count']<0, 'count'] = 0\n",
    "sub.to_csv(\"sampleSubmission_sequential_firstlayer_changed.csv\", index=False)"
   ]
  },
  {
   "cell_type": "code",
   "execution_count": 108,
   "id": "a0dc8c5f",
   "metadata": {},
   "outputs": [],
   "source": [
    "model = Sequential()\n",
    "model.add(Dense(50, input_dim = 7, activation='relu'))\n",
    "model.add(Dense(70, activation='relu') )\n",
    "model.add(Dense(40, activation='relu') )\n",
    "model.add(Dense(30, activation='relu') )\n",
    "model.add(Dense(10, activation='relu') )\n",
    "model.add(Dense(5, activation='relu') )\n",
    "model.add(Dense(1))"
   ]
  },
  {
   "cell_type": "code",
   "execution_count": 109,
   "id": "2bf3967a",
   "metadata": {},
   "outputs": [
    {
     "name": "stdout",
     "output_type": "stream",
     "text": [
      "Epoch 1/20\n",
      "817/817 [==============================] - 1s 600us/step - loss: 22532.5820\n",
      "Epoch 2/20\n",
      "817/817 [==============================] - 1s 621us/step - loss: 18715.9492\n",
      "Epoch 3/20\n",
      "817/817 [==============================] - 0s 587us/step - loss: 18091.7383\n",
      "Epoch 4/20\n",
      "817/817 [==============================] - 0s 587us/step - loss: 17911.4258\n",
      "Epoch 5/20\n",
      "817/817 [==============================] - 0s 599us/step - loss: 17549.3164\n",
      "Epoch 6/20\n",
      "817/817 [==============================] - 1s 669us/step - loss: 17387.8320\n",
      "Epoch 7/20\n",
      "817/817 [==============================] - 0s 607us/step - loss: 16860.1289\n",
      "Epoch 8/20\n",
      "817/817 [==============================] - 0s 601us/step - loss: 16442.1172\n",
      "Epoch 9/20\n",
      "817/817 [==============================] - 0s 588us/step - loss: 16042.5898\n",
      "Epoch 10/20\n",
      "817/817 [==============================] - 0s 600us/step - loss: 15833.7373\n",
      "Epoch 11/20\n",
      "817/817 [==============================] - 0s 583us/step - loss: 15635.7266\n",
      "Epoch 12/20\n",
      "817/817 [==============================] - 0s 591us/step - loss: 15368.7861\n",
      "Epoch 13/20\n",
      "817/817 [==============================] - 1s 618us/step - loss: 15146.4980\n",
      "Epoch 14/20\n",
      "817/817 [==============================] - 0s 579us/step - loss: 15102.4668\n",
      "Epoch 15/20\n",
      "817/817 [==============================] - 0s 544us/step - loss: 14899.9121\n",
      "Epoch 16/20\n",
      "817/817 [==============================] - 0s 600us/step - loss: 14984.8047\n",
      "Epoch 17/20\n",
      "817/817 [==============================] - 0s 577us/step - loss: 14823.8203\n",
      "Epoch 18/20\n",
      "817/817 [==============================] - 0s 597us/step - loss: 14629.9492\n",
      "Epoch 19/20\n",
      "817/817 [==============================] - 0s 587us/step - loss: 14590.8662\n",
      "Epoch 20/20\n",
      "817/817 [==============================] - 0s 554us/step - loss: 14443.5850\n"
     ]
    },
    {
     "data": {
      "text/plain": [
       "<keras.callbacks.History at 0x222c8e18b50>"
      ]
     },
     "execution_count": 109,
     "metadata": {},
     "output_type": "execute_result"
    }
   ],
   "source": [
    "model.compile(loss='mean_squared_error', optimizer='rmsprop')\n",
    "model.fit(X_train, y_train, epochs=20, batch_size=10)"
   ]
  },
  {
   "cell_type": "code",
   "execution_count": 110,
   "id": "23323562",
   "metadata": {},
   "outputs": [
    {
     "name": "stdout",
     "output_type": "stream",
     "text": [
      "86/86 [==============================] - 0s 434us/step - loss: 15001.9180\n"
     ]
    },
    {
     "data": {
      "text/plain": [
       "15001.91796875"
      ]
     },
     "execution_count": 110,
     "metadata": {},
     "output_type": "execute_result"
    }
   ],
   "source": [
    "model.evaluate(X_test, y_test)"
   ]
  },
  {
   "cell_type": "code",
   "execution_count": 111,
   "id": "85d9a47b",
   "metadata": {},
   "outputs": [],
   "source": [
    "pred = model.predict(X_val)\n",
    "sub = pd.read_csv(\"./data/sampleSubmission.csv\")\n",
    "sub['count'] = pred\n",
    "\n",
    "sub.loc[sub['count']<0, 'count'] = 0\n",
    "sub.to_csv(\"sampleSubmission_sequential_firstlayer_second.csv\", index=False)"
   ]
  },
  {
   "cell_type": "code",
   "execution_count": 112,
   "id": "0f86027d",
   "metadata": {},
   "outputs": [],
   "source": [
    "model = Sequential()\n",
    "model.add(Dense(50, input_dim = 7, activation='relu'))\n",
    "model.add(Dense(40, activation='relu') )\n",
    "model.add(Dense(30, activation='relu') )\n",
    "model.add(Dense(20, activation='relu') )\n",
    "model.add(Dense(10, activation='relu') )\n",
    "model.add(Dense(5, activation='relu') )\n",
    "model.add(Dense(1))"
   ]
  },
  {
   "cell_type": "code",
   "execution_count": 113,
   "id": "a4f8a4ca",
   "metadata": {
    "scrolled": true
   },
   "outputs": [
    {
     "name": "stdout",
     "output_type": "stream",
     "text": [
      "Epoch 1/50\n",
      "817/817 [==============================] - 1s 514us/step - loss: 23745.9609\n",
      "Epoch 2/50\n",
      "817/817 [==============================] - 0s 522us/step - loss: 18760.6777\n",
      "Epoch 3/50\n",
      "817/817 [==============================] - 0s 528us/step - loss: 18156.0293\n",
      "Epoch 4/50\n",
      "817/817 [==============================] - 0s 525us/step - loss: 17789.2949\n",
      "Epoch 5/50\n",
      "817/817 [==============================] - 0s 522us/step - loss: 17679.4043\n",
      "Epoch 6/50\n",
      "817/817 [==============================] - 0s 512us/step - loss: 17452.5137\n",
      "Epoch 7/50\n",
      "817/817 [==============================] - 0s 537us/step - loss: 17082.9668\n",
      "Epoch 8/50\n",
      "817/817 [==============================] - 0s 540us/step - loss: 16708.9805\n",
      "Epoch 9/50\n",
      "817/817 [==============================] - 0s 531us/step - loss: 16346.9482\n",
      "Epoch 10/50\n",
      "817/817 [==============================] - 0s 526us/step - loss: 15996.8086\n",
      "Epoch 11/50\n",
      "817/817 [==============================] - 0s 518us/step - loss: 15650.9316\n",
      "Epoch 12/50\n",
      "817/817 [==============================] - 0s 519us/step - loss: 15488.8604\n",
      "Epoch 13/50\n",
      "817/817 [==============================] - 0s 530us/step - loss: 15380.2676\n",
      "Epoch 14/50\n",
      "817/817 [==============================] - 0s 505us/step - loss: 15098.2568\n",
      "Epoch 15/50\n",
      "817/817 [==============================] - 0s 523us/step - loss: 14987.9248\n",
      "Epoch 16/50\n",
      "817/817 [==============================] - 0s 513us/step - loss: 15017.0508\n",
      "Epoch 17/50\n",
      "817/817 [==============================] - 0s 543us/step - loss: 14766.7891\n",
      "Epoch 18/50\n",
      "817/817 [==============================] - 0s 527us/step - loss: 14771.0020\n",
      "Epoch 19/50\n",
      "817/817 [==============================] - 0s 523us/step - loss: 14535.5117\n",
      "Epoch 20/50\n",
      "817/817 [==============================] - 0s 524us/step - loss: 14535.8057\n",
      "Epoch 21/50\n",
      "817/817 [==============================] - 0s 530us/step - loss: 14512.2500\n",
      "Epoch 22/50\n",
      "817/817 [==============================] - 0s 513us/step - loss: 14393.5059\n",
      "Epoch 23/50\n",
      "817/817 [==============================] - 0s 528us/step - loss: 14367.4180\n",
      "Epoch 24/50\n",
      "817/817 [==============================] - 0s 508us/step - loss: 14182.6875\n",
      "Epoch 25/50\n",
      "817/817 [==============================] - 0s 516us/step - loss: 14215.6611\n",
      "Epoch 26/50\n",
      "817/817 [==============================] - 0s 527us/step - loss: 14122.0029\n",
      "Epoch 27/50\n",
      "817/817 [==============================] - 0s 521us/step - loss: 14088.8682\n",
      "Epoch 28/50\n",
      "817/817 [==============================] - 0s 519us/step - loss: 14030.3506\n",
      "Epoch 29/50\n",
      "817/817 [==============================] - 0s 524us/step - loss: 13888.7578\n",
      "Epoch 30/50\n",
      "817/817 [==============================] - 0s 521us/step - loss: 13901.2383\n",
      "Epoch 31/50\n",
      "817/817 [==============================] - 0s 530us/step - loss: 13701.9229\n",
      "Epoch 32/50\n",
      "817/817 [==============================] - 0s 525us/step - loss: 13777.3662\n",
      "Epoch 33/50\n",
      "817/817 [==============================] - 0s 533us/step - loss: 13622.1494\n",
      "Epoch 34/50\n",
      "817/817 [==============================] - 0s 522us/step - loss: 13602.9902\n",
      "Epoch 35/50\n",
      "817/817 [==============================] - 0s 515us/step - loss: 13563.2070\n",
      "Epoch 36/50\n",
      "817/817 [==============================] - 0s 529us/step - loss: 13347.6602\n",
      "Epoch 37/50\n",
      "817/817 [==============================] - 0s 518us/step - loss: 13234.9688\n",
      "Epoch 38/50\n",
      "817/817 [==============================] - 0s 516us/step - loss: 13199.2236\n",
      "Epoch 39/50\n",
      "817/817 [==============================] - 0s 519us/step - loss: 13107.9844\n",
      "Epoch 40/50\n",
      "817/817 [==============================] - 0s 523us/step - loss: 13072.5049\n",
      "Epoch 41/50\n",
      "817/817 [==============================] - 0s 521us/step - loss: 12931.7441\n",
      "Epoch 42/50\n",
      "817/817 [==============================] - 0s 524us/step - loss: 12904.3311\n",
      "Epoch 43/50\n",
      "817/817 [==============================] - 0s 521us/step - loss: 12780.7266\n",
      "Epoch 44/50\n",
      "817/817 [==============================] - 0s 522us/step - loss: 12667.6270\n",
      "Epoch 45/50\n",
      "817/817 [==============================] - 0s 506us/step - loss: 12619.0566\n",
      "Epoch 46/50\n",
      "817/817 [==============================] - 0s 522us/step - loss: 12782.6094\n",
      "Epoch 47/50\n",
      "817/817 [==============================] - 0s 522us/step - loss: 12540.3086\n",
      "Epoch 48/50\n",
      "817/817 [==============================] - 0s 515us/step - loss: 12591.6348\n",
      "Epoch 49/50\n",
      "817/817 [==============================] - 0s 524us/step - loss: 12492.5205\n",
      "Epoch 50/50\n",
      "817/817 [==============================] - 0s 520us/step - loss: 12534.2402\n"
     ]
    },
    {
     "data": {
      "text/plain": [
       "<keras.callbacks.History at 0x222c8e4c760>"
      ]
     },
     "execution_count": 113,
     "metadata": {},
     "output_type": "execute_result"
    }
   ],
   "source": [
    "model.compile(loss='mean_squared_error', optimizer='rmsprop')\n",
    "model.fit(X_train, y_train, epochs=50, batch_size=10)"
   ]
  },
  {
   "cell_type": "code",
   "execution_count": 114,
   "id": "91adc244",
   "metadata": {},
   "outputs": [
    {
     "name": "stdout",
     "output_type": "stream",
     "text": [
      "86/86 [==============================] - 0s 422us/step - loss: 14869.4473\n"
     ]
    },
    {
     "data": {
      "text/plain": [
       "14869.447265625"
      ]
     },
     "execution_count": 114,
     "metadata": {},
     "output_type": "execute_result"
    }
   ],
   "source": [
    "model.evaluate(X_test, y_test)"
   ]
  },
  {
   "cell_type": "code",
   "execution_count": 115,
   "id": "99881fff",
   "metadata": {},
   "outputs": [],
   "source": [
    "pred = model.predict(X_val)\n",
    "sub = pd.read_csv(\"./data/sampleSubmission.csv\")\n",
    "sub['count'] = pred\n",
    "\n",
    "sub.loc[sub['count']<0, 'count'] = 0\n",
    "sub.to_csv(\"sampleSubmission_sequential_moreepochs.csv\", index=False)"
   ]
  },
  {
   "cell_type": "code",
   "execution_count": 116,
   "id": "663a0ad4",
   "metadata": {},
   "outputs": [],
   "source": [
    "model = Sequential()\n",
    "model.add(Dense(50, input_dim = 7, activation='relu'))\n",
    "model.add(Dense(40, activation='relu') )\n",
    "model.add(Dense(30, activation='relu') )\n",
    "model.add(Dense(20, activation='relu') )\n",
    "model.add(Dense(10, activation='relu') )\n",
    "model.add(Dense(5, activation='relu') )\n",
    "model.add(Dense(1))"
   ]
  },
  {
   "cell_type": "code",
   "execution_count": 117,
   "id": "112a5b9b",
   "metadata": {},
   "outputs": [
    {
     "name": "stdout",
     "output_type": "stream",
     "text": [
      "Epoch 1/100\n",
      "817/817 [==============================] - 1s 540us/step - loss: 26027.5312\n",
      "Epoch 2/100\n",
      "817/817 [==============================] - 0s 534us/step - loss: 19071.8438\n",
      "Epoch 3/100\n",
      "817/817 [==============================] - 0s 515us/step - loss: 18451.4004\n",
      "Epoch 4/100\n",
      "817/817 [==============================] - 0s 513us/step - loss: 18242.4902\n",
      "Epoch 5/100\n",
      "817/817 [==============================] - 0s 516us/step - loss: 18075.2871\n",
      "Epoch 6/100\n",
      "817/817 [==============================] - 0s 534us/step - loss: 17906.2402\n",
      "Epoch 7/100\n",
      "817/817 [==============================] - 0s 537us/step - loss: 17745.1816\n",
      "Epoch 8/100\n",
      "817/817 [==============================] - 0s 538us/step - loss: 17602.8828\n",
      "Epoch 9/100\n",
      "817/817 [==============================] - 0s 537us/step - loss: 17363.6562\n",
      "Epoch 10/100\n",
      "817/817 [==============================] - 0s 526us/step - loss: 17194.8164\n",
      "Epoch 11/100\n",
      "817/817 [==============================] - 0s 521us/step - loss: 16977.3086\n",
      "Epoch 12/100\n",
      "817/817 [==============================] - 0s 529us/step - loss: 16799.5508\n",
      "Epoch 13/100\n",
      "817/817 [==============================] - 0s 544us/step - loss: 16582.0742\n",
      "Epoch 14/100\n",
      "817/817 [==============================] - 0s 515us/step - loss: 16369.9268\n",
      "Epoch 15/100\n",
      "817/817 [==============================] - 0s 544us/step - loss: 16103.6963\n",
      "Epoch 16/100\n",
      "817/817 [==============================] - 0s 563us/step - loss: 15894.5078\n",
      "Epoch 17/100\n",
      "817/817 [==============================] - 0s 547us/step - loss: 15818.7383\n",
      "Epoch 18/100\n",
      "817/817 [==============================] - 0s 545us/step - loss: 15519.6846\n",
      "Epoch 19/100\n",
      "817/817 [==============================] - 0s 550us/step - loss: 15409.5703\n",
      "Epoch 20/100\n",
      "817/817 [==============================] - 0s 533us/step - loss: 15290.8105\n",
      "Epoch 21/100\n",
      "817/817 [==============================] - 0s 529us/step - loss: 15122.1963\n",
      "Epoch 22/100\n",
      "817/817 [==============================] - 0s 526us/step - loss: 15076.8457\n",
      "Epoch 23/100\n",
      "817/817 [==============================] - 0s 516us/step - loss: 14939.3379\n",
      "Epoch 24/100\n",
      "817/817 [==============================] - 0s 534us/step - loss: 14856.7021\n",
      "Epoch 25/100\n",
      "817/817 [==============================] - 0s 509us/step - loss: 14761.3496\n",
      "Epoch 26/100\n",
      "817/817 [==============================] - 0s 521us/step - loss: 14770.4814\n",
      "Epoch 27/100\n",
      "817/817 [==============================] - 0s 521us/step - loss: 14665.5420\n",
      "Epoch 28/100\n",
      "817/817 [==============================] - 0s 526us/step - loss: 14639.9385\n",
      "Epoch 29/100\n",
      "817/817 [==============================] - 0s 528us/step - loss: 14579.9785\n",
      "Epoch 30/100\n",
      "817/817 [==============================] - 0s 524us/step - loss: 14448.4697\n",
      "Epoch 31/100\n",
      "817/817 [==============================] - 0s 528us/step - loss: 14386.1221\n",
      "Epoch 32/100\n",
      "817/817 [==============================] - 0s 530us/step - loss: 14329.8672\n",
      "Epoch 33/100\n",
      "817/817 [==============================] - 0s 517us/step - loss: 14361.2959\n",
      "Epoch 34/100\n",
      "817/817 [==============================] - 0s 526us/step - loss: 14221.4678\n",
      "Epoch 35/100\n",
      "817/817 [==============================] - 0s 522us/step - loss: 14176.3799\n",
      "Epoch 36/100\n",
      "817/817 [==============================] - 0s 526us/step - loss: 14123.5645\n",
      "Epoch 37/100\n",
      "817/817 [==============================] - 0s 535us/step - loss: 14231.5859\n",
      "Epoch 38/100\n",
      "817/817 [==============================] - 0s 540us/step - loss: 14121.7617\n",
      "Epoch 39/100\n",
      "817/817 [==============================] - 0s 518us/step - loss: 13885.5205\n",
      "Epoch 40/100\n",
      "817/817 [==============================] - 0s 527us/step - loss: 13933.6064\n",
      "Epoch 41/100\n",
      "817/817 [==============================] - 0s 525us/step - loss: 13918.4941\n",
      "Epoch 42/100\n",
      "817/817 [==============================] - 0s 522us/step - loss: 13827.5527\n",
      "Epoch 43/100\n",
      "817/817 [==============================] - 0s 513us/step - loss: 13924.1709\n",
      "Epoch 44/100\n",
      "817/817 [==============================] - 0s 530us/step - loss: 13852.3018\n",
      "Epoch 45/100\n",
      "817/817 [==============================] - 0s 529us/step - loss: 13721.3428\n",
      "Epoch 46/100\n",
      "817/817 [==============================] - 0s 542us/step - loss: 13627.6426\n",
      "Epoch 47/100\n",
      "817/817 [==============================] - 0s 521us/step - loss: 13549.1719\n",
      "Epoch 48/100\n",
      "817/817 [==============================] - 0s 528us/step - loss: 13607.1309\n",
      "Epoch 49/100\n",
      "817/817 [==============================] - 0s 524us/step - loss: 13441.4424\n",
      "Epoch 50/100\n",
      "817/817 [==============================] - 0s 532us/step - loss: 13574.2910\n",
      "Epoch 51/100\n",
      "817/817 [==============================] - 0s 522us/step - loss: 13330.1885\n",
      "Epoch 52/100\n",
      "817/817 [==============================] - 0s 523us/step - loss: 13361.8613\n",
      "Epoch 53/100\n",
      "817/817 [==============================] - 0s 524us/step - loss: 13352.6396\n",
      "Epoch 54/100\n",
      "817/817 [==============================] - 0s 527us/step - loss: 13294.1836\n",
      "Epoch 55/100\n",
      "817/817 [==============================] - 0s 538us/step - loss: 13331.5693\n",
      "Epoch 56/100\n",
      "817/817 [==============================] - 0s 551us/step - loss: 13162.7588\n",
      "Epoch 57/100\n",
      "817/817 [==============================] - 0s 539us/step - loss: 12972.6523\n",
      "Epoch 58/100\n",
      "817/817 [==============================] - 0s 517us/step - loss: 13116.7197\n",
      "Epoch 59/100\n",
      "817/817 [==============================] - 0s 524us/step - loss: 12925.2275\n",
      "Epoch 60/100\n",
      "817/817 [==============================] - 0s 526us/step - loss: 12812.6055\n",
      "Epoch 61/100\n",
      "817/817 [==============================] - 0s 522us/step - loss: 12758.0078\n",
      "Epoch 62/100\n",
      "817/817 [==============================] - 0s 565us/step - loss: 12761.7158\n",
      "Epoch 63/100\n",
      "817/817 [==============================] - 0s 538us/step - loss: 12551.9355\n",
      "Epoch 64/100\n",
      "817/817 [==============================] - 0s 546us/step - loss: 12667.3203\n",
      "Epoch 65/100\n",
      "817/817 [==============================] - 0s 530us/step - loss: 12503.7148\n",
      "Epoch 66/100\n",
      "817/817 [==============================] - 0s 533us/step - loss: 12554.8379\n",
      "Epoch 67/100\n",
      "817/817 [==============================] - 0s 541us/step - loss: 12405.8623\n",
      "Epoch 68/100\n",
      "817/817 [==============================] - 0s 528us/step - loss: 12317.3320\n",
      "Epoch 69/100\n",
      "817/817 [==============================] - 0s 518us/step - loss: 12499.5684\n",
      "Epoch 70/100\n",
      "817/817 [==============================] - 0s 515us/step - loss: 12237.8682\n",
      "Epoch 71/100\n",
      "817/817 [==============================] - 0s 532us/step - loss: 12163.3516\n",
      "Epoch 72/100\n",
      "817/817 [==============================] - 0s 529us/step - loss: 12180.5693\n",
      "Epoch 73/100\n",
      "817/817 [==============================] - 0s 522us/step - loss: 12215.2129\n",
      "Epoch 74/100\n",
      "817/817 [==============================] - 0s 516us/step - loss: 12079.2686\n",
      "Epoch 75/100\n",
      "817/817 [==============================] - 0s 511us/step - loss: 12084.1318\n",
      "Epoch 76/100\n",
      "817/817 [==============================] - 0s 529us/step - loss: 12145.7783\n",
      "Epoch 77/100\n",
      "817/817 [==============================] - 0s 523us/step - loss: 12105.6387\n",
      "Epoch 78/100\n",
      "817/817 [==============================] - 0s 524us/step - loss: 12052.1855\n",
      "Epoch 79/100\n",
      "817/817 [==============================] - 0s 515us/step - loss: 12019.1533\n",
      "Epoch 80/100\n",
      "817/817 [==============================] - 0s 524us/step - loss: 11880.8799\n",
      "Epoch 81/100\n",
      "817/817 [==============================] - 0s 523us/step - loss: 11936.2139\n",
      "Epoch 82/100\n",
      "817/817 [==============================] - 0s 532us/step - loss: 11986.4082\n",
      "Epoch 83/100\n",
      "817/817 [==============================] - 0s 539us/step - loss: 11825.5225\n",
      "Epoch 84/100\n",
      "817/817 [==============================] - 0s 527us/step - loss: 11980.2197\n",
      "Epoch 85/100\n",
      "817/817 [==============================] - 0s 530us/step - loss: 11820.5557\n",
      "Epoch 86/100\n",
      "817/817 [==============================] - 0s 532us/step - loss: 11794.3379\n",
      "Epoch 87/100\n",
      "817/817 [==============================] - 0s 522us/step - loss: 11855.4033\n",
      "Epoch 88/100\n",
      "817/817 [==============================] - 0s 523us/step - loss: 11735.8066\n",
      "Epoch 89/100\n",
      "817/817 [==============================] - 0s 530us/step - loss: 11765.6758\n",
      "Epoch 90/100\n",
      "817/817 [==============================] - 0s 522us/step - loss: 11828.5713\n",
      "Epoch 91/100\n",
      "817/817 [==============================] - 0s 519us/step - loss: 11882.5439\n",
      "Epoch 92/100\n",
      "817/817 [==============================] - 0s 533us/step - loss: 11612.7178\n",
      "Epoch 93/100\n"
     ]
    },
    {
     "name": "stdout",
     "output_type": "stream",
     "text": [
      "817/817 [==============================] - 0s 511us/step - loss: 11736.6963\n",
      "Epoch 94/100\n",
      "817/817 [==============================] - 0s 527us/step - loss: 11758.6621\n",
      "Epoch 95/100\n",
      "817/817 [==============================] - 0s 521us/step - loss: 11688.1270\n",
      "Epoch 96/100\n",
      "817/817 [==============================] - 0s 520us/step - loss: 11685.6436\n",
      "Epoch 97/100\n",
      "817/817 [==============================] - 0s 525us/step - loss: 11655.4854\n",
      "Epoch 98/100\n",
      "817/817 [==============================] - 0s 511us/step - loss: 11457.5088\n",
      "Epoch 99/100\n",
      "817/817 [==============================] - 0s 552us/step - loss: 11491.2373\n",
      "Epoch 100/100\n",
      "817/817 [==============================] - 0s 523us/step - loss: 11607.3203\n"
     ]
    },
    {
     "data": {
      "text/plain": [
       "<keras.callbacks.History at 0x222c9336910>"
      ]
     },
     "execution_count": 117,
     "metadata": {},
     "output_type": "execute_result"
    }
   ],
   "source": [
    "model.compile(loss='mean_squared_error', optimizer='rmsprop')\n",
    "model.fit(X_train, y_train, epochs=100, batch_size=10)"
   ]
  },
  {
   "cell_type": "code",
   "execution_count": 118,
   "id": "bd3e6738",
   "metadata": {},
   "outputs": [
    {
     "name": "stdout",
     "output_type": "stream",
     "text": [
      "86/86 [==============================] - 0s 399us/step - loss: 14731.8867\n"
     ]
    },
    {
     "data": {
      "text/plain": [
       "14731.88671875"
      ]
     },
     "execution_count": 118,
     "metadata": {},
     "output_type": "execute_result"
    }
   ],
   "source": [
    "model.evaluate(X_test, y_test)"
   ]
  },
  {
   "cell_type": "code",
   "execution_count": 119,
   "id": "7b5620b7",
   "metadata": {},
   "outputs": [],
   "source": [
    "pred = model.predict(X_val)\n",
    "sub = pd.read_csv(\"./data/sampleSubmission.csv\")\n",
    "sub['count'] = pred\n",
    "\n",
    "sub.loc[sub['count']<0, 'count'] = 0\n",
    "sub.to_csv(\"sampleSubmission_sequential_100epochs.csv\", index=False)"
   ]
  },
  {
   "cell_type": "code",
   "execution_count": null,
   "id": "6ba6bfa9",
   "metadata": {},
   "outputs": [],
   "source": []
  }
 ],
 "metadata": {
  "kernelspec": {
   "display_name": "Python 3 (ipykernel)",
   "language": "python",
   "name": "python3"
  },
  "language_info": {
   "codemirror_mode": {
    "name": "ipython",
    "version": 3
   },
   "file_extension": ".py",
   "mimetype": "text/x-python",
   "name": "python",
   "nbconvert_exporter": "python",
   "pygments_lexer": "ipython3",
   "version": "3.8.11"
  }
 },
 "nbformat": 4,
 "nbformat_minor": 5
}
