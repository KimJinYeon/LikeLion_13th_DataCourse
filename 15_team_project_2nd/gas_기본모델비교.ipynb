{
 "cells": [
  {
   "cell_type": "code",
   "execution_count": 3,
   "id": "38965088",
   "metadata": {},
   "outputs": [],
   "source": [
    "import numpy as np\n",
    "import pandas as pd\n",
    "import seaborn as sns\n",
    "import mglearn\n",
    "from sklearn.model_selection import train_test_split\n",
    "from sklearn.linear_model import LinearRegression # 선형회귀\n",
    "from sklearn.neighbors import KNeighborsRegressor # KNN 회귀\n",
    "from sklearn.tree import DecisionTreeRegressor # 결정트리회귀\n",
    "from sklearn.ensemble import RandomForestRegressor # 랜덤포레스트 회귀\n",
    "from xgboost import XGBRegressor # GBT 병행학습\n",
    "from lightgbm import LGBMRegressor # GBT\n",
    "from sklearn.model_selection import cross_val_score # 교차검증\n",
    "from sklearn.model_selection import KFold # KFold 교차검증"
   ]
  },
  {
   "cell_type": "code",
   "execution_count": 5,
   "id": "2fbe9ae6",
   "metadata": {},
   "outputs": [],
   "source": [
    "total = pd.read_csv('./data/한국가스공사_시간별 공급량_20181231.csv', encoding='cp949')"
   ]
  },
  {
   "cell_type": "code",
   "execution_count": 6,
   "id": "a54a23b2",
   "metadata": {},
   "outputs": [
    {
     "name": "stdout",
     "output_type": "stream",
     "text": [
      "<class 'pandas.core.frame.DataFrame'>\n",
      "RangeIndex: 368088 entries, 0 to 368087\n",
      "Data columns (total 4 columns):\n",
      " #   Column  Non-Null Count   Dtype  \n",
      "---  ------  --------------   -----  \n",
      " 0   연월일     368088 non-null  object \n",
      " 1   시간      368088 non-null  int64  \n",
      " 2   구분      368088 non-null  object \n",
      " 3   공급량     368088 non-null  float64\n",
      "dtypes: float64(1), int64(1), object(2)\n",
      "memory usage: 11.2+ MB\n"
     ]
    }
   ],
   "source": [
    "total.info()"
   ]
  },
  {
   "cell_type": "code",
   "execution_count": 7,
   "id": "20d16de8",
   "metadata": {},
   "outputs": [],
   "source": [
    "d_map = {}\n",
    "for i, d in enumerate(total['구분'].unique()):\n",
    "    d_map[d] = i\n",
    "total['구분'] = total['구분'].map(d_map)"
   ]
  },
  {
   "cell_type": "code",
   "execution_count": 8,
   "id": "4789563f",
   "metadata": {},
   "outputs": [],
   "source": [
    "total['연월일'] = pd.to_datetime(total['연월일'])"
   ]
  },
  {
   "cell_type": "code",
   "execution_count": 9,
   "id": "b10b34a5",
   "metadata": {},
   "outputs": [],
   "source": [
    "total['year'] = total['연월일'].dt.year\n",
    "total['month'] = total['연월일'].dt.month\n",
    "total['day'] = total['연월일'].dt.day\n",
    "total['weekday'] = total['연월일'].dt.weekday"
   ]
  },
  {
   "cell_type": "code",
   "execution_count": 10,
   "id": "64dfda8e",
   "metadata": {},
   "outputs": [
    {
     "data": {
      "text/html": [
       "<div>\n",
       "<style scoped>\n",
       "    .dataframe tbody tr th:only-of-type {\n",
       "        vertical-align: middle;\n",
       "    }\n",
       "\n",
       "    .dataframe tbody tr th {\n",
       "        vertical-align: top;\n",
       "    }\n",
       "\n",
       "    .dataframe thead th {\n",
       "        text-align: right;\n",
       "    }\n",
       "</style>\n",
       "<table border=\"1\" class=\"dataframe\">\n",
       "  <thead>\n",
       "    <tr style=\"text-align: right;\">\n",
       "      <th></th>\n",
       "      <th>연월일</th>\n",
       "      <th>시간</th>\n",
       "      <th>구분</th>\n",
       "      <th>공급량</th>\n",
       "      <th>year</th>\n",
       "      <th>month</th>\n",
       "      <th>day</th>\n",
       "      <th>weekday</th>\n",
       "    </tr>\n",
       "  </thead>\n",
       "  <tbody>\n",
       "    <tr>\n",
       "      <th>0</th>\n",
       "      <td>2013-01-01</td>\n",
       "      <td>1</td>\n",
       "      <td>0</td>\n",
       "      <td>2497.129</td>\n",
       "      <td>2013</td>\n",
       "      <td>1</td>\n",
       "      <td>1</td>\n",
       "      <td>1</td>\n",
       "    </tr>\n",
       "    <tr>\n",
       "      <th>1</th>\n",
       "      <td>2013-01-01</td>\n",
       "      <td>2</td>\n",
       "      <td>0</td>\n",
       "      <td>2363.265</td>\n",
       "      <td>2013</td>\n",
       "      <td>1</td>\n",
       "      <td>1</td>\n",
       "      <td>1</td>\n",
       "    </tr>\n",
       "    <tr>\n",
       "      <th>2</th>\n",
       "      <td>2013-01-01</td>\n",
       "      <td>3</td>\n",
       "      <td>0</td>\n",
       "      <td>2258.505</td>\n",
       "      <td>2013</td>\n",
       "      <td>1</td>\n",
       "      <td>1</td>\n",
       "      <td>1</td>\n",
       "    </tr>\n",
       "    <tr>\n",
       "      <th>3</th>\n",
       "      <td>2013-01-01</td>\n",
       "      <td>4</td>\n",
       "      <td>0</td>\n",
       "      <td>2243.969</td>\n",
       "      <td>2013</td>\n",
       "      <td>1</td>\n",
       "      <td>1</td>\n",
       "      <td>1</td>\n",
       "    </tr>\n",
       "    <tr>\n",
       "      <th>4</th>\n",
       "      <td>2013-01-01</td>\n",
       "      <td>5</td>\n",
       "      <td>0</td>\n",
       "      <td>2344.105</td>\n",
       "      <td>2013</td>\n",
       "      <td>1</td>\n",
       "      <td>1</td>\n",
       "      <td>1</td>\n",
       "    </tr>\n",
       "  </tbody>\n",
       "</table>\n",
       "</div>"
      ],
      "text/plain": [
       "         연월일  시간  구분       공급량  year  month  day  weekday\n",
       "0 2013-01-01   1   0  2497.129  2013      1    1        1\n",
       "1 2013-01-01   2   0  2363.265  2013      1    1        1\n",
       "2 2013-01-01   3   0  2258.505  2013      1    1        1\n",
       "3 2013-01-01   4   0  2243.969  2013      1    1        1\n",
       "4 2013-01-01   5   0  2344.105  2013      1    1        1"
      ]
     },
     "execution_count": 10,
     "metadata": {},
     "output_type": "execute_result"
    }
   ],
   "source": [
    "total.head()"
   ]
  },
  {
   "cell_type": "code",
   "execution_count": 22,
   "id": "5d07df7b",
   "metadata": {},
   "outputs": [
    {
     "name": "stdout",
     "output_type": "stream",
     "text": [
      "<class 'pandas.core.frame.DataFrame'>\n",
      "RangeIndex: 368088 entries, 0 to 368087\n",
      "Data columns (total 8 columns):\n",
      " #   Column   Non-Null Count   Dtype         \n",
      "---  ------   --------------   -----         \n",
      " 0   연월일      368088 non-null  datetime64[ns]\n",
      " 1   시간       368088 non-null  int64         \n",
      " 2   구분       368088 non-null  int64         \n",
      " 3   공급량      368088 non-null  float64       \n",
      " 4   year     368088 non-null  int64         \n",
      " 5   month    368088 non-null  int64         \n",
      " 6   day      368088 non-null  int64         \n",
      " 7   weekday  368088 non-null  int64         \n",
      "dtypes: datetime64[ns](1), float64(1), int64(6)\n",
      "memory usage: 22.5 MB\n"
     ]
    }
   ],
   "source": [
    "total.info()"
   ]
  },
  {
   "cell_type": "code",
   "execution_count": 16,
   "id": "00cbb626",
   "metadata": {},
   "outputs": [],
   "source": [
    "X = total.drop(columns=['공급량', '연월일'])\n",
    "y = total['공급량']"
   ]
  },
  {
   "cell_type": "code",
   "execution_count": 17,
   "id": "d4c88481",
   "metadata": {},
   "outputs": [],
   "source": [
    "X_train, X_test, y_train, y_test = train_test_split(X, y, random_state=0)"
   ]
  },
  {
   "cell_type": "code",
   "execution_count": 18,
   "id": "b5ea34a3",
   "metadata": {},
   "outputs": [
    {
     "data": {
      "text/html": [
       "<div>\n",
       "<style scoped>\n",
       "    .dataframe tbody tr th:only-of-type {\n",
       "        vertical-align: middle;\n",
       "    }\n",
       "\n",
       "    .dataframe tbody tr th {\n",
       "        vertical-align: top;\n",
       "    }\n",
       "\n",
       "    .dataframe thead th {\n",
       "        text-align: right;\n",
       "    }\n",
       "</style>\n",
       "<table border=\"1\" class=\"dataframe\">\n",
       "  <thead>\n",
       "    <tr style=\"text-align: right;\">\n",
       "      <th></th>\n",
       "      <th>시간</th>\n",
       "      <th>구분</th>\n",
       "      <th>year</th>\n",
       "      <th>month</th>\n",
       "      <th>day</th>\n",
       "      <th>weekday</th>\n",
       "    </tr>\n",
       "  </thead>\n",
       "  <tbody>\n",
       "    <tr>\n",
       "      <th>111594</th>\n",
       "      <td>19</td>\n",
       "      <td>5</td>\n",
       "      <td>2014</td>\n",
       "      <td>9</td>\n",
       "      <td>27</td>\n",
       "      <td>5</td>\n",
       "    </tr>\n",
       "    <tr>\n",
       "      <th>140874</th>\n",
       "      <td>19</td>\n",
       "      <td>2</td>\n",
       "      <td>2015</td>\n",
       "      <td>1</td>\n",
       "      <td>30</td>\n",
       "      <td>4</td>\n",
       "    </tr>\n",
       "    <tr>\n",
       "      <th>278684</th>\n",
       "      <td>21</td>\n",
       "      <td>3</td>\n",
       "      <td>2017</td>\n",
       "      <td>10</td>\n",
       "      <td>17</td>\n",
       "      <td>1</td>\n",
       "    </tr>\n",
       "    <tr>\n",
       "      <th>338641</th>\n",
       "      <td>2</td>\n",
       "      <td>3</td>\n",
       "      <td>2018</td>\n",
       "      <td>8</td>\n",
       "      <td>22</td>\n",
       "      <td>2</td>\n",
       "    </tr>\n",
       "    <tr>\n",
       "      <th>80117</th>\n",
       "      <td>6</td>\n",
       "      <td>2</td>\n",
       "      <td>2014</td>\n",
       "      <td>2</td>\n",
       "      <td>23</td>\n",
       "      <td>6</td>\n",
       "    </tr>\n",
       "    <tr>\n",
       "      <th>...</th>\n",
       "      <td>...</td>\n",
       "      <td>...</td>\n",
       "      <td>...</td>\n",
       "      <td>...</td>\n",
       "      <td>...</td>\n",
       "      <td>...</td>\n",
       "    </tr>\n",
       "    <tr>\n",
       "      <th>359783</th>\n",
       "      <td>24</td>\n",
       "      <td>6</td>\n",
       "      <td>2018</td>\n",
       "      <td>1</td>\n",
       "      <td>19</td>\n",
       "      <td>4</td>\n",
       "    </tr>\n",
       "    <tr>\n",
       "      <th>358083</th>\n",
       "      <td>4</td>\n",
       "      <td>5</td>\n",
       "      <td>2018</td>\n",
       "      <td>11</td>\n",
       "      <td>10</td>\n",
       "      <td>5</td>\n",
       "    </tr>\n",
       "    <tr>\n",
       "      <th>152315</th>\n",
       "      <td>12</td>\n",
       "      <td>3</td>\n",
       "      <td>2015</td>\n",
       "      <td>5</td>\n",
       "      <td>22</td>\n",
       "      <td>4</td>\n",
       "    </tr>\n",
       "    <tr>\n",
       "      <th>117952</th>\n",
       "      <td>17</td>\n",
       "      <td>6</td>\n",
       "      <td>2014</td>\n",
       "      <td>6</td>\n",
       "      <td>19</td>\n",
       "      <td>3</td>\n",
       "    </tr>\n",
       "    <tr>\n",
       "      <th>305711</th>\n",
       "      <td>24</td>\n",
       "      <td>6</td>\n",
       "      <td>2017</td>\n",
       "      <td>11</td>\n",
       "      <td>17</td>\n",
       "      <td>4</td>\n",
       "    </tr>\n",
       "  </tbody>\n",
       "</table>\n",
       "<p>276066 rows × 6 columns</p>\n",
       "</div>"
      ],
      "text/plain": [
       "        시간  구분  year  month  day  weekday\n",
       "111594  19   5  2014      9   27        5\n",
       "140874  19   2  2015      1   30        4\n",
       "278684  21   3  2017     10   17        1\n",
       "338641   2   3  2018      8   22        2\n",
       "80117    6   2  2014      2   23        6\n",
       "...     ..  ..   ...    ...  ...      ...\n",
       "359783  24   6  2018      1   19        4\n",
       "358083   4   5  2018     11   10        5\n",
       "152315  12   3  2015      5   22        4\n",
       "117952  17   6  2014      6   19        3\n",
       "305711  24   6  2017     11   17        4\n",
       "\n",
       "[276066 rows x 6 columns]"
      ]
     },
     "execution_count": 18,
     "metadata": {},
     "output_type": "execute_result"
    }
   ],
   "source": [
    "X_train"
   ]
  },
  {
   "cell_type": "code",
   "execution_count": 19,
   "id": "00d32f6e",
   "metadata": {},
   "outputs": [
    {
     "data": {
      "text/html": [
       "<div>\n",
       "<style scoped>\n",
       "    .dataframe tbody tr th:only-of-type {\n",
       "        vertical-align: middle;\n",
       "    }\n",
       "\n",
       "    .dataframe tbody tr th {\n",
       "        vertical-align: top;\n",
       "    }\n",
       "\n",
       "    .dataframe thead th {\n",
       "        text-align: right;\n",
       "    }\n",
       "</style>\n",
       "<table border=\"1\" class=\"dataframe\">\n",
       "  <thead>\n",
       "    <tr style=\"text-align: right;\">\n",
       "      <th></th>\n",
       "      <th>시간</th>\n",
       "      <th>구분</th>\n",
       "      <th>year</th>\n",
       "      <th>month</th>\n",
       "      <th>day</th>\n",
       "      <th>weekday</th>\n",
       "    </tr>\n",
       "  </thead>\n",
       "  <tbody>\n",
       "    <tr>\n",
       "      <th>341261</th>\n",
       "      <td>6</td>\n",
       "      <td>3</td>\n",
       "      <td>2018</td>\n",
       "      <td>12</td>\n",
       "      <td>9</td>\n",
       "      <td>6</td>\n",
       "    </tr>\n",
       "    <tr>\n",
       "      <th>209561</th>\n",
       "      <td>18</td>\n",
       "      <td>2</td>\n",
       "      <td>2016</td>\n",
       "      <td>11</td>\n",
       "      <td>30</td>\n",
       "      <td>2</td>\n",
       "    </tr>\n",
       "    <tr>\n",
       "      <th>254423</th>\n",
       "      <td>24</td>\n",
       "      <td>1</td>\n",
       "      <td>2017</td>\n",
       "      <td>1</td>\n",
       "      <td>9</td>\n",
       "      <td>0</td>\n",
       "    </tr>\n",
       "    <tr>\n",
       "      <th>25367</th>\n",
       "      <td>24</td>\n",
       "      <td>2</td>\n",
       "      <td>2013</td>\n",
       "      <td>11</td>\n",
       "      <td>23</td>\n",
       "      <td>5</td>\n",
       "    </tr>\n",
       "    <tr>\n",
       "      <th>271447</th>\n",
       "      <td>8</td>\n",
       "      <td>2</td>\n",
       "      <td>2017</td>\n",
       "      <td>12</td>\n",
       "      <td>20</td>\n",
       "      <td>2</td>\n",
       "    </tr>\n",
       "    <tr>\n",
       "      <th>...</th>\n",
       "      <td>...</td>\n",
       "      <td>...</td>\n",
       "      <td>...</td>\n",
       "      <td>...</td>\n",
       "      <td>...</td>\n",
       "      <td>...</td>\n",
       "    </tr>\n",
       "    <tr>\n",
       "      <th>145472</th>\n",
       "      <td>9</td>\n",
       "      <td>2</td>\n",
       "      <td>2015</td>\n",
       "      <td>8</td>\n",
       "      <td>10</td>\n",
       "      <td>0</td>\n",
       "    </tr>\n",
       "    <tr>\n",
       "      <th>12603</th>\n",
       "      <td>4</td>\n",
       "      <td>1</td>\n",
       "      <td>2013</td>\n",
       "      <td>6</td>\n",
       "      <td>10</td>\n",
       "      <td>0</td>\n",
       "    </tr>\n",
       "    <tr>\n",
       "      <th>202648</th>\n",
       "      <td>17</td>\n",
       "      <td>2</td>\n",
       "      <td>2016</td>\n",
       "      <td>2</td>\n",
       "      <td>16</td>\n",
       "      <td>1</td>\n",
       "    </tr>\n",
       "    <tr>\n",
       "      <th>148460</th>\n",
       "      <td>21</td>\n",
       "      <td>2</td>\n",
       "      <td>2015</td>\n",
       "      <td>12</td>\n",
       "      <td>12</td>\n",
       "      <td>5</td>\n",
       "    </tr>\n",
       "    <tr>\n",
       "      <th>37239</th>\n",
       "      <td>16</td>\n",
       "      <td>4</td>\n",
       "      <td>2013</td>\n",
       "      <td>4</td>\n",
       "      <td>2</td>\n",
       "      <td>1</td>\n",
       "    </tr>\n",
       "  </tbody>\n",
       "</table>\n",
       "<p>92022 rows × 6 columns</p>\n",
       "</div>"
      ],
      "text/plain": [
       "        시간  구분  year  month  day  weekday\n",
       "341261   6   3  2018     12    9        6\n",
       "209561  18   2  2016     11   30        2\n",
       "254423  24   1  2017      1    9        0\n",
       "25367   24   2  2013     11   23        5\n",
       "271447   8   2  2017     12   20        2\n",
       "...     ..  ..   ...    ...  ...      ...\n",
       "145472   9   2  2015      8   10        0\n",
       "12603    4   1  2013      6   10        0\n",
       "202648  17   2  2016      2   16        1\n",
       "148460  21   2  2015     12   12        5\n",
       "37239   16   4  2013      4    2        1\n",
       "\n",
       "[92022 rows x 6 columns]"
      ]
     },
     "execution_count": 19,
     "metadata": {},
     "output_type": "execute_result"
    }
   ],
   "source": [
    "X_test"
   ]
  },
  {
   "cell_type": "code",
   "execution_count": 20,
   "id": "95ec263f",
   "metadata": {},
   "outputs": [
    {
     "data": {
      "text/plain": [
       "111594    1280.501\n",
       "140874     235.778\n",
       "278684     565.001\n",
       "338641     119.918\n",
       "80117      174.178\n",
       "            ...   \n",
       "359783     463.290\n",
       "358083    1458.782\n",
       "152315     441.413\n",
       "117952     119.316\n",
       "305711     418.361\n",
       "Name: 공급량, Length: 276066, dtype: float64"
      ]
     },
     "execution_count": 20,
     "metadata": {},
     "output_type": "execute_result"
    }
   ],
   "source": [
    "y_train"
   ]
  },
  {
   "cell_type": "code",
   "execution_count": 21,
   "id": "e28b547c",
   "metadata": {},
   "outputs": [
    {
     "data": {
      "text/plain": [
       "341261    1393.327\n",
       "209561     170.978\n",
       "254423    1778.549\n",
       "25367      162.178\n",
       "271447     285.617\n",
       "            ...   \n",
       "145472      98.978\n",
       "12603       95.333\n",
       "202648     179.778\n",
       "148460     139.778\n",
       "37239     1420.221\n",
       "Name: 공급량, Length: 92022, dtype: float64"
      ]
     },
     "execution_count": 21,
     "metadata": {},
     "output_type": "execute_result"
    }
   ],
   "source": [
    "y_test"
   ]
  },
  {
   "cell_type": "code",
   "execution_count": 23,
   "id": "b990fc12",
   "metadata": {},
   "outputs": [],
   "source": [
    "model_linear = LinearRegression()\n",
    "model_knn = KNeighborsRegressor()\n",
    "model_tree = DecisionTreeRegressor()\n",
    "model_random = RandomForestRegressor()\n",
    "model_xgb = XGBRegressor()\n",
    "model_lgb = LGBMRegressor()"
   ]
  },
  {
   "cell_type": "code",
   "execution_count": 24,
   "id": "23344989",
   "metadata": {},
   "outputs": [
    {
     "data": {
      "text/plain": [
       "LGBMRegressor()"
      ]
     },
     "execution_count": 24,
     "metadata": {},
     "output_type": "execute_result"
    }
   ],
   "source": [
    "model_linear.fit(X_train, y_train)\n",
    "model_knn.fit(X_train, y_train)\n",
    "model_tree.fit(X_train, y_train)\n",
    "model_random.fit(X_train, y_train)\n",
    "model_xgb.fit(X_train, y_train)\n",
    "model_lgb.fit(X_train, y_train)"
   ]
  },
  {
   "cell_type": "code",
   "execution_count": 25,
   "id": "05476024",
   "metadata": {},
   "outputs": [
    {
     "name": "stdout",
     "output_type": "stream",
     "text": [
      "0.03789955959459701\n",
      "0.7736978870476603\n",
      "0.9837829942914313\n",
      "0.9908948790843859\n",
      "0.9832708309238951\n",
      "0.9716443088489706\n"
     ]
    }
   ],
   "source": [
    "print(model_linear.score(X_test, y_test))\n",
    "print(model_knn.score(X_test, y_test))\n",
    "print(model_tree.score(X_test, y_test))\n",
    "print(model_random.score(X_test, y_test))\n",
    "print(model_xgb.score(X_test, y_test))\n",
    "print(model_lgb.score(X_test, y_test))"
   ]
  },
  {
   "cell_type": "code",
   "execution_count": 27,
   "id": "62c202d2",
   "metadata": {},
   "outputs": [
    {
     "name": "stdout",
     "output_type": "stream",
     "text": [
      "LinearRegression() 교차 검증 점수 : [0.04162186 0.03716397 0.03736707 0.03972713 0.03370719]\n",
      "KNeighborsRegressor() 교차 검증 점수 : [0.67675394 0.65513748 0.66452592 0.6593895  0.66572428]\n",
      "DecisionTreeRegressor() 교차 검증 점수 : [0.95409252 0.95726286 0.9637787  0.95900953 0.955233  ]\n",
      "RandomForestRegressor() 교차 검증 점수 : [0.9766035  0.97423775 0.97918187 0.97912476 0.97674989]\n",
      "XGBRegressor(base_score=0.5, booster='gbtree', colsample_bylevel=1,\n",
      "             colsample_bynode=1, colsample_bytree=1, enable_categorical=False,\n",
      "             gamma=0, gpu_id=-1, importance_type=None,\n",
      "             interaction_constraints='', learning_rate=0.300000012,\n",
      "             max_delta_step=0, max_depth=6, min_child_weight=1, missing=nan,\n",
      "             monotone_constraints='()', n_estimators=100, n_jobs=12,\n",
      "             num_parallel_tree=1, predictor='auto', random_state=0, reg_alpha=0,\n",
      "             reg_lambda=1, scale_pos_weight=1, subsample=1, tree_method='exact',\n",
      "             validate_parameters=1, verbosity=None) 교차 검증 점수 : [0.98306124 0.97770842 0.98350991 0.98377802 0.98236024]\n",
      "LGBMRegressor() 교차 검증 점수 : [0.9717184  0.96629876 0.97144486 0.97257955 0.97077643]\n"
     ]
    }
   ],
   "source": [
    "scores = cross_val_score(model_linear, X_test, y_test)\n",
    "print(\"{} 교차 검증 점수 : {}\".format(model_linear,scores))\n",
    "scores = cross_val_score(model_knn, X_test, y_test)\n",
    "print(\"{} 교차 검증 점수 : {}\".format(model_knn,scores))\n",
    "scores = cross_val_score(model_tree, X_test, y_test)\n",
    "print(\"{} 교차 검증 점수 : {}\".format(model_tree,scores))\n",
    "scores = cross_val_score(model_random, X_test, y_test)\n",
    "print(\"{} 교차 검증 점수 : {}\".format(model_random,scores))\n",
    "scores = cross_val_score(model_xgb, X_test, y_test)\n",
    "print(\"{} 교차 검증 점수 : {}\".format(model_xgb,scores))\n",
    "scores = cross_val_score(model_lgb, X_test, y_test)\n",
    "print(\"{} 교차 검증 점수 : {}\".format(model_lgb,scores))"
   ]
  },
  {
   "cell_type": "code",
   "execution_count": null,
   "id": "8cd37ad1",
   "metadata": {},
   "outputs": [],
   "source": []
  }
 ],
 "metadata": {
  "kernelspec": {
   "display_name": "Python 3 (ipykernel)",
   "language": "python",
   "name": "python3"
  },
  "language_info": {
   "codemirror_mode": {
    "name": "ipython",
    "version": 3
   },
   "file_extension": ".py",
   "mimetype": "text/x-python",
   "name": "python",
   "nbconvert_exporter": "python",
   "pygments_lexer": "ipython3",
   "version": "3.8.11"
  }
 },
 "nbformat": 4,
 "nbformat_minor": 5
}
