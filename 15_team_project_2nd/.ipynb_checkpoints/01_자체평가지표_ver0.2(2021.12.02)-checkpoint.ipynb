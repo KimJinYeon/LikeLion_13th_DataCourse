{
 "cells": [
  {
   "cell_type": "markdown",
   "id": "d2c93d66",
   "metadata": {},
   "source": [
    "# 자체 평가지표\n",
    "* 가지고 있는 제출 파일과 비교"
   ]
  },
  {
   "cell_type": "markdown",
   "id": "04fe7669",
   "metadata": {},
   "source": [
    "## 데이터 가져오기"
   ]
  },
  {
   "cell_type": "code",
   "execution_count": 8,
   "id": "ca243a87",
   "metadata": {},
   "outputs": [],
   "source": [
    "import pandas as pd\n",
    "from tqdm import tqdm"
   ]
  },
  {
   "cell_type": "code",
   "execution_count": 9,
   "id": "ea12c3b8",
   "metadata": {},
   "outputs": [],
   "source": [
    "# 판다스 라이브러리에서 과학적 표기 사용 안하기\n",
    "pd.options.display.float_format = '{:.5f}'.format"
   ]
  },
  {
   "cell_type": "code",
   "execution_count": 10,
   "id": "21274695",
   "metadata": {},
   "outputs": [],
   "source": [
    "# sub24_pycaret12.csv 제출 점수 : 0.1032155541\n",
    "before_sub = pd.read_csv('sub24_pycaret12.csv')\n",
    "present_sub = pd.read_csv('3월예측.csv')"
   ]
  },
  {
   "cell_type": "markdown",
   "id": "53076471",
   "metadata": {},
   "source": [
    "## 열을 일자, 시간, 구분 열 분해"
   ]
  },
  {
   "cell_type": "code",
   "execution_count": 11,
   "id": "8f91fabf",
   "metadata": {},
   "outputs": [],
   "source": [
    "# 전 체출 파일 열 정리\n",
    "before_sub[['일자', '시간', '구분']] = before_sub['일자|시간|구분'].str.split(' ').to_list()\n",
    "before_sub = before_sub.drop('일자|시간|구분', axis=1)\n",
    "before_sub = before_sub[['일자', '시간', '구분', '공급량']]\n",
    "# 현재 체출 파일 열 정리\n",
    "present_sub[['일자', '시간', '구분']] = present_sub['일자|시간|구분'].str.split(' ').to_list()\n",
    "present_sub = present_sub.drop('일자|시간|구분', axis=1)\n",
    "present_sub = present_sub[['일자', '시간', '구분', '공급량']]"
   ]
  },
  {
   "cell_type": "markdown",
   "id": "69395ec2",
   "metadata": {},
   "source": [
    "### 평가 지표 함수화"
   ]
  },
  {
   "cell_type": "code",
   "execution_count": null,
   "id": "85d7da06",
   "metadata": {},
   "outputs": [],
   "source": [
    "def evaluation_index(before_sub, present_sub):\n",
    "    eval_set = pd.DataFrame(['MSE','RMSE', 'MAE', 'R2','NMAE'], columns=['평가지표'])\n",
    "    for division in tqdm(present_sub['구분'].unique()):\n",
    "        temp_before_sub = before_sub[before_sub['구분'] == division]\n",
    "        temp_present_sub = present_sub[present_sub['구분'] == division]\n",
    "\n",
    "        # 전 제출 값 = 실제값 취급\n",
    "        # 현제 제출 값 = 예측값\n",
    "        y = temp_before_sub['공급량']\n",
    "        pred = temp_present_sub['공급량']\n",
    "        y_mean = y.mean()\n",
    "\n",
    "        # MSE\n",
    "        mse = ( ( y - pred) ** 2 ).sum() / len(pred)\n",
    "            \n",
    "        # RMSE\n",
    "        rmse = mse ** (1/2)\n",
    "        \n",
    "        # MAE\n",
    "        mae = ( abs( y - pred ) ).sum() / len(pred)\n",
    "        \n",
    "        # R2\n",
    "        upper = ( (y - pred) ** 2 ).sum()\n",
    "        lower = ( (y - y_mean) ** 2 ).sum()\n",
    "        if lower == 0:\n",
    "            fraction = 0\n",
    "        else:\n",
    "            fraction = upper / lower\n",
    "        r2 = 1 - fraction\n",
    "        \n",
    "        #NMAE(Normalized Mean Absolute Error)-정규화 평균 절대 오차 척도\n",
    "        nmae = ( abs( y - pred ) / y ).sum() / len(pred)\n",
    "        \n",
    "        # 평가지표 리스트\n",
    "        one_eval_set = [mse, rmse, mae, r2, nmae]\n",
    "        \n",
    "        # 평가지표 셋에 담기\n",
    "        eval_set[division] = one_eval_set\n",
    "\n",
    "    # 평가지표 평균 구하기\n",
    "    eval_set['평가지표_평균'] = eval_set.mean(axis=1)\n",
    "\n",
    "    # 평가지표 평균 출력\n",
    "    print(eval_set[['평가지표', '평가지표_평균']])\n",
    "    \n",
    "    return eval_set"
   ]
  },
  {
   "cell_type": "code",
   "execution_count": 6,
   "id": "a765184c",
   "metadata": {},
   "outputs": [
    {
     "name": "stderr",
     "output_type": "stream",
     "text": [
      "100%|██████████| 7/7 [00:00<00:00, 57.53it/s]"
     ]
    },
    {
     "name": "stdout",
     "output_type": "stream",
     "text": [
      "   평가지표     평가지표_평균\n",
      "0   MSE 15433.61198\n",
      "1  RMSE    98.63069\n",
      "2   MAE    81.23554\n",
      "3    R2     0.93810\n",
      "4  NMAE     0.04649\n"
     ]
    },
    {
     "name": "stderr",
     "output_type": "stream",
     "text": [
      "\n"
     ]
    }
   ],
   "source": [
    "set = evaluation_index(before_sub, present_sub)"
   ]
  },
  {
   "cell_type": "code",
   "execution_count": 7,
   "id": "16570e06",
   "metadata": {},
   "outputs": [
    {
     "data": {
      "text/html": [
       "<div>\n",
       "<style scoped>\n",
       "    .dataframe tbody tr th:only-of-type {\n",
       "        vertical-align: middle;\n",
       "    }\n",
       "\n",
       "    .dataframe tbody tr th {\n",
       "        vertical-align: top;\n",
       "    }\n",
       "\n",
       "    .dataframe thead th {\n",
       "        text-align: right;\n",
       "    }\n",
       "</style>\n",
       "<table border=\"1\" class=\"dataframe\">\n",
       "  <thead>\n",
       "    <tr style=\"text-align: right;\">\n",
       "      <th></th>\n",
       "      <th>평가지표</th>\n",
       "      <th>A</th>\n",
       "      <th>B</th>\n",
       "      <th>C</th>\n",
       "      <th>D</th>\n",
       "      <th>E</th>\n",
       "      <th>G</th>\n",
       "      <th>H</th>\n",
       "      <th>평가지표_평균</th>\n",
       "    </tr>\n",
       "  </thead>\n",
       "  <tbody>\n",
       "    <tr>\n",
       "      <th>0</th>\n",
       "      <td>MSE</td>\n",
       "      <td>16308.00293</td>\n",
       "      <td>10537.13686</td>\n",
       "      <td>49.28483</td>\n",
       "      <td>3233.13956</td>\n",
       "      <td>16080.07342</td>\n",
       "      <td>61358.16950</td>\n",
       "      <td>469.47672</td>\n",
       "      <td>15433.61198</td>\n",
       "    </tr>\n",
       "    <tr>\n",
       "      <th>1</th>\n",
       "      <td>RMSE</td>\n",
       "      <td>127.70279</td>\n",
       "      <td>102.65056</td>\n",
       "      <td>7.02032</td>\n",
       "      <td>56.86070</td>\n",
       "      <td>126.80723</td>\n",
       "      <td>247.70581</td>\n",
       "      <td>21.66741</td>\n",
       "      <td>98.63069</td>\n",
       "    </tr>\n",
       "    <tr>\n",
       "      <th>2</th>\n",
       "      <td>MAE</td>\n",
       "      <td>102.48888</td>\n",
       "      <td>77.65426</td>\n",
       "      <td>5.75298</td>\n",
       "      <td>44.44059</td>\n",
       "      <td>100.50354</td>\n",
       "      <td>220.45492</td>\n",
       "      <td>17.35363</td>\n",
       "      <td>81.23554</td>\n",
       "    </tr>\n",
       "    <tr>\n",
       "      <th>3</th>\n",
       "      <td>R2</td>\n",
       "      <td>0.93086</td>\n",
       "      <td>0.94616</td>\n",
       "      <td>0.95023</td>\n",
       "      <td>0.95886</td>\n",
       "      <td>0.95677</td>\n",
       "      <td>0.86118</td>\n",
       "      <td>0.96261</td>\n",
       "      <td>0.93810</td>\n",
       "    </tr>\n",
       "    <tr>\n",
       "      <th>4</th>\n",
       "      <td>NMAE</td>\n",
       "      <td>0.05320</td>\n",
       "      <td>0.04710</td>\n",
       "      <td>0.03078</td>\n",
       "      <td>0.04010</td>\n",
       "      <td>0.04165</td>\n",
       "      <td>0.07262</td>\n",
       "      <td>0.03995</td>\n",
       "      <td>0.04649</td>\n",
       "    </tr>\n",
       "  </tbody>\n",
       "</table>\n",
       "</div>"
      ],
      "text/plain": [
       "   평가지표           A           B        C          D           E           G  \\\n",
       "0   MSE 16308.00293 10537.13686 49.28483 3233.13956 16080.07342 61358.16950   \n",
       "1  RMSE   127.70279   102.65056  7.02032   56.86070   126.80723   247.70581   \n",
       "2   MAE   102.48888    77.65426  5.75298   44.44059   100.50354   220.45492   \n",
       "3    R2     0.93086     0.94616  0.95023    0.95886     0.95677     0.86118   \n",
       "4  NMAE     0.05320     0.04710  0.03078    0.04010     0.04165     0.07262   \n",
       "\n",
       "          H     평가지표_평균  \n",
       "0 469.47672 15433.61198  \n",
       "1  21.66741    98.63069  \n",
       "2  17.35363    81.23554  \n",
       "3   0.96261     0.93810  \n",
       "4   0.03995     0.04649  "
      ]
     },
     "execution_count": 7,
     "metadata": {},
     "output_type": "execute_result"
    }
   ],
   "source": [
    "set"
   ]
  },
  {
   "cell_type": "code",
   "execution_count": null,
   "id": "c071f538",
   "metadata": {},
   "outputs": [],
   "source": []
  }
 ],
 "metadata": {
  "kernelspec": {
   "display_name": "Python 3 (ipykernel)",
   "language": "python",
   "name": "python3"
  },
  "language_info": {
   "codemirror_mode": {
    "name": "ipython",
    "version": 3
   },
   "file_extension": ".py",
   "mimetype": "text/x-python",
   "name": "python",
   "nbconvert_exporter": "python",
   "pygments_lexer": "ipython3",
   "version": "3.8.11"
  }
 },
 "nbformat": 4,
 "nbformat_minor": 5
}
