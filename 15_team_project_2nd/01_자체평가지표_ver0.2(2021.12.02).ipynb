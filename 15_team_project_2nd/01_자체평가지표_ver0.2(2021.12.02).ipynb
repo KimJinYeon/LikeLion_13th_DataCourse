{
 "cells": [
  {
   "cell_type": "markdown",
   "id": "d2c93d66",
   "metadata": {},
   "source": [
    "# 자체 평가지표\n",
    "* 가지고 있는 제출 파일과 비교"
   ]
  },
  {
   "cell_type": "markdown",
   "id": "04fe7669",
   "metadata": {},
   "source": [
    "## 데이터 가져오기"
   ]
  },
  {
   "cell_type": "code",
   "execution_count": 8,
   "id": "ca243a87",
   "metadata": {},
   "outputs": [],
   "source": [
    "import pandas as pd\n",
    "from tqdm import tqdm"
   ]
  },
  {
   "cell_type": "code",
   "execution_count": 9,
   "id": "ea12c3b8",
   "metadata": {},
   "outputs": [],
   "source": [
    "# 판다스 라이브러리에서 과학적 표기 사용 안하기\n",
    "pd.options.display.float_format = '{:.5f}'.format"
   ]
  },
  {
   "cell_type": "code",
   "execution_count": 15,
   "id": "21274695",
   "metadata": {},
   "outputs": [],
   "source": [
    "# sub24_pycaret12.csv 제출 점수 : 0.1032155541\n",
    "before_sub = pd.read_csv('sub24_pycaret12.csv')\n",
    "present_sub = pd.read_csv('sub.csv')"
   ]
  },
  {
   "cell_type": "markdown",
   "id": "53076471",
   "metadata": {},
   "source": [
    "## 열을 일자, 시간, 구분 열 분해"
   ]
  },
  {
   "cell_type": "code",
   "execution_count": 16,
   "id": "8f91fabf",
   "metadata": {},
   "outputs": [],
   "source": [
    "# 전 체출 파일 열 정리\n",
    "before_sub[['일자', '시간', '구분']] = before_sub['일자|시간|구분'].str.split(' ').to_list()\n",
    "before_sub = before_sub.drop('일자|시간|구분', axis=1)\n",
    "before_sub = before_sub[['일자', '시간', '구분', '공급량']]\n",
    "# 현재 체출 파일 열 정리\n",
    "present_sub[['일자', '시간', '구분']] = present_sub['일자|시간|구분'].str.split(' ').to_list()\n",
    "present_sub = present_sub.drop('일자|시간|구분', axis=1)\n",
    "present_sub = present_sub[['일자', '시간', '구분', '공급량']]"
   ]
  },
  {
   "cell_type": "markdown",
   "id": "69395ec2",
   "metadata": {},
   "source": [
    "### 평가 지표 함수화"
   ]
  },
  {
   "cell_type": "code",
   "execution_count": 17,
   "id": "85d7da06",
   "metadata": {},
   "outputs": [],
   "source": [
    "def evaluation_index(before_sub, present_sub):\n",
    "    eval_set = pd.DataFrame(['MSE','RMSE', 'MAE', 'R2','NMAE'], columns=['평가지표'])\n",
    "    for division in tqdm(present_sub['구분'].unique()):\n",
    "        temp_before_sub = before_sub[before_sub['구분'] == division]\n",
    "        temp_present_sub = present_sub[present_sub['구분'] == division]\n",
    "\n",
    "        # 전 제출 값 = 실제값 취급\n",
    "        # 현제 제출 값 = 예측값\n",
    "        y = temp_before_sub['공급량']\n",
    "        pred = temp_present_sub['공급량']\n",
    "        y_mean = y.mean()\n",
    "\n",
    "        # MSE\n",
    "        mse = ( ( y - pred) ** 2 ).sum() / len(pred)\n",
    "            \n",
    "        # RMSE\n",
    "        rmse = mse ** (1/2)\n",
    "        \n",
    "        # MAE\n",
    "        mae = ( abs( y - pred ) ).sum() / len(pred)\n",
    "        \n",
    "        # R2\n",
    "        upper = ( (y - pred) ** 2 ).sum()\n",
    "        lower = ( (y - y_mean) ** 2 ).sum()\n",
    "        if lower == 0:\n",
    "            fraction = 0\n",
    "        else:\n",
    "            fraction = upper / lower\n",
    "        r2 = 1 - fraction\n",
    "        \n",
    "        #NMAE(Normalized Mean Absolute Error)-정규화 평균 절대 오차 척도\n",
    "        nmae = ( abs( y - pred ) / y ).sum() / len(pred)\n",
    "        \n",
    "        # 평가지표 리스트\n",
    "        one_eval_set = [mse, rmse, mae, r2, nmae]\n",
    "        \n",
    "        # 평가지표 셋에 담기\n",
    "        eval_set[division] = one_eval_set\n",
    "\n",
    "    # 평가지표 평균 구하기\n",
    "    eval_set['평가지표_평균'] = eval_set.mean(axis=1)\n",
    "\n",
    "    # 평가지표 평균 출력\n",
    "    print(eval_set[['평가지표', '평가지표_평균']])\n",
    "    \n",
    "    return eval_set"
   ]
  },
  {
   "cell_type": "code",
   "execution_count": 18,
   "id": "a765184c",
   "metadata": {},
   "outputs": [
    {
     "name": "stderr",
     "output_type": "stream",
     "text": [
      "100%|███████████████████████████████████████████████████████████████████████████████████| 7/7 [00:00<00:00, 205.54it/s]"
     ]
    },
    {
     "name": "stdout",
     "output_type": "stream",
     "text": [
      "   평가지표     평가지표_평균\n",
      "0   MSE 18974.65673\n",
      "1  RMSE   118.16060\n",
      "2   MAE    94.31242\n",
      "3    R2     0.89797\n",
      "4  NMAE     0.06540\n"
     ]
    },
    {
     "name": "stderr",
     "output_type": "stream",
     "text": [
      "\n",
      "C:\\Users\\ADMINI~1\\AppData\\Local\\Temp/ipykernel_13368/2173100965.py:41: FutureWarning: Dropping of nuisance columns in DataFrame reductions (with 'numeric_only=None') is deprecated; in a future version this will raise TypeError.  Select only valid columns before calling the reduction.\n",
      "  eval_set['평가지표_평균'] = eval_set.mean(axis=1)\n"
     ]
    }
   ],
   "source": [
    "set = evaluation_index(before_sub, present_sub)"
   ]
  },
  {
   "cell_type": "code",
   "execution_count": 19,
   "id": "16570e06",
   "metadata": {},
   "outputs": [
    {
     "data": {
      "text/html": [
       "<div>\n",
       "<style scoped>\n",
       "    .dataframe tbody tr th:only-of-type {\n",
       "        vertical-align: middle;\n",
       "    }\n",
       "\n",
       "    .dataframe tbody tr th {\n",
       "        vertical-align: top;\n",
       "    }\n",
       "\n",
       "    .dataframe thead th {\n",
       "        text-align: right;\n",
       "    }\n",
       "</style>\n",
       "<table border=\"1\" class=\"dataframe\">\n",
       "  <thead>\n",
       "    <tr style=\"text-align: right;\">\n",
       "      <th></th>\n",
       "      <th>평가지표</th>\n",
       "      <th>A</th>\n",
       "      <th>B</th>\n",
       "      <th>C</th>\n",
       "      <th>D</th>\n",
       "      <th>E</th>\n",
       "      <th>G</th>\n",
       "      <th>H</th>\n",
       "      <th>평가지표_평균</th>\n",
       "    </tr>\n",
       "  </thead>\n",
       "  <tbody>\n",
       "    <tr>\n",
       "      <th>0</th>\n",
       "      <td>MSE</td>\n",
       "      <td>25126.92293</td>\n",
       "      <td>18781.67599</td>\n",
       "      <td>130.10962</td>\n",
       "      <td>7561.94613</td>\n",
       "      <td>38338.73351</td>\n",
       "      <td>41797.50777</td>\n",
       "      <td>1085.70113</td>\n",
       "      <td>18974.65673</td>\n",
       "    </tr>\n",
       "    <tr>\n",
       "      <th>1</th>\n",
       "      <td>RMSE</td>\n",
       "      <td>158.51474</td>\n",
       "      <td>137.04625</td>\n",
       "      <td>11.40656</td>\n",
       "      <td>86.95945</td>\n",
       "      <td>195.80279</td>\n",
       "      <td>204.44439</td>\n",
       "      <td>32.94998</td>\n",
       "      <td>118.16060</td>\n",
       "    </tr>\n",
       "    <tr>\n",
       "      <th>2</th>\n",
       "      <td>MAE</td>\n",
       "      <td>127.18839</td>\n",
       "      <td>108.66072</td>\n",
       "      <td>9.02496</td>\n",
       "      <td>68.83672</td>\n",
       "      <td>156.96860</td>\n",
       "      <td>163.34756</td>\n",
       "      <td>26.15999</td>\n",
       "      <td>94.31242</td>\n",
       "    </tr>\n",
       "    <tr>\n",
       "      <th>3</th>\n",
       "      <td>R2</td>\n",
       "      <td>0.89347</td>\n",
       "      <td>0.90403</td>\n",
       "      <td>0.86862</td>\n",
       "      <td>0.90379</td>\n",
       "      <td>0.89693</td>\n",
       "      <td>0.90543</td>\n",
       "      <td>0.91353</td>\n",
       "      <td>0.89797</td>\n",
       "    </tr>\n",
       "    <tr>\n",
       "      <th>4</th>\n",
       "      <td>NMAE</td>\n",
       "      <td>0.07337</td>\n",
       "      <td>0.07376</td>\n",
       "      <td>0.05039</td>\n",
       "      <td>0.06657</td>\n",
       "      <td>0.07158</td>\n",
       "      <td>0.05555</td>\n",
       "      <td>0.06661</td>\n",
       "      <td>0.06540</td>\n",
       "    </tr>\n",
       "  </tbody>\n",
       "</table>\n",
       "</div>"
      ],
      "text/plain": [
       "   평가지표           A           B         C          D           E           G  \\\n",
       "0   MSE 25126.92293 18781.67599 130.10962 7561.94613 38338.73351 41797.50777   \n",
       "1  RMSE   158.51474   137.04625  11.40656   86.95945   195.80279   204.44439   \n",
       "2   MAE   127.18839   108.66072   9.02496   68.83672   156.96860   163.34756   \n",
       "3    R2     0.89347     0.90403   0.86862    0.90379     0.89693     0.90543   \n",
       "4  NMAE     0.07337     0.07376   0.05039    0.06657     0.07158     0.05555   \n",
       "\n",
       "           H     평가지표_평균  \n",
       "0 1085.70113 18974.65673  \n",
       "1   32.94998   118.16060  \n",
       "2   26.15999    94.31242  \n",
       "3    0.91353     0.89797  \n",
       "4    0.06661     0.06540  "
      ]
     },
     "execution_count": 19,
     "metadata": {},
     "output_type": "execute_result"
    }
   ],
   "source": [
    "set"
   ]
  },
  {
   "cell_type": "code",
   "execution_count": null,
   "id": "c071f538",
   "metadata": {},
   "outputs": [],
   "source": []
  }
 ],
 "metadata": {
  "kernelspec": {
   "display_name": "Python 3 (ipykernel)",
   "language": "python",
   "name": "python3"
  },
  "language_info": {
   "codemirror_mode": {
    "name": "ipython",
    "version": 3
   },
   "file_extension": ".py",
   "mimetype": "text/x-python",
   "name": "python",
   "nbconvert_exporter": "python",
   "pygments_lexer": "ipython3",
   "version": "3.8.11"
  }
 },
 "nbformat": 4,
 "nbformat_minor": 5
}
