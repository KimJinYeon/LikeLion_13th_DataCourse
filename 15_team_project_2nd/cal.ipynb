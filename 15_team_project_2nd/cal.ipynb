{
 "cells": [
  {
   "cell_type": "code",
   "execution_count": 3,
   "id": "c3364575",
   "metadata": {},
   "outputs": [],
   "source": [
    "import numpy as np\n",
    "linear = np.array([0.04162186, 0.03716397, 0.03736707, 0.03972713, 0.03370719])\n",
    "knn = np.array([0.67675394, 0.65513748, 0.66452592, 0.6593895, 0.66572428])\n",
    "decision = np.array([0.95402424, 0.95747597, 0.96327034, 0.95964736, 0.9558149])\n",
    "random = np.array([0.97625736, 0.97412779, 0.97919697, 0.97922324, 0.97568182])\n",
    "xgb = np.array([0.98306124, 0.97770842, 0.98350991, 0.98377802, 0.98236024])\n",
    "lgb = np.array([0.9717184,  0.96629876, 0.97144486, 0.97257955, 0.97077643])"
   ]
  },
  {
   "cell_type": "code",
   "execution_count": 6,
   "id": "71e01b20",
   "metadata": {},
   "outputs": [
    {
     "data": {
      "text/plain": [
       "(0.037917444, 0.664306224, 0.958046562, 0.976897436, 0.982083566, 0.9705636)"
      ]
     },
     "execution_count": 6,
     "metadata": {},
     "output_type": "execute_result"
    }
   ],
   "source": [
    "linear.mean(), knn.mean(), decision.mean(), random.mean(), xgb.mean(), lgb.mean()"
   ]
  },
  {
   "cell_type": "code",
   "execution_count": 7,
   "id": "abb5ce19",
   "metadata": {},
   "outputs": [],
   "source": [
    "linear = np.array([0.27661319, 0.27018589, 0.26650212, 0.26505649, 0.26510171])\n",
    "knn = np.array([0.48543325, 0.4658092,  0.46780046, 0.46296974, 0.45925029])\n",
    "decision = np.array([0.94938763, 0.95396348, 0.94864897, 0.95341543, 0.95116463])\n",
    "random = np.array([0.97690562, 0.97741997, 0.97385458, 0.97753339, 0.97737777])\n",
    "xgb = np.array([0.98517336, 0.98559607, 0.98195326, 0.98573186, 0.98588367])\n",
    "lgb = np.array([0.97951625, 0.97945485, 0.97589753, 0.97987224, 0.97902507])"
   ]
  },
  {
   "cell_type": "code",
   "execution_count": 8,
   "id": "41eb9ec7",
   "metadata": {},
   "outputs": [
    {
     "data": {
      "text/plain": [
       "(0.26869187999999994,\n",
       " 0.468252588,\n",
       " 0.9513160279999999,\n",
       " 0.976618266,\n",
       " 0.984867644,\n",
       " 0.978753188)"
      ]
     },
     "execution_count": 8,
     "metadata": {},
     "output_type": "execute_result"
    }
   ],
   "source": [
    "linear.mean(), knn.mean(), decision.mean(), random.mean(), xgb.mean(), lgb.mean()"
   ]
  },
  {
   "cell_type": "code",
   "execution_count": 9,
   "id": "ea2144d3",
   "metadata": {},
   "outputs": [],
   "source": [
    "tune = np.array([0.92840213, 0.92875514, 0.92194443, 0.92991874, 0.92646072])"
   ]
  },
  {
   "cell_type": "code",
   "execution_count": 10,
   "id": "383b052e",
   "metadata": {},
   "outputs": [
    {
     "data": {
      "text/plain": [
       "0.9270962319999999"
      ]
     },
     "execution_count": 10,
     "metadata": {},
     "output_type": "execute_result"
    }
   ],
   "source": [
    "tune.mean()"
   ]
  },
  {
   "cell_type": "code",
   "execution_count": 11,
   "id": "c7de6c8c",
   "metadata": {},
   "outputs": [
    {
     "data": {
      "text/plain": [
       "0.92707719"
      ]
     },
     "execution_count": 11,
     "metadata": {},
     "output_type": "execute_result"
    }
   ],
   "source": [
    "np.array([0.92782252, 0.92830132, 0.92261883, 0.92985428, 0.926789]).mean()"
   ]
  },
  {
   "cell_type": "code",
   "execution_count": null,
   "id": "eccf0031",
   "metadata": {},
   "outputs": [],
   "source": []
  }
 ],
 "metadata": {
  "kernelspec": {
   "display_name": "Python 3 (ipykernel)",
   "language": "python",
   "name": "python3"
  },
  "language_info": {
   "codemirror_mode": {
    "name": "ipython",
    "version": 3
   },
   "file_extension": ".py",
   "mimetype": "text/x-python",
   "name": "python",
   "nbconvert_exporter": "python",
   "pygments_lexer": "ipython3",
   "version": "3.8.11"
  }
 },
 "nbformat": 4,
 "nbformat_minor": 5
}
