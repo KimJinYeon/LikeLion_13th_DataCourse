{
 "cells": [
  {
   "cell_type": "markdown",
   "id": "0658c09e",
   "metadata": {},
   "source": [
    "# 서울시 기온 데이터를 이용해서 기상청 예보와 얼마나 차이나는지 비교하자"
   ]
  },
  {
   "cell_type": "markdown",
   "id": "69d12539",
   "metadata": {},
   "source": [
    "### 사용 데이터: 서울시 평균기온, 최저기온, 최고기온 (2000년 10월 17일~ 2021년 10월 17일)"
   ]
  },
  {
   "cell_type": "code",
   "execution_count": 34,
   "id": "96e25b7d",
   "metadata": {},
   "outputs": [],
   "source": [
    "import numpy as np\n",
    "import pandas as pd\n",
    "import seaborn as sns\n",
    "import mglearn\n",
    "from sklearn.model_selection import train_test_split\n",
    "from sklearn.linear_model import LinearRegression # 선형회귀\n",
    "from sklearn.neighbors import KNeighborsRegressor # KNN 회귀\n",
    "from sklearn.tree import DecisionTreeRegressor # 결정트리회귀\n",
    "from sklearn.ensemble import RandomForestRegressor # 랜덤포레스트 회귀\n",
    "from sklearn.model_selection import cross_val_score # 교차검증\n",
    "from sklearn.model_selection import KFold # KFold 교차검증"
   ]
  },
  {
   "cell_type": "code",
   "execution_count": 5,
   "id": "0c0c24a1",
   "metadata": {},
   "outputs": [],
   "source": [
    "temp = pd.read_csv('./data/서울기온_20001017_20211017.csv', encoding='cp949')"
   ]
  },
  {
   "cell_type": "code",
   "execution_count": 6,
   "id": "1ce535d0",
   "metadata": {},
   "outputs": [
    {
     "data": {
      "text/html": [
       "<div>\n",
       "<style scoped>\n",
       "    .dataframe tbody tr th:only-of-type {\n",
       "        vertical-align: middle;\n",
       "    }\n",
       "\n",
       "    .dataframe tbody tr th {\n",
       "        vertical-align: top;\n",
       "    }\n",
       "\n",
       "    .dataframe thead th {\n",
       "        text-align: right;\n",
       "    }\n",
       "</style>\n",
       "<table border=\"1\" class=\"dataframe\">\n",
       "  <thead>\n",
       "    <tr style=\"text-align: right;\">\n",
       "      <th></th>\n",
       "      <th>날짜</th>\n",
       "      <th>지점</th>\n",
       "      <th>평균기온(℃)</th>\n",
       "      <th>최저기온(℃)</th>\n",
       "      <th>최고기온(℃)</th>\n",
       "    </tr>\n",
       "  </thead>\n",
       "  <tbody>\n",
       "    <tr>\n",
       "      <th>0</th>\n",
       "      <td>2000-10-17</td>\n",
       "      <td>108</td>\n",
       "      <td>12.4</td>\n",
       "      <td>8.5</td>\n",
       "      <td>15.1</td>\n",
       "    </tr>\n",
       "    <tr>\n",
       "      <th>1</th>\n",
       "      <td>2000-10-18</td>\n",
       "      <td>108</td>\n",
       "      <td>14.5</td>\n",
       "      <td>9.9</td>\n",
       "      <td>19.8</td>\n",
       "    </tr>\n",
       "    <tr>\n",
       "      <th>2</th>\n",
       "      <td>2000-10-19</td>\n",
       "      <td>108</td>\n",
       "      <td>14.2</td>\n",
       "      <td>10.1</td>\n",
       "      <td>19.2</td>\n",
       "    </tr>\n",
       "    <tr>\n",
       "      <th>3</th>\n",
       "      <td>2000-10-20</td>\n",
       "      <td>108</td>\n",
       "      <td>15.9</td>\n",
       "      <td>11.8</td>\n",
       "      <td>20.9</td>\n",
       "    </tr>\n",
       "    <tr>\n",
       "      <th>4</th>\n",
       "      <td>2000-10-21</td>\n",
       "      <td>108</td>\n",
       "      <td>14.7</td>\n",
       "      <td>9.0</td>\n",
       "      <td>20.8</td>\n",
       "    </tr>\n",
       "    <tr>\n",
       "      <th>...</th>\n",
       "      <td>...</td>\n",
       "      <td>...</td>\n",
       "      <td>...</td>\n",
       "      <td>...</td>\n",
       "      <td>...</td>\n",
       "    </tr>\n",
       "    <tr>\n",
       "      <th>7666</th>\n",
       "      <td>2021-10-13</td>\n",
       "      <td>108</td>\n",
       "      <td>19.6</td>\n",
       "      <td>14.9</td>\n",
       "      <td>25.2</td>\n",
       "    </tr>\n",
       "    <tr>\n",
       "      <th>7667</th>\n",
       "      <td>2021-10-14</td>\n",
       "      <td>108</td>\n",
       "      <td>19.7</td>\n",
       "      <td>17.4</td>\n",
       "      <td>23.9</td>\n",
       "    </tr>\n",
       "    <tr>\n",
       "      <th>7668</th>\n",
       "      <td>2021-10-15</td>\n",
       "      <td>108</td>\n",
       "      <td>19.0</td>\n",
       "      <td>17.0</td>\n",
       "      <td>21.4</td>\n",
       "    </tr>\n",
       "    <tr>\n",
       "      <th>7669</th>\n",
       "      <td>2021-10-16</td>\n",
       "      <td>108</td>\n",
       "      <td>10.7</td>\n",
       "      <td>4.2</td>\n",
       "      <td>18.1</td>\n",
       "    </tr>\n",
       "    <tr>\n",
       "      <th>7670</th>\n",
       "      <td>2021-10-17</td>\n",
       "      <td>108</td>\n",
       "      <td>5.6</td>\n",
       "      <td>1.3</td>\n",
       "      <td>10.8</td>\n",
       "    </tr>\n",
       "  </tbody>\n",
       "</table>\n",
       "<p>7671 rows × 5 columns</p>\n",
       "</div>"
      ],
      "text/plain": [
       "              날짜   지점  평균기온(℃)  최저기온(℃)  최고기온(℃)\n",
       "0     2000-10-17  108     12.4      8.5     15.1\n",
       "1     2000-10-18  108     14.5      9.9     19.8\n",
       "2     2000-10-19  108     14.2     10.1     19.2\n",
       "3     2000-10-20  108     15.9     11.8     20.9\n",
       "4     2000-10-21  108     14.7      9.0     20.8\n",
       "...          ...  ...      ...      ...      ...\n",
       "7666  2021-10-13  108     19.6     14.9     25.2\n",
       "7667  2021-10-14  108     19.7     17.4     23.9\n",
       "7668  2021-10-15  108     19.0     17.0     21.4\n",
       "7669  2021-10-16  108     10.7      4.2     18.1\n",
       "7670  2021-10-17  108      5.6      1.3     10.8\n",
       "\n",
       "[7671 rows x 5 columns]"
      ]
     },
     "execution_count": 6,
     "metadata": {},
     "output_type": "execute_result"
    }
   ],
   "source": [
    "temp"
   ]
  },
  {
   "cell_type": "code",
   "execution_count": 7,
   "id": "eb3f072c",
   "metadata": {
    "scrolled": true
   },
   "outputs": [
    {
     "name": "stdout",
     "output_type": "stream",
     "text": [
      "<class 'pandas.core.frame.DataFrame'>\n",
      "RangeIndex: 7671 entries, 0 to 7670\n",
      "Data columns (total 5 columns):\n",
      " #   Column   Non-Null Count  Dtype  \n",
      "---  ------   --------------  -----  \n",
      " 0   날짜       7671 non-null   object \n",
      " 1   지점       7671 non-null   int64  \n",
      " 2   평균기온(℃)  7671 non-null   float64\n",
      " 3   최저기온(℃)  7671 non-null   float64\n",
      " 4   최고기온(℃)  7670 non-null   float64\n",
      "dtypes: float64(3), int64(1), object(1)\n",
      "memory usage: 299.8+ KB\n"
     ]
    }
   ],
   "source": [
    "temp.info()"
   ]
  },
  {
   "cell_type": "markdown",
   "id": "05376920",
   "metadata": {},
   "source": [
    "### 데이터 전처리 목표\n",
    "* 최고기온 컬럼에 결측치가 하나 있으니 그 행을 제외하거나 결측치를 채워주자\n",
    "* 날짜 Dtype이 object로 되어있으니 숫자 데이터로 나눠주자\n",
    "* 지점은 서울 하나 뿐이니까 무의미한 데이터이므로 제외하자"
   ]
  },
  {
   "cell_type": "code",
   "execution_count": 8,
   "id": "3135d162",
   "metadata": {},
   "outputs": [],
   "source": [
    "temp = temp.dropna() # 결측치 제외"
   ]
  },
  {
   "cell_type": "code",
   "execution_count": 9,
   "id": "d36c02e7",
   "metadata": {},
   "outputs": [
    {
     "name": "stdout",
     "output_type": "stream",
     "text": [
      "<class 'pandas.core.frame.DataFrame'>\n",
      "Int64Index: 7670 entries, 0 to 7670\n",
      "Data columns (total 5 columns):\n",
      " #   Column   Non-Null Count  Dtype  \n",
      "---  ------   --------------  -----  \n",
      " 0   날짜       7670 non-null   object \n",
      " 1   지점       7670 non-null   int64  \n",
      " 2   평균기온(℃)  7670 non-null   float64\n",
      " 3   최저기온(℃)  7670 non-null   float64\n",
      " 4   최고기온(℃)  7670 non-null   float64\n",
      "dtypes: float64(3), int64(1), object(1)\n",
      "memory usage: 359.5+ KB\n"
     ]
    }
   ],
   "source": [
    "temp.info()"
   ]
  },
  {
   "cell_type": "code",
   "execution_count": 10,
   "id": "ec9de4b2",
   "metadata": {},
   "outputs": [
    {
     "data": {
      "text/plain": [
       "array([108], dtype=int64)"
      ]
     },
     "execution_count": 10,
     "metadata": {},
     "output_type": "execute_result"
    }
   ],
   "source": [
    "temp['지점'].unique()"
   ]
  },
  {
   "cell_type": "code",
   "execution_count": 12,
   "id": "fed24416",
   "metadata": {},
   "outputs": [
    {
     "name": "stderr",
     "output_type": "stream",
     "text": [
      "C:\\Users\\Administrator\\anaconda3\\lib\\site-packages\\pandas\\core\\frame.py:4901: SettingWithCopyWarning: \n",
      "A value is trying to be set on a copy of a slice from a DataFrame\n",
      "\n",
      "See the caveats in the documentation: https://pandas.pydata.org/pandas-docs/stable/user_guide/indexing.html#returning-a-view-versus-a-copy\n",
      "  return super().drop(\n"
     ]
    }
   ],
   "source": [
    "temp.drop(columns = ['지점'], inplace=True) # 지점 col 제외"
   ]
  },
  {
   "cell_type": "code",
   "execution_count": 13,
   "id": "2b3058a5",
   "metadata": {},
   "outputs": [
    {
     "data": {
      "text/html": [
       "<div>\n",
       "<style scoped>\n",
       "    .dataframe tbody tr th:only-of-type {\n",
       "        vertical-align: middle;\n",
       "    }\n",
       "\n",
       "    .dataframe tbody tr th {\n",
       "        vertical-align: top;\n",
       "    }\n",
       "\n",
       "    .dataframe thead th {\n",
       "        text-align: right;\n",
       "    }\n",
       "</style>\n",
       "<table border=\"1\" class=\"dataframe\">\n",
       "  <thead>\n",
       "    <tr style=\"text-align: right;\">\n",
       "      <th></th>\n",
       "      <th>날짜</th>\n",
       "      <th>평균기온(℃)</th>\n",
       "      <th>최저기온(℃)</th>\n",
       "      <th>최고기온(℃)</th>\n",
       "    </tr>\n",
       "  </thead>\n",
       "  <tbody>\n",
       "    <tr>\n",
       "      <th>0</th>\n",
       "      <td>2000-10-17</td>\n",
       "      <td>12.4</td>\n",
       "      <td>8.5</td>\n",
       "      <td>15.1</td>\n",
       "    </tr>\n",
       "    <tr>\n",
       "      <th>1</th>\n",
       "      <td>2000-10-18</td>\n",
       "      <td>14.5</td>\n",
       "      <td>9.9</td>\n",
       "      <td>19.8</td>\n",
       "    </tr>\n",
       "    <tr>\n",
       "      <th>2</th>\n",
       "      <td>2000-10-19</td>\n",
       "      <td>14.2</td>\n",
       "      <td>10.1</td>\n",
       "      <td>19.2</td>\n",
       "    </tr>\n",
       "    <tr>\n",
       "      <th>3</th>\n",
       "      <td>2000-10-20</td>\n",
       "      <td>15.9</td>\n",
       "      <td>11.8</td>\n",
       "      <td>20.9</td>\n",
       "    </tr>\n",
       "    <tr>\n",
       "      <th>4</th>\n",
       "      <td>2000-10-21</td>\n",
       "      <td>14.7</td>\n",
       "      <td>9.0</td>\n",
       "      <td>20.8</td>\n",
       "    </tr>\n",
       "    <tr>\n",
       "      <th>...</th>\n",
       "      <td>...</td>\n",
       "      <td>...</td>\n",
       "      <td>...</td>\n",
       "      <td>...</td>\n",
       "    </tr>\n",
       "    <tr>\n",
       "      <th>7666</th>\n",
       "      <td>2021-10-13</td>\n",
       "      <td>19.6</td>\n",
       "      <td>14.9</td>\n",
       "      <td>25.2</td>\n",
       "    </tr>\n",
       "    <tr>\n",
       "      <th>7667</th>\n",
       "      <td>2021-10-14</td>\n",
       "      <td>19.7</td>\n",
       "      <td>17.4</td>\n",
       "      <td>23.9</td>\n",
       "    </tr>\n",
       "    <tr>\n",
       "      <th>7668</th>\n",
       "      <td>2021-10-15</td>\n",
       "      <td>19.0</td>\n",
       "      <td>17.0</td>\n",
       "      <td>21.4</td>\n",
       "    </tr>\n",
       "    <tr>\n",
       "      <th>7669</th>\n",
       "      <td>2021-10-16</td>\n",
       "      <td>10.7</td>\n",
       "      <td>4.2</td>\n",
       "      <td>18.1</td>\n",
       "    </tr>\n",
       "    <tr>\n",
       "      <th>7670</th>\n",
       "      <td>2021-10-17</td>\n",
       "      <td>5.6</td>\n",
       "      <td>1.3</td>\n",
       "      <td>10.8</td>\n",
       "    </tr>\n",
       "  </tbody>\n",
       "</table>\n",
       "<p>7670 rows × 4 columns</p>\n",
       "</div>"
      ],
      "text/plain": [
       "              날짜  평균기온(℃)  최저기온(℃)  최고기온(℃)\n",
       "0     2000-10-17     12.4      8.5     15.1\n",
       "1     2000-10-18     14.5      9.9     19.8\n",
       "2     2000-10-19     14.2     10.1     19.2\n",
       "3     2000-10-20     15.9     11.8     20.9\n",
       "4     2000-10-21     14.7      9.0     20.8\n",
       "...          ...      ...      ...      ...\n",
       "7666  2021-10-13     19.6     14.9     25.2\n",
       "7667  2021-10-14     19.7     17.4     23.9\n",
       "7668  2021-10-15     19.0     17.0     21.4\n",
       "7669  2021-10-16     10.7      4.2     18.1\n",
       "7670  2021-10-17      5.6      1.3     10.8\n",
       "\n",
       "[7670 rows x 4 columns]"
      ]
     },
     "execution_count": 13,
     "metadata": {},
     "output_type": "execute_result"
    }
   ],
   "source": [
    "temp"
   ]
  },
  {
   "cell_type": "code",
   "execution_count": 14,
   "id": "6c188b3e",
   "metadata": {},
   "outputs": [
    {
     "data": {
      "text/plain": [
       "dtype('O')"
      ]
     },
     "execution_count": 14,
     "metadata": {},
     "output_type": "execute_result"
    }
   ],
   "source": [
    "temp['날짜'].dtype"
   ]
  },
  {
   "cell_type": "code",
   "execution_count": 15,
   "id": "2597dc2c",
   "metadata": {},
   "outputs": [
    {
     "name": "stderr",
     "output_type": "stream",
     "text": [
      "C:\\Users\\ADMINI~1\\AppData\\Local\\Temp/ipykernel_15804/2400803615.py:1: SettingWithCopyWarning: \n",
      "A value is trying to be set on a copy of a slice from a DataFrame.\n",
      "Try using .loc[row_indexer,col_indexer] = value instead\n",
      "\n",
      "See the caveats in the documentation: https://pandas.pydata.org/pandas-docs/stable/user_guide/indexing.html#returning-a-view-versus-a-copy\n",
      "  temp['날짜'] = pd.to_datetime(temp['날짜'])\n"
     ]
    }
   ],
   "source": [
    "temp['날짜'] = pd.to_datetime(temp['날짜'])"
   ]
  },
  {
   "cell_type": "code",
   "execution_count": 18,
   "id": "4a70374b",
   "metadata": {},
   "outputs": [
    {
     "name": "stderr",
     "output_type": "stream",
     "text": [
      "C:\\Users\\ADMINI~1\\AppData\\Local\\Temp/ipykernel_15804/4107011839.py:1: SettingWithCopyWarning: \n",
      "A value is trying to be set on a copy of a slice from a DataFrame.\n",
      "Try using .loc[row_indexer,col_indexer] = value instead\n",
      "\n",
      "See the caveats in the documentation: https://pandas.pydata.org/pandas-docs/stable/user_guide/indexing.html#returning-a-view-versus-a-copy\n",
      "  temp['년'] = temp['날짜'].dt.year\n",
      "C:\\Users\\ADMINI~1\\AppData\\Local\\Temp/ipykernel_15804/4107011839.py:2: SettingWithCopyWarning: \n",
      "A value is trying to be set on a copy of a slice from a DataFrame.\n",
      "Try using .loc[row_indexer,col_indexer] = value instead\n",
      "\n",
      "See the caveats in the documentation: https://pandas.pydata.org/pandas-docs/stable/user_guide/indexing.html#returning-a-view-versus-a-copy\n",
      "  temp['월'] = temp['날짜'].dt.month\n",
      "C:\\Users\\ADMINI~1\\AppData\\Local\\Temp/ipykernel_15804/4107011839.py:3: SettingWithCopyWarning: \n",
      "A value is trying to be set on a copy of a slice from a DataFrame.\n",
      "Try using .loc[row_indexer,col_indexer] = value instead\n",
      "\n",
      "See the caveats in the documentation: https://pandas.pydata.org/pandas-docs/stable/user_guide/indexing.html#returning-a-view-versus-a-copy\n",
      "  temp['일'] = temp['날짜'].dt.day\n"
     ]
    }
   ],
   "source": [
    "temp['년'] = temp['날짜'].dt.year\n",
    "temp['월'] = temp['날짜'].dt.month\n",
    "temp['일'] = temp['날짜'].dt.day"
   ]
  },
  {
   "cell_type": "code",
   "execution_count": 19,
   "id": "a23bd04c",
   "metadata": {},
   "outputs": [
    {
     "name": "stdout",
     "output_type": "stream",
     "text": [
      "<class 'pandas.core.frame.DataFrame'>\n",
      "Int64Index: 7670 entries, 0 to 7670\n",
      "Data columns (total 7 columns):\n",
      " #   Column   Non-Null Count  Dtype         \n",
      "---  ------   --------------  -----         \n",
      " 0   날짜       7670 non-null   datetime64[ns]\n",
      " 1   평균기온(℃)  7670 non-null   float64       \n",
      " 2   최저기온(℃)  7670 non-null   float64       \n",
      " 3   최고기온(℃)  7670 non-null   float64       \n",
      " 4   년        7670 non-null   int64         \n",
      " 5   월        7670 non-null   int64         \n",
      " 6   일        7670 non-null   int64         \n",
      "dtypes: datetime64[ns](1), float64(3), int64(3)\n",
      "memory usage: 479.4 KB\n"
     ]
    }
   ],
   "source": [
    "temp.info()"
   ]
  },
  {
   "cell_type": "markdown",
   "id": "1530433b",
   "metadata": {},
   "source": [
    "### 데이터를 train과 test용으로 나누기"
   ]
  },
  {
   "cell_type": "code",
   "execution_count": 20,
   "id": "a2af3afc",
   "metadata": {},
   "outputs": [],
   "source": [
    "X = temp.loc[:, ['년', '월', '일', '최저기온(℃)', '최고기온(℃)']]\n",
    "y = temp['평균기온(℃)']"
   ]
  },
  {
   "cell_type": "code",
   "execution_count": 21,
   "id": "97f6e35a",
   "metadata": {},
   "outputs": [],
   "source": [
    "X_train, X_test, y_train, y_test = train_test_split(X, y, random_state=0)"
   ]
  },
  {
   "cell_type": "code",
   "execution_count": 22,
   "id": "aea38967",
   "metadata": {},
   "outputs": [
    {
     "data": {
      "text/plain": [
       "((5752, 5), (1918, 5), (5752,), (1918,))"
      ]
     },
     "execution_count": 22,
     "metadata": {},
     "output_type": "execute_result"
    }
   ],
   "source": [
    "X_train.shape, X_test.shape, y_train.shape, y_test.shape"
   ]
  },
  {
   "cell_type": "markdown",
   "id": "b80e37e9",
   "metadata": {},
   "source": [
    "### 머신러닝 모델 생성, 학습, score"
   ]
  },
  {
   "cell_type": "code",
   "execution_count": 23,
   "id": "cf6f69da",
   "metadata": {},
   "outputs": [],
   "source": [
    "model_linear = LinearRegression()\n",
    "model_knn = KNeighborsRegressor()\n",
    "model_tree = DecisionTreeRegressor()\n",
    "model_random = RandomForestRegressor()"
   ]
  },
  {
   "cell_type": "code",
   "execution_count": 24,
   "id": "63d1bb01",
   "metadata": {},
   "outputs": [
    {
     "data": {
      "text/plain": [
       "RandomForestRegressor()"
      ]
     },
     "execution_count": 24,
     "metadata": {},
     "output_type": "execute_result"
    }
   ],
   "source": [
    "model_linear.fit(X_train, y_train)\n",
    "model_knn.fit(X_train, y_train)\n",
    "model_tree.fit(X_train, y_train)\n",
    "model_random.fit(X_train, y_train)"
   ]
  },
  {
   "cell_type": "code",
   "execution_count": 25,
   "id": "b31ee19c",
   "metadata": {},
   "outputs": [
    {
     "data": {
      "text/plain": [
       "0.9975943606262837"
      ]
     },
     "execution_count": 25,
     "metadata": {},
     "output_type": "execute_result"
    }
   ],
   "source": [
    "model_linear.score(X_test, y_test)"
   ]
  },
  {
   "cell_type": "code",
   "execution_count": 26,
   "id": "9dc44c5b",
   "metadata": {},
   "outputs": [
    {
     "data": {
      "text/plain": [
       "0.995176652899365"
      ]
     },
     "execution_count": 26,
     "metadata": {},
     "output_type": "execute_result"
    }
   ],
   "source": [
    "model_knn.score(X_test, y_test)"
   ]
  },
  {
   "cell_type": "code",
   "execution_count": 27,
   "id": "860243cf",
   "metadata": {},
   "outputs": [
    {
     "data": {
      "text/plain": [
       "0.9950184055257912"
      ]
     },
     "execution_count": 27,
     "metadata": {},
     "output_type": "execute_result"
    }
   ],
   "source": [
    "model_tree.score(X_test, y_test)"
   ]
  },
  {
   "cell_type": "code",
   "execution_count": 28,
   "id": "ed68477f",
   "metadata": {},
   "outputs": [
    {
     "data": {
      "text/plain": [
       "0.9972830567179243"
      ]
     },
     "execution_count": 28,
     "metadata": {},
     "output_type": "execute_result"
    }
   ],
   "source": [
    "model_random.score(X_test, y_test)"
   ]
  },
  {
   "cell_type": "code",
   "execution_count": 33,
   "id": "44456203",
   "metadata": {},
   "outputs": [
    {
     "name": "stdout",
     "output_type": "stream",
     "text": [
      "LinearRegression() 교차 검증 점수 : [0.99800014 0.99768311 0.99719069 0.99735508 0.99766354]\n",
      "KNeighborsRegressor() 교차 검증 점수 : [0.99368619 0.98899898 0.99055629 0.99254086 0.99154082]\n",
      "DecisionTreeRegressor() 교차 검증 점수 : [0.99358306 0.99437374 0.99363698 0.99408343 0.99339403]\n",
      "RandomForestRegressor() 교차 검증 점수 : [0.99708814 0.99733428 0.99663923 0.9966298  0.9970805 ]\n"
     ]
    }
   ],
   "source": [
    "scores = cross_val_score(model_linear, X_test, y_test)\n",
    "print(\"{} 교차 검증 점수 : {}\".format(model_linear,scores))\n",
    "scores = cross_val_score(model_knn, X_test, y_test)\n",
    "print(\"{} 교차 검증 점수 : {}\".format(model_knn,scores))\n",
    "scores = cross_val_score(model_tree, X_test, y_test)\n",
    "print(\"{} 교차 검증 점수 : {}\".format(model_tree,scores))\n",
    "scores = cross_val_score(model_random, X_test, y_test)\n",
    "print(\"{} 교차 검증 점수 : {}\".format(model_random,scores))"
   ]
  },
  {
   "cell_type": "code",
   "execution_count": 36,
   "id": "6985cc05",
   "metadata": {},
   "outputs": [
    {
     "name": "stdout",
     "output_type": "stream",
     "text": [
      "LinearRegression() 교차 검증 점수 : [0.99758947 0.99761331 0.99753586]\n",
      "KNeighborsRegressor() 교차 검증 점수 : [0.99269471 0.99135975 0.99007244]\n",
      "DecisionTreeRegressor() 교차 검증 점수 : [0.99387201 0.99355696 0.99384843]\n",
      "RandomForestRegressor() 교차 검증 점수 : [0.99713987 0.99706787 0.99643261]\n"
     ]
    }
   ],
   "source": [
    "kfold = KFold(n_splits=3, shuffle=True, random_state=0)\n",
    "print(\"{} 교차 검증 점수 : {}\".format(model_linear,cross_val_score(model_linear, X_test, y_test, cv=kfold)))\n",
    "print(\"{} 교차 검증 점수 : {}\".format(model_knn,cross_val_score(model_knn, X_test, y_test, cv=kfold)))\n",
    "print(\"{} 교차 검증 점수 : {}\".format(model_tree,cross_val_score(model_tree, X_test, y_test, cv=kfold)))\n",
    "print(\"{} 교차 검증 점수 : {}\".format(model_random,cross_val_score(model_random, X_test, y_test, cv=kfold)))"
   ]
  },
  {
   "cell_type": "markdown",
   "id": "d1d69adf",
   "metadata": {},
   "source": [
    "## 결과\n",
    "* 네 가지 모델 모두 매우 높은 정확도를 기록\n",
    "* 예측할 데이터가 단순해서 그런 것 같다.\n",
    "* 평균기온 예측은 최저기온과 최고기온을 더해서 나누면 매우 가까운 값을 얻을 수 있다는 점도 영향이 있는 것 같다."
   ]
  },
  {
   "cell_type": "markdown",
   "id": "bc01089b",
   "metadata": {},
   "source": [
    "### 조건을 바꿔가며 해보자\n",
    "* 최저기온, 최고기온을 다 주지 말고, 한 두개씩 빼면서 해보자"
   ]
  },
  {
   "cell_type": "markdown",
   "id": "4586c439",
   "metadata": {},
   "source": [
    "## 최저기온 빼기"
   ]
  },
  {
   "cell_type": "markdown",
   "id": "041cf846",
   "metadata": {},
   "source": [
    "### 데이터를 train과 test용으로 나누기"
   ]
  },
  {
   "cell_type": "code",
   "execution_count": 37,
   "id": "288fde10",
   "metadata": {},
   "outputs": [],
   "source": [
    "X = temp.loc[:, ['년', '월', '일', '최고기온(℃)']]\n",
    "y = temp['평균기온(℃)']\n",
    "X_train, X_test, y_train, y_test = train_test_split(X, y, random_state=0)"
   ]
  },
  {
   "cell_type": "code",
   "execution_count": 38,
   "id": "167607ef",
   "metadata": {},
   "outputs": [
    {
     "data": {
      "text/plain": [
       "((5752, 4), (1918, 4), (5752,), (1918,))"
      ]
     },
     "execution_count": 38,
     "metadata": {},
     "output_type": "execute_result"
    }
   ],
   "source": [
    "X_train.shape, X_test.shape, y_train.shape, y_test.shape"
   ]
  },
  {
   "cell_type": "markdown",
   "id": "3c6365b4",
   "metadata": {},
   "source": [
    "### 머신러닝 모델 생성, 학습, score"
   ]
  },
  {
   "cell_type": "code",
   "execution_count": 39,
   "id": "c69e5f20",
   "metadata": {},
   "outputs": [
    {
     "data": {
      "text/plain": [
       "RandomForestRegressor()"
      ]
     },
     "execution_count": 39,
     "metadata": {},
     "output_type": "execute_result"
    }
   ],
   "source": [
    "model_linear = LinearRegression()\n",
    "model_knn = KNeighborsRegressor()\n",
    "model_tree = DecisionTreeRegressor()\n",
    "model_random = RandomForestRegressor()\n",
    "\n",
    "model_linear.fit(X_train, y_train)\n",
    "model_knn.fit(X_train, y_train)\n",
    "model_tree.fit(X_train, y_train)\n",
    "model_random.fit(X_train, y_train)"
   ]
  },
  {
   "cell_type": "code",
   "execution_count": 40,
   "id": "55c1f58d",
   "metadata": {},
   "outputs": [
    {
     "name": "stdout",
     "output_type": "stream",
     "text": [
      "0.9811857322828986\n",
      "0.981889206100481\n",
      "0.9771422627580904\n",
      "0.9876709363972933\n"
     ]
    }
   ],
   "source": [
    "print(model_linear.score(X_test, y_test))\n",
    "print(model_knn.score(X_test, y_test))\n",
    "print(model_tree.score(X_test, y_test))\n",
    "print(model_random.score(X_test, y_test))"
   ]
  },
  {
   "cell_type": "code",
   "execution_count": 41,
   "id": "ee296140",
   "metadata": {},
   "outputs": [
    {
     "name": "stdout",
     "output_type": "stream",
     "text": [
      "LinearRegression() 교차 검증 점수 : [0.98164385 0.98318734 0.97830378 0.98181618 0.98040164]\n",
      "KNeighborsRegressor() 교차 검증 점수 : [0.97862222 0.97419448 0.97218335 0.97585135 0.97304807]\n",
      "DecisionTreeRegressor() 교차 검증 점수 : [0.97517088 0.97594806 0.97443405 0.97375869 0.97535933]\n",
      "RandomForestRegressor() 교차 검증 점수 : [0.98640503 0.98622491 0.98532276 0.98451648 0.98712423]\n"
     ]
    }
   ],
   "source": [
    "scores = cross_val_score(model_linear, X_test, y_test)\n",
    "print(\"{} 교차 검증 점수 : {}\".format(model_linear,scores))\n",
    "scores = cross_val_score(model_knn, X_test, y_test)\n",
    "print(\"{} 교차 검증 점수 : {}\".format(model_knn,scores))\n",
    "scores = cross_val_score(model_tree, X_test, y_test)\n",
    "print(\"{} 교차 검증 점수 : {}\".format(model_tree,scores))\n",
    "scores = cross_val_score(model_random, X_test, y_test)\n",
    "print(\"{} 교차 검증 점수 : {}\".format(model_random,scores))"
   ]
  },
  {
   "cell_type": "code",
   "execution_count": 42,
   "id": "e527610d",
   "metadata": {},
   "outputs": [
    {
     "name": "stdout",
     "output_type": "stream",
     "text": [
      "LinearRegression() 교차 검증 점수 : [0.98091711 0.98187307 0.98086025]\n",
      "KNeighborsRegressor() 교차 검증 점수 : [0.97684783 0.97545444 0.9724428 ]\n",
      "DecisionTreeRegressor() 교차 검증 점수 : [0.97484931 0.97699112 0.97465834]\n",
      "RandomForestRegressor() 교차 검증 점수 : [0.98521759 0.9864858  0.98476462]\n"
     ]
    }
   ],
   "source": [
    "kfold = KFold(n_splits=3, shuffle=True, random_state=0)\n",
    "print(\"{} 교차 검증 점수 : {}\".format(model_linear,cross_val_score(model_linear, X_test, y_test, cv=kfold)))\n",
    "print(\"{} 교차 검증 점수 : {}\".format(model_knn,cross_val_score(model_knn, X_test, y_test, cv=kfold)))\n",
    "print(\"{} 교차 검증 점수 : {}\".format(model_tree,cross_val_score(model_tree, X_test, y_test, cv=kfold)))\n",
    "print(\"{} 교차 검증 점수 : {}\".format(model_random,cross_val_score(model_random, X_test, y_test, cv=kfold)))"
   ]
  },
  {
   "cell_type": "markdown",
   "id": "496ce7b8",
   "metadata": {},
   "source": [
    "## 최고기온 빼기"
   ]
  },
  {
   "cell_type": "markdown",
   "id": "d0fa9081",
   "metadata": {},
   "source": [
    "### 데이터를 train과 test용으로 나누기"
   ]
  },
  {
   "cell_type": "code",
   "execution_count": 54,
   "id": "aee423d0",
   "metadata": {},
   "outputs": [
    {
     "data": {
      "text/plain": [
       "((5752, 3), (1918, 3), (5752,), (1918,))"
      ]
     },
     "execution_count": 54,
     "metadata": {},
     "output_type": "execute_result"
    }
   ],
   "source": [
    "X = temp.loc[:, ['월', '일', '최저기온(℃)']]\n",
    "y = temp['평균기온(℃)']\n",
    "X_train, X_test, y_train, y_test = train_test_split(X, y, random_state=0)\n",
    "X_train.shape, X_test.shape, y_train.shape, y_test.shape"
   ]
  },
  {
   "cell_type": "markdown",
   "id": "c09983e2",
   "metadata": {},
   "source": [
    "### 머신러닝 모델 생성, 학습, score"
   ]
  },
  {
   "cell_type": "code",
   "execution_count": 55,
   "id": "291b9a41",
   "metadata": {},
   "outputs": [
    {
     "data": {
      "text/plain": [
       "RandomForestRegressor()"
      ]
     },
     "execution_count": 55,
     "metadata": {},
     "output_type": "execute_result"
    }
   ],
   "source": [
    "model_linear = LinearRegression()\n",
    "model_knn = KNeighborsRegressor()\n",
    "model_tree = DecisionTreeRegressor()\n",
    "model_random = RandomForestRegressor()\n",
    "\n",
    "model_linear.fit(X_train, y_train)\n",
    "model_knn.fit(X_train, y_train)\n",
    "model_tree.fit(X_train, y_train)\n",
    "model_random.fit(X_train, y_train)"
   ]
  },
  {
   "cell_type": "code",
   "execution_count": 56,
   "id": "80ea397d",
   "metadata": {},
   "outputs": [
    {
     "name": "stdout",
     "output_type": "stream",
     "text": [
      "0.9794700129511802\n",
      "0.9788714351424813\n",
      "0.9655193414686226\n",
      "0.9788139001877763\n"
     ]
    }
   ],
   "source": [
    "print(model_linear.score(X_test, y_test))\n",
    "print(model_knn.score(X_test, y_test))\n",
    "print(model_tree.score(X_test, y_test))\n",
    "print(model_random.score(X_test, y_test))"
   ]
  },
  {
   "cell_type": "code",
   "execution_count": 58,
   "id": "75e20021",
   "metadata": {},
   "outputs": [
    {
     "name": "stdout",
     "output_type": "stream",
     "text": [
      "LinearRegression() 교차 검증 점수 : [0.98011327 0.98125317 0.97520023 0.98127495 0.97924664]\n",
      "KNeighborsRegressor() 교차 검증 점수 : [0.97800825 0.97545791 0.97237736 0.97793173 0.9775423 ]\n",
      "DecisionTreeRegressor() 교차 검증 점수 : [0.9654769  0.96504479 0.95582851 0.96873563 0.96365252]\n",
      "RandomForestRegressor() 교차 검증 점수 : [0.979225   0.9795927  0.97570484 0.98020713 0.97786617]\n"
     ]
    }
   ],
   "source": [
    "scores = cross_val_score(model_linear, X_test, y_test)\n",
    "print(\"{} 교차 검증 점수 : {}\".format(model_linear,scores))\n",
    "scores = cross_val_score(model_knn, X_test, y_test)\n",
    "print(\"{} 교차 검증 점수 : {}\".format(model_knn,scores))\n",
    "scores = cross_val_score(model_tree, X_test, y_test)\n",
    "print(\"{} 교차 검증 점수 : {}\".format(model_tree,scores))\n",
    "scores = cross_val_score(model_random, X_test, y_test)\n",
    "print(\"{} 교차 검증 점수 : {}\".format(model_random,scores))"
   ]
  },
  {
   "cell_type": "code",
   "execution_count": 59,
   "id": "be7bca67",
   "metadata": {},
   "outputs": [
    {
     "name": "stdout",
     "output_type": "stream",
     "text": [
      "LinearRegression() 교차 검증 점수 : [0.97796824 0.98123859 0.97934084]\n",
      "KNeighborsRegressor() 교차 검증 점수 : [0.9760752  0.97681841 0.97549467]\n",
      "DecisionTreeRegressor() 교차 검증 점수 : [0.95968955 0.96472736 0.96348722]\n",
      "RandomForestRegressor() 교차 검증 점수 : [0.97696535 0.97880993 0.977969  ]\n"
     ]
    }
   ],
   "source": [
    "kfold = KFold(n_splits=3, shuffle=True, random_state=0)\n",
    "print(\"{} 교차 검증 점수 : {}\".format(model_linear,cross_val_score(model_linear, X_test, y_test, cv=kfold)))\n",
    "print(\"{} 교차 검증 점수 : {}\".format(model_knn,cross_val_score(model_knn, X_test, y_test, cv=kfold)))\n",
    "print(\"{} 교차 검증 점수 : {}\".format(model_tree,cross_val_score(model_tree, X_test, y_test, cv=kfold)))\n",
    "print(\"{} 교차 검증 점수 : {}\".format(model_random,cross_val_score(model_random, X_test, y_test, cv=kfold)))"
   ]
  },
  {
   "cell_type": "markdown",
   "id": "d77d8a7c",
   "metadata": {},
   "source": [
    "## 년, 월, 일만 주기"
   ]
  },
  {
   "cell_type": "markdown",
   "id": "175c1529",
   "metadata": {},
   "source": [
    "### 데이터를 train과 test용으로 나누기"
   ]
  },
  {
   "cell_type": "code",
   "execution_count": 43,
   "id": "cc2fbb14",
   "metadata": {},
   "outputs": [],
   "source": [
    "X = temp.loc[:, ['년', '월', '일']]\n",
    "y = temp['평균기온(℃)']\n",
    "X_train, X_test, y_train, y_test = train_test_split(X, y, random_state=0)"
   ]
  },
  {
   "cell_type": "code",
   "execution_count": 44,
   "id": "a6ca062c",
   "metadata": {},
   "outputs": [
    {
     "data": {
      "text/plain": [
       "((5752, 3), (1918, 3), (5752,), (1918,))"
      ]
     },
     "execution_count": 44,
     "metadata": {},
     "output_type": "execute_result"
    }
   ],
   "source": [
    "X_train.shape, X_test.shape, y_train.shape, y_test.shape"
   ]
  },
  {
   "cell_type": "markdown",
   "id": "f46357ab",
   "metadata": {},
   "source": [
    "### 머신러닝 모델 생성, 학습, score"
   ]
  },
  {
   "cell_type": "code",
   "execution_count": 45,
   "id": "388230bd",
   "metadata": {},
   "outputs": [
    {
     "data": {
      "text/plain": [
       "RandomForestRegressor()"
      ]
     },
     "execution_count": 45,
     "metadata": {},
     "output_type": "execute_result"
    }
   ],
   "source": [
    "model_linear = LinearRegression()\n",
    "model_knn = KNeighborsRegressor()\n",
    "model_tree = DecisionTreeRegressor()\n",
    "model_random = RandomForestRegressor()\n",
    "\n",
    "model_linear.fit(X_train, y_train)\n",
    "model_knn.fit(X_train, y_train)\n",
    "model_tree.fit(X_train, y_train)\n",
    "model_random.fit(X_train, y_train)"
   ]
  },
  {
   "cell_type": "code",
   "execution_count": 46,
   "id": "59a0b7a6",
   "metadata": {},
   "outputs": [
    {
     "name": "stdout",
     "output_type": "stream",
     "text": [
      "0.04283399309423075\n",
      "0.9011047108556656\n",
      "0.9126617194159998\n",
      "0.9422052870282864\n"
     ]
    }
   ],
   "source": [
    "print(model_linear.score(X_test, y_test))\n",
    "print(model_knn.score(X_test, y_test))\n",
    "print(model_tree.score(X_test, y_test))\n",
    "print(model_random.score(X_test, y_test))"
   ]
  },
  {
   "cell_type": "code",
   "execution_count": 47,
   "id": "aea59bdc",
   "metadata": {},
   "outputs": [
    {
     "name": "stdout",
     "output_type": "stream",
     "text": [
      "LinearRegression() 교차 검증 점수 : [0.03285193 0.07060361 0.05712226 0.01347061 0.0381296 ]\n",
      "KNeighborsRegressor() 교차 검증 점수 : [0.83688246 0.82109265 0.83983981 0.81602294 0.82545688]\n",
      "DecisionTreeRegressor() 교차 검증 점수 : [0.84031831 0.850267   0.82368783 0.85187857 0.88311575]\n",
      "RandomForestRegressor() 교차 검증 점수 : [0.91221685 0.9005666  0.89024243 0.91482097 0.92323916]\n"
     ]
    }
   ],
   "source": [
    "scores = cross_val_score(model_linear, X_test, y_test)\n",
    "print(\"{} 교차 검증 점수 : {}\".format(model_linear,scores))\n",
    "scores = cross_val_score(model_knn, X_test, y_test)\n",
    "print(\"{} 교차 검증 점수 : {}\".format(model_knn,scores))\n",
    "scores = cross_val_score(model_tree, X_test, y_test)\n",
    "print(\"{} 교차 검증 점수 : {}\".format(model_tree,scores))\n",
    "scores = cross_val_score(model_random, X_test, y_test)\n",
    "print(\"{} 교차 검증 점수 : {}\".format(model_random,scores))"
   ]
  },
  {
   "cell_type": "code",
   "execution_count": 48,
   "id": "0cd66038",
   "metadata": {},
   "outputs": [
    {
     "name": "stdout",
     "output_type": "stream",
     "text": [
      "LinearRegression() 교차 검증 점수 : [0.0217345  0.0344994  0.06357378]\n",
      "KNeighborsRegressor() 교차 검증 점수 : [0.82319608 0.82644611 0.8083314 ]\n",
      "DecisionTreeRegressor() 교차 검증 점수 : [0.85496253 0.83685057 0.83896256]\n",
      "RandomForestRegressor() 교차 검증 점수 : [0.9063645  0.89001553 0.90069123]\n"
     ]
    }
   ],
   "source": [
    "kfold = KFold(n_splits=3, shuffle=True, random_state=0)\n",
    "print(\"{} 교차 검증 점수 : {}\".format(model_linear,cross_val_score(model_linear, X_test, y_test, cv=kfold)))\n",
    "print(\"{} 교차 검증 점수 : {}\".format(model_knn,cross_val_score(model_knn, X_test, y_test, cv=kfold)))\n",
    "print(\"{} 교차 검증 점수 : {}\".format(model_tree,cross_val_score(model_tree, X_test, y_test, cv=kfold)))\n",
    "print(\"{} 교차 검증 점수 : {}\".format(model_random,cross_val_score(model_random, X_test, y_test, cv=kfold)))"
   ]
  },
  {
   "cell_type": "markdown",
   "id": "7d67c48f",
   "metadata": {},
   "source": [
    "## 월, 일만 주기"
   ]
  },
  {
   "cell_type": "markdown",
   "id": "f359e927",
   "metadata": {},
   "source": [
    "### 데이터를 train과 test용으로 나누기"
   ]
  },
  {
   "cell_type": "code",
   "execution_count": 89,
   "id": "41963415",
   "metadata": {},
   "outputs": [
    {
     "data": {
      "text/plain": [
       "((5752, 2), (1918, 2), (5752,), (1918,))"
      ]
     },
     "execution_count": 89,
     "metadata": {},
     "output_type": "execute_result"
    }
   ],
   "source": [
    "X = temp.loc[:, ['월', '일']]\n",
    "y = temp['평균기온(℃)']\n",
    "X_train, X_test, y_train, y_test = train_test_split(X, y, random_state=0)\n",
    "X_train.shape, X_test.shape, y_train.shape, y_test.shape"
   ]
  },
  {
   "cell_type": "markdown",
   "id": "6fab3fac",
   "metadata": {},
   "source": [
    "### 머신러닝 모델 생성, 학습, score"
   ]
  },
  {
   "cell_type": "code",
   "execution_count": 90,
   "id": "6449bbd7",
   "metadata": {},
   "outputs": [
    {
     "data": {
      "text/plain": [
       "RandomForestRegressor()"
      ]
     },
     "execution_count": 90,
     "metadata": {},
     "output_type": "execute_result"
    }
   ],
   "source": [
    "model_linear = LinearRegression()\n",
    "model_knn = KNeighborsRegressor()\n",
    "model_tree = DecisionTreeRegressor()\n",
    "model_random = RandomForestRegressor()\n",
    "\n",
    "model_linear.fit(X_train, y_train)\n",
    "model_knn.fit(X_train, y_train)\n",
    "model_tree.fit(X_train, y_train)\n",
    "model_random.fit(X_train, y_train)"
   ]
  },
  {
   "cell_type": "code",
   "execution_count": 91,
   "id": "783818bb",
   "metadata": {},
   "outputs": [
    {
     "name": "stdout",
     "output_type": "stream",
     "text": [
      "0.04212199113859927\n",
      "0.8824110193979088\n",
      "0.8970834537455534\n",
      "0.8970090630681526\n"
     ]
    }
   ],
   "source": [
    "print(model_linear.score(X_test, y_test))\n",
    "print(model_knn.score(X_test, y_test))\n",
    "print(model_tree.score(X_test, y_test))\n",
    "print(model_random.score(X_test, y_test))"
   ]
  },
  {
   "cell_type": "code",
   "execution_count": 92,
   "id": "e007ec31",
   "metadata": {},
   "outputs": [
    {
     "name": "stdout",
     "output_type": "stream",
     "text": [
      "LinearRegression() 교차 검증 점수 : [0.03530681 0.06691995 0.0605549  0.0131162  0.03541651]\n",
      "KNeighborsRegressor() 교차 검증 점수 : [0.86419576 0.86871295 0.84825498 0.88398667 0.88172962]\n",
      "DecisionTreeRegressor() 교차 검증 점수 : [0.88302465 0.86626415 0.86110334 0.88868069 0.89727183]\n",
      "RandomForestRegressor() 교차 검증 점수 : [0.88593416 0.874108   0.86553105 0.89163488 0.90072816]\n"
     ]
    }
   ],
   "source": [
    "scores = cross_val_score(model_linear, X_test, y_test)\n",
    "print(\"{} 교차 검증 점수 : {}\".format(model_linear,scores))\n",
    "scores = cross_val_score(model_knn, X_test, y_test)\n",
    "print(\"{} 교차 검증 점수 : {}\".format(model_knn,scores))\n",
    "scores = cross_val_score(model_tree, X_test, y_test)\n",
    "print(\"{} 교차 검증 점수 : {}\".format(model_tree,scores))\n",
    "scores = cross_val_score(model_random, X_test, y_test)\n",
    "print(\"{} 교차 검증 점수 : {}\".format(model_random,scores))"
   ]
  },
  {
   "cell_type": "code",
   "execution_count": 93,
   "id": "052f9e3d",
   "metadata": {
    "scrolled": false
   },
   "outputs": [
    {
     "name": "stdout",
     "output_type": "stream",
     "text": [
      "LinearRegression() 교차 검증 점수 : [0.02931349 0.03244428 0.06164877]\n",
      "KNeighborsRegressor() 교차 검증 점수 : [0.87339462 0.86011978 0.87714137]\n",
      "DecisionTreeRegressor() 교차 검증 점수 : [0.88120649 0.86386363 0.87841809]\n",
      "RandomForestRegressor() 교차 검증 점수 : [0.88805602 0.87452104 0.88342333]\n"
     ]
    }
   ],
   "source": [
    "kfold = KFold(n_splits=3, shuffle=True, random_state=0)\n",
    "print(\"{} 교차 검증 점수 : {}\".format(model_linear,cross_val_score(model_linear, X_test, y_test, cv=kfold)))\n",
    "print(\"{} 교차 검증 점수 : {}\".format(model_knn,cross_val_score(model_knn, X_test, y_test, cv=kfold)))\n",
    "print(\"{} 교차 검증 점수 : {}\".format(model_tree,cross_val_score(model_tree, X_test, y_test, cv=kfold)))\n",
    "print(\"{} 교차 검증 점수 : {}\".format(model_random,cross_val_score(model_random, X_test, y_test, cv=kfold)))"
   ]
  },
  {
   "cell_type": "markdown",
   "id": "7c530d21",
   "metadata": {},
   "source": [
    "## 결과\n",
    "* 데이터 열을 빼면 뺄수록 정확도가 떨어진다.\n",
    "* 선형회귀는 최저기온이나 최고기온 둘 중 어느 쪽을 제거해도 높은 정확도를 보였다.\n",
    "* 그러나 둘 다 제거할 경우 정확도가 매우 낮았다.\n",
    "* 반면에 다른 모델들은 시간 데이터만 제공받은 경우에도 꽤나 높은 정확도를 보였다.\n",
    "* 평균기온 예측은 최저기온과 최고기온을 더해서 나누면 매우 가까운 값을 얻을 수 있다는 점이 확실히 영향이 있는 것 같다.\n",
    "* 다른 년도의 동일 날짜의 기온으로 예측하면, 대충 90퍼 정도는 맞는다는 소리"
   ]
  },
  {
   "cell_type": "markdown",
   "id": "fe9d1bf6",
   "metadata": {},
   "source": [
    "### 제일 궁금했던, 날짜만 주어진 상태에서 예측한 결과는 얼마나 정확할까?"
   ]
  },
  {
   "cell_type": "code",
   "execution_count": 95,
   "id": "dd690d94",
   "metadata": {},
   "outputs": [],
   "source": [
    "target_date = pd.DataFrame()"
   ]
  },
  {
   "cell_type": "code",
   "execution_count": 96,
   "id": "360d341e",
   "metadata": {},
   "outputs": [],
   "source": [
    "target_date['월'] = [10, 10, 10]\n",
    "target_date['일'] = [18, 19, 20]"
   ]
  },
  {
   "cell_type": "code",
   "execution_count": 98,
   "id": "99100b5a",
   "metadata": {},
   "outputs": [
    {
     "data": {
      "text/html": [
       "<div>\n",
       "<style scoped>\n",
       "    .dataframe tbody tr th:only-of-type {\n",
       "        vertical-align: middle;\n",
       "    }\n",
       "\n",
       "    .dataframe tbody tr th {\n",
       "        vertical-align: top;\n",
       "    }\n",
       "\n",
       "    .dataframe thead th {\n",
       "        text-align: right;\n",
       "    }\n",
       "</style>\n",
       "<table border=\"1\" class=\"dataframe\">\n",
       "  <thead>\n",
       "    <tr style=\"text-align: right;\">\n",
       "      <th></th>\n",
       "      <th>월</th>\n",
       "      <th>일</th>\n",
       "    </tr>\n",
       "  </thead>\n",
       "  <tbody>\n",
       "    <tr>\n",
       "      <th>0</th>\n",
       "      <td>10</td>\n",
       "      <td>18</td>\n",
       "    </tr>\n",
       "    <tr>\n",
       "      <th>1</th>\n",
       "      <td>10</td>\n",
       "      <td>19</td>\n",
       "    </tr>\n",
       "    <tr>\n",
       "      <th>2</th>\n",
       "      <td>10</td>\n",
       "      <td>20</td>\n",
       "    </tr>\n",
       "  </tbody>\n",
       "</table>\n",
       "</div>"
      ],
      "text/plain": [
       "    월   일\n",
       "0  10  18\n",
       "1  10  19\n",
       "2  10  20"
      ]
     },
     "execution_count": 98,
     "metadata": {},
     "output_type": "execute_result"
    }
   ],
   "source": [
    "target_date"
   ]
  },
  {
   "cell_type": "code",
   "execution_count": 101,
   "id": "6a2fa337",
   "metadata": {},
   "outputs": [],
   "source": [
    "pred_linear = model_linear.predict(target_date)\n",
    "pred_knn = model_knn.predict(target_date)\n",
    "pred_tree = model_tree.predict(target_date)\n",
    "pred_random = model_random.predict(target_date)"
   ]
  },
  {
   "cell_type": "code",
   "execution_count": 102,
   "id": "0a1bc1ee",
   "metadata": {
    "scrolled": true
   },
   "outputs": [
    {
     "name": "stdout",
     "output_type": "stream",
     "text": [
      "[15.70620101 15.71802526 15.72984951]\n",
      "[14.54 14.36 16.1 ]\n",
      "[14.75       15.03571429 15.05      ]\n",
      "[14.59457104 15.06770332 14.90668889]\n"
     ]
    }
   ],
   "source": [
    "print(pred_linear)\n",
    "print(pred_knn)\n",
    "print(pred_tree)\n",
    "print(pred_random)"
   ]
  },
  {
   "cell_type": "markdown",
   "id": "9692a969",
   "metadata": {},
   "source": [
    "### 실제 데이터는?\n",
    "\n",
    "* 18일: 평균기온:9.6℃\n",
    "* 19일: 평균기온:10.9℃\n",
    "\n",
    "### 기상청은 어떻게 예측했나?\n",
    "\n",
    "* 18일: 평균기온: 9℃\n",
    "* 19일: 평균기온: 9.5℃\n",
    "* 20일: 평균기온: 10℃\n",
    "\n",
    "### 다른 년도 데이터는?\n",
    "* 2020년\n",
    "* 18일: 평균기온:13.6℃\n",
    "* 19일: 평균기온:15.1℃\n",
    "* 20일: 평균기온:15.2℃"
   ]
  },
  {
   "cell_type": "markdown",
   "id": "37ecdb75",
   "metadata": {},
   "source": [
    "## 최종 결과\n",
    "\n",
    "* 머신 러닝 모델은 기온이 다른 년도와 비슷하다면, 월과 일 데이터만 가지고도 매우 비슷한 결과를 도출할 수 있었다.\n",
    "* 근데 이건 머신 러닝 없어도 할 수 있으니까, 별 의미는 없는 것 같다.\n",
    "* 2021년 올해처럼 갑자기 추워질 경우 머신러닝 모델은 정확하게 예측하지 못했다.\n",
    "\n",
    "### 배운 점\n",
    "* 태블로를 이용해서 시각화 하는 방법을 익히고 실습할 수 있었다.\n",
    "* 예측하려는 데이터와 가지고 있는 데이터가 지나치게 관계가 깊으면 사실상 머신 러닝을 이용하는 의미가 없다.\n",
    "    + 평균 기온과 최고 기온, 최저 기온은 하나를 알면 사실상 나머지를 추측하기 너무나 쉬워진다.\n",
    "* 과거에 쌓인 데이터대로만 예상하는 건 머신러닝 모델이 잘 한다.\n",
    "    + 그러나 이건 머신 러닝 없어도 가능하니까 어떤 문제가 머신 러닝으로 풀어야 하는 문제인지 잘 정의하는 것이 중요하다는 걸 배웠다."
   ]
  },
  {
   "cell_type": "code",
   "execution_count": null,
   "id": "90296391",
   "metadata": {},
   "outputs": [],
   "source": []
  }
 ],
 "metadata": {
  "kernelspec": {
   "display_name": "Python 3 (ipykernel)",
   "language": "python",
   "name": "python3"
  },
  "language_info": {
   "codemirror_mode": {
    "name": "ipython",
    "version": 3
   },
   "file_extension": ".py",
   "mimetype": "text/x-python",
   "name": "python",
   "nbconvert_exporter": "python",
   "pygments_lexer": "ipython3",
   "version": "3.8.11"
  }
 },
 "nbformat": 4,
 "nbformat_minor": 5
}
