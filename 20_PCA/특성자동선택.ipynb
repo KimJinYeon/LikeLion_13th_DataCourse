{
 "cells": [
  {
   "cell_type": "code",
   "execution_count": 1,
   "id": "4b9a0b89",
   "metadata": {},
   "outputs": [],
   "source": [
    "import warnings\n",
    "warnings.filterwarnings(action='ignore')\n",
    "# warnings.filterwarnings(action='default')"
   ]
  },
  {
   "cell_type": "code",
   "execution_count": 2,
   "id": "35a18e00",
   "metadata": {},
   "outputs": [],
   "source": [
    "from sklearn.datasets import load_breast_cancer\n",
    "from sklearn.feature_selection import SelectPercentile, f_classif\n",
    "from sklearn.model_selection import train_test_split\n",
    "import numpy as np"
   ]
  },
  {
   "cell_type": "code",
   "execution_count": 3,
   "id": "e856ff2d",
   "metadata": {},
   "outputs": [
    {
     "name": "stdout",
     "output_type": "stream",
     "text": [
      "(569, 30)\n"
     ]
    }
   ],
   "source": [
    "cancer = load_breast_cancer()\n",
    "print(cancer.data.shape)"
   ]
  },
  {
   "cell_type": "code",
   "execution_count": 4,
   "id": "c90f321e",
   "metadata": {},
   "outputs": [
    {
     "data": {
      "text/plain": [
       "(569, 40)"
      ]
     },
     "execution_count": 4,
     "metadata": {},
     "output_type": "execute_result"
    }
   ],
   "source": [
    "# 고정된 난수를 발생\n",
    "rng = np.random.RandomState(42)\n",
    "noise = rng.normal(size=(len(cancer.data), 40))\n",
    "noise.shape"
   ]
  },
  {
   "cell_type": "code",
   "execution_count": 5,
   "id": "129da939",
   "metadata": {},
   "outputs": [
    {
     "data": {
      "text/plain": [
       "(569, 70)"
      ]
     },
     "execution_count": 5,
     "metadata": {},
     "output_type": "execute_result"
    }
   ],
   "source": [
    "# 데이터 노이즈 특성 추가\n",
    "# 30개는 원본 특성, 다음 40개는 노이즈\n",
    "X_w_noise = np.hstack([cancer.data, noise])\n",
    "X_w_noise.shape"
   ]
  },
  {
   "cell_type": "code",
   "execution_count": 6,
   "id": "619b7ad9",
   "metadata": {},
   "outputs": [
    {
     "data": {
      "text/plain": [
       "SelectPercentile(percentile=50)"
      ]
     },
     "execution_count": 6,
     "metadata": {},
     "output_type": "execute_result"
    }
   ],
   "source": [
    "X = X_w_noise  # 입력\n",
    "y = cancer.target # 출력\n",
    "\n",
    "X_train, X_test, y_train, y_test = train_test_split(X, y, \n",
    "                                                    random_state=0,\n",
    "                                                    test_size=0.5)\n",
    "\n",
    "# 50%를 뽑는 것을 학습\n",
    "select = SelectPercentile(score_func=f_classif, percentile=50)\n",
    "select.fit(X_train, y_train)"
   ]
  },
  {
   "cell_type": "code",
   "execution_count": 7,
   "id": "5e906a06",
   "metadata": {},
   "outputs": [
    {
     "name": "stdout",
     "output_type": "stream",
     "text": [
      "X_train.shape: (284, 70)\n",
      "X_train_selected.shape (284, 35)\n"
     ]
    }
   ],
   "source": [
    "## 학습 세트에 적용\n",
    "X_train_selected = select.transform(X_train)\n",
    "\n",
    "print( \"X_train.shape:\", X_train.shape)\n",
    "print( \"X_train_selected.shape\", X_train_selected.shape)"
   ]
  },
  {
   "cell_type": "code",
   "execution_count": 8,
   "id": "d05dab71",
   "metadata": {},
   "outputs": [],
   "source": [
    "import matplotlib.pyplot as plt"
   ]
  },
  {
   "cell_type": "code",
   "execution_count": 9,
   "id": "02d04a6e",
   "metadata": {},
   "outputs": [
    {
     "name": "stdout",
     "output_type": "stream",
     "text": [
      "[ True  True  True  True  True  True  True  True  True False  True False\n",
      "  True  True  True  True  True  True False False  True  True  True  True\n",
      "  True  True  True  True  True  True False False False  True False False\n",
      " False False  True False False False False False  True False False False\n",
      " False False False False  True False False False False  True False False\n",
      "  True False False False  True False False False  True  True]\n"
     ]
    },
    {
     "data": {
      "text/plain": [
       "<matplotlib.image.AxesImage at 0x15e297b2b80>"
      ]
     },
     "execution_count": 9,
     "metadata": {},
     "output_type": "execute_result"
    },
    {
     "data": {
      "image/png": "[encoded data removed]",
      "text/plain": [
       "<Figure size 1152x144 with 1 Axes>"
      ]
     },
     "metadata": {
      "needs_background": "light"
     },
     "output_type": "display_data"
    }
   ],
   "source": [
    "### 어떤 특성이 선택되었는지 확인\n",
    "mask = select.get_support()\n",
    "print(mask)\n",
    "plt.matshow(mask.reshape(1, -1), cmap='gray_r')"
   ]
  },
  {
   "cell_type": "code",
   "execution_count": 10,
   "id": "fc421adb",
   "metadata": {},
   "outputs": [
    {
     "name": "stdout",
     "output_type": "stream",
     "text": [
      "전체 특성 사용 : 0.940\n",
      "선택된 일부 특성 사용 : 0.923\n"
     ]
    }
   ],
   "source": [
    "from sklearn.linear_model import LogisticRegression\n",
    "\n",
    "# 테스트 데이터 변환 \n",
    "X_test_selected = select.transform(X_test)\n",
    "\n",
    "lr = LogisticRegression()\n",
    "lr.fit(X_train, y_train)\n",
    "print(\"전체 특성 사용 : {:.3f}\".format(lr.score(X_test, y_test)))\n",
    "\n",
    "lr.fit(X_train_selected, y_train)\n",
    "print(\"선택된 일부 특성 사용 : {:.3f}\".format(lr.score(X_test_selected, y_test)))"
   ]
  },
  {
   "cell_type": "code",
   "execution_count": null,
   "id": "63e46abd",
   "metadata": {},
   "outputs": [],
   "source": []
  }
 ],
 "metadata": {
  "kernelspec": {
   "display_name": "Python 3 (ipykernel)",
   "language": "python",
   "name": "python3"
  },
  "language_info": {
   "codemirror_mode": {
    "name": "ipython",
    "version": 3
   },
   "file_extension": ".py",
   "mimetype": "text/x-python",
   "name": "python",
   "nbconvert_exporter": "python",
   "pygments_lexer": "ipython3",
   "version": "3.8.11"
  }
 },
 "nbformat": 4,
 "nbformat_minor": 5
}
