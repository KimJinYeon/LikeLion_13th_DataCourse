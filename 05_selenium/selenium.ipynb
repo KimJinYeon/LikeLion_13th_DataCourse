{
 "cells": [
  {
   "cell_type": "code",
   "execution_count": 13,
   "id": "e44e8176",
   "metadata": {},
   "outputs": [],
   "source": [
    "from selenium import webdriver\n",
    "from bs4 import BeautifulSoup\n",
    "import time"
   ]
  },
  {
   "cell_type": "code",
   "execution_count": 16,
   "id": "ab0352ae",
   "metadata": {},
   "outputs": [],
   "source": [
    "url = \"https://pythonstart.github.io/web/\"\n",
    "start = time.time()\n",
    "driver = webdriver.Chrome('chromedriver')\n",
    "driver.get(url)"
   ]
  },
  {
   "cell_type": "code",
   "execution_count": 18,
   "id": "88f947c1",
   "metadata": {},
   "outputs": [
    {
     "name": "stdout",
     "output_type": "stream",
     "text": [
      "<selenium.webdriver.remote.webelement.WebElement (session=\"7e06569e1464f12a6710031c02dd6a82\", element=\"5ee8f3a6-0967-423c-8c6f-453e7a070971\")>\n"
     ]
    }
   ],
   "source": [
    "a_tag = driver.find_element_by_tag_name('a')\n",
    "print(a_tag)"
   ]
  },
  {
   "cell_type": "code",
   "execution_count": 19,
   "id": "42336f20",
   "metadata": {},
   "outputs": [
    {
     "name": "stdout",
     "output_type": "stream",
     "text": [
      "01. 제목 가져오기(title)\n",
      "a\n"
     ]
    }
   ],
   "source": [
    "# 내용을 보고 싶다\n",
    "print(a_tag.text)\n",
    "# 가져온 정보의 tag를 보고싶다.\n",
    "print(a_tag.tag_name)"
   ]
  },
  {
   "cell_type": "code",
   "execution_count": 20,
   "id": "b32d6213",
   "metadata": {},
   "outputs": [],
   "source": [
    "# 클릭을 하고 싶다.\n",
    "a_tag.click()"
   ]
  },
  {
   "cell_type": "code",
   "execution_count": 21,
   "id": "f35ff3e4",
   "metadata": {},
   "outputs": [
    {
     "data": {
      "text/plain": [
       "<selenium.webdriver.remote.webelement.WebElement (session=\"7e06569e1464f12a6710031c02dd6a82\", element=\"d7c1252d-c8dd-4271-8225-fc035744f27d\")>"
      ]
     },
     "execution_count": 21,
     "metadata": {},
     "output_type": "execute_result"
    }
   ],
   "source": [
    "a_tag = driver.find_element_by_name('text_get')\n",
    "a_tag"
   ]
  },
  {
   "cell_type": "code",
   "execution_count": 22,
   "id": "f2e3b9c0",
   "metadata": {},
   "outputs": [
    {
     "name": "stdout",
     "output_type": "stream",
     "text": [
      "02. 텍스트 가져오기(p)\n",
      "a\n"
     ]
    }
   ],
   "source": [
    "print(a_tag.text)\n",
    "print(a_tag.tag_name)"
   ]
  },
  {
   "cell_type": "code",
   "execution_count": 23,
   "id": "ce2bfe75",
   "metadata": {},
   "outputs": [],
   "source": [
    "a_tag.click()"
   ]
  },
  {
   "cell_type": "code",
   "execution_count": 24,
   "id": "eaa8508f",
   "metadata": {},
   "outputs": [
    {
     "data": {
      "text/plain": [
       "[<selenium.webdriver.remote.webelement.WebElement (session=\"7e06569e1464f12a6710031c02dd6a82\", element=\"5ee8f3a6-0967-423c-8c6f-453e7a070971\")>,\n",
       " <selenium.webdriver.remote.webelement.WebElement (session=\"7e06569e1464f12a6710031c02dd6a82\", element=\"d7c1252d-c8dd-4271-8225-fc035744f27d\")>,\n",
       " <selenium.webdriver.remote.webelement.WebElement (session=\"7e06569e1464f12a6710031c02dd6a82\", element=\"fd2b5a6f-bbee-4b49-a011-8957ba413d42\")>,\n",
       " <selenium.webdriver.remote.webelement.WebElement (session=\"7e06569e1464f12a6710031c02dd6a82\", element=\"54e6b3cd-c962-497d-90b0-0c3c17ce8df7\")>,\n",
       " <selenium.webdriver.remote.webelement.WebElement (session=\"7e06569e1464f12a6710031c02dd6a82\", element=\"07d3bdca-d318-4392-a148-3137a147e542\")>,\n",
       " <selenium.webdriver.remote.webelement.WebElement (session=\"7e06569e1464f12a6710031c02dd6a82\", element=\"e97c8a00-b03d-4859-8a4f-19d7a4f86c69\")>,\n",
       " <selenium.webdriver.remote.webelement.WebElement (session=\"7e06569e1464f12a6710031c02dd6a82\", element=\"3699502c-474a-469c-bc90-b26758eea2a2\")>,\n",
       " <selenium.webdriver.remote.webelement.WebElement (session=\"7e06569e1464f12a6710031c02dd6a82\", element=\"0f2f5286-d748-4733-b327-d14dc97abfcc\")>,\n",
       " <selenium.webdriver.remote.webelement.WebElement (session=\"7e06569e1464f12a6710031c02dd6a82\", element=\"e9d13f12-c482-42dd-922b-a16a25f1089e\")>,\n",
       " <selenium.webdriver.remote.webelement.WebElement (session=\"7e06569e1464f12a6710031c02dd6a82\", element=\"e99327a3-f682-4f68-87ec-1d23d203d544\")>]"
      ]
     },
     "execution_count": 24,
     "metadata": {},
     "output_type": "execute_result"
    }
   ],
   "source": [
    "all_tag = driver.find_elements_by_tag_name('a')\n",
    "all_tag"
   ]
  },
  {
   "cell_type": "code",
   "execution_count": 42,
   "id": "23dcffc2",
   "metadata": {},
   "outputs": [
    {
     "name": "stdout",
     "output_type": "stream",
     "text": [
      "01. 제목 가져오기(title)\n",
      "02. 텍스트 가져오기(p)\n",
      "03. 링크 가져오기(a)\n",
      "04. 이미지 정보 가져오기(img)\n",
      "05. 리스트 정보 가져오기(ul,ol)\n",
      "06. id를 활용한 정보 획득\n",
      "07. class를 활용한 정보 획득\n",
      "08. 하나의 이미지 다운로드\n",
      "09. 여러개의 이미지 다운로드\n",
      "10. 랭킹 정보 가져오기(웹 크롤링)\n"
     ]
    }
   ],
   "source": [
    "for tag in all_tag:\n",
    "    print(tag.text)"
   ]
  },
  {
   "cell_type": "code",
   "execution_count": 26,
   "id": "01f734ad",
   "metadata": {},
   "outputs": [
    {
     "name": "stdout",
     "output_type": "stream",
     "text": [
      "10. 랭킹 정보 가져오기(웹 크롤링)\n"
     ]
    }
   ],
   "source": [
    "tag_10th = driver.find_element_by_id('rank')\n",
    "print(tag_10th.text)"
   ]
  },
  {
   "cell_type": "code",
   "execution_count": 46,
   "id": "99101cb2",
   "metadata": {},
   "outputs": [
    {
     "name": "stdout",
     "output_type": "stream",
     "text": [
      "01. 제목 가져오기(title)\n",
      "03. 링크 가져오기(a)\n"
     ]
    }
   ],
   "source": [
    "print(all_tag[0].text)\n",
    "print(all_tag[2].text)"
   ]
  },
  {
   "cell_type": "code",
   "execution_count": 49,
   "id": "1dff1995",
   "metadata": {},
   "outputs": [
    {
     "name": "stdout",
     "output_type": "stream",
     "text": [
      "01. 제목 가져오기(title)\n",
      "03. 링크 가져오기(a)\n"
     ]
    }
   ],
   "source": [
    "tag_link_get = driver.find_elements_by_name('link_get')\n",
    "print(tag_link_get[0].text)\n",
    "print(tag_link_get[1].text)"
   ]
  },
  {
   "cell_type": "code",
   "execution_count": 50,
   "id": "37988ecd",
   "metadata": {},
   "outputs": [
    {
     "name": "stdout",
     "output_type": "stream",
     "text": [
      "my web page\n"
     ]
    }
   ],
   "source": [
    "tag_selector = driver.find_element_by_css_selector('body > h1')\n",
    "print(tag_selector.text)"
   ]
  },
  {
   "cell_type": "code",
   "execution_count": 53,
   "id": "9ec93cf8",
   "metadata": {},
   "outputs": [],
   "source": [
    "url = 'https://news.naver.com/'\n",
    "driver = webdriver.Chrome('chromedriver')\n",
    "driver.get(url)"
   ]
  },
  {
   "cell_type": "code",
   "execution_count": 54,
   "id": "f1f387ba",
   "metadata": {},
   "outputs": [],
   "source": [
    "search_bar_xpath = '//*[@id=\"lnb.searchForm\"]/fieldset/input[1]'\n",
    "search_button_xpath = '//*[@id=\"lnb.searchForm\"]/fieldset/button'"
   ]
  },
  {
   "cell_type": "code",
   "execution_count": 57,
   "id": "534726c4",
   "metadata": {},
   "outputs": [],
   "source": [
    "search_bar = driver.find_element_by_xpath(search_bar_xpath)\n",
    "search_button = driver.find_element_by_xpath(search_button_xpath)"
   ]
  },
  {
   "cell_type": "code",
   "execution_count": 58,
   "id": "f6ed719a",
   "metadata": {},
   "outputs": [],
   "source": [
    "search_bar.send_keys('미세먼지')\n",
    "search_button.click()"
   ]
  },
  {
   "cell_type": "code",
   "execution_count": 60,
   "id": "0fd08b90",
   "metadata": {},
   "outputs": [],
   "source": [
    "url = 'https://daum.net/'\n",
    "driver.get(url)"
   ]
  },
  {
   "cell_type": "code",
   "execution_count": 61,
   "id": "46a20647",
   "metadata": {},
   "outputs": [],
   "source": [
    "daum_src_bar_xpath = '//*[@id=\"q\"]'\n",
    "daum_src_btn_xpath = '//*[@id=\"daumSearch\"]/fieldset/div/div/button[2]'"
   ]
  },
  {
   "cell_type": "code",
   "execution_count": 62,
   "id": "2b571458",
   "metadata": {},
   "outputs": [],
   "source": [
    "daum_src_bar = driver.find_element_by_xpath(daum_src_bar_xpath)\n",
    "daum_src_btn = driver.find_element_by_xpath(daum_src_btn_xpath)"
   ]
  },
  {
   "cell_type": "code",
   "execution_count": 63,
   "id": "c0cb6452",
   "metadata": {},
   "outputs": [],
   "source": [
    "daum_src_bar.send_keys('미세먼지')\n",
    "daum_src_btn.click()"
   ]
  },
  {
   "cell_type": "code",
   "execution_count": 64,
   "id": "3004efcd",
   "metadata": {},
   "outputs": [],
   "source": [
    "url = 'https://google.co.kr/'\n",
    "driver.get(url)"
   ]
  },
  {
   "cell_type": "code",
   "execution_count": 65,
   "id": "9f0cfec4",
   "metadata": {},
   "outputs": [],
   "source": [
    "ggl_src_bar_xpath = '/html/body/div[1]/div[3]/form/div[1]/div[1]/div[1]/div/div[2]/input'\n",
    "ggl_src_btn_xpath = '/html/body/div[1]/div[3]/form/div[1]/div[1]/div[3]/center/input[1]'"
   ]
  },
  {
   "cell_type": "code",
   "execution_count": 66,
   "id": "e77db362",
   "metadata": {},
   "outputs": [],
   "source": [
    "ggl_src_bar = driver.find_element_by_xpath(ggl_src_bar_xpath)\n",
    "ggl_src_btn = driver.find_element_by_xpath(ggl_src_btn_xpath)"
   ]
  },
  {
   "cell_type": "code",
   "execution_count": 67,
   "id": "a199ae5f",
   "metadata": {},
   "outputs": [],
   "source": [
    "ggl_src_bar.send_keys('미세먼지')\n",
    "ggl_src_btn.click()"
   ]
  },
  {
   "cell_type": "code",
   "execution_count": 68,
   "id": "34e1a4d0",
   "metadata": {},
   "outputs": [],
   "source": [
    "url = 'https://finance.daum.net/domestic/kosdaq'\n",
    "driver.get(url)"
   ]
  },
  {
   "cell_type": "code",
   "execution_count": 76,
   "id": "aca2f96e",
   "metadata": {},
   "outputs": [
    {
     "name": "stdout",
     "output_type": "stream",
     "text": [
      "1,036.93\n"
     ]
    }
   ],
   "source": [
    "KOSDAQ = driver.find_element_by_css_selector('div > span.numB.up > strong')\n",
    "print(KOSDAQ.text)"
   ]
  },
  {
   "cell_type": "code",
   "execution_count": 77,
   "id": "8f7ad44e",
   "metadata": {},
   "outputs": [],
   "source": [
    "kosdaq_info_list = driver.find_element_by_css_selector('div > ul.mr').find_elements_by_tag_name('li')"
   ]
  },
  {
   "cell_type": "code",
   "execution_count": 78,
   "id": "73c140a9",
   "metadata": {
    "scrolled": true
   },
   "outputs": [
    {
     "name": "stdout",
     "output_type": "stream",
     "text": [
      "시가\n",
      "1,035.86\n",
      "고가\n",
      "1,039.73\n",
      "저가\n",
      "1,026.97\n",
      "전일지수\n",
      "1,034.62\n"
     ]
    }
   ],
   "source": [
    "for info in kosdaq_info_list:\n",
    "    print(info.text)"
   ]
  },
  {
   "cell_type": "code",
   "execution_count": 79,
   "id": "f0e4e8c3",
   "metadata": {},
   "outputs": [],
   "source": [
    "url = 'https://www.amazon.com/'\n",
    "driver = webdriver.Chrome('chromedriver')\n",
    "driver.get(url)"
   ]
  },
  {
   "cell_type": "code",
   "execution_count": 81,
   "id": "5e99c4b5",
   "metadata": {},
   "outputs": [],
   "source": [
    "ama_src_bar_xpath = '//*[@id=\"twotabsearchtextbox\"]'\n",
    "ama_src_btn_xpath = '//*[@id=\"nav-search-submit-button\"]'\n",
    "ama_src_bar = driver.find_element_by_xpath(ama_src_bar_xpath)\n",
    "ama_src_btn = driver.find_element_by_xpath(ama_src_btn_xpath)"
   ]
  },
  {
   "cell_type": "code",
   "execution_count": 82,
   "id": "2be79703",
   "metadata": {},
   "outputs": [],
   "source": [
    "ama_src_bar.send_keys('ipad')\n",
    "ama_src_btn.click()"
   ]
  },
  {
   "cell_type": "code",
   "execution_count": null,
   "id": "31cf843b",
   "metadata": {},
   "outputs": [],
   "source": [
    "product = driver.find_element(By.ID, )"
   ]
  }
 ],
 "metadata": {
  "kernelspec": {
   "display_name": "Python 3 (ipykernel)",
   "language": "python",
   "name": "python3"
  },
  "language_info": {
   "codemirror_mode": {
    "name": "ipython",
    "version": 3
   },
   "file_extension": ".py",
   "mimetype": "text/x-python",
   "name": "python",
   "nbconvert_exporter": "python",
   "pygments_lexer": "ipython3",
   "version": "3.8.11"
  }
 },
 "nbformat": 4,
 "nbformat_minor": 5
}
