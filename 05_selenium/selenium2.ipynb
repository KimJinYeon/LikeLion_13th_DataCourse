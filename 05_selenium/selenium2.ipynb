{
 "cells": [
  {
   "cell_type": "code",
   "execution_count": 1,
   "id": "ac1ee55c",
   "metadata": {},
   "outputs": [],
   "source": [
    "from selenium import webdriver\n",
    "from bs4 import BeautifulSoup"
   ]
  },
  {
   "cell_type": "code",
   "execution_count": 2,
   "id": "f28ec4b1",
   "metadata": {},
   "outputs": [],
   "source": [
    "driver = webdriver.Chrome('chromedriver')"
   ]
  },
  {
   "cell_type": "code",
   "execution_count": 3,
   "id": "e09b9730",
   "metadata": {},
   "outputs": [],
   "source": [
    "url = 'https://www.amazon.com/'\n",
    "driver.get(url)"
   ]
  },
  {
   "cell_type": "code",
   "execution_count": 4,
   "id": "7aed48e9",
   "metadata": {},
   "outputs": [],
   "source": [
    "ama_src_bar = driver.find_element_by_xpath('//*[@id=\"twotabsearchtextbox\"]')\n",
    "ama_src_btn = driver.find_element_by_xpath('//*[@id=\"nav-search-submit-button\"]')"
   ]
  },
  {
   "cell_type": "code",
   "execution_count": 5,
   "id": "b4725263",
   "metadata": {},
   "outputs": [],
   "source": [
    "ama_src_bar.send_keys('computer')\n",
    "ama_src_btn.click()"
   ]
  },
  {
   "cell_type": "code",
   "execution_count": 7,
   "id": "7e4437c6",
   "metadata": {},
   "outputs": [
    {
     "data": {
      "text/plain": [
       "'Amazon.com : computer'"
      ]
     },
     "execution_count": 7,
     "metadata": {},
     "output_type": "execute_result"
    }
   ],
   "source": [
    "page = driver.page_source\n",
    "soup = BeautifulSoup(page, 'html.parser')\n",
    "soup.title.text"
   ]
  },
  {
   "cell_type": "code",
   "execution_count": 8,
   "id": "1d0f4949",
   "metadata": {},
   "outputs": [
    {
     "data": {
      "text/plain": [
       "'https://www.amazon.com/s?k=computer&ref=nb_sb_noss'"
      ]
     },
     "execution_count": 8,
     "metadata": {},
     "output_type": "execute_result"
    }
   ],
   "source": [
    "cur_url = driver.current_url\n",
    "cur_url"
   ]
  },
  {
   "cell_type": "code",
   "execution_count": 14,
   "id": "8f6d62e6",
   "metadata": {},
   "outputs": [
    {
     "name": "stdout",
     "output_type": "stream",
     "text": [
      "<h2 class=\"a-size-mini a-spacing-none a-color-base s-line-clamp-2\"><a class=\"a-link-normal a-text-normal\" href=\"/HP-ProDesk-600-G1-SFF/dp/B07BCGW85X/ref=sr_1_2?dchild=1&amp;keywords=computer&amp;qid=1631254129&amp;sr=8-2\"><span class=\"a-size-medium a-color-base a-text-normal\">HP ProDesk 600 G1 SFF Slim Business Desktop Computer, Intel i5-4570 up to 3.60 GHz, 8GB RAM, 500GB HDD, DVD, USB 3.0, Windows 10 Pro 64 Bit (Renewed) (8GB RAM | 500GB HDD) (Renewed)</span> </a> </h2>\n",
      "\n",
      "HP ProDesk 600 G1 SFF Slim Business Desktop Computer, Intel i5-4570 up to 3.60 GHz, 8GB RAM, 500GB HDD, DVD, USB 3.0, Windows 10 Pro 64 Bit (Renewed) (8GB RAM | 500GB HDD) (Renewed)\n",
      "\n",
      "/HP-ProDesk-600-G1-SFF/dp/B07BCGW85X/ref=sr_1_2?dchild=1&keywords=computer&qid=1631254129&sr=8-2\n"
     ]
    }
   ],
   "source": [
    "tmp = soup.find_all('h2', class_='a-size-mini a-spacing-none a-color-base s-line-clamp-2')[1]\n",
    "print(tmp)\n",
    "print()\n",
    "print(tmp.span.text)\n",
    "print()\n",
    "print(tmp.a.attrs['href'])"
   ]
  },
  {
   "cell_type": "code",
   "execution_count": 25,
   "id": "1a8bd0e0",
   "metadata": {},
   "outputs": [
    {
     "data": {
      "text/plain": [
       "'https://www.amazon.com//HP-ProDesk-600-G1-SFF/dp/B07BCGW85X/ref=sr_1_2?dchild=1&keywords=computer&qid=1631254129&sr=8-2'"
      ]
     },
     "execution_count": 25,
     "metadata": {},
     "output_type": "execute_result"
    }
   ],
   "source": [
    "'https://www.amazon.com/' + tmp.a.attrs['href']"
   ]
  },
  {
   "cell_type": "code",
   "execution_count": 16,
   "id": "54990539",
   "metadata": {},
   "outputs": [],
   "source": [
    "# 아마존 리뷰 가져오기\n",
    "driver = webdriver.Chrome('chromedriver')\n",
    "\n",
    "url = 'https://www.amazon.com/HP-24-inch-Computer-Processor-24-dd0010/dp/B0849GZCQR/ref=sr_1_2?dchild=1&keywords=computer&qid=1631254252&sr=8-2'\n",
    "driver.get(url)"
   ]
  },
  {
   "cell_type": "code",
   "execution_count": 19,
   "id": "f4e4c25b",
   "metadata": {},
   "outputs": [],
   "source": [
    "first_review = driver.find_element_by_xpath('//*[@id=\"acrCustomerReviewText\"]')\n",
    "first_review.click()"
   ]
  },
  {
   "cell_type": "code",
   "execution_count": 20,
   "id": "d42de846",
   "metadata": {},
   "outputs": [
    {
     "data": {
      "text/plain": [
       "<title>Amazon.com: Customer reviews: HP 24-inch All-in-One Desktop Computer, AMD Athlon Silver 3050U Processor, 8 GB RAM, 256 GB SSD, Windows 10 Home (24-dd0010, White)</title>"
      ]
     },
     "execution_count": 20,
     "metadata": {},
     "output_type": "execute_result"
    }
   ],
   "source": [
    "page = driver.page_source\n",
    "soup = BeautifulSoup(page, 'lxml')\n",
    "soup.title"
   ]
  },
  {
   "cell_type": "code",
   "execution_count": 21,
   "id": "aa8ae800",
   "metadata": {},
   "outputs": [
    {
     "data": {
      "text/plain": [
       "\"This is the worst computer that I've ever owned , I have high speed internet and nothing has ben uploaded in this computer and it's so slow that it's just shy of me taking a hammer to it,this computer took me back to dialup that's how slow it is. I bought it for my business that I open on Oct. 15th and really dont think it's going to work out wish I could return it\""
      ]
     },
     "execution_count": 21,
     "metadata": {},
     "output_type": "execute_result"
    }
   ],
   "source": [
    "txt = soup.find_all('span', class_='a-size-base review-text review-text-content')\n",
    "txt[0].text.strip()"
   ]
  },
  {
   "cell_type": "code",
   "execution_count": 22,
   "id": "b5f8a792",
   "metadata": {},
   "outputs": [
    {
     "data": {
      "text/plain": [
       "[\"This is the worst computer that I've ever owned , I have high speed internet and nothing has ben uploaded in this computer and it's so slow that it's just shy of me taking a hammer to it,this computer took me back to dialup that's how slow it is. I bought it for my business that I open on Oct. 15th and really dont think it's going to work out wish I could return it\",\n",
       " 'I am very happy with the design of the computer. It is thin and looks great. The 24\" screen is bright and has a good resolution. I find the speed to be adequate as well. The set up was easy, and I was able to get it set up the way I wanted almost immediately. It was much quicker than I thought it would be.  If I had a complaint it would be that the DVD drawer on the side seems to be a little flimsy. I feel like I have to be extra careful with it. I like the keyboard but not the mouse. Probably just a personal preference. Otherwise, I am very happy with my purchase.',\n",
       " 'I honestly am just going to be up front. With Covid, we we employees at my job were all sent home to work and I bought this sweet desk. Well we\\'ve since (just managers) have been brought back to the site. I have a laptop and perfectly capable s20 ultra. But I felt depressed with this desk I pimped out with led lights and cool pics of all of my family. So thats why I got this. <<wrote all this and now 6 short months later I don\\'t even use it. It\\'s slow, loud, cheaply made. The specs seemed to be that of meeting my needs. I can\\'t even play YouTube vids past 1080p. My 3 year old laptop xps is way more on point. I ended up buying a 34\" ultrawide curved monitor and have the laptop hidden behind that which is such a better option. I\\'m trying to give this thing away. Its just not what its cut out to be. :( first pic there it sits next to my old dual monitors (work from home). And second pic is what I now use. Third pic. Buy a nice monitor and a small but good laptop and boom.',\n",
       " 'Very slow to boot up.Too much bloatware to uninstalled.',\n",
       " 'My wife and I use a computer like old people so this computer is perfect for us. We have also found that HP is a great brand when it comes to computers and printers. Our 300.00 laptop we bought 5 years ago still works great too. If you are looking for a good basic desk top that does not take up a lot space and works like a charm then this will work great for you.',\n",
       " 'This is a great computer (has been the last three weeks). I am a young, impatient, business owner and was fully expecting to return this if it showed and signs of sluggishness, I realized I didn’t spend much on it but figured I would try it out. I don’t do gaming or anything but the picture quality is nice and it is fast to do anything a computer should be fast at, the extent of what I do is load large architectural drawings and this does a pretty good job there!It looks nice and modern on my desk, speakers are good I think but I use a Bluetooth either way.I bought my own wireless keyboard and mouse prior to receiving it and after doing some research.If you’re not creating video content or gaming, this is an amazing computer for general use and I definitely suggest it!',\n",
       " 'Love how clean and tucked away everything is.  Love the big screen and it’s great for watching Ghost Adventures on Hulu! 😁',\n",
       " \"I like the all in one feature on this. The last 3 laptops I had all had issues with the opening and closing, the wires got crossed or the plastic hinges fell apart and it just wouldn't work any longer. So I love this one. Of course I can't take it with me when I go somewhere, but I have a tablet and can use that when I'm on the go. The screen on this is amazing, the speed is good and it has a large memory. I'm loving it so far.\",\n",
       " 'I love this computer. I use it mostly for completing school work but sometimes play games. The only thing I don’t like is that there is a loud buzzing sound when it’s been running for a while. I’m assuming it’s the fan inside. Otherwise everything works great.',\n",
       " \"This was an impressive computer in all respects, except 3 months after delivery it went dead.  Unresponsive to its power button, mouse or keyboard and automatic repair.  No way to get into it to even return to factory defaults and HP would not assist me in taking out the hard drive.  I did get Amazon's guarantee they would wipe the hard drive when it was returned.  I liked this model so much I bought another one, but from another vendor because Amazon was out of stock.\"]"
      ]
     },
     "execution_count": 22,
     "metadata": {},
     "output_type": "execute_result"
    }
   ],
   "source": [
    "all_r = soup.find_all('span', class_='a-size-base review-text review-text-content')\n",
    "all_review = []\n",
    "for review in all_r:\n",
    "    all_review.append(review.text.strip())\n",
    "all_review"
   ]
  },
  {
   "cell_type": "code",
   "execution_count": 24,
   "id": "56826acf",
   "metadata": {},
   "outputs": [],
   "source": [
    "import pandas as pd\n",
    "\n",
    "dict_review = {'review': all_review}\n",
    "review = pd.DataFrame(dict_review)\n",
    "review.to_csv('amazon_computer_review.csv', index=False)"
   ]
  },
  {
   "cell_type": "code",
   "execution_count": null,
   "id": "fa1d42ca",
   "metadata": {},
   "outputs": [],
   "source": []
  }
 ],
 "metadata": {
  "kernelspec": {
   "display_name": "Python 3 (ipykernel)",
   "language": "python",
   "name": "python3"
  },
  "language_info": {
   "codemirror_mode": {
    "name": "ipython",
    "version": 3
   },
   "file_extension": ".py",
   "mimetype": "text/x-python",
   "name": "python",
   "nbconvert_exporter": "python",
   "pygments_lexer": "ipython3",
   "version": "3.8.11"
  }
 },
 "nbformat": 4,
 "nbformat_minor": 5
}
