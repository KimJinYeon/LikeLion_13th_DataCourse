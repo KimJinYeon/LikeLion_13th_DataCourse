{
 "cells": [
  {
   "cell_type": "code",
   "execution_count": 139,
   "id": "8700c824",
   "metadata": {},
   "outputs": [],
   "source": [
    "from selenium import webdriver\n",
    "from bs4 import BeautifulSoup\n",
    "import time"
   ]
  },
  {
   "cell_type": "code",
   "execution_count": 140,
   "id": "9e50984c",
   "metadata": {},
   "outputs": [],
   "source": [
    "url = 'https://pythonstart.github.io/web/'\n",
    "start = time.time()\n",
    "driver = webdriver.Chrome('chromedriver')\n",
    "driver.get(url)"
   ]
  },
  {
   "cell_type": "code",
   "execution_count": 141,
   "id": "99f7176c",
   "metadata": {},
   "outputs": [
    {
     "name": "stdout",
     "output_type": "stream",
     "text": [
      "01. 제목 가져오기(title)\n"
     ]
    }
   ],
   "source": [
    "a_tag = driver.find_element_by_css_selector('ul a')\n",
    "print(a_tag.text)"
   ]
  },
  {
   "cell_type": "code",
   "execution_count": 142,
   "id": "49287aac",
   "metadata": {},
   "outputs": [
    {
     "name": "stdout",
     "output_type": "stream",
     "text": [
      "my web page\n"
     ]
    }
   ],
   "source": [
    "h1_tag = driver.find_element_by_css_selector('body h1')\n",
    "print(h1_tag.text)"
   ]
  },
  {
   "cell_type": "code",
   "execution_count": 143,
   "id": "b31f72cf",
   "metadata": {},
   "outputs": [
    {
     "name": "stdout",
     "output_type": "stream",
     "text": [
      "10. 랭킹 정보 가져오기(웹 크롤링)\n"
     ]
    }
   ],
   "source": [
    "id_rank = driver.find_element_by_css_selector('a#rank')\n",
    "print(id_rank.text)"
   ]
  },
  {
   "cell_type": "code",
   "execution_count": 144,
   "id": "1094ea43",
   "metadata": {},
   "outputs": [],
   "source": [
    "soup = BeautifulSoup(driver.page_source, 'lxml')"
   ]
  },
  {
   "cell_type": "code",
   "execution_count": 145,
   "id": "3b0d3be0",
   "metadata": {},
   "outputs": [
    {
     "data": {
      "text/plain": [
       "<title>나의 웹 페이지</title>"
      ]
     },
     "execution_count": 145,
     "metadata": {},
     "output_type": "execute_result"
    }
   ],
   "source": [
    "soup.title"
   ]
  },
  {
   "cell_type": "code",
   "execution_count": 146,
   "id": "d6a161b1",
   "metadata": {
    "scrolled": true
   },
   "outputs": [
    {
     "name": "stdout",
     "output_type": "stream",
     "text": [
      "['https://pythonstart.github.io/web/01.html', 'https://pythonstart.github.io/web/02.html', 'https://pythonstart.github.io/web/03.html', 'https://pythonstart.github.io/web/04.html', 'https://pythonstart.github.io/web/05.html', 'https://pythonstart.github.io/web/06.html', 'https://pythonstart.github.io/web/07.html', 'https://pythonstart.github.io/web/08.html', 'https://pythonstart.github.io/web/09.html', 'https://pythonstart.github.io/web/10.html']\n",
      "['나의 첫번째 페이지', '나의 첫번째 페이지', '타이틀 없음', ' 하나의 이미지 가져오기 ', '타이틀 없음', '타이틀 없음', '타이틀 없음', ' 하나의 이미지 가져오기 ', ' 여러개의 이미지 가져오기 ', ' 랭킹 정보 사이트 ']\n"
     ]
    }
   ],
   "source": [
    "url_list = []\n",
    "a_list = driver.find_elements_by_tag_name('a')\n",
    "for a in a_list:\n",
    "    url_list.append(a.get_attribute('href'))\n",
    "\n",
    "print(url_list)\n",
    "    \n",
    "title_list = []    \n",
    "for url in url_list:\n",
    "    driver.get(url)\n",
    "    soup = BeautifulSoup(driver.page_source, 'html.parser')\n",
    "    if soup.title:\n",
    "        title_list.append(soup.title.text)\n",
    "    else:\n",
    "        title_list.append('타이틀 없음')\n",
    "print(title_list)"
   ]
  },
  {
   "cell_type": "code",
   "execution_count": 147,
   "id": "3161e188",
   "metadata": {},
   "outputs": [],
   "source": [
    "driver.get('https://pythonstart.github.io/web/07.html')"
   ]
  },
  {
   "cell_type": "code",
   "execution_count": 148,
   "id": "0a7da27b",
   "metadata": {},
   "outputs": [],
   "source": [
    "soup = BeautifulSoup(driver.page_source, 'lxml')"
   ]
  },
  {
   "cell_type": "code",
   "execution_count": 149,
   "id": "928e85e2",
   "metadata": {},
   "outputs": [],
   "source": [
    "keywords = soup.select(\"div.word ul li.kw\")"
   ]
  },
  {
   "cell_type": "code",
   "execution_count": 150,
   "id": "2b7631b2",
   "metadata": {},
   "outputs": [
    {
     "name": "stdout",
     "output_type": "stream",
     "text": [
      "냉면\n",
      "감자\n",
      "오늘의 영화\n",
      "할수있어\n"
     ]
    }
   ],
   "source": [
    "for word in keywords:\n",
    "    print(word.text)"
   ]
  },
  {
   "cell_type": "code",
   "execution_count": 151,
   "id": "6ae143b0",
   "metadata": {},
   "outputs": [],
   "source": [
    "url = 'https://datalab.naver.com/'\n",
    "driver.get(url)"
   ]
  },
  {
   "cell_type": "code",
   "execution_count": 152,
   "id": "30db6208",
   "metadata": {},
   "outputs": [],
   "source": [
    "soup = BeautifulSoup(driver.page_source, 'lxml')"
   ]
  },
  {
   "cell_type": "code",
   "execution_count": 153,
   "id": "9b871ef1",
   "metadata": {},
   "outputs": [],
   "source": [
    "data_all = soup.find_all('span', class_='title_cell')"
   ]
  },
  {
   "cell_type": "code",
   "execution_count": 154,
   "id": "8381e51c",
   "metadata": {
    "scrolled": true
   },
   "outputs": [],
   "source": [
    "day_list = []\n",
    "for data in data_all:\n",
    "    day_list.append(data.text)"
   ]
  },
  {
   "cell_type": "code",
   "execution_count": 155,
   "id": "70d2faed",
   "metadata": {},
   "outputs": [
    {
     "data": {
      "text/plain": [
       "['2021.09.01.(수)',\n",
       " '2021.09.02.(목)',\n",
       " '2021.09.03.(금)',\n",
       " '2021.09.04.(토)',\n",
       " '2021.09.05.(일)',\n",
       " '2021.09.06.(월)',\n",
       " '2021.09.07.(화)',\n",
       " '2021.09.08.(수)',\n",
       " '2021.09.09.(목)',\n",
       " '2021.09.10.(금)',\n",
       " '2021.09.11.(토)',\n",
       " '2021.09.12.(일)',\n",
       " '',\n",
       " '']"
      ]
     },
     "execution_count": 155,
     "metadata": {},
     "output_type": "execute_result"
    }
   ],
   "source": [
    "day_list"
   ]
  },
  {
   "cell_type": "code",
   "execution_count": 156,
   "id": "ad96a631",
   "metadata": {
    "scrolled": false
   },
   "outputs": [
    {
     "data": {
      "text/plain": [
       "['1 원피스',\n",
       " '2 나이키후드티',\n",
       " '3 후드집업',\n",
       " '4 나이키바람막이',\n",
       " '5 가을원피스',\n",
       " '6 바람막이',\n",
       " '7 트위드자켓',\n",
       " '8 트렌치코트',\n",
       " '9 맨투맨',\n",
       " '10 가디건']"
      ]
     },
     "execution_count": 156,
     "metadata": {},
     "output_type": "execute_result"
    }
   ],
   "source": [
    "keyword_list = []\n",
    "keyword_rank = soup.find('div', class_='keyword_rank').find('ul', class_='rank_list').find_all('li')\n",
    "for keyword in keyword_rank:\n",
    "    target = keyword.text\n",
    "    target = target.strip()\n",
    "    target = target.replace('\\n', ' ')\n",
    "    keyword_list.append(target)\n",
    "keyword_list"
   ]
  },
  {
   "cell_type": "code",
   "execution_count": 157,
   "id": "3c11fcc4",
   "metadata": {},
   "outputs": [
    {
     "name": "stdout",
     "output_type": "stream",
     "text": [
      "원피스\n"
     ]
    }
   ],
   "source": [
    "one_ele = driver.find_element_by_xpath('//*[@id=\"content\"]/div[1]/div[4]/div/div[1]/div/div/div[12]/div/div/ul/li[1]/a/span')\n",
    "print(one_ele.text)"
   ]
  },
  {
   "cell_type": "code",
   "execution_count": 158,
   "id": "fbe4f54f",
   "metadata": {},
   "outputs": [
    {
     "data": {
      "text/plain": [
       "['원피스',\n",
       " '가을원피스',\n",
       " '나이키바람막이',\n",
       " '트위드자켓',\n",
       " '나이키후드티',\n",
       " '후드집업',\n",
       " '바람막이',\n",
       " '반팔티',\n",
       " '반바지',\n",
       " '써스데이아일랜드원피스']"
      ]
     },
     "execution_count": 158,
     "metadata": {},
     "output_type": "execute_result"
    }
   ],
   "source": [
    "pop_word = []\n",
    "for num in range(1,11):\n",
    "    xpath_url = '//*[@id=\"content\"]/div[1]/div[4]/div/div[1]/div/div/div[9]/div/div/ul/li['+str(num)+']/a/span'\n",
    "    one_ele = driver.find_element_by_xpath(xpath_url)\n",
    "    pop_word.append(one_ele.text)\n",
    "pop_word"
   ]
  },
  {
   "cell_type": "code",
   "execution_count": null,
   "id": "aec5484c",
   "metadata": {},
   "outputs": [],
   "source": []
  }
 ],
 "metadata": {
  "kernelspec": {
   "display_name": "Python 3 (ipykernel)",
   "language": "python",
   "name": "python3"
  },
  "language_info": {
   "codemirror_mode": {
    "name": "ipython",
    "version": 3
   },
   "file_extension": ".py",
   "mimetype": "text/x-python",
   "name": "python",
   "nbconvert_exporter": "python",
   "pygments_lexer": "ipython3",
   "version": "3.8.11"
  }
 },
 "nbformat": 4,
 "nbformat_minor": 5
}
